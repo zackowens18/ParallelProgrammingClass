{
 "cells": [
  {
   "cell_type": "markdown",
   "metadata": {},
   "source": [
    "# Julia Threads Introduction"
   ]
  },
  {
   "cell_type": "markdown",
   "metadata": {},
   "source": [
    "## Threads\n",
    "\n",
    "Threads are sequences of computation that can run independently on a CPU core,\n",
    "simultaneously with other such sequences. \n",
    "\n",
    "How many threads should we have? The general advice is that the number of threads should correspond directly to the number of CPU cores of the computer used.\n",
    "\n",
    "\n",
    "## CPU cores\n",
    "\n",
    "How many CPU cores does your computer have? The answer might not be so easy to get to. One particular complication is hyper-threading. This is a facility that some Intel CPUs allow a single core to run multiple (usually 2) threads concurrently. However, this parallelism only allows one CPU instruction actually executed at one time. For CPU intensive programs, hyper-threading usually does not provide much benefit. So what we really want to count are physical CPU cores."
   ]
  },
  {
   "cell_type": "code",
   "execution_count": null,
   "metadata": {},
   "outputs": [],
   "source": []
  },
  {
   "cell_type": "markdown",
   "metadata": {},
   "source": [
    "## Using `Hwloc.jl` \n",
    "\n",
    "https://github.com/JuliaParallel/Hwloc.jl\n",
    "\n",
    "Hwloc.jl is a high-level wrapper of the hwloc library. \n",
    "\n",
    "The Portable Hardware Locality (hwloc) software package provides a portable abstraction (across OS, versions, architectures, ...) of the hierarchical topology of modern architectures, including NUMA memory nodes, sockets, shared caches, cores and simultaneous multithreading. It also gathers various system attributes such as cache and memory information as well as the locality of I/O devices such as network interfaces, InfiniBand HCAs or GPUs.\n",
    "\n",
    "hwloc primarily aims at helping applications with gathering information about increasingly complex parallel computing platforms so as to exploit them accordingly and efficiently."
   ]
  },
  {
   "cell_type": "code",
   "execution_count": null,
   "metadata": {},
   "outputs": [],
   "source": [
    "using Hwloc"
   ]
  },
  {
   "cell_type": "code",
   "execution_count": null,
   "metadata": {},
   "outputs": [],
   "source": [
    "num_physical_cores()"
   ]
  },
  {
   "cell_type": "code",
   "execution_count": null,
   "metadata": {},
   "outputs": [],
   "source": [
    "num_virtual_cores()"
   ]
  },
  {
   "cell_type": "code",
   "execution_count": null,
   "metadata": {},
   "outputs": [],
   "source": [
    "getinfo()"
   ]
  },
  {
   "cell_type": "code",
   "execution_count": null,
   "metadata": {},
   "outputs": [],
   "source": [
    "cachesize()"
   ]
  },
  {
   "cell_type": "code",
   "execution_count": null,
   "metadata": {},
   "outputs": [],
   "source": [
    "cachelinesize()"
   ]
  },
  {
   "cell_type": "code",
   "execution_count": null,
   "metadata": {},
   "outputs": [],
   "source": [
    "topology()"
   ]
  },
  {
   "cell_type": "code",
   "execution_count": null,
   "metadata": {},
   "outputs": [],
   "source": [
    "topology_graphical()"
   ]
  },
  {
   "cell_type": "markdown",
   "metadata": {},
   "source": [
    "## Create a Julia Kernel to use multiple threads\n",
    "\n",
    "Run Julia 1.9.0 Repl:\n",
    "\n",
    "`julia> using IJulia`\n",
    "\n",
    "`julia> IJulia.installkernel(\"Julia 12 Threads\", env=Dict(\n",
    "    \"JULIA_NUM_THREADS\" => \"12\",))`\n",
    "    \n",
    "Powershell on Windows:\n",
    "\n",
    "`$env:JULIA_NUM_THREADS=4`\n",
    "    \n",
    "### Starting threads"
   ]
  },
  {
   "cell_type": "code",
   "execution_count": null,
   "metadata": {},
   "outputs": [],
   "source": [
    "using Base.Threads"
   ]
  },
  {
   "cell_type": "code",
   "execution_count": null,
   "metadata": {},
   "outputs": [],
   "source": [
    "# get the number of threads\n",
    "nthreads()"
   ]
  },
  {
   "cell_type": "code",
   "execution_count": null,
   "metadata": {},
   "outputs": [],
   "source": [
    "nthreadpools()"
   ]
  },
  {
   "cell_type": "code",
   "execution_count": null,
   "metadata": {},
   "outputs": [],
   "source": [
    "# The threadid function returns the current thread ID;\n",
    "threadid()"
   ]
  },
  {
   "cell_type": "markdown",
   "metadata": {},
   "source": [
    "By default, all Julia code is running on the first thread."
   ]
  },
  {
   "cell_type": "code",
   "execution_count": null,
   "metadata": {},
   "outputs": [],
   "source": [
    "a = zeros(Int64, nthreads());\n",
    "for i in 1:nthreads()\n",
    "    a[i] = threadid()\n",
    "end\n",
    "a"
   ]
  },
  {
   "cell_type": "code",
   "execution_count": null,
   "metadata": {},
   "outputs": [],
   "source": []
  },
  {
   "cell_type": "markdown",
   "metadata": {},
   "source": [
    "## The `@threads` macro\n",
    "\n",
    "In the for loop in the previous section, what we want is for each iteration of the loop to be executed on a different thread. In Julia, that is very easy to do. Julia supports parallel loops using the `Threads.@threads` macro. This macro is affixed in front of a for loop to indicate to Julia that the loop is a multi-threaded region whose use is illustrated in the following code:"
   ]
  },
  {
   "cell_type": "code",
   "execution_count": null,
   "metadata": {},
   "outputs": [],
   "source": [
    "a = zeros(Int64, nthreads());\n",
    "@threads for i in 1:nthreads()\n",
    "    a[i] = threadid()\n",
    "end\n",
    "a"
   ]
  },
  {
   "cell_type": "markdown",
   "metadata": {},
   "source": [
    "This example code shows how simple Julia's threading model is, at least in how it is presented to the developer—the idea being that annotated loops are automatically split among available threads, without the programmer having to explicitly break up computations, or assign the code to threads. This Julia approach to multi-threading is kind of like that in `OpenMP`."
   ]
  },
  {
   "cell_type": "code",
   "execution_count": null,
   "metadata": {},
   "outputs": [],
   "source": [
    "a = zeros(Int64, nthreads());\n",
    "@threads for i in 1:nthreads()\n",
    "    a[threadid()] += 1 \n",
    "    println(\"loop \", i, \" done by thread \", threadid())\n",
    "end"
   ]
  },
  {
   "cell_type": "code",
   "execution_count": null,
   "metadata": {},
   "outputs": [],
   "source": [
    "a = zeros(Int64, nthreads())\n",
    "@threads for i in 1:2*nthreads()\n",
    "    a[threadid()] += 1 \n",
    "    #println(\"loop \", i, \" done by thread \", threadid())\n",
    "end"
   ]
  },
  {
   "cell_type": "code",
   "execution_count": null,
   "metadata": {},
   "outputs": [],
   "source": [
    "for i in 1:nthreads()\n",
    "    println(a[i])\n",
    "end"
   ]
  },
  {
   "cell_type": "markdown",
   "metadata": {},
   "source": [
    "# Static Scheduling\n",
    "\n",
    "https://jaantollander.com/post/multithreading-in-julia-language-applied-to-cell-lists-algorithm/\n",
    "\n",
    "If we can easily compute the exact workload of subtasks before execution, we can use static scheduling, which divides the workloads evenly for each available thread. Formally, dividing the subtasks is an optimization problem where we aim to **balance workload**. We may have to use heuristics if solving the exact value of the optimization problem is too difficult.\n",
    "\n",
    "In Julia language, we can use the @threads macro for static scheduling of for-loops. It splits the iterations evenly among available threads. For example, we can sum an array of random numbers in parallel using static schedculing.\n",
    "\n",
    "Note how we use nthreads and threadid to ensure that each threads writes data to thread-specific memory location to avoid data race."
   ]
  },
  {
   "cell_type": "code",
   "execution_count": null,
   "metadata": {},
   "outputs": [],
   "source": [
    "\"\"\"\n",
    "   Multi-threaded sum\n",
    "\n",
    "\"\"\"\n",
    "a = rand(100000)  # Create array of random numbers\n",
    "p = zeros(nthreads())  # Allocate a partial sum for each thread\n",
    "# Threads macro splits the iterations of array `a` evenly among threads\n",
    "@threads for x in a\n",
    "   p[threadid()] += x  # Compute partial sums for each thread\n",
    "end\n",
    "s = sum(p)  # Compute the total sum"
   ]
  },
  {
   "cell_type": "code",
   "execution_count": null,
   "metadata": {},
   "outputs": [],
   "source": [
    "\"\"\"\n",
    "   Check workloads of each thread\n",
    "\n",
    "\"\"\"\n",
    "vec = fill(1,30)  # Create array of 30 ones\n",
    "pv = zeros(Int64, nthreads())  \n",
    "# Threads macro splits the iterations of array `a` evenly among threads\n",
    "@threads for x in vec\n",
    "   pv[threadid()] += x  # Compute partial sums for each thread\n",
    "end\n",
    "s = sum(pv)  # Compute the total sum"
   ]
  },
  {
   "cell_type": "code",
   "execution_count": null,
   "metadata": {},
   "outputs": [],
   "source": [
    "for i in 1:nthreads()\n",
    "    println(pv[i])\n",
    "end"
   ]
  },
  {
   "cell_type": "markdown",
   "metadata": {},
   "source": [
    "# Load Balancing\n",
    "\n",
    "Consider the following muli-threaded code:\n",
    "\n",
    "`@threads for i in 1:N`\n",
    "\n",
    "             for j in i:N\n",
    "                 a[i,j] = ...\n",
    "             end \n",
    "          end`\n",
    "   \n",
    "In this code example, different i-loop has different workload. How can we have a thread workload schedule to make all threads have almost equal workload?"
   ]
  },
  {
   "cell_type": "markdown",
   "metadata": {},
   "source": []
  },
  {
   "cell_type": "markdown",
   "metadata": {},
   "source": [
    "# Embarrassingly Parallel\n",
    "\n",
    "https://en.wikipedia.org/wiki/Embarrassingly_parallel\n",
    "\n",
    "In parallel computing, an embarrassingly parallel workload or problem (also called embarrassingly parallelizable, perfectly parallel, delightfully parallel or pleasingly parallel) is one where little or no effort is needed to separate the problem into a number of parallel tasks. This is often the case where there is little or no dependency or need for communication between those parallel tasks, or for results between them.\n",
    "\n",
    "Examples of embarrassingly parallel problems:\n",
    "\n",
    "- `for loops` with no dependency or need for writing to a same variable.\n",
    "\n",
    "\n",
    "- `3D rendering` handled by a graphics processing unit, where each frame or pixel can be handled with no interdependency.\n",
    "\n",
    "\n",
    "- Some forms of `password cracking` are another embarrassingly parallel task that is easily distributed on central processing units, CPU cores, or clusters"
   ]
  },
  {
   "cell_type": "code",
   "execution_count": null,
   "metadata": {},
   "outputs": [],
   "source": []
  },
  {
   "cell_type": "markdown",
   "metadata": {},
   "source": [
    "## Simple for loop parallelization\n",
    "\n",
    "- `OpenMP` C example\n",
    "\n",
    "`#pragma omp parallel for`\n",
    "\n",
    "`for (i=0; i < N; i++)  a[i] = b[i]*b[i] + c[i]*c[i]`\n",
    " \n",
    "\n",
    "- Julia `@threads` example\n",
    "\n",
    "`@threads for i in 1:N`\n",
    "\n",
    "`a[i] = b[i]*b[i] + c[i]*c[i]`\n",
    "\n",
    "`end`\n",
    "\n",
    "\n",
    "_Questions_: What work scheduling methods are used in OpenMP and Julia threads, respectively?\n"
   ]
  },
  {
   "cell_type": "code",
   "execution_count": null,
   "metadata": {},
   "outputs": [],
   "source": []
  },
  {
   "cell_type": "markdown",
   "metadata": {},
   "source": [
    "# Matrix Multiplication"
   ]
  },
  {
   "cell_type": "markdown",
   "metadata": {},
   "source": [
    "### Using for-loops to implement Matrix Multiplication"
   ]
  },
  {
   "cell_type": "markdown",
   "metadata": {},
   "source": [
    "#### sequential code"
   ]
  },
  {
   "cell_type": "code",
   "execution_count": null,
   "metadata": {},
   "outputs": [],
   "source": [
    "function MM!(c, a, b, N)\n",
    "    for i in 1:N\n",
    "        for j in 1:N\n",
    "            ctemp = zero(eltype(c))\n",
    "            for k in 1:N\n",
    "             @inbounds ctemp += a[i,k]*b[k,j] # Using @inbounds with care\n",
    "            end\n",
    "            c[i,j] = ctemp\n",
    "        end\n",
    "    end\n",
    "end"
   ]
  },
  {
   "cell_type": "markdown",
   "metadata": {},
   "source": [
    "#### muti-threaded code"
   ]
  },
  {
   "cell_type": "code",
   "execution_count": null,
   "metadata": {},
   "outputs": [],
   "source": [
    "function MM_threads!(c, a, b, N)\n",
    "    @threads for i in 1:N\n",
    "        for j in 1:N\n",
    "            ctemp = zero(eltype(c))\n",
    "            for k in 1:N\n",
    "             @inbounds ctemp += a[i,k]*b[k,j] # Using @inbounds with care\n",
    "            end\n",
    "            c[i,j] = ctemp\n",
    "        end\n",
    "    end\n",
    "end"
   ]
  },
  {
   "cell_type": "markdown",
   "metadata": {},
   "source": [
    "### Timing test:"
   ]
  },
  {
   "cell_type": "code",
   "execution_count": null,
   "metadata": {},
   "outputs": [],
   "source": [
    "N = 2000"
   ]
  },
  {
   "cell_type": "code",
   "execution_count": null,
   "metadata": {},
   "outputs": [],
   "source": [
    "a = rand(N,N);\n",
    "b = rand(N,N);\n",
    "c1 = Matrix{Float64}(undef, N, N);\n",
    "c2 =  Matrix{Float64}(undef, N, N);"
   ]
  },
  {
   "cell_type": "code",
   "execution_count": null,
   "metadata": {},
   "outputs": [],
   "source": [
    "@time MM!(c1, a, b, N)"
   ]
  },
  {
   "cell_type": "code",
   "execution_count": null,
   "metadata": {},
   "outputs": [],
   "source": [
    "c1[1], c1[N*N]"
   ]
  },
  {
   "cell_type": "code",
   "execution_count": null,
   "metadata": {},
   "outputs": [],
   "source": []
  },
  {
   "cell_type": "code",
   "execution_count": null,
   "metadata": {},
   "outputs": [],
   "source": [
    "@time MM_threads!(c2, a, b, N)"
   ]
  },
  {
   "cell_type": "code",
   "execution_count": null,
   "metadata": {},
   "outputs": [],
   "source": [
    "c2[1], c2[N*N]"
   ]
  },
  {
   "cell_type": "code",
   "execution_count": null,
   "metadata": {},
   "outputs": [],
   "source": [
    "c1 == c2"
   ]
  },
  {
   "cell_type": "code",
   "execution_count": null,
   "metadata": {},
   "outputs": [],
   "source": []
  },
  {
   "cell_type": "markdown",
   "metadata": {},
   "source": [
    "### Using `LinearAlgebra` matrix multiplication operator (`*`)"
   ]
  },
  {
   "cell_type": "code",
   "execution_count": null,
   "metadata": {},
   "outputs": [],
   "source": [
    "using LinearAlgebra"
   ]
  },
  {
   "cell_type": "code",
   "execution_count": null,
   "metadata": {},
   "outputs": [],
   "source": [
    "BLAS.set_num_threads(6)"
   ]
  },
  {
   "cell_type": "code",
   "execution_count": null,
   "metadata": {},
   "outputs": [],
   "source": [
    "BLAS.get_num_threads()"
   ]
  },
  {
   "cell_type": "code",
   "execution_count": null,
   "metadata": {},
   "outputs": [],
   "source": [
    "@time c1 = a * b;"
   ]
  },
  {
   "cell_type": "code",
   "execution_count": null,
   "metadata": {},
   "outputs": [],
   "source": [
    "c1[1,1], c1[N, N]"
   ]
  },
  {
   "cell_type": "code",
   "execution_count": null,
   "metadata": {},
   "outputs": [],
   "source": [
    "c1 == c2"
   ]
  },
  {
   "cell_type": "code",
   "execution_count": null,
   "metadata": {},
   "outputs": [],
   "source": [
    "@time mul!(c2, a, b);"
   ]
  },
  {
   "cell_type": "code",
   "execution_count": null,
   "metadata": {},
   "outputs": [],
   "source": [
    "c2[1,1], c2[N, N]"
   ]
  },
  {
   "cell_type": "code",
   "execution_count": null,
   "metadata": {},
   "outputs": [],
   "source": [
    "c1 == c2"
   ]
  },
  {
   "cell_type": "code",
   "execution_count": null,
   "metadata": {},
   "outputs": [],
   "source": []
  },
  {
   "attachments": {
    "image-2.png": {
     "image/png": "[encoded data removed]"
    },
    "image.png": {
     "image/png": "[encoded data removed]"
    }
   },
   "cell_type": "markdown",
   "metadata": {},
   "source": [
    "# Compute and Display  Mandelbrot Set (Fractal)\n",
    "\n",
    "https://en.wikipedia.org/wiki/Mandelbrot_set\n",
    "\n",
    "![image.png](attachment:image.png)\n",
    "\n",
    "\n",
    "![image-2.png](attachment:image-2.png)\n",
    "The black region is the Mandelbrot set. \n",
    "- It is symmetric with respect to the x-axis in the plane, \n",
    "- and its intersection with the x-axis occupies the interval from -2 to 1/4. \n",
    "- The point 0 lies within the main cardioid, and the point -1 lies within the bulb attached to the left of the main cardioid."
   ]
  },
  {
   "cell_type": "markdown",
   "metadata": {},
   "source": [
    "## Compute Mandelbrot set"
   ]
  },
  {
   "cell_type": "code",
   "execution_count": null,
   "metadata": {},
   "outputs": [],
   "source": [
    "function setMandelbrotPixel(c, niter=255)\n",
    "    1 ≤ niter ≤ 255 ? niter : 255\n",
    "    z = zero(typeof(c))\n",
    "    z = z*z + c\n",
    "    for i in 1:niter\n",
    "        abs2(z)> 4.0 && return (i-1)%UInt8\n",
    "        z = z*z + c\n",
    "    end\n",
    "    return niter%UInt8\n",
    "end"
   ]
  },
  {
   "cell_type": "code",
   "execution_count": null,
   "metadata": {},
   "outputs": [],
   "source": [
    "setMandelbrotPixel(0.0+0.5im)"
   ]
  },
  {
   "cell_type": "code",
   "execution_count": null,
   "metadata": {},
   "outputs": [],
   "source": [
    "setMandelbrotPixel(-2.0+0.1im)"
   ]
  },
  {
   "cell_type": "code",
   "execution_count": null,
   "metadata": {},
   "outputs": [],
   "source": [
    "vc = [0.0 + x*im for x in -2:0.1:0]"
   ]
  },
  {
   "cell_type": "code",
   "execution_count": null,
   "metadata": {},
   "outputs": [],
   "source": [
    "setMandelbrotPixel.(vc)"
   ]
  },
  {
   "cell_type": "code",
   "execution_count": null,
   "metadata": {},
   "outputs": [],
   "source": [
    "function MandelbrotSet(niter=100, width=800, height=600,\n",
    "    x_start=-2.0, y_start=-1.0, x_fin=1.0, y_fin=1.0)\n",
    "\n",
    "    pic = Matrix{UInt8}(undef, height, width)\n",
    "      \n",
    "    dx = (x_fin-x_start)/(width-1);\n",
    "    dy = (y_fin-y_start)/(height-1);\n",
    "    \n",
    "    # Compute pic column by column\n",
    "    for j in 1:width\n",
    "        x = x_start+(j-1)*dx\n",
    "        for i in 1:height\n",
    "            # (i,j) ==> (x,y) 2D linear transformation      \n",
    "            y = y_fin-(i-1)*dy\n",
    "            @inbounds pic[i,j] = setMandelbrotPixel(x+y*im, niter)\n",
    "        end\n",
    "    end\n",
    "    \n",
    "    return pic\n",
    "end"
   ]
  },
  {
   "cell_type": "code",
   "execution_count": null,
   "metadata": {},
   "outputs": [],
   "source": [
    "mandel = MandelbrotSet();"
   ]
  },
  {
   "cell_type": "code",
   "execution_count": null,
   "metadata": {},
   "outputs": [],
   "source": [
    "typeof(mandel), size(mandel)"
   ]
  },
  {
   "cell_type": "code",
   "execution_count": null,
   "metadata": {},
   "outputs": [],
   "source": []
  },
  {
   "cell_type": "markdown",
   "metadata": {},
   "source": [
    "## Display Mandelbrot Set"
   ]
  },
  {
   "cell_type": "code",
   "execution_count": null,
   "metadata": {},
   "outputs": [],
   "source": [
    "using Plots"
   ]
  },
  {
   "cell_type": "markdown",
   "metadata": {},
   "source": [
    "#### Plots heatmap demo"
   ]
  },
  {
   "cell_type": "code",
   "execution_count": null,
   "metadata": {},
   "outputs": [],
   "source": [
    "data = rand(8,10)\n",
    "heatmap(1:size(data,2), # x value axis\n",
    "    1:size(data,1),     # y value axis\n",
    "    data,\n",
    "    c=cgrad([:blue, :white,:red, :yellow]),\n",
    "    xlabel=\"x values\", ylabel=\"y values\",\n",
    "    title=\"My heatmap demo\")"
   ]
  },
  {
   "cell_type": "code",
   "execution_count": null,
   "metadata": {},
   "outputs": [],
   "source": [
    "using ColorSchemes"
   ]
  },
  {
   "cell_type": "code",
   "execution_count": null,
   "metadata": {},
   "outputs": [],
   "source": [
    "ColorSchemes.:ice.colors"
   ]
  },
  {
   "cell_type": "code",
   "execution_count": null,
   "metadata": {},
   "outputs": [],
   "source": [
    "length(ColorSchemes.:ice.colors)"
   ]
  },
  {
   "cell_type": "code",
   "execution_count": null,
   "metadata": {},
   "outputs": [],
   "source": [
    "length(ColorSchemes.:Spectral.colors)"
   ]
  },
  {
   "cell_type": "code",
   "execution_count": null,
   "metadata": {},
   "outputs": [],
   "source": [
    "length(ColorSchemes.:leonardo.colors)"
   ]
  },
  {
   "cell_type": "code",
   "execution_count": null,
   "metadata": {},
   "outputs": [],
   "source": []
  },
  {
   "cell_type": "markdown",
   "metadata": {},
   "source": [
    "### Display Mandelbrot set using heatmap"
   ]
  },
  {
   "cell_type": "code",
   "execution_count": null,
   "metadata": {},
   "outputs": [],
   "source": [
    "heatmap(1:size(mandel,2),1:size(mandel,1), mandel, color = :thermal)"
   ]
  },
  {
   "cell_type": "code",
   "execution_count": null,
   "metadata": {},
   "outputs": [],
   "source": [
    "mandel_2 = MandelbrotSet(255, 200, 400);"
   ]
  },
  {
   "cell_type": "code",
   "execution_count": null,
   "metadata": {},
   "outputs": [],
   "source": [
    "typeof(mandel_2), size(mandel_2)"
   ]
  },
  {
   "cell_type": "code",
   "execution_count": null,
   "metadata": {},
   "outputs": [],
   "source": [
    "heatmap(1:size(mandel_2,2),1:size(mandel_2,1), mandel_2, color = :ice)"
   ]
  },
  {
   "cell_type": "code",
   "execution_count": null,
   "metadata": {},
   "outputs": [],
   "source": [
    "mandel_3 = MandelbrotSet(100, 600, 800, 0.0, -0.3, 0.5, 0.3);"
   ]
  },
  {
   "cell_type": "code",
   "execution_count": null,
   "metadata": {},
   "outputs": [],
   "source": [
    "typeof(mandel_3), size(mandel_3)"
   ]
  },
  {
   "cell_type": "code",
   "execution_count": null,
   "metadata": {},
   "outputs": [],
   "source": [
    "heatmap(1:size(mandel_3,2),1:size(mandel_3,1), mandel_3, color = :thermal)"
   ]
  },
  {
   "cell_type": "code",
   "execution_count": null,
   "metadata": {},
   "outputs": [],
   "source": []
  },
  {
   "cell_type": "markdown",
   "metadata": {},
   "source": [
    "## Parallel Computing of Mandelbrot Set"
   ]
  },
  {
   "cell_type": "code",
   "execution_count": null,
   "metadata": {},
   "outputs": [],
   "source": [
    "function MandelbrotSet_threads(niter=100, width=800, height=600,\n",
    "    x_start=-2.0, y_start=-1.0, x_fin=1.0, y_fin=1.0)\n",
    "\n",
    "    pic = Matrix{UInt8}(undef, height, width)\n",
    "      \n",
    "    dx = (x_fin-x_start)/(width-1);\n",
    "    dy = (y_fin-y_start)/(height-1);\n",
    "    \n",
    "    # Compute pic column by column\n",
    "    @threads for j in 1:width\n",
    "        x = x_start+(j-1)*dx\n",
    "        for i in 1:height\n",
    "            # (i,j) ==> (x,y) 2D linear transformation      \n",
    "            y = y_fin-(i-1)*dy\n",
    "            @inbounds pic[i,j] = setMandelbrotPixel(x+y*im, niter)\n",
    "        end\n",
    "    end\n",
    "    \n",
    "    return pic\n",
    "end"
   ]
  },
  {
   "cell_type": "markdown",
   "metadata": {},
   "source": [
    "### Timing comparison of squential vs. multi-threads"
   ]
  },
  {
   "cell_type": "code",
   "execution_count": null,
   "metadata": {},
   "outputs": [],
   "source": [
    "@time mandel = MandelbrotSet();"
   ]
  },
  {
   "cell_type": "code",
   "execution_count": null,
   "metadata": {},
   "outputs": [],
   "source": [
    "@time mandel_t = MandelbrotSet_threads();"
   ]
  },
  {
   "cell_type": "code",
   "execution_count": null,
   "metadata": {},
   "outputs": [],
   "source": [
    "mandel == mandel_t"
   ]
  },
  {
   "cell_type": "code",
   "execution_count": null,
   "metadata": {},
   "outputs": [],
   "source": [
    "@time mandel = MandelbrotSet(255, 1000, 1000);"
   ]
  },
  {
   "cell_type": "code",
   "execution_count": null,
   "metadata": {},
   "outputs": [],
   "source": [
    "@time mandel_t = MandelbrotSet_threads(255, 1000, 1000);"
   ]
  },
  {
   "cell_type": "markdown",
   "metadata": {},
   "source": [
    "# Compute and Display Julia Set\n",
    "\n",
    "https://en.wikipedia.org/wiki/Julia_set\n",
    "\n",
    "**Source** \n",
    "http://www.cs.unb.ca/~aubanel/JuliaMultithreadingNotes.html\n",
    "\n",
    "Notes on Multithreading with Julia by Eric Aubanel June 2020\n"
   ]
  },
  {
   "cell_type": "markdown",
   "metadata": {},
   "source": [
    "## Compute Julia set"
   ]
  },
  {
   "cell_type": "code",
   "execution_count": null,
   "metadata": {},
   "outputs": [],
   "source": [
    "function juliaSetPixel(z0, c)\n",
    "    z = z0\n",
    "    niter = 255\n",
    "    for i in 1:niter\n",
    "        abs2(z)> 4.0 && return (i - 1)%UInt8\n",
    "        z = z*z + c\n",
    "    end\n",
    "    return niter%UInt8\n",
    "end"
   ]
  },
  {
   "cell_type": "code",
   "execution_count": null,
   "metadata": {},
   "outputs": [],
   "source": [
    "function calcColumn!(pic, c, n, j)\n",
    "    x = -2.0 + (j-1)*4.0/(n-1)\n",
    "    for i in 1:n\n",
    "        y = -2.0 + (i-1)*4.0/(n-1)\n",
    "        @inbounds pic[i,j] = juliaSetPixel(x+im*y, c)\n",
    "    end\n",
    "    nothing\n",
    "end"
   ]
  },
  {
   "cell_type": "code",
   "execution_count": null,
   "metadata": {},
   "outputs": [],
   "source": [
    "function juliaSetCalc!(pic, c, n)\n",
    "    for j in 1:n\n",
    "        calcColumn!(pic, c, n, j)\n",
    "    end\n",
    "    nothing\n",
    "end"
   ]
  },
  {
   "cell_type": "code",
   "execution_count": null,
   "metadata": {},
   "outputs": [],
   "source": [
    "function juliaSet(x, y, n=1000, method = juliaSetCalc!, extra...)\n",
    "    c = x + y*im\n",
    "    pic = Matrix{UInt8}(undef,n,n)\n",
    "    method(pic, c, n, extra...)\n",
    "    return pic\n",
    "end"
   ]
  },
  {
   "cell_type": "code",
   "execution_count": null,
   "metadata": {},
   "outputs": [],
   "source": [
    "frac = juliaSet(-0.79,0.15);"
   ]
  },
  {
   "cell_type": "markdown",
   "metadata": {},
   "source": [
    "## Display Julia Set using heatamp"
   ]
  },
  {
   "cell_type": "code",
   "execution_count": null,
   "metadata": {},
   "outputs": [],
   "source": [
    "using Plots"
   ]
  },
  {
   "cell_type": "code",
   "execution_count": null,
   "metadata": {},
   "outputs": [],
   "source": [
    "#heatmap(1:size(frac,1),1:size(frac,2), frac, color = :thermal)  # color is a ColorSchemes object\n",
    "#heatmap(1:size(frac,1),1:size(frac,2), frac, color = :leonardo)\n",
    "heatmap(1:size(frac,2),1:size(frac,1), frac, color = :ice)\n",
    "#heatmap(1:size(frac,1),1:size(frac,2), frac, color = :rainbow)\n",
    "# heatmap(1:size(frac,1),1:size(frac,2), frac, color=:Spectral))"
   ]
  },
  {
   "cell_type": "code",
   "execution_count": null,
   "metadata": {},
   "outputs": [],
   "source": [
    "frac2 = juliaSet(−0.70176, −0.3842);\n",
    "heatmap(1:size(frac2,2),1:size(frac2,1), frac2, color = :Spectral)"
   ]
  },
  {
   "cell_type": "code",
   "execution_count": null,
   "metadata": {},
   "outputs": [],
   "source": [
    "frac3 = juliaSet(−0.4, 0.6); \n",
    "heatmap(1:size(frac3,2),1:size(frac3,1), frac3, color = :ice)"
   ]
  },
  {
   "cell_type": "code",
   "execution_count": null,
   "metadata": {},
   "outputs": [],
   "source": [
    "heatmap(1:size(frac3,2),1:size(frac3,1), frac3, color = :Spectral)"
   ]
  },
  {
   "cell_type": "code",
   "execution_count": null,
   "metadata": {},
   "outputs": [],
   "source": []
  },
  {
   "cell_type": "markdown",
   "metadata": {},
   "source": [
    "## Parallel Computing of Julia Set"
   ]
  },
  {
   "cell_type": "code",
   "execution_count": null,
   "metadata": {},
   "outputs": [],
   "source": [
    "function juliaSetCalcThread!(pic, c, n)\n",
    "    @threads for j in 1:n\n",
    "        calcColumn!(pic, c, n, j)\n",
    "    end\n",
    "    nothing\n",
    "end"
   ]
  },
  {
   "cell_type": "markdown",
   "metadata": {},
   "source": [
    "## Timing comparison of squential vs. multi-threads"
   ]
  },
  {
   "cell_type": "code",
   "execution_count": null,
   "metadata": {},
   "outputs": [],
   "source": [
    "@time julia = juliaSet(-0.79,0.15);"
   ]
  },
  {
   "cell_type": "code",
   "execution_count": null,
   "metadata": {},
   "outputs": [],
   "source": [
    "@time julia_t = juliaSet(-0.79,0.15,1000,juliaSetCalcThread!);"
   ]
  },
  {
   "cell_type": "code",
   "execution_count": null,
   "metadata": {},
   "outputs": [],
   "source": []
  },
  {
   "cell_type": "markdown",
   "metadata": {},
   "source": [
    "# Parallel (sum) Reduction"
   ]
  },
  {
   "cell_type": "code",
   "execution_count": null,
   "metadata": {},
   "outputs": [],
   "source": [
    "\"\"\"\n",
    "    Sequential reduction\n",
    "\n",
    "\"\"\"\n",
    "function sum_sequential(x)\n",
    "    r = zero(eltype(x))\n",
    "    for i in eachindex(x)\n",
    "        @inbounds r += x[i]\n",
    "    end\n",
    "    return r\n",
    "end"
   ]
  },
  {
   "cell_type": "code",
   "execution_count": null,
   "metadata": {},
   "outputs": [],
   "source": [
    "\"\"\"\n",
    "    Multi-threaded reduction\n",
    "\n",
    "\"\"\"\n",
    "function sum_threads(x)\n",
    "    r = zero(eltype(x))\n",
    "    @threads for i in eachindex(x)\n",
    "        @inbounds r += x[i]\n",
    "    end\n",
    "    return r\n",
    "end"
   ]
  },
  {
   "cell_type": "markdown",
   "metadata": {},
   "source": [
    "## Compare sequential threaded reduction"
   ]
  },
  {
   "cell_type": "code",
   "execution_count": null,
   "metadata": {},
   "outputs": [],
   "source": [
    "a=rand(10_000_000);"
   ]
  },
  {
   "cell_type": "code",
   "execution_count": null,
   "metadata": {},
   "outputs": [],
   "source": [
    "@time sum_sequential(a)"
   ]
  },
  {
   "cell_type": "code",
   "execution_count": null,
   "metadata": {},
   "outputs": [],
   "source": [
    "@time sum_threads(a)"
   ]
  },
  {
   "cell_type": "markdown",
   "metadata": {},
   "source": [
    "### Result comparison\n",
    "\n",
    "Not only is the `sum_threads` function producing the wrong\n",
    "answer, but it is also much slower than `sum_sequential`. \n",
    "\n",
    "The problem with correctness may be apparent; inside\n",
    "the loop, we are trying to read and write to r, the result variable. Doing that simultaneously\n",
    "in multiple threads leads to wrong values, since one thread may be reading one value, and\n",
    "then trying to increment that, while another thread writes a different value before the first\n",
    "thread has finished (**race condition**).\n",
    "\n",
    "One solution to this is to create r as an `atomic variable`. In this case, adding a value to r will\n",
    "be a single indivisible operation. That is, the act of adding a value to r (and writing the\n",
    "result back to r) will be an operation that cannot be interrupted by any other thread. The\n",
    "atomic addition is performed by the `atomic_add!` method, which works with an atomic\n",
    "variable. Using this facility in the following code fixes the error in the answer:"
   ]
  },
  {
   "cell_type": "code",
   "execution_count": null,
   "metadata": {},
   "outputs": [],
   "source": [
    "function sum_threads_atomic(x)\n",
    "    r = Atomic{eltype(x)}(zero(eltype(x)))\n",
    "    @threads for i in eachindex(x)\n",
    "        @inbounds atomic_add!(r, x[i])\n",
    "    end\n",
    "    return r[]\n",
    "end"
   ]
  },
  {
   "cell_type": "code",
   "execution_count": null,
   "metadata": {},
   "outputs": [],
   "source": [
    "@time sum_threads_atomic(a)"
   ]
  },
  {
   "cell_type": "markdown",
   "metadata": {},
   "source": [
    "So, using an atomic add fixes our correctness issue. But the threaded addition is even much\n",
    "slower than the sequential code. \n",
    "Consider following muti-threaded impelemetation:"
   ]
  },
  {
   "cell_type": "code",
   "execution_count": null,
   "metadata": {},
   "outputs": [],
   "source": [
    "\"\"\"\n",
    "    Multi-threaded reduction with partial sum\n",
    "\n",
    "\"\"\"\n",
    "function sum_threads_p(x)\n",
    "    r = zero(eltype(x))\n",
    "    p = zeros(eltype(x), nthreads())\n",
    "    @threads for i in eachindex(x)\n",
    "        @inbounds  p[threadid()] += x[i]\n",
    "    end\n",
    "    \n",
    "    @simd for i in 1:nthreads()\n",
    "        @inbounds r += p[i]\n",
    "    end\n",
    "    \n",
    "    return r\n",
    "end"
   ]
  },
  {
   "cell_type": "code",
   "execution_count": null,
   "metadata": {},
   "outputs": [],
   "source": [
    "@time sum_threads_p(a)"
   ]
  },
  {
   "cell_type": "markdown",
   "metadata": {},
   "source": [
    "### Summary 0f all timing results"
   ]
  },
  {
   "cell_type": "code",
   "execution_count": null,
   "metadata": {},
   "outputs": [],
   "source": [
    "a=rand(10_000_000);"
   ]
  },
  {
   "cell_type": "code",
   "execution_count": null,
   "metadata": {},
   "outputs": [],
   "source": [
    "@time sum_sequential(a)"
   ]
  },
  {
   "cell_type": "code",
   "execution_count": null,
   "metadata": {},
   "outputs": [],
   "source": [
    "@time sum_threads(a)"
   ]
  },
  {
   "cell_type": "code",
   "execution_count": null,
   "metadata": {},
   "outputs": [],
   "source": [
    "@time sum_threads_atomic(a)"
   ]
  },
  {
   "cell_type": "code",
   "execution_count": null,
   "metadata": {},
   "outputs": [],
   "source": [
    "@time sum_threads_p(a)"
   ]
  },
  {
   "cell_type": "code",
   "execution_count": null,
   "metadata": {},
   "outputs": [],
   "source": [
    "# Using Base sum function\n",
    "@time sum(a)"
   ]
  },
  {
   "cell_type": "code",
   "execution_count": null,
   "metadata": {},
   "outputs": [],
   "source": []
  }
 ],
 "metadata": {
  "kernelspec": {
   "display_name": "Julia 12 Threads 1.9.0",
   "language": "julia",
   "name": "julia-12-threads-1.9"
  },
  "language_info": {
   "file_extension": ".jl",
   "mimetype": "application/julia",
   "name": "julia",
   "version": "1.9.0"
  }
 },
 "nbformat": 4,
 "nbformat_minor": 4
}
