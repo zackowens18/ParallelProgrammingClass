{
 "cells": [
  {
   "cell_type": "markdown",
   "metadata": {},
   "source": [
    "# MNIST Dataset\n",
    "\n",
    "The MNIST database of handwritten digits, available from this page: \n",
    "\n",
    " \thttp://yann.lecun.com/exdb/mnist/ \n",
    "    \n",
    "has a training set of 60,000 examples, and a test set of 10,000 examples. It is a subset of a larger set available from NIST. The digits have been size-normalized and centered in a fixed-size image.\n",
    "\n"
   ]
  },
  {
   "cell_type": "code",
   "execution_count": null,
   "metadata": {},
   "outputs": [],
   "source": []
  },
  {
   "cell_type": "markdown",
   "metadata": {},
   "source": [
    "# Converted MNIST Dataset \n",
    "\n",
    "The files, X2.bin, Y2_int8.bin, and Y2.bin are binary files converted from the original MNIST image file and label files: \n",
    "\n",
    "1. X2.bin (219,520,000 bytes)\n",
    "\n",
    "    70,000 digit (gray) images stored sequentially and each digit image is stored in 28x28 Float32s (in little endian), top-down and row-by-row. \n",
    "\n",
    "\n",
    "2. Y2_int8.bin (70,000 bytes)\n",
    "\n",
    "    70,000 Int8 labels of the corresponding digit images\n",
    "    \n",
    "\n",
    "3. Y2.bin (2,800,000 byte)\n",
    "\n",
    "   70,000 one-hot-vector, where a 10-float32 label represents one-hot vector of the represented digit label, for example, digit 3, is represented as the following vector:\n",
    "\n",
    "\t\t(0, 0, 0, 1, 0, 0, 0, 0, 0, 0)\n"
   ]
  },
  {
   "cell_type": "code",
   "execution_count": null,
   "metadata": {},
   "outputs": [],
   "source": []
  },
  {
   "cell_type": "code",
   "execution_count": null,
   "metadata": {},
   "outputs": [],
   "source": [
    "using Images, Colors, FileIO"
   ]
  },
  {
   "cell_type": "code",
   "execution_count": null,
   "metadata": {},
   "outputs": [],
   "source": []
  },
  {
   "cell_type": "markdown",
   "metadata": {},
   "source": [
    "# Read MNIST binary data "
   ]
  },
  {
   "cell_type": "markdown",
   "metadata": {},
   "source": [
    "## Julia - Read MNIST binary Float32 image data"
   ]
  },
  {
   "cell_type": "code",
   "execution_count": null,
   "metadata": {},
   "outputs": [],
   "source": [
    "pwd()"
   ]
  },
  {
   "cell_type": "code",
   "execution_count": null,
   "metadata": {},
   "outputs": [],
   "source": [
    "cd(\"MNIST\")"
   ]
  },
  {
   "cell_type": "code",
   "execution_count": null,
   "metadata": {},
   "outputs": [],
   "source": [
    "readdir()"
   ]
  },
  {
   "cell_type": "code",
   "execution_count": null,
   "metadata": {},
   "outputs": [],
   "source": []
  },
  {
   "cell_type": "markdown",
   "metadata": {},
   "source": [
    "## Read digit images"
   ]
  },
  {
   "cell_type": "code",
   "execution_count": null,
   "metadata": {},
   "outputs": [],
   "source": [
    "digits = Array{Float32, 2}(undef, 28*28, 70_000) # requires 219,520,000 bytes) Bytes\n",
    "read!(\"X2.bin\", digits);"
   ]
  },
  {
   "cell_type": "code",
   "execution_count": null,
   "metadata": {},
   "outputs": [],
   "source": [
    "typeof(digits), size(digits), sizeof(digits)"
   ]
  },
  {
   "cell_type": "markdown",
   "metadata": {},
   "source": [
    "## Display digit images"
   ]
  },
  {
   "cell_type": "code",
   "execution_count": null,
   "metadata": {},
   "outputs": [],
   "source": [
    "digit = reshape(digits[:, 34], 28, 28);"
   ]
  },
  {
   "cell_type": "code",
   "execution_count": null,
   "metadata": {},
   "outputs": [],
   "source": [
    "digit =  Matrix{Gray{N0f8}}(digit)"
   ]
  },
  {
   "cell_type": "code",
   "execution_count": null,
   "metadata": {},
   "outputs": [],
   "source": [
    "digit'"
   ]
  },
  {
   "cell_type": "code",
   "execution_count": null,
   "metadata": {},
   "outputs": [],
   "source": []
  },
  {
   "cell_type": "markdown",
   "metadata": {},
   "source": [
    "## Read labels"
   ]
  },
  {
   "cell_type": "code",
   "execution_count": null,
   "metadata": {},
   "outputs": [],
   "source": [
    "labels = Vector{Int8}(undef,70000)\n",
    "read!(\"Y2_int8.bin\", labels);"
   ]
  },
  {
   "cell_type": "code",
   "execution_count": null,
   "metadata": {},
   "outputs": [],
   "source": [
    "labels[34]"
   ]
  },
  {
   "cell_type": "code",
   "execution_count": null,
   "metadata": {},
   "outputs": [],
   "source": []
  },
  {
   "cell_type": "markdown",
   "metadata": {},
   "source": [
    "## Plot histrogram of digit ditribution"
   ]
  },
  {
   "cell_type": "code",
   "execution_count": null,
   "metadata": {},
   "outputs": [],
   "source": [
    "using Plots"
   ]
  },
  {
   "cell_type": "code",
   "execution_count": null,
   "metadata": {},
   "outputs": [],
   "source": [
    "histogram(labels, label=\"digits\", bins=11, color=:gray)\n",
    "xlabel!(\"digit\")"
   ]
  },
  {
   "cell_type": "code",
   "execution_count": null,
   "metadata": {},
   "outputs": [],
   "source": [
    "histogram(labels, label=\"digits\", bins=11, normalize=true, color=:gray)"
   ]
  },
  {
   "cell_type": "code",
   "execution_count": null,
   "metadata": {},
   "outputs": [],
   "source": [
    "labels_digits = []\n",
    "for i in 0:9 \n",
    "    push!(labels_digits, Vector{Int32}(findall(==(i), labels)))\n",
    "end"
   ]
  },
  {
   "cell_type": "code",
   "execution_count": null,
   "metadata": {},
   "outputs": [],
   "source": [
    "length.(labels_digits)"
   ]
  },
  {
   "cell_type": "code",
   "execution_count": null,
   "metadata": {},
   "outputs": [],
   "source": [
    "sum(length.(labels_digits))"
   ]
  },
  {
   "cell_type": "code",
   "execution_count": null,
   "metadata": {},
   "outputs": [],
   "source": []
  },
  {
   "cell_type": "markdown",
   "metadata": {},
   "source": [
    "## Different Binary IO Approaches\n"
   ]
  },
  {
   "cell_type": "code",
   "execution_count": null,
   "metadata": {},
   "outputs": [],
   "source": [
    "img = fill(0f0, 28*28*70_000) # requires 219,520,000 bytes) Bytes\n",
    "open(\"X2.bin\") do io\n",
    "    read!(io, img)\n",
    "end;"
   ]
  },
  {
   "cell_type": "code",
   "execution_count": null,
   "metadata": {},
   "outputs": [],
   "source": [
    "# The follwoing method (from ChatGPT) to read binary Float32 vector from a file doesn't work\n",
    "\n",
    "# Specify the path to your binary file\n",
    "file_path = \"X2.bin\"\n",
    "\n",
    "# Open the file in read mode\n",
    "file = open(file_path, \"r\")\n",
    "\n",
    "# Read the binary data as Float32 values\n",
    "data = read(file, Vector{Float32})\n",
    "\n",
    "# Close the file\n",
    "close(file)"
   ]
  },
  {
   "cell_type": "markdown",
   "metadata": {},
   "source": [
    "## Python - Read MNIST binary Float32 image data\n",
    "\n",
    "*Python code:*\n",
    "\n",
    "#Read digit images: 28X28X65,000 grey images (binary data)\n",
    "\n",
    "`digits = np.fromfile('X.bin', dtype=np.single) # binary read into one-dim array`\n",
    "\n",
    "#Read digit image labels: 10X65,000 (one-hot vector)\n",
    "\n",
    "`labels = np.fromfile('Y.bin', dtype=np.single)`\n",
    "\n",
    "using FileIO, Images, Colors"
   ]
  }
 ],
 "metadata": {
  "kernelspec": {
   "display_name": "Julia 1.9.0",
   "language": "julia",
   "name": "julia-1.9"
  },
  "language_info": {
   "file_extension": ".jl",
   "mimetype": "application/julia",
   "name": "julia",
   "version": "1.9.0"
  }
 },
 "nbformat": 4,
 "nbformat_minor": 4
}
