{
 "cells": [
  {
   "cell_type": "markdown",
   "metadata": {},
   "source": [
    "# Chapter 5 Working with text¶\n",
    "Julia as a Second Language, Erik Engheim\n",
    "\n",
    "Topics\n",
    "\n",
    "1. Representing text with the String type\n",
    "2. Formatting text with lpad and rpad\n",
    "3. Reading text from a keyboard or file\n",
    "4. Writing text to the screen or a file\n",
    "5. Creating a simple interactive program\n",
    "*-----------------------------------------------------------------------------*"
   ]
  },
  {
   "cell_type": "markdown",
   "metadata": {},
   "source": [
    "## Different ways of displaying text on the screen\n",
    "\n",
    "Functions used:\n",
    "\n",
    "- `print`\n",
    "- `println`\n",
    "- `printstyled`\n",
    "- `rpad`\n",
    "- `lpad`"
   ]
  },
  {
   "cell_type": "markdown",
   "metadata": {},
   "source": [
    "### Print, println, and printstyled demos"
   ]
  },
  {
   "cell_type": "code",
   "execution_count": null,
   "metadata": {},
   "outputs": [],
   "source": [
    "println(\"hello\"); println(\"world\")"
   ]
  },
  {
   "cell_type": "code",
   "execution_count": null,
   "metadata": {},
   "outputs": [],
   "source": [
    "print(\"hello\"); print(\" world\\n\")"
   ]
  },
  {
   "cell_type": "code",
   "execution_count": null,
   "metadata": {},
   "outputs": [],
   "source": [
    "println(\"hello\\tworld\")   # \\t hprizontal tab"
   ]
  },
  {
   "cell_type": "code",
   "execution_count": null,
   "metadata": {},
   "outputs": [],
   "source": [
    "println(\"hello \\v world\") # \\v vertical tab"
   ]
  },
  {
   "cell_type": "code",
   "execution_count": null,
   "metadata": {},
   "outputs": [],
   "source": [
    "println(\"hello \\r world\") # \\r carriage return"
   ]
  },
  {
   "cell_type": "code",
   "execution_count": null,
   "metadata": {},
   "outputs": [],
   "source": [
    "printstyled(\"hello world\", color = :green) # keyword argument, :symbol"
   ]
  },
  {
   "cell_type": "code",
   "execution_count": null,
   "metadata": {},
   "outputs": [],
   "source": [
    "printstyled(underline= true, \"hello world\", color = :yellow)"
   ]
  },
  {
   "cell_type": "code",
   "execution_count": null,
   "metadata": {},
   "outputs": [],
   "source": [
    "?printstyled"
   ]
  },
  {
   "cell_type": "markdown",
   "metadata": {},
   "source": [
    "All the colors are given as symbols. A symbol is very similar to a text string. It is often\n",
    "used for text strings, which only matter to programmers and not users of your program."
   ]
  },
  {
   "cell_type": "code",
   "execution_count": null,
   "metadata": {},
   "outputs": [],
   "source": [
    "sym = Symbol(\"Hi\")"
   ]
  },
  {
   "cell_type": "code",
   "execution_count": null,
   "metadata": {},
   "outputs": [],
   "source": [
    "sym"
   ]
  },
  {
   "cell_type": "markdown",
   "metadata": {},
   "source": [
    "### Printing multiple elements"
   ]
  },
  {
   "cell_type": "code",
   "execution_count": null,
   "metadata": {},
   "outputs": [],
   "source": [
    "print(\"abc\", 42, true, \"xyz\")"
   ]
  },
  {
   "cell_type": "code",
   "execution_count": null,
   "metadata": {},
   "outputs": [],
   "source": [
    "string(\"abc\", 42, true, \"xyz\")"
   ]
  },
  {
   "cell_type": "markdown",
   "metadata": {},
   "source": [
    "## Printing multiple pizzas example"
   ]
  },
  {
   "cell_type": "code",
   "execution_count": null,
   "metadata": {},
   "outputs": [],
   "source": [
    "pizzas = [                     # A Vector of tuples\n",
    "(\"hawaiian\", 'S', 10.5),\n",
    "(\"mexicana\", 'S', 13.0),\n",
    "(\"hawaiian\", 'L', 16.5),\n",
    "(\"bbq chicken\", 'L', 20.75),\n",
    "(\"sicilian\", 'S', 12.25),\n",
    "(\"bbq chicken\", 'M', 16.75),\n",
    "(\"mexicana\", 'M', 16.0),\n",
    "(\"thai chicken\", 'L', 20.75),\n",
    "];\n",
    "\n",
    "name(pz) = pz[1];\n",
    "portion(pz) = pz[2];\n",
    "price(pz) = pz[3];"
   ]
  },
  {
   "cell_type": "code",
   "execution_count": null,
   "metadata": {},
   "outputs": [],
   "source": [
    "for pz in pizzas\n",
    "    println(name(pz), \" \", portion(pz), \" \", price(pz))\n",
    "end"
   ]
  },
  {
   "cell_type": "markdown",
   "metadata": {},
   "source": [
    "#### Align with `lpad` and `rpad`\n",
    "\n",
    "With the Julia padding functions you can specify that a text string should always be of\n",
    "a given length. If the text you supply is smaller, it will get padded with a chosen character.\n",
    "If no character is specified, the padding character defaults to space."
   ]
  },
  {
   "cell_type": "code",
   "execution_count": null,
   "metadata": {},
   "outputs": [],
   "source": [
    "lpad(\"ABC\", 6, '-'), lpad(\"ABC\", 6), lpad(\"1234567890\", 6)"
   ]
  },
  {
   "cell_type": "code",
   "execution_count": null,
   "metadata": {},
   "outputs": [],
   "source": [
    "rpad(\"ABC\", 6, '-'), rpad(\"ABC\", 6), rpad(\"1234567890\", 6)"
   ]
  },
  {
   "cell_type": "markdown",
   "metadata": {},
   "source": [
    "With lpad and rpad you can define how wide each column in your table should be\n",
    "and add padding, such as spaces, wherever the supplied text string is shorter. In this\n",
    "example, you’ll keep it simple and check what width **the widest strings in each column** would be:"
   ]
  },
  {
   "cell_type": "code",
   "execution_count": null,
   "metadata": {},
   "outputs": [],
   "source": [
    "length(\"thai chicken\") # width of pizza name column"
   ]
  },
  {
   "cell_type": "code",
   "execution_count": null,
   "metadata": {},
   "outputs": [],
   "source": [
    "length(\"size\") # width of pizza portion column"
   ]
  },
  {
   "cell_type": "code",
   "execution_count": null,
   "metadata": {},
   "outputs": [],
   "source": [
    "max(length(\"16.75\"), length(\"price\")) # width of pizza price column"
   ]
  },
  {
   "cell_type": "code",
   "execution_count": null,
   "metadata": {},
   "outputs": [],
   "source": [
    "\"\"\"\n",
    "    simple alligned pizza table\n",
    "\n",
    "\"\"\"\n",
    "\n",
    "function simple_pizzatable(pizzas)\n",
    "    pname = rpad(\"name\", 12)\n",
    "    psize = rpad(\"size\", 4)\n",
    "    pprice = rpad(\"price\", 5)\n",
    "    printstyled(pname, \" \",\n",
    "                psize, \" \",\n",
    "                pprice,\n",
    "                color=:cyan)\n",
    "    println()\n",
    "    for pz in pizzas\n",
    "        pname = rpad(name(pz), 12)\n",
    "        psize = rpad(portion(pz), 4)\n",
    "        pprice = lpad(price(pz), 5)\n",
    "        println(pname, \" \", psize, \" \", pprice)\n",
    "    end\n",
    "end"
   ]
  },
  {
   "cell_type": "code",
   "execution_count": null,
   "metadata": {},
   "outputs": [],
   "source": [
    "simple_pizzatable(pizzas)"
   ]
  },
  {
   "cell_type": "markdown",
   "metadata": {},
   "source": []
  },
  {
   "cell_type": "markdown",
   "metadata": {},
   "source": [
    "Notice how the decimal points are not aligned. There are many ways to solve that, but in thenext example with trigonometric tables, you will make sure each number has the same number of decimals after the point."
   ]
  },
  {
   "cell_type": "markdown",
   "metadata": {},
   "source": [
    "#### Adding lines in print\n",
    "\n",
    "Adding separating lines is actually quite simple. You simply use the symbol for a long\n",
    "vertical line: '│': Unicode \\U2502"
   ]
  },
  {
   "cell_type": "code",
   "execution_count": null,
   "metadata": {},
   "outputs": [],
   "source": [
    "'\\U2502' # define a Unicode character in Char using \\U<hex><hex><hex><hex"
   ]
  },
  {
   "cell_type": "code",
   "execution_count": null,
   "metadata": {},
   "outputs": [],
   "source": [
    "collect(\"─├┼┤\") "
   ]
  },
  {
   "cell_type": "code",
   "execution_count": null,
   "metadata": {
    "scrolled": true
   },
   "outputs": [],
   "source": [
    "collect(\"\\U2500\\U251C\\U253C\\U2524\") # define Unicode chararters in String"
   ]
  },
  {
   "cell_type": "code",
   "execution_count": null,
   "metadata": {},
   "outputs": [],
   "source": [
    "join(collect(\"\\U2500\\U251C\\U253C\\U2524\"))"
   ]
  },
  {
   "cell_type": "markdown",
   "metadata": {},
   "source": [
    "## Printing a trigonometric functions table"
   ]
  },
  {
   "cell_type": "code",
   "execution_count": null,
   "metadata": {},
   "outputs": [],
   "source": [
    "\"\"\"\n",
    "\n",
    "     Format number output with a desired number of digits after point\n",
    "\n",
    "\"\"\"\n",
    "\n",
    "n = length(\"-0.999\")   # desired digit format: -d.ddd or d.ddd\n",
    "\n",
    "function format(x)\n",
    "    x = round(x, digits=3)\n",
    "    if x < 0        \n",
    "        rpad(x, n, '0')\n",
    "    else\n",
    "        rpad(x, n-1, '0')\n",
    "    end\n",
    "end"
   ]
  },
  {
   "cell_type": "code",
   "execution_count": null,
   "metadata": {},
   "outputs": [],
   "source": [
    "format(-3.66689), format(-45.367)"
   ]
  },
  {
   "cell_type": "code",
   "execution_count": null,
   "metadata": {},
   "outputs": [],
   "source": [
    "format(3.66689), format(45.367)"
   ]
  },
  {
   "cell_type": "code",
   "execution_count": null,
   "metadata": {},
   "outputs": [],
   "source": [
    "println(format(3.66689))\n",
    "println(format(45.367))"
   ]
  },
  {
   "cell_type": "code",
   "execution_count": null,
   "metadata": {},
   "outputs": [],
   "source": [
    "\"\"\"\n",
    "\n",
    "     Format number output with a desired number of digits after point\n",
    "\n",
    "\"\"\"\n",
    "\n",
    "n = length(\"-0.999\")   # desired digit format: -d.ddd or d.ddd\n",
    "\n",
    "function format(x)\n",
    "    x = round(x, digits=3)\n",
    "    if x < 0        \n",
    "        rpad(x, n, '0')\n",
    "    else\n",
    "        rpad(x, n-1, '0')\n",
    "    end\n",
    "end"
   ]
  },
  {
   "cell_type": "code",
   "execution_count": null,
   "metadata": {},
   "outputs": [],
   "source": [
    "\"\"\"\n",
    "\n",
    "   Print sin and cos table in an range of degree values from 0\n",
    "   (i.e. 0:inc:maxangle)\n",
    "\n",
    "\"\"\"\n",
    "\n",
    "function print_trigtable(inc, maxangle)\n",
    "    print(\"│ \")\n",
    "    printstyled(\"θ  \", color=:cyan)\n",
    "    print(\" │ \")\n",
    "    printstyled(rpad(\"cos\", n),\n",
    "                color=:cyan)\n",
    "    print(\" │ \")\n",
    "    printstyled(rpad(\"sin\", n),\n",
    "                color=:cyan)\n",
    "    println(\" │\")\n",
    "    angle = 0\n",
    "    while angle <= maxangle\n",
    "        rad = deg2rad(angle)\n",
    "        cosx = format(cos(rad))\n",
    "        sinx = format(sin(rad))\n",
    "        print(\"│ \")\n",
    "        print(lpad(angle, 3), \" │ \",\n",
    "        lpad(cosx, n), \" │ \",\n",
    "        lpad(sinx, n))\n",
    "        println(\" │\")\n",
    "        angle += inc\n",
    "    end\n",
    "end"
   ]
  },
  {
   "cell_type": "code",
   "execution_count": null,
   "metadata": {},
   "outputs": [],
   "source": [
    "print_trigtable(15, 90)"
   ]
  },
  {
   "cell_type": "markdown",
   "metadata": {},
   "source": [
    "## Reading and writing pizza sales to CSV files\n",
    "\n",
    "A very common file format\n",
    "for exchanging data between various types of spreadsheet applications and scientific applications is called `CSV`, which is short for Comma Separated Values. You will implement a store_pizzatable function to write pizza data in `CSV` format to a file and a load_pizzatable function to read the same `CSV` file. The following is an example of the pizza data CSV file format both functions will work with:\n",
    "\n",
    "1. name,size,price\n",
    "2. hawaiian,S,10.5\n",
    "3. mexicana,S,13.0\n",
    "4. hawaiian,L,16.5\n",
    "5. bbq chicken,L,20.75\n",
    "6. sicilian,S,12.25\n",
    "7. bbq chicken,M,16.75\n",
    "8. mexicana,M,16.0\n",
    "9. thai chicken,L,20.75\n",
    "\n",
    "The first line is referred to as the header. It gives a name to each column in the file. For each row you separate each value with a comma.\n",
    "\n",
    "*-----------------------------------------------------------------------------------------------------------------------------*"
   ]
  },
  {
   "cell_type": "markdown",
   "metadata": {},
   "source": [
    "Julia already has built-in functions for\n",
    "this and very good external libraries, such as `CSV.jl` at `csv.juliadata.org`. However, your focus will be on learning the basics of reading and writing to text files; thus you will not be using external packages or functions."
   ]
  },
  {
   "cell_type": "markdown",
   "metadata": {},
   "source": [
    "## Writing pizza sales to a text file\n",
    "\n",
    "You will define a simple function, store_pizzatable, which outputs pizza sales data as comma separated values:"
   ]
  },
  {
   "cell_type": "code",
   "execution_count": null,
   "metadata": {},
   "outputs": [],
   "source": [
    "function store_pizzatable(io, pizzas)\n",
    "    println(io, \"name,size,price\")\n",
    "    for pz in pizzas\n",
    "        println(io, name(pz), \",\",\n",
    "        portion(pz), \",\",\n",
    "        price(pz))\n",
    "    end\n",
    "end"
   ]
  },
  {
   "cell_type": "markdown",
   "metadata": {},
   "source": [
    "This function should look familiar to you. What is new is that the println function is taking a new first argument named io. This presents some common pitfalls, so let me use this function incorrectly at first:"
   ]
  },
  {
   "cell_type": "code",
   "execution_count": null,
   "metadata": {},
   "outputs": [],
   "source": [
    "store_pizzatable(\"-->\", pizzas[1:3])"
   ]
  },
  {
   "cell_type": "markdown",
   "metadata": {},
   "source": [
    "`println(\"hello\")` is actually short for `println(stdout, \"hello\")`\n",
    "\n",
    "`stdout` represents the default destination for anything printed..The default is your terminal window; however, the destination could be a file or even a network connection. You can try using stdout instead of the string \"--->\", although the result will be rather boring:"
   ]
  },
  {
   "cell_type": "code",
   "execution_count": null,
   "metadata": {},
   "outputs": [],
   "source": [
    "store_pizzatable(stdout, pizzas[1:3])"
   ]
  },
  {
   "cell_type": "markdown",
   "metadata": {},
   "source": [
    "It gets more interesting when you provide a file as a destination. To do that you need to create an IO object representing a file."
   ]
  },
  {
   "cell_type": "code",
   "execution_count": null,
   "metadata": {},
   "outputs": [],
   "source": [
    "io = open(\"pizza-sales.csv\", \"w\")"
   ]
  },
  {
   "cell_type": "code",
   "execution_count": null,
   "metadata": {},
   "outputs": [],
   "source": [
    "store_pizzatable(io, pizzas)"
   ]
  },
  {
   "cell_type": "code",
   "execution_count": null,
   "metadata": {},
   "outputs": [],
   "source": [
    "# The connection to the file has to be closed when\n",
    "# you are done. Reading and writing to a file can\n",
    "# be buffered. Hence, unless you close, not all data\n",
    "# will have necessarily been written yet.\n",
    "close(io)"
   ]
  },
  {
   "cell_type": "markdown",
   "metadata": {},
   "source": [
    "Where is the file `pizza-sales.csv` stored?\n",
    "\n",
    "Answer: in the current working directory\n",
    "\n",
    "Julia Base module provides basic interface to local filesystem:\n",
    "\n",
    "**Reference** `Julia 1.9.0 Manual Chapter 50 Filesystem`\n",
    "\n",
    "Some of useful filesystem functions include:\n",
    "\n",
    "- `pwd()->AbstractString`\n",
    "\n",
    "   Get the current working directory.\n",
    "   \n",
    "   \n",
    "- `cd(dir::AbstractString=homedir())`\n",
    "\n",
    "   Set the current working directory.\n",
    "   \n",
    "   \n",
    "- `readdir(dir::AbstractString=pwd();\n",
    "    join::Bool = false,\n",
    "    sort::Bool = true,\n",
    ") ->Vector{String}`\n",
    "\n",
    "   Return the names in the directory dir or the current working directory if not given.\n",
    "   "
   ]
  },
  {
   "cell_type": "code",
   "execution_count": null,
   "metadata": {},
   "outputs": [],
   "source": [
    "pwd()"
   ]
  },
  {
   "cell_type": "code",
   "execution_count": null,
   "metadata": {},
   "outputs": [],
   "source": [
    "readdir()"
   ]
  },
  {
   "cell_type": "markdown",
   "metadata": {},
   "source": [
    "**Alternatively, you can use the shell dir command**\n",
    "\n",
    "In windows, \n",
    "\n",
    "`shell> cmd /c dir`\n",
    "\n",
    "lie this:"
   ]
  },
  {
   "cell_type": "code",
   "execution_count": null,
   "metadata": {},
   "outputs": [],
   "source": [
    ";cmd /c dir"
   ]
  },
  {
   "cell_type": "markdown",
   "metadata": {},
   "source": [
    "Moreove, you can the Windows shell cmd `type` (similar to `cat` in Linux)\n",
    "to print the contents of a file to the cnsole like this:\n",
    "\n",
    "`shell> cmd type <filename>`"
   ]
  },
  {
   "cell_type": "code",
   "execution_count": null,
   "metadata": {},
   "outputs": [],
   "source": [
    ";cmd /c type pizza-sales.csv"
   ]
  },
  {
   "cell_type": "markdown",
   "metadata": {},
   "source": [
    "## Reading pizza sales from a file\n"
   ]
  },
  {
   "cell_type": "code",
   "execution_count": null,
   "metadata": {},
   "outputs": [],
   "source": [
    "io = open(\"pizza-sales.csv\")"
   ]
  },
  {
   "cell_type": "code",
   "execution_count": null,
   "metadata": {},
   "outputs": [],
   "source": [
    "line = readline(io)"
   ]
  },
  {
   "cell_type": "code",
   "execution_count": null,
   "metadata": {},
   "outputs": [],
   "source": [
    "line = readline(io)"
   ]
  },
  {
   "cell_type": "code",
   "execution_count": null,
   "metadata": {},
   "outputs": [],
   "source": [
    "close(io)"
   ]
  },
  {
   "cell_type": "markdown",
   "metadata": {},
   "source": [
    "### Loading pizza sales data"
   ]
  },
  {
   "cell_type": "code",
   "execution_count": null,
   "metadata": {},
   "outputs": [],
   "source": [
    "function load_pizzatable(io)\n",
    "    pizzas = []\n",
    "    readline(io)\n",
    "    while !eof(io)\n",
    "        pz = split(readline(io), ',')\n",
    "        price = parse(Float64, pz[3])\n",
    "        push!(pizzas, (pz[1], pz[1][1], price)) # (String,Char,Float64)\n",
    "    end\n",
    "    pizzas\n",
    "end"
   ]
  },
  {
   "cell_type": "code",
   "execution_count": null,
   "metadata": {},
   "outputs": [],
   "source": [
    "io = open(\"pizza-sales.csv\")\n",
    "pizzas_in = load_pizzatable(io)\n",
    "close(io)"
   ]
  },
  {
   "cell_type": "code",
   "execution_count": null,
   "metadata": {},
   "outputs": [],
   "source": [
    "pizzas_in"
   ]
  },
  {
   "cell_type": "markdown",
   "metadata": {},
   "source": [
    "Another method of function load_pizzatable defined like this:"
   ]
  },
  {
   "cell_type": "code",
   "execution_count": null,
   "metadata": {},
   "outputs": [],
   "source": [
    "function load_pizzatable(file::String)\n",
    "    try\n",
    "        io = open(file)\n",
    "        \n",
    "        pizzas = []\n",
    "        readline(io)\n",
    "        while !eof(io)\n",
    "            pz = split(readline(io), ',')\n",
    "            price = parse(Float64, pz[3])\n",
    "            push!(pizzas, (pz[1], pz[1][1], price)) # (String,Char,Float64)\n",
    "        end\n",
    "        close(io)\n",
    "        \n",
    "        println(\"$file is read successfully.\")\n",
    "        pizzas\n",
    "       \n",
    "    catch\n",
    "         println(\"$file does not exist!\")\n",
    "    end\n",
    "end"
   ]
  },
  {
   "cell_type": "code",
   "execution_count": null,
   "metadata": {},
   "outputs": [],
   "source": [
    "pizzas_in_2 = load_pizzatable(\"pizza-sales.csv\");"
   ]
  },
  {
   "cell_type": "code",
   "execution_count": null,
   "metadata": {},
   "outputs": [],
   "source": [
    "pizzas_in_2"
   ]
  },
  {
   "cell_type": "code",
   "execution_count": null,
   "metadata": {},
   "outputs": [],
   "source": [
    "load_pizzatable(\"pizza-sales2.csv\");"
   ]
  },
  {
   "cell_type": "code",
   "execution_count": null,
   "metadata": {},
   "outputs": [],
   "source": []
  }
 ],
 "metadata": {
  "kernelspec": {
   "display_name": "Julia 1.9.0",
   "language": "julia",
   "name": "julia-1.9"
  },
  "language_info": {
   "file_extension": ".jl",
   "mimetype": "application/julia",
   "name": "julia",
   "version": "1.9.0"
  }
 },
 "nbformat": 4,
 "nbformat_minor": 4
}
