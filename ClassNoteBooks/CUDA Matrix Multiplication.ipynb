{
 "cells": [
  {
   "cell_type": "markdown",
   "id": "947a5244",
   "metadata": {},
   "source": [
    "# CUDA Matrix Multiplication"
   ]
  },
  {
   "cell_type": "code",
   "execution_count": null,
   "id": "81668814",
   "metadata": {},
   "outputs": [],
   "source": [
    "\"\"\"\n",
    "    CPU sequential matrix multiplication\n",
    "\n",
    "\"\"\"\n",
    "function MM!(c, a, b, N)\n",
    "    for i in range(1,N)\n",
    "        for j in range(1,N)\n",
    "            temp = zero(eltype(c))\n",
    "            for k in range(1,N)\n",
    "                temp += a[i,k]*b[k,j]\n",
    "            end\n",
    "            c[i,j] = temp\n",
    "        end\n",
    "    end\n",
    "end"
   ]
  },
  {
   "cell_type": "code",
   "execution_count": null,
   "id": "d4b2ebc2",
   "metadata": {},
   "outputs": [],
   "source": [
    "using Base.Threads"
   ]
  },
  {
   "cell_type": "code",
   "execution_count": null,
   "id": "f7df3798",
   "metadata": {},
   "outputs": [],
   "source": [
    "\"\"\"\n",
    "\n",
    "    CPU multi-threading matrix multiplication\n",
    "\n",
    "\"\"\"\n",
    "function threads_MM!(c, a, b, N)\n",
    "    @threads for i in range(1,N)\n",
    "        for j in range(1,N)\n",
    "            temp = zero(eltype(c))\n",
    "            for k in range(1,N)\n",
    "                temp += a[i,k]*b[k,j]\n",
    "            end\n",
    "            c[i,j] = temp\n",
    "        end\n",
    "    end\n",
    "end"
   ]
  },
  {
   "cell_type": "code",
   "execution_count": null,
   "id": "b9812600",
   "metadata": {},
   "outputs": [],
   "source": [
    "using CUDA"
   ]
  },
  {
   "cell_type": "code",
   "execution_count": null,
   "id": "3f8e0b94",
   "metadata": {},
   "outputs": [],
   "source": [
    "\"\"\"\n",
    "\n",
    "    CUDA matrix multiplication\n",
    "\n",
    "\"\"\"\n",
    "function CUDA_MM_v1!(c, a, b, N)\n",
    "    \n",
    "    i = (blockIdx().x-1) * blockDim().x + threadIdx().x # row index\n",
    "    j = (blockIdx().y-1) * blockDim().y + threadIdx().y # column index\n",
    "    \n",
    "    if i > N || j > N return nothing end\n",
    "    \n",
    "    temp = zero(eltype(c))\n",
    "    for k in range(1,N)\n",
    "         temp += a[i,k]*b[k,j]\n",
    "    end    \n",
    "    c[i,j] = temp\n",
    "\n",
    "    return nothing\n",
    "end"
   ]
  },
  {
   "cell_type": "code",
   "execution_count": null,
   "id": "76bab3e6",
   "metadata": {},
   "outputs": [],
   "source": [
    "\"\"\"\n",
    "\n",
    "    TODO: CUDA matrix multiplication Using shared memory\n",
    "\n",
    "\"\"\"\n",
    "function CUDA_MM_v2!(c, a, b, N)\n",
    "    \n",
    "   \n",
    "\n",
    "    return nothing\n",
    "end"
   ]
  },
  {
   "cell_type": "code",
   "execution_count": null,
   "id": "cee78801",
   "metadata": {},
   "outputs": [],
   "source": []
  },
  {
   "cell_type": "markdown",
   "id": "8f611488",
   "metadata": {},
   "source": [
    "# Timing"
   ]
  },
  {
   "cell_type": "code",
   "execution_count": null,
   "id": "f1aa3878",
   "metadata": {},
   "outputs": [],
   "source": [
    "using BenchmarkTools"
   ]
  },
  {
   "cell_type": "code",
   "execution_count": null,
   "id": "24970494",
   "metadata": {},
   "outputs": [],
   "source": [
    "n = 1600\n",
    "x = Matrix{Float32}(fill(1f0, n, n))\n",
    "y = Matrix{Float32}(fill(1f0, n, n))\n",
    "z = Matrix{Float32}(fill(0f0, n, n));"
   ]
  },
  {
   "cell_type": "code",
   "execution_count": null,
   "id": "e5bb2b45",
   "metadata": {},
   "outputs": [],
   "source": [
    "@time \"sequential time: \" MM!(z, x, y, n)"
   ]
  },
  {
   "cell_type": "code",
   "execution_count": null,
   "id": "97581a28",
   "metadata": {},
   "outputs": [],
   "source": [
    "@time \"multi_threading time: \" threads_MM!(z, x, y, n)"
   ]
  },
  {
   "cell_type": "code",
   "execution_count": null,
   "id": "9eb2a469",
   "metadata": {},
   "outputs": [],
   "source": [
    "@time \"CUDA time:\" begin\n",
    "    dx = CuArray(x)\n",
    "    dy = CuArray(y)\n",
    "    dz = similar(dx)\n",
    "    \n",
    "    threads = (16, 16)\n",
    "    blocks  = (cld(n, 16), cld(n, 16)) # Note row x col Blocks in Grid\n",
    "\n",
    "    CUDA.@sync begin\n",
    "        @cuda blocks=blocks threads=threads CUDA_MM_v1!(dz, dx, dy,n)\n",
    "    end\n",
    "    d2h_z = Matrix(dz);\n",
    "    \n",
    "end"
   ]
  },
  {
   "cell_type": "code",
   "execution_count": null,
   "id": "4a043a15",
   "metadata": {},
   "outputs": [],
   "source": [
    "z ≈ d2h_z"
   ]
  },
  {
   "cell_type": "code",
   "execution_count": null,
   "id": "be346683",
   "metadata": {},
   "outputs": [],
   "source": []
  },
  {
   "cell_type": "code",
   "execution_count": null,
   "id": "159ecb31",
   "metadata": {},
   "outputs": [],
   "source": []
  },
  {
   "cell_type": "code",
   "execution_count": null,
   "id": "12f3f749",
   "metadata": {},
   "outputs": [],
   "source": []
  }
 ],
 "metadata": {
  "kernelspec": {
   "display_name": "Julia 24 Threads 1.9.2",
   "language": "julia",
   "name": "julia-24-threads-1.9"
  },
  "language_info": {
   "file_extension": ".jl",
   "mimetype": "application/julia",
   "name": "julia",
   "version": "1.9.2"
  }
 },
 "nbformat": 4,
 "nbformat_minor": 5
}
