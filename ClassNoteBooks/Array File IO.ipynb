{
 "cells": [
  {
   "cell_type": "markdown",
   "metadata": {},
   "source": [
    "# Array File IO\n",
    "\n",
    "Two methods\n",
    "\n",
    "- Binary\n",
    "\n",
    "Use Base functions `read` and `write`\n",
    "\n",
    "- Formatted\n",
    "\n",
    "Use `AVSfldIO` package"
   ]
  },
  {
   "cell_type": "code",
   "execution_count": null,
   "metadata": {},
   "outputs": [],
   "source": []
  },
  {
   "cell_type": "markdown",
   "metadata": {},
   "source": [
    "## 3-dim Array vs. Vector of Matrices\n",
    "\n",
    "How can we store multiple matrices in a single data structure?\n",
    "\n",
    "For example, given the following three 3x2 matrices\n",
    "\n",
    "    1  2   |  3  4 |  5  6\n",
    "    1  2   |  3  4 |  5  6\n",
    "    1  2   |  3  4 |  5  6\n",
    "    \n",
    "three methods to store them:\n",
    "\n",
    "1. A vector of three `Matrix{Int64}(3,2)`\n",
    "\n",
    "\n",
    "2. A 3-dim Array\n",
    "\n",
    "    `Array{Int64}(3, 2, 3)  # the last dim = 3 is the number of matrices`\n",
    "    \n",
    "    \n",
    "3. A 3-dim Array\n",
    "\n",
    "    `Array{Int64}(3, 3, 2)  # the first dim = 3 is the number of matrices`"
   ]
  },
  {
   "cell_type": "code",
   "execution_count": null,
   "metadata": {},
   "outputs": [],
   "source": [
    "v = Vector{Matrix{Int64}}([])\n",
    "push!(v, [[1 2]; [1 2]; [1 2]])   # use';' to seperate rows\n",
    "push!(v, [[3 4]; [3 4]; [3 4]])\n",
    "push!(v, [[5 6]; [5 6]; [5 6]]);"
   ]
  },
  {
   "cell_type": "code",
   "execution_count": null,
   "metadata": {},
   "outputs": [],
   "source": [
    "a2 = Array{Int64}(undef, (3, 2, 3));\n",
    "a2[:,:,1] = [[1 2]; [1 2]; [1 2]]\n",
    "a2[:,:,2] = [[3 4]; [3 4]; [3 4]]\n",
    "a2[:,:,3] = [[5 6]; [5 6]; [5 6]];"
   ]
  },
  {
   "cell_type": "code",
   "execution_count": null,
   "metadata": {},
   "outputs": [],
   "source": [
    "a3 = Array{Int64}(undef, (3, 3, 2));\n",
    "a3[1,:,:] = [[1 2]; [1 2]; [1 2]]\n",
    "a3[2,:,:] = [[3 4]; [3 4]; [3 4]]\n",
    "a3[3,:,:] = [[5 6]; [5 6]; [5 6]];"
   ]
  },
  {
   "cell_type": "code",
   "execution_count": null,
   "metadata": {},
   "outputs": [],
   "source": []
  },
  {
   "cell_type": "markdown",
   "metadata": {},
   "source": [
    "## Binary File IO"
   ]
  },
  {
   "cell_type": "code",
   "execution_count": null,
   "metadata": {},
   "outputs": [],
   "source": [
    "typeof(a2), sizeof(a2)"
   ]
  },
  {
   "cell_type": "code",
   "execution_count": null,
   "metadata": {},
   "outputs": [],
   "source": [
    "write(\"a2.bin\", a2)"
   ]
  },
  {
   "cell_type": "code",
   "execution_count": null,
   "metadata": {},
   "outputs": [],
   "source": [
    "a2_in = Array{Int64}(undef, (3, 2, 3));"
   ]
  },
  {
   "cell_type": "code",
   "execution_count": null,
   "metadata": {},
   "outputs": [],
   "source": [
    "for i in 1:18\n",
    "    a2_in[i] = 0\n",
    "end"
   ]
  },
  {
   "cell_type": "code",
   "execution_count": null,
   "metadata": {},
   "outputs": [],
   "source": [
    "a2_in"
   ]
  },
  {
   "cell_type": "code",
   "execution_count": null,
   "metadata": {},
   "outputs": [],
   "source": [
    "a2_in = read!(\"a2.bin\", a2_in);"
   ]
  },
  {
   "cell_type": "code",
   "execution_count": null,
   "metadata": {},
   "outputs": [],
   "source": [
    "typeof(a2_in), sizeof(a2_in)"
   ]
  },
  {
   "cell_type": "code",
   "execution_count": null,
   "metadata": {},
   "outputs": [],
   "source": [
    "a2_in == a2"
   ]
  },
  {
   "cell_type": "markdown",
   "metadata": {},
   "source": [
    "## Formatted IO\n",
    "\n",
    "`AVSfldIO.jl`Package\n",
    "\n",
    "https://github.com/JuliaIO/AVSfldIO.jl\n",
    "\n",
    "File IO for AVS format \"field\" data files with extension `.fld` for the Julia language, in conjunction with the FileIO package. This data format supports N-dimensional arrays of real numbers.\n",
    "\n",
    "**Usage**\n",
    "\n",
    "Most users will simply use the FileIO `load` and `save` methods as follows.\n",
    "\n",
    "`using FileIO # need version ≥ 1.9`\n",
    "\n",
    "`data1 = rand(6,7,8) # random 3D data`\n",
    "\n",
    "`file = \"test.fld\"`\n",
    "\n",
    "`save(file, data1) # will throw error if the file exists already`\n",
    "\n",
    "`data2 = load(file)`\n",
    "\n",
    "`@assert data1 == data2`\n"
   ]
  },
  {
   "cell_type": "code",
   "execution_count": null,
   "metadata": {},
   "outputs": [],
   "source": [
    "using FileIO"
   ]
  },
  {
   "cell_type": "code",
   "execution_count": null,
   "metadata": {},
   "outputs": [],
   "source": [
    "typeof(a2), sizeof(a2)"
   ]
  },
  {
   "cell_type": "code",
   "execution_count": null,
   "metadata": {},
   "outputs": [],
   "source": [
    "save(\"a2.fld\", a2)"
   ]
  },
  {
   "cell_type": "code",
   "execution_count": null,
   "metadata": {},
   "outputs": [],
   "source": [
    "a2_fld = load(\"a2.fld\");"
   ]
  },
  {
   "cell_type": "code",
   "execution_count": null,
   "metadata": {},
   "outputs": [],
   "source": [
    "typeof(a2_fld), sizeof(a2_fld)"
   ]
  },
  {
   "cell_type": "code",
   "execution_count": null,
   "metadata": {},
   "outputs": [],
   "source": [
    "a2_fld == a2"
   ]
  },
  {
   "cell_type": "code",
   "execution_count": null,
   "metadata": {},
   "outputs": [],
   "source": []
  },
  {
   "cell_type": "code",
   "execution_count": null,
   "metadata": {},
   "outputs": [],
   "source": [
    "data1 = rand(6,7,8);"
   ]
  },
  {
   "cell_type": "code",
   "execution_count": null,
   "metadata": {},
   "outputs": [],
   "source": [
    "typeof(data1)"
   ]
  },
  {
   "cell_type": "code",
   "execution_count": null,
   "metadata": {},
   "outputs": [],
   "source": [
    "save(\"data1.fld\", data1)"
   ]
  },
  {
   "cell_type": "code",
   "execution_count": null,
   "metadata": {},
   "outputs": [],
   "source": [
    "data1_fld = load(\"data1.fld\");"
   ]
  },
  {
   "cell_type": "code",
   "execution_count": null,
   "metadata": {},
   "outputs": [],
   "source": [
    "typeof(data1_fld)"
   ]
  },
  {
   "cell_type": "code",
   "execution_count": null,
   "metadata": {},
   "outputs": [],
   "source": []
  },
  {
   "cell_type": "markdown",
   "metadata": {},
   "source": [
    "## Note: python Array file IO\n",
    "\n",
    "- binary IO\n",
    "\n",
    "   Python code:\n",
    "\n",
    "`#Read digit images: 65,000X28x28 grey images (binary data)`\n",
    "\n",
    "`digits = np.fromfile('X.bin', dtype=np.single) # binary read into one-dim array`\n",
    "\n",
    "\n",
    "`#Read digit image labels: 65,000X10 (one-hot vector)`\n",
    " \n",
    "`labels = np.fromfile('Y.bin', dtype=np.single)`\n",
    "\n",
    "- formatted IO\n",
    "\n",
    "  numpy's `.np` file format"
   ]
  },
  {
   "cell_type": "code",
   "execution_count": null,
   "metadata": {},
   "outputs": [],
   "source": []
  }
 ],
 "metadata": {
  "kernelspec": {
   "display_name": "Julia 1.9.0",
   "language": "julia",
   "name": "julia-1.9"
  },
  "language_info": {
   "file_extension": ".jl",
   "mimetype": "application/julia",
   "name": "julia",
   "version": "1.9.0"
  }
 },
 "nbformat": 4,
 "nbformat_minor": 4
}
