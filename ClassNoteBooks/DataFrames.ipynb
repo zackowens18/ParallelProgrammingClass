{
 "cells": [
  {
   "attachments": {},
   "cell_type": "markdown",
   "metadata": {},
   "source": [
    "# What is DataFrames?\n",
    "\n",
    "https://dataframes.juliadata.org/stable/\n",
    "\n",
    "DataFrames.jl provides a set of tools for working with tabular data in Julia. Its design and functionality are similar to those of `pandas` (in Python) and `data.frame`, `data.table` and `dplyr` (in R), making it a great general purpose data science tool.\n",
    "\n",
    "`DataFrames.jl` plays a central role in the Julia Data ecosystem, and has tight integrations with a range of different libraries. `DataFrames.jl` isn't the only tool for working with tabular data in Julia – as noted below, there are some other great libraries for certain use-cases – but it provides great data wrangling functionality through a familiar interface.\n",
    "\n",
    "To understand the toolchain in more detail, have a look at the tutorials in this manual. New users can start with the First Steps with `DataFrames.jl` section.\n",
    "\n",
    "You may find the `DataFramesMeta.jl` package or one of the other convenience packages discussed in the Data manipulation frameworks section of this manual helpful when writing more advanced data transformations, especially if you do not have a significant programming experience. These packages provide convenience syntax similar to `dplyr` in R.\n",
    "\n",
    "If you use metadata when working with `DataFrames.jl` you might find the `TableMetadataTools.jl` package useful. This package defines several convenience functions for performing typical metadata operations."
   ]
  },
  {
   "attachments": {},
   "cell_type": "markdown",
   "metadata": {},
   "source": [
    "# Using DataFrames\n",
    "\n",
    "https://dataframes.juliadata.org/stable/man/getting_started/\n",
    "\n",
    "## Getting Started\n",
    "Installation\n",
    "The DataFrames package is available through the Julia package system and can be installed using the following commands:\n",
    "\n",
    "`using Pkg`\n",
    "`Pkg.add(\"DataFrames\")`\n",
    "\n",
    "Throughout the rest of this tutorial, we will assume that you have installed the DataFrames package and have already typed using DataFrames to bring all of the relevant variables into your current namespace."
   ]
  },
  {
   "cell_type": "code",
   "execution_count": 8,
   "metadata": {},
   "outputs": [],
   "source": [
    "using DataFrames"
   ]
  },
  {
   "attachments": {},
   "cell_type": "markdown",
   "metadata": {},
   "source": [
    "# First step\n",
    "\n",
    "https://dataframes.juliadata.org/stable/man/basics/"
   ]
  },
  {
   "cell_type": "code",
   "execution_count": 9,
   "metadata": {},
   "outputs": [
    {
     "data": {
      "text/html": [
       "<div><div style = \"float: left;\"><span>0×0 DataFrame</span></div><div style = \"clear: both;\"></div></div><div class = \"data-frame\" style = \"overflow-x: scroll;\"><table class = \"data-frame\" style = \"margin-bottom: 6px;\"></table></div>"
      ],
      "text/latex": [
       "\\begin{tabular}{r|}\n",
       "\t& \\\\\n",
       "\t\\hline\n",
       "\t& \\\\\n",
       "\t\\hline\n",
       "\\end{tabular}\n"
      ],
      "text/plain": [
       "\u001b[1m0×0 DataFrame\u001b[0m"
      ]
     },
     "metadata": {},
     "output_type": "display_data"
    }
   ],
   "source": [
    "# Construct an empty dataframe\n",
    "DataFrame()"
   ]
  },
  {
   "cell_type": "code",
   "execution_count": 3,
   "metadata": {},
   "outputs": [
    {
     "data": {
      "text/html": [
       "<div><div style = \"float: left;\"><span>3×3 DataFrame</span></div><div style = \"clear: both;\"></div></div><div class = \"data-frame\" style = \"overflow-x: scroll;\"><table class = \"data-frame\" style = \"margin-bottom: 6px;\"><thead><tr class = \"header\"><th class = \"rowNumber\" style = \"font-weight: bold; text-align: right;\">Row</th><th style = \"text-align: left;\">A</th><th style = \"text-align: left;\">B</th><th style = \"text-align: left;\">fixed</th></tr><tr class = \"subheader headerLastRow\"><th class = \"rowNumber\" style = \"font-weight: bold; text-align: right;\"></th><th title = \"Int64\" style = \"text-align: left;\">Int64</th><th title = \"Int64\" style = \"text-align: left;\">Int64</th><th title = \"Int64\" style = \"text-align: left;\">Int64</th></tr></thead><tbody><tr><td class = \"rowNumber\" style = \"font-weight: bold; text-align: right;\">1</td><td style = \"text-align: right;\">1</td><td style = \"text-align: right;\">5</td><td style = \"text-align: right;\">1</td></tr><tr><td class = \"rowNumber\" style = \"font-weight: bold; text-align: right;\">2</td><td style = \"text-align: right;\">2</td><td style = \"text-align: right;\">6</td><td style = \"text-align: right;\">1</td></tr><tr><td class = \"rowNumber\" style = \"font-weight: bold; text-align: right;\">3</td><td style = \"text-align: right;\">3</td><td style = \"text-align: right;\">7</td><td style = \"text-align: right;\">1</td></tr></tbody></table></div>"
      ],
      "text/latex": [
       "\\begin{tabular}{r|ccc}\n",
       "\t& A & B & fixed\\\\\n",
       "\t\\hline\n",
       "\t& Int64 & Int64 & Int64\\\\\n",
       "\t\\hline\n",
       "\t1 & 1 & 5 & 1 \\\\\n",
       "\t2 & 2 & 6 & 1 \\\\\n",
       "\t3 & 3 & 7 & 1 \\\\\n",
       "\\end{tabular}\n"
      ],
      "text/plain": [
       "\u001b[1m3×3 DataFrame\u001b[0m\n",
       "\u001b[1m Row \u001b[0m│\u001b[1m A     \u001b[0m\u001b[1m B     \u001b[0m\u001b[1m fixed \u001b[0m\n",
       "     │\u001b[90m Int64 \u001b[0m\u001b[90m Int64 \u001b[0m\u001b[90m Int64 \u001b[0m\n",
       "─────┼─────────────────────\n",
       "   1 │     1      5      1\n",
       "   2 │     2      6      1\n",
       "   3 │     3      7      1"
      ]
     },
     "metadata": {},
     "output_type": "display_data"
    }
   ],
   "source": [
    "# define a dataframe column by column\n",
    "df = DataFrame(A=1:3, B=5:7, fixed=1)"
   ]
  },
  {
   "cell_type": "code",
   "execution_count": 4,
   "metadata": {},
   "outputs": [
    {
     "data": {
      "text/plain": [
       "3-element Vector{String}:\n",
       " \"A\"\n",
       " \"B\"\n",
       " \"fixed\""
      ]
     },
     "metadata": {},
     "output_type": "display_data"
    }
   ],
   "source": [
    "names(df)"
   ]
  },
  {
   "cell_type": "code",
   "execution_count": 5,
   "metadata": {},
   "outputs": [
    {
     "data": {
      "text/plain": [
       "DataFrame"
      ]
     },
     "metadata": {},
     "output_type": "display_data"
    }
   ],
   "source": [
    "typeof(df)"
   ]
  },
  {
   "cell_type": "code",
   "execution_count": null,
   "metadata": {},
   "outputs": [],
   "source": []
  },
  {
   "cell_type": "code",
   "execution_count": 6,
   "metadata": {},
   "outputs": [
    {
     "data": {
      "text/html": [
       "<div><div style = \"float: left;\"><span>3×2 DataFrame</span></div><div style = \"clear: both;\"></div></div><div class = \"data-frame\" style = \"overflow-x: scroll;\"><table class = \"data-frame\" style = \"margin-bottom: 6px;\"><thead><tr class = \"header\"><th class = \"rowNumber\" style = \"font-weight: bold; text-align: right;\">Row</th><th style = \"text-align: left;\">customer age</th><th style = \"text-align: left;\">first name</th></tr><tr class = \"subheader headerLastRow\"><th class = \"rowNumber\" style = \"font-weight: bold; text-align: right;\"></th><th title = \"Int64\" style = \"text-align: left;\">Int64</th><th title = \"String\" style = \"text-align: left;\">String</th></tr></thead><tbody><tr><td class = \"rowNumber\" style = \"font-weight: bold; text-align: right;\">1</td><td style = \"text-align: right;\">15</td><td style = \"text-align: left;\">Rohit</td></tr><tr><td class = \"rowNumber\" style = \"font-weight: bold; text-align: right;\">2</td><td style = \"text-align: right;\">20</td><td style = \"text-align: left;\">Rahul</td></tr><tr><td class = \"rowNumber\" style = \"font-weight: bold; text-align: right;\">3</td><td style = \"text-align: right;\">25</td><td style = \"text-align: left;\">Akshat</td></tr></tbody></table></div>"
      ],
      "text/latex": [
       "\\begin{tabular}{r|cc}\n",
       "\t& customer age & first name\\\\\n",
       "\t\\hline\n",
       "\t& Int64 & String\\\\\n",
       "\t\\hline\n",
       "\t1 & 15 & Rohit \\\\\n",
       "\t2 & 20 & Rahul \\\\\n",
       "\t3 & 25 & Akshat \\\\\n",
       "\\end{tabular}\n"
      ],
      "text/plain": [
       "\u001b[1m3×2 DataFrame\u001b[0m\n",
       "\u001b[1m Row \u001b[0m│\u001b[1m customer age \u001b[0m\u001b[1m first name \u001b[0m\n",
       "     │\u001b[90m Int64        \u001b[0m\u001b[90m String     \u001b[0m\n",
       "─────┼──────────────────────────\n",
       "   1 │           15  Rohit\n",
       "   2 │           20  Rahul\n",
       "   3 │           25  Akshat"
      ]
     },
     "metadata": {},
     "output_type": "display_data"
    }
   ],
   "source": [
    "DataFrame(\"customer age\" => [15, 20, 25],\n",
    "                 \"first name\" => [\"Rohit\", \"Rahul\", \"Akshat\"])"
   ]
  },
  {
   "cell_type": "code",
   "execution_count": 7,
   "metadata": {},
   "outputs": [
    {
     "data": {
      "text/plain": [
       "Dict{String, Vector} with 2 entries:\n",
       "  \"first name\"   => [\"Rohit\", \"Rahul\", \"Akshat\"]\n",
       "  \"customer age\" => [15, 20, 25]"
      ]
     },
     "metadata": {},
     "output_type": "display_data"
    }
   ],
   "source": [
    "dict = Dict(\"customer age\" => [15, 20, 25],\n",
    "                   \"first name\" => [\"Rohit\", \"Rahul\", \"Akshat\"])"
   ]
  },
  {
   "cell_type": "code",
   "execution_count": 8,
   "metadata": {},
   "outputs": [
    {
     "data": {
      "text/html": [
       "<div><div style = \"float: left;\"><span>3×2 DataFrame</span></div><div style = \"clear: both;\"></div></div><div class = \"data-frame\" style = \"overflow-x: scroll;\"><table class = \"data-frame\" style = \"margin-bottom: 6px;\"><thead><tr class = \"header\"><th class = \"rowNumber\" style = \"font-weight: bold; text-align: right;\">Row</th><th style = \"text-align: left;\">customer age</th><th style = \"text-align: left;\">first name</th></tr><tr class = \"subheader headerLastRow\"><th class = \"rowNumber\" style = \"font-weight: bold; text-align: right;\"></th><th title = \"Int64\" style = \"text-align: left;\">Int64</th><th title = \"String\" style = \"text-align: left;\">String</th></tr></thead><tbody><tr><td class = \"rowNumber\" style = \"font-weight: bold; text-align: right;\">1</td><td style = \"text-align: right;\">15</td><td style = \"text-align: left;\">Rohit</td></tr><tr><td class = \"rowNumber\" style = \"font-weight: bold; text-align: right;\">2</td><td style = \"text-align: right;\">20</td><td style = \"text-align: left;\">Rahul</td></tr><tr><td class = \"rowNumber\" style = \"font-weight: bold; text-align: right;\">3</td><td style = \"text-align: right;\">25</td><td style = \"text-align: left;\">Akshat</td></tr></tbody></table></div>"
      ],
      "text/latex": [
       "\\begin{tabular}{r|cc}\n",
       "\t& customer age & first name\\\\\n",
       "\t\\hline\n",
       "\t& Int64 & String\\\\\n",
       "\t\\hline\n",
       "\t1 & 15 & Rohit \\\\\n",
       "\t2 & 20 & Rahul \\\\\n",
       "\t3 & 25 & Akshat \\\\\n",
       "\\end{tabular}\n"
      ],
      "text/plain": [
       "\u001b[1m3×2 DataFrame\u001b[0m\n",
       "\u001b[1m Row \u001b[0m│\u001b[1m customer age \u001b[0m\u001b[1m first name \u001b[0m\n",
       "     │\u001b[90m Int64        \u001b[0m\u001b[90m String     \u001b[0m\n",
       "─────┼──────────────────────────\n",
       "   1 │           15  Rohit\n",
       "   2 │           20  Rahul\n",
       "   3 │           25  Akshat"
      ]
     },
     "metadata": {},
     "output_type": "display_data"
    }
   ],
   "source": [
    "DataFrame(dict)"
   ]
  },
  {
   "cell_type": "code",
   "execution_count": 9,
   "metadata": {},
   "outputs": [
    {
     "data": {
      "text/plain": [
       "Dict{Symbol, Vector} with 2 entries:\n",
       "  :customer_age => [15, 20, 25]\n",
       "  :first_name   => [\"Rohit\", \"Rahul\", \"Akshat\"]"
      ]
     },
     "metadata": {},
     "output_type": "display_data"
    }
   ],
   "source": [
    "dict = Dict(:customer_age => [15, 20, 25],\n",
    "                   :first_name => [\"Rohit\", \"Rahul\", \"Akshat\"])"
   ]
  },
  {
   "cell_type": "code",
   "execution_count": 10,
   "metadata": {},
   "outputs": [
    {
     "data": {
      "text/html": [
       "<div><div style = \"float: left;\"><span>3×2 DataFrame</span></div><div style = \"clear: both;\"></div></div><div class = \"data-frame\" style = \"overflow-x: scroll;\"><table class = \"data-frame\" style = \"margin-bottom: 6px;\"><thead><tr class = \"header\"><th class = \"rowNumber\" style = \"font-weight: bold; text-align: right;\">Row</th><th style = \"text-align: left;\">customer_age</th><th style = \"text-align: left;\">first_name</th></tr><tr class = \"subheader headerLastRow\"><th class = \"rowNumber\" style = \"font-weight: bold; text-align: right;\"></th><th title = \"Int64\" style = \"text-align: left;\">Int64</th><th title = \"String\" style = \"text-align: left;\">String</th></tr></thead><tbody><tr><td class = \"rowNumber\" style = \"font-weight: bold; text-align: right;\">1</td><td style = \"text-align: right;\">15</td><td style = \"text-align: left;\">Rohit</td></tr><tr><td class = \"rowNumber\" style = \"font-weight: bold; text-align: right;\">2</td><td style = \"text-align: right;\">20</td><td style = \"text-align: left;\">Rahul</td></tr><tr><td class = \"rowNumber\" style = \"font-weight: bold; text-align: right;\">3</td><td style = \"text-align: right;\">25</td><td style = \"text-align: left;\">Akshat</td></tr></tbody></table></div>"
      ],
      "text/latex": [
       "\\begin{tabular}{r|cc}\n",
       "\t& customer\\_age & first\\_name\\\\\n",
       "\t\\hline\n",
       "\t& Int64 & String\\\\\n",
       "\t\\hline\n",
       "\t1 & 15 & Rohit \\\\\n",
       "\t2 & 20 & Rahul \\\\\n",
       "\t3 & 25 & Akshat \\\\\n",
       "\\end{tabular}\n"
      ],
      "text/plain": [
       "\u001b[1m3×2 DataFrame\u001b[0m\n",
       "\u001b[1m Row \u001b[0m│\u001b[1m customer_age \u001b[0m\u001b[1m first_name \u001b[0m\n",
       "     │\u001b[90m Int64        \u001b[0m\u001b[90m String     \u001b[0m\n",
       "─────┼──────────────────────────\n",
       "   1 │           15  Rohit\n",
       "   2 │           20  Rahul\n",
       "   3 │           25  Akshat"
      ]
     },
     "metadata": {},
     "output_type": "display_data"
    }
   ],
   "source": [
    "DataFrame(dict)"
   ]
  },
  {
   "attachments": {},
   "cell_type": "markdown",
   "metadata": {},
   "source": [
    "Using Symbols, e.g. :customer_age rather than strings, e.g. \"customer age\" to denote column names is preferred as it is faster. However, as you can see in the example above if our column name contains a space it is not very convenient to pass it as a Symbol (you would have to write Symbol(\"customer age\"), which is verbose) so using a string is more convenient."
   ]
  },
  {
   "cell_type": "code",
   "execution_count": null,
   "metadata": {},
   "outputs": [],
   "source": []
  },
  {
   "attachments": {},
   "cell_type": "markdown",
   "metadata": {},
   "source": [
    "It is also quite common to create a DataFrame from a NamedTuple of vectors or a vector of NamedTuples. Here are some examples of these operations:"
   ]
  },
  {
   "cell_type": "code",
   "execution_count": null,
   "metadata": {},
   "outputs": [],
   "source": [
    "DataFrame((a=[1, 2], b=[3, 4]))"
   ]
  },
  {
   "cell_type": "code",
   "execution_count": null,
   "metadata": {},
   "outputs": [],
   "source": [
    "DataFrame([(a=1, b=0), (a=2, b=0)])"
   ]
  },
  {
   "cell_type": "code",
   "execution_count": null,
   "metadata": {},
   "outputs": [],
   "source": []
  },
  {
   "cell_type": "code",
   "execution_count": null,
   "metadata": {},
   "outputs": [],
   "source": [
    "mat = [1 2 4 5; 15 58 69 41; 23 21 26 69]"
   ]
  },
  {
   "cell_type": "code",
   "execution_count": null,
   "metadata": {},
   "outputs": [],
   "source": [
    "names = [\"a\", \"b\", \"c\", \"d\"]"
   ]
  },
  {
   "cell_type": "code",
   "execution_count": null,
   "metadata": {},
   "outputs": [],
   "source": [
    "DataFrame(mat, names)"
   ]
  },
  {
   "attachments": {},
   "cell_type": "markdown",
   "metadata": {},
   "source": [
    "## Reading Data From CSV Files\n",
    "\n",
    "Here we focus on one of the most common scenarios, where one has data stored on disk in the CSV format. \n",
    "\n",
    "The following lists two Julia lackages to read CSV files:\n",
    "\n",
    "1. `CSV.jl` \n",
    "\n",
    "\n",
    "2. `CSVFiles.jl` (used with `FileIO.jl`)"
   ]
  },
  {
   "cell_type": "code",
   "execution_count": null,
   "metadata": {},
   "outputs": [],
   "source": []
  },
  {
   "attachments": {},
   "cell_type": "markdown",
   "metadata": {},
   "source": [
    "## Using `CSV.jl`"
   ]
  },
  {
   "cell_type": "code",
   "execution_count": 1,
   "metadata": {},
   "outputs": [],
   "source": [
    "using CSV"
   ]
  },
  {
   "cell_type": "code",
   "execution_count": null,
   "metadata": {},
   "outputs": [],
   "source": []
  },
  {
   "cell_type": "code",
   "execution_count": 2,
   "metadata": {},
   "outputs": [
    {
     "data": {
      "text/plain": [
       "\"c:\\\\Users\\\\ZackO\\\\Desktop\\\\ParallelPrograming\\\\ParallelProgrammingClass\\\\ClassNoteBooks\""
      ]
     },
     "metadata": {},
     "output_type": "display_data"
    }
   ],
   "source": [
    "pwd()"
   ]
  },
  {
   "cell_type": "code",
   "execution_count": 3,
   "metadata": {},
   "outputs": [
    {
     "data": {
      "text/plain": [
       "17-element Vector{String}:\n",
       " \"Array File IO.ipynb\"\n",
       " \"Arrays .ipynb\"\n",
       " \"Chapter 2 Calculator.ipynb\"\n",
       " \"Chapter 3 Control Flow.ipynb\"\n",
       " \"Chapter 4 Spreadsheet.ipynb\"\n",
       " \"Chapter 5 Working with text.ipynb\"\n",
       " \"Chapter 7 Understanding Types.ipynb\"\n",
       " \"Chapter 7_2 Colors and Images.ipynb\"\n",
       " \"Chapter14 Vector and Matrix.ipynb\"\n",
       " \"DataFrames.ipynb\"\n",
       " \"Functions.ipynb\"\n",
       " \"Mean Face.ipynb\"\n",
       " \"Primes.ipynb\"\n",
       " \"a2.bin\"\n",
       " \"a2.fld\"\n",
       " \"data1.fld\"\n",
       " \"test.fld\""
      ]
     },
     "metadata": {},
     "output_type": "display_data"
    }
   ],
   "source": [
    "readdir()"
   ]
  },
  {
   "cell_type": "code",
   "execution_count": 4,
   "metadata": {},
   "outputs": [],
   "source": [
    "cd(\"../CSV\")"
   ]
  },
  {
   "cell_type": "code",
   "execution_count": 5,
   "metadata": {},
   "outputs": [
    {
     "data": {
      "text/plain": [
       "7-element Vector{String}:\n",
       " \"graph.csv\"\n",
       " \"graph_2.csv\"\n",
       " \"list_attr_celeba_2.csv\"\n",
       " \"person.csv\"\n",
       " \"sp500_companies.csv\"\n",
       " \"sp500_index.csv\"\n",
       " \"sp500_list_07_29_2022.csv\""
      ]
     },
     "metadata": {},
     "output_type": "display_data"
    }
   ],
   "source": [
    "readdir()"
   ]
  },
  {
   "attachments": {
    "image-3.png": {
     "image/png": "[encoded data removed]"
    }
   },
   "cell_type": "markdown",
   "metadata": {},
   "source": [
    "### Read `person.csv` using `CSV.jl`\n",
    "\n",
    "![image-3.png](attachment:image-3.png)"
   ]
  },
  {
   "cell_type": "code",
   "execution_count": 10,
   "metadata": {
    "scrolled": true
   },
   "outputs": [
    {
     "data": {
      "text/html": [
       "<div><div style = \"float: left;\"><span>8×5 DataFrame</span></div><div style = \"clear: both;\"></div></div><div class = \"data-frame\" style = \"overflow-x: scroll;\"><table class = \"data-frame\" style = \"margin-bottom: 6px;\"><thead><tr class = \"header\"><th class = \"rowNumber\" style = \"font-weight: bold; text-align: right;\">Row</th><th style = \"text-align: left;\">name</th><th style = \"text-align: left;\">gender</th><th style = \"text-align: left;\">coding_skill</th><th style = \"text-align: left;\">hobby</th><th style = \"text-align: left;\">income</th></tr><tr class = \"subheader headerLastRow\"><th class = \"rowNumber\" style = \"font-weight: bold; text-align: right;\"></th><th title = \"String1\" style = \"text-align: left;\">String1</th><th title = \"String1\" style = \"text-align: left;\">String1</th><th title = \"String31\" style = \"text-align: left;\">String31</th><th title = \"Union{Missing, String31}\" style = \"text-align: left;\">String31?</th><th title = \"String7\" style = \"text-align: left;\">String7</th></tr></thead><tbody><tr><td class = \"rowNumber\" style = \"font-weight: bold; text-align: right;\">1</td><td style = \"text-align: left;\">A</td><td style = \"text-align: left;\">f</td><td style = \"text-align: left;\">c</td><td style = \"text-align: left;\">chess reading</td><td style = \"text-align: left;\">50000</td></tr><tr><td class = \"rowNumber\" style = \"font-weight: bold; text-align: right;\">2</td><td style = \"text-align: left;\">B</td><td style = \"text-align: left;\">m</td><td style = \"text-align: left;\">c c++ python</td><td style = \"text-align: left;\">gardening</td><td style = \"text-align: left;\">54000</td></tr><tr><td class = \"rowNumber\" style = \"font-weight: bold; text-align: right;\">3</td><td style = \"text-align: left;\">C</td><td style = \"text-align: left;\">m</td><td style = \"text-align: left;\">c go</td><td style = \"text-align: left;\">stamp_collection go</td><td style = \"text-align: left;\"> </td></tr><tr><td class = \"rowNumber\" style = \"font-weight: bold; text-align: right;\">4</td><td style = \"text-align: left;\">D</td><td style = \"text-align: left;\">m</td><td style = \"text-align: left;\">c c++ python julia rust</td><td style = \"font-style: italic; text-align: left;\">missing</td><td style = \"text-align: left;\">80000</td></tr><tr><td class = \"rowNumber\" style = \"font-weight: bold; text-align: right;\">5</td><td style = \"text-align: left;\">E</td><td style = \"text-align: left;\">f</td><td style = \"text-align: left;\">java C#</td><td style = \"text-align: left;\">reading ski</td><td style = \"text-align: left;\">70000</td></tr><tr><td class = \"rowNumber\" style = \"font-weight: bold; text-align: right;\">6</td><td style = \"text-align: left;\">F</td><td style = \"text-align: left;\">f</td><td style = \"text-align: left;\">c c# java</td><td style = \"text-align: left;\">painting</td><td style = \"text-align: left;\"> 65000</td></tr><tr><td class = \"rowNumber\" style = \"font-weight: bold; text-align: right;\">7</td><td style = \"text-align: left;\">G</td><td style = \"text-align: left;\">m</td><td style = \"text-align: left;\">c c++ java</td><td style = \"text-align: left;\">running bird_watching</td><td style = \"text-align: left;\">50000</td></tr><tr><td class = \"rowNumber\" style = \"font-weight: bold; text-align: right;\">8</td><td style = \"text-align: left;\">H</td><td style = \"text-align: left;\">m</td><td style = \"text-align: left;\">javascript SQL</td><td style = \"text-align: left;\">travel writing</td><td style = \"text-align: left;\"> 65000</td></tr></tbody></table></div>"
      ],
      "text/latex": [
       "\\begin{tabular}{r|ccccc}\n",
       "\t& name & gender & coding\\_skill & hobby & income\\\\\n",
       "\t\\hline\n",
       "\t& String1 & String1 & String31 & String31? & String7\\\\\n",
       "\t\\hline\n",
       "\t1 & A & f & c & chess reading & 50000 \\\\\n",
       "\t2 & B & m & c c++ python & gardening & 54000 \\\\\n",
       "\t3 & C & m & c go & stamp\\_collection go &   \\\\\n",
       "\t4 & D & m & c c++ python julia rust & \\emph{missing} & 80000 \\\\\n",
       "\t5 & E & f & java C\\# & reading ski & 70000 \\\\\n",
       "\t6 & F & f & c c\\# java & painting &  65000 \\\\\n",
       "\t7 & G & m & c c++ java & running bird\\_watching & 50000 \\\\\n",
       "\t8 & H & m & javascript SQL & travel writing &  65000 \\\\\n",
       "\\end{tabular}\n"
      ],
      "text/plain": [
       "\u001b[1m8×5 DataFrame\u001b[0m\n",
       "\u001b[1m Row \u001b[0m│\u001b[1m name    \u001b[0m\u001b[1m gender  \u001b[0m\u001b[1m coding_skill            \u001b[0m\u001b[1m hobby                 \u001b[0m\u001b[1m incom\u001b[0m ⋯\n",
       "     │\u001b[90m String1 \u001b[0m\u001b[90m String1 \u001b[0m\u001b[90m String31                \u001b[0m\u001b[90m String31?             \u001b[0m\u001b[90m Strin\u001b[0m ⋯\n",
       "─────┼──────────────────────────────────────────────────────────────────────────\n",
       "   1 │ A        f        c                        chess reading          50000 ⋯\n",
       "   2 │ B        m        c c++ python             gardening              54000\n",
       "   3 │ C        m        c go                     stamp_collection go\n",
       "   4 │ D        m        c c++ python julia rust \u001b[90m missing               \u001b[0m 80000\n",
       "   5 │ E        f        java C#                  reading ski            70000 ⋯\n",
       "   6 │ F        f        c c# java                painting                6500\n",
       "   7 │ G        m        c c++ java               running bird_watching  50000\n",
       "   8 │ H        m        javascript SQL           travel writing          6500\n",
       "\u001b[36m                                                                1 column omitted\u001b[0m"
      ]
     },
     "metadata": {},
     "output_type": "display_data"
    }
   ],
   "source": [
    "df = CSV.read(\"person.csv\", DataFrame)"
   ]
  },
  {
   "cell_type": "code",
   "execution_count": 13,
   "metadata": {},
   "outputs": [
    {
     "data": {
      "text/plain": [
       "5-element Vector{String}:\n",
       " \"name\"\n",
       " \"gender\"\n",
       " \"coding_skill\"\n",
       " \"hobby\"\n",
       " \"income\""
      ]
     },
     "metadata": {},
     "output_type": "display_data"
    }
   ],
   "source": [
    "v = names(df);\n",
    "v"
   ]
  },
  {
   "cell_type": "code",
   "execution_count": 14,
   "metadata": {},
   "outputs": [
    {
     "name": "stdout",
     "output_type": "stream",
     "text": [
      "name\n",
      "gender\n",
      "coding_skill\n",
      "hobby\n",
      "income\n"
     ]
    }
   ],
   "source": [
    "for i in 1:length(v)\n",
    "    println(v[i])\n",
    "end"
   ]
  },
  {
   "cell_type": "code",
   "execution_count": 15,
   "metadata": {},
   "outputs": [
    {
     "data": {
      "text/plain": [
       "8-element Vector{String7}:\n",
       " \"50000\"\n",
       " \"54000\"\n",
       " \" \"\n",
       " \"80000\"\n",
       " \"70000\"\n",
       " \" 65000\"\n",
       " \"50000\"\n",
       " \" 65000\""
      ]
     },
     "metadata": {},
     "output_type": "display_data"
    }
   ],
   "source": [
    "df[:,:income]"
   ]
  },
  {
   "cell_type": "code",
   "execution_count": 16,
   "metadata": {},
   "outputs": [],
   "source": [
    "income = df[:,:income];"
   ]
  },
  {
   "cell_type": "code",
   "execution_count": 17,
   "metadata": {},
   "outputs": [
    {
     "data": {
      "text/plain": [
       "\"0\""
      ]
     },
     "metadata": {},
     "output_type": "display_data"
    }
   ],
   "source": [
    "income[3] = \"0\""
   ]
  },
  {
   "cell_type": "code",
   "execution_count": 18,
   "metadata": {},
   "outputs": [
    {
     "data": {
      "text/plain": [
       "8-element Vector{Float32}:\n",
       " 50000.0\n",
       " 54000.0\n",
       "     0.0\n",
       " 80000.0\n",
       " 70000.0\n",
       " 65000.0\n",
       " 50000.0\n",
       " 65000.0"
      ]
     },
     "metadata": {},
     "output_type": "display_data"
    }
   ],
   "source": [
    "income = [parse(Float32, i) for i in income]"
   ]
  },
  {
   "cell_type": "code",
   "execution_count": 19,
   "metadata": {},
   "outputs": [
    {
     "data": {
      "text/plain": [
       "8-element Vector{Union{Missing, String31}}:\n",
       " \"chess reading\"\n",
       " \"gardening\"\n",
       " \"stamp_collection go\"\n",
       " missing\n",
       " \"reading ski\"\n",
       " \"painting\"\n",
       " \"running bird_watching\"\n",
       " \"travel writing\""
      ]
     },
     "metadata": {},
     "output_type": "display_data"
    }
   ],
   "source": [
    "h = df[:, :hobby]"
   ]
  },
  {
   "cell_type": "code",
   "execution_count": 20,
   "metadata": {},
   "outputs": [
    {
     "data": {
      "text/plain": [
       "\"\""
      ]
     },
     "metadata": {},
     "output_type": "display_data"
    }
   ],
   "source": [
    "h[4] = \"\""
   ]
  },
  {
   "cell_type": "code",
   "execution_count": 21,
   "metadata": {},
   "outputs": [
    {
     "data": {
      "text/plain": [
       "8-element Vector{Union{Missing, String31}}:\n",
       " \"chess reading\"\n",
       " \"gardening\"\n",
       " \"stamp_collection go\"\n",
       " \"\"\n",
       " \"reading ski\"\n",
       " \"painting\"\n",
       " \"running bird_watching\"\n",
       " \"travel writing\""
      ]
     },
     "metadata": {},
     "output_type": "display_data"
    }
   ],
   "source": [
    "h"
   ]
  },
  {
   "cell_type": "code",
   "execution_count": null,
   "metadata": {},
   "outputs": [],
   "source": []
  },
  {
   "attachments": {},
   "cell_type": "markdown",
   "metadata": {},
   "source": [
    "# Using `CSVFiles.jl`\n",
    "\n",
    "https://juliapackages.com/p/csvfiles\n",
    "\n",
    "**Overview**\n",
    "\n",
    "This package provides load and save support for CSV Files under the FileIO.jl package.\n",
    "\n",
    "Usage\n",
    "Load a CSV file\n",
    "To read a CSV file into a DataFrame, use the following julia code:\n",
    "\n",
    "`using FileIO, DataFrames`\n",
    "\n",
    "`df = DataFrame(load(\"data.csv\"))`\n",
    "\n",
    "To read a gzipped CSV file into a DataFrame:\n",
    "\n",
    "`df = DataFrame(load(File(format\"CSV\", \"data.csv.gz\")))`\n",
    "\n",
    "The call to load returns a struct that is an `IterableTable.jl`, so it can be passed to any function that can handle iterable tables, i.e. all the sinks in `IterableTable.jl`. Here are some examples of materializing a CSV file into data structures that are not a `DataFrame`:\n",
    "\n",
    "using CSVFiles, DataTables, IndexedTables, TimeSeries, Temporal, Gadfly\n",
    "\n",
    "`#Load into a DataTable`\n",
    "\n",
    "`dt = DataTable(load(\"data.csv\"))`\n",
    "\n",
    "`#Load into an IndexedTable`\n",
    "\n",
    "`it = IndexedTable(load(\"data.csv\"))`\n",
    "\n",
    "`#Load into a TimeArray`\n",
    "\n",
    "`ta = TimeArray(load(\"data.csv\"))`\n",
    "\n",
    "`#Load into a TS`\n",
    "\n",
    "`ts = TS(load(\"data.csv\"))`\n",
    "\n"
   ]
  },
  {
   "cell_type": "code",
   "execution_count": 22,
   "metadata": {},
   "outputs": [],
   "source": [
    "using FileIO"
   ]
  },
  {
   "cell_type": "code",
   "execution_count": null,
   "metadata": {},
   "outputs": [],
   "source": [
    "using CSVFiles"
   ]
  },
  {
   "attachments": {},
   "cell_type": "markdown",
   "metadata": {},
   "source": [
    "### Read `person.csv` using `FileIO.jl` (with `CSVFile` extension)"
   ]
  },
  {
   "cell_type": "code",
   "execution_count": 31,
   "metadata": {},
   "outputs": [],
   "source": [
    "using Pkg;\n",
    "Pkg.instantiate()\n",
    "pwd()\n",
    "\n",
    "it = load(\"./person.csv\");"
   ]
  },
  {
   "cell_type": "code",
   "execution_count": 32,
   "metadata": {},
   "outputs": [
    {
     "data": {
      "text/html": [
       "<div><div style = \"float: left;\"><span>8×5 DataFrame</span></div><div style = \"clear: both;\"></div></div><div class = \"data-frame\" style = \"overflow-x: scroll;\"><table class = \"data-frame\" style = \"margin-bottom: 6px;\"><thead><tr class = \"header\"><th class = \"rowNumber\" style = \"font-weight: bold; text-align: right;\">Row</th><th style = \"text-align: left;\">name</th><th style = \"text-align: left;\">gender</th><th style = \"text-align: left;\">coding_skill</th><th style = \"text-align: left;\">hobby</th><th style = \"text-align: left;\">income</th></tr><tr class = \"subheader headerLastRow\"><th class = \"rowNumber\" style = \"font-weight: bold; text-align: right;\"></th><th title = \"String\" style = \"text-align: left;\">String</th><th title = \"String\" style = \"text-align: left;\">String</th><th title = \"String\" style = \"text-align: left;\">String</th><th title = \"String\" style = \"text-align: left;\">String</th><th title = \"Union{Missing, Int64}\" style = \"text-align: left;\">Int64?</th></tr></thead><tbody><tr><td class = \"rowNumber\" style = \"font-weight: bold; text-align: right;\">1</td><td style = \"text-align: left;\">A</td><td style = \"text-align: left;\">f</td><td style = \"text-align: left;\">c</td><td style = \"text-align: left;\">chess reading</td><td style = \"text-align: right;\">50000</td></tr><tr><td class = \"rowNumber\" style = \"font-weight: bold; text-align: right;\">2</td><td style = \"text-align: left;\">B</td><td style = \"text-align: left;\">m</td><td style = \"text-align: left;\">c c++ python</td><td style = \"text-align: left;\">gardening</td><td style = \"text-align: right;\">54000</td></tr><tr><td class = \"rowNumber\" style = \"font-weight: bold; text-align: right;\">3</td><td style = \"text-align: left;\">C</td><td style = \"text-align: left;\">m</td><td style = \"text-align: left;\">c go</td><td style = \"text-align: left;\">stamp_collection go</td><td style = \"font-style: italic; text-align: right;\">missing</td></tr><tr><td class = \"rowNumber\" style = \"font-weight: bold; text-align: right;\">4</td><td style = \"text-align: left;\">D</td><td style = \"text-align: left;\">m</td><td style = \"text-align: left;\">c c++ python julia rust</td><td style = \"text-align: left;\"></td><td style = \"text-align: right;\">80000</td></tr><tr><td class = \"rowNumber\" style = \"font-weight: bold; text-align: right;\">5</td><td style = \"text-align: left;\">E</td><td style = \"text-align: left;\">f</td><td style = \"text-align: left;\">java C#</td><td style = \"text-align: left;\">reading ski</td><td style = \"text-align: right;\">70000</td></tr><tr><td class = \"rowNumber\" style = \"font-weight: bold; text-align: right;\">6</td><td style = \"text-align: left;\">F</td><td style = \"text-align: left;\">f</td><td style = \"text-align: left;\">c c# java</td><td style = \"text-align: left;\">painting</td><td style = \"text-align: right;\">65000</td></tr><tr><td class = \"rowNumber\" style = \"font-weight: bold; text-align: right;\">7</td><td style = \"text-align: left;\">G</td><td style = \"text-align: left;\">m</td><td style = \"text-align: left;\">c c++ java</td><td style = \"text-align: left;\">running bird_watching</td><td style = \"text-align: right;\">50000</td></tr><tr><td class = \"rowNumber\" style = \"font-weight: bold; text-align: right;\">8</td><td style = \"text-align: left;\">H</td><td style = \"text-align: left;\">m</td><td style = \"text-align: left;\">javascript SQL</td><td style = \"text-align: left;\">travel writing</td><td style = \"text-align: right;\">65000</td></tr></tbody></table></div>"
      ],
      "text/latex": [
       "\\begin{tabular}{r|ccccc}\n",
       "\t& name & gender & coding\\_skill & hobby & income\\\\\n",
       "\t\\hline\n",
       "\t& String & String & String & String & Int64?\\\\\n",
       "\t\\hline\n",
       "\t1 & A & f & c & chess reading & 50000 \\\\\n",
       "\t2 & B & m & c c++ python & gardening & 54000 \\\\\n",
       "\t3 & C & m & c go & stamp\\_collection go & \\emph{missing} \\\\\n",
       "\t4 & D & m & c c++ python julia rust &  & 80000 \\\\\n",
       "\t5 & E & f & java C\\# & reading ski & 70000 \\\\\n",
       "\t6 & F & f & c c\\# java & painting & 65000 \\\\\n",
       "\t7 & G & m & c c++ java & running bird\\_watching & 50000 \\\\\n",
       "\t8 & H & m & javascript SQL & travel writing & 65000 \\\\\n",
       "\\end{tabular}\n"
      ],
      "text/plain": [
       "\u001b[1m8×5 DataFrame\u001b[0m\n",
       "\u001b[1m Row \u001b[0m│\u001b[1m name   \u001b[0m\u001b[1m gender \u001b[0m\u001b[1m coding_skill            \u001b[0m\u001b[1m hobby                 \u001b[0m\u001b[1m income \u001b[0m ⋯\n",
       "     │\u001b[90m String \u001b[0m\u001b[90m String \u001b[0m\u001b[90m String                  \u001b[0m\u001b[90m String                \u001b[0m\u001b[90m Int64? \u001b[0m ⋯\n",
       "─────┼──────────────────────────────────────────────────────────────────────────\n",
       "   1 │ A       f       c                        chess reading            50000 ⋯\n",
       "   2 │ B       m       c c++ python             gardening                54000\n",
       "   3 │ C       m       c go                     stamp_collection go   \u001b[90m missing\u001b[0m\n",
       "   4 │ D       m       c c++ python julia rust                           80000\n",
       "   5 │ E       f       java C#                  reading ski              70000 ⋯\n",
       "   6 │ F       f       c c# java                painting                 65000\n",
       "   7 │ G       m       c c++ java               running bird_watching    50000\n",
       "   8 │ H       m       javascript SQL           travel writing           65000"
      ]
     },
     "metadata": {},
     "output_type": "display_data"
    }
   ],
   "source": [
    "df2 = DataFrame(it)"
   ]
  },
  {
   "cell_type": "code",
   "execution_count": 33,
   "metadata": {},
   "outputs": [
    {
     "data": {
      "text/plain": [
       "8-element Vector{String}:\n",
       " \"chess reading\"\n",
       " \"gardening\"\n",
       " \"stamp_collection go\"\n",
       " \"\"\n",
       " \"reading ski\"\n",
       " \"painting\"\n",
       " \"running bird_watching\"\n",
       " \"travel writing\""
      ]
     },
     "metadata": {},
     "output_type": "display_data"
    }
   ],
   "source": [
    "df2[:, :hobby]"
   ]
  },
  {
   "cell_type": "code",
   "execution_count": null,
   "metadata": {},
   "outputs": [],
   "source": []
  },
  {
   "attachments": {},
   "cell_type": "markdown",
   "metadata": {},
   "source": [
    "### Read `list_attr_celeba_2.csv` using `FileIO`\n",
    "\n",
    "The CSV file contains 41 attributes of celebA faces."
   ]
  },
  {
   "cell_type": "code",
   "execution_count": 34,
   "metadata": {},
   "outputs": [],
   "source": [
    "df3 = DataFrame(load(\"list_attr_celeba_2.csv\"));"
   ]
  },
  {
   "cell_type": "code",
   "execution_count": 35,
   "metadata": {},
   "outputs": [
    {
     "name": "stdout",
     "output_type": "stream",
     "text": [
      "id\n",
      "5_o_Clock_Shadow\n",
      "Arched_Eyebrows\n",
      "Attractive\n",
      "Bags_Under_Eyes\n",
      "Bald\n",
      "Bangs\n",
      "Big_Lips\n",
      "Big_Nose\n",
      "Black_Hair\n",
      "Blond_Hair\n",
      "Blurry\n",
      "Brown_Hair\n",
      "Bushy_Eyebrows\n",
      "Chubby\n",
      "Double_Chin\n",
      "Eyeglasses\n",
      "Goatee\n",
      "Gray_Hair\n",
      "Heavy_Makeup\n",
      "High_Cheekbones\n",
      "Male\n",
      "Mouth_Slightly_Open\n",
      "Mustache\n",
      "Narrow_Eyes\n",
      "No_Beard\n",
      "Oval_Face\n",
      "Pale_Skin\n",
      "Pointy_Nose\n",
      "Receding_Hairline\n",
      "Rosy_Cheeks\n",
      "Sideburns\n",
      "Smiling\n",
      "Straight_Hair\n",
      "Wavy_Hair\n",
      "Wearing_Earrings\n",
      "Wearing_Hat\n",
      "Wearing_Lipstick\n",
      "Wearing_Necklace\n",
      "Wearing_Necktie\n",
      "Young \n"
     ]
    }
   ],
   "source": [
    "# print all the attributes of the celebA faces\n",
    "for n in names(df3)\n",
    "    println(n)\n",
    "end"
   ]
  },
  {
   "cell_type": "code",
   "execution_count": 36,
   "metadata": {},
   "outputs": [
    {
     "data": {
      "text/plain": [
       "41"
      ]
     },
     "metadata": {},
     "output_type": "display_data"
    }
   ],
   "source": [
    "length(names(df3))"
   ]
  },
  {
   "cell_type": "code",
   "execution_count": 37,
   "metadata": {},
   "outputs": [],
   "source": [
    "gender = df3[:, :Male];"
   ]
  },
  {
   "cell_type": "code",
   "execution_count": 38,
   "metadata": {},
   "outputs": [],
   "source": [
    "gender = Vector{Int}(gender);"
   ]
  },
  {
   "cell_type": "code",
   "execution_count": 39,
   "metadata": {},
   "outputs": [],
   "source": [
    "male = findall(==(1), gender);"
   ]
  },
  {
   "cell_type": "code",
   "execution_count": 40,
   "metadata": {},
   "outputs": [],
   "source": [
    "female = findall(==(0), gender);"
   ]
  },
  {
   "cell_type": "code",
   "execution_count": 41,
   "metadata": {},
   "outputs": [
    {
     "data": {
      "text/plain": [
       "(84434, 118165)"
      ]
     },
     "metadata": {},
     "output_type": "display_data"
    }
   ],
   "source": [
    "length(male), length(female)"
   ]
  },
  {
   "cell_type": "code",
   "execution_count": null,
   "metadata": {},
   "outputs": [],
   "source": []
  },
  {
   "cell_type": "code",
   "execution_count": null,
   "metadata": {},
   "outputs": [],
   "source": []
  },
  {
   "attachments": {
    "image.png": {
     "image/png": "[encoded data removed]"
    }
   },
   "cell_type": "markdown",
   "metadata": {},
   "source": [
    "   ### Read `sp500_list_07_29_2022.csv` \n",
    "   \n",
    "   The CSV file contains info of all compnies included in the sp500 index.\n",
    "   \n",
    "   ![image.png](attachment:image.png)"
   ]
  },
  {
   "cell_type": "code",
   "execution_count": 42,
   "metadata": {},
   "outputs": [
    {
     "data": {
      "text/html": [
       "<div><div style = \"float: left;\"><span>503×9 DataFrame</span></div><div style = \"float: right;\"><span style = \"font-style: italic;\">478 rows omitted</span></div><div style = \"clear: both;\"></div></div><div class = \"data-frame\" style = \"overflow-x: scroll;\"><table class = \"data-frame\" style = \"margin-bottom: 6px;\"><thead><tr class = \"header\"><th class = \"rowNumber\" style = \"font-weight: bold; text-align: right;\">Row</th><th style = \"text-align: left;\">Symbol</th><th style = \"text-align: left;\">Security</th><th style = \"text-align: left;\">SEC filings</th><th style = \"text-align: left;\">GICS Sector</th><th style = \"text-align: left;\">GICS Sub-Industry</th><th style = \"text-align: left;\">Headquarters Location</th><th style = \"text-align: left;\">Date first added</th><th style = \"text-align: left;\">CIK</th><th style = \"text-align: left;\">Founded</th></tr><tr class = \"subheader headerLastRow\"><th class = \"rowNumber\" style = \"font-weight: bold; text-align: right;\"></th><th title = \"String\" style = \"text-align: left;\">String</th><th title = \"String\" style = \"text-align: left;\">String</th><th title = \"String\" style = \"text-align: left;\">String</th><th title = \"String\" style = \"text-align: left;\">String</th><th title = \"String\" style = \"text-align: left;\">String</th><th title = \"String\" style = \"text-align: left;\">String</th><th title = \"String\" style = \"text-align: left;\">String</th><th title = \"Int64\" style = \"text-align: left;\">Int64</th><th title = \"String\" style = \"text-align: left;\">String</th></tr></thead><tbody><tr><td class = \"rowNumber\" style = \"font-weight: bold; text-align: right;\">1</td><td style = \"text-align: left;\">MMM</td><td style = \"text-align: left;\">3M</td><td style = \"text-align: left;\">reports</td><td style = \"text-align: left;\">Industrials</td><td style = \"text-align: left;\">Industrial Conglomerates</td><td style = \"text-align: left;\">Saint Paul, Minnesota</td><td style = \"text-align: left;\">1976-08-09</td><td style = \"text-align: right;\">66740</td><td style = \"text-align: left;\">1902</td></tr><tr><td class = \"rowNumber\" style = \"font-weight: bold; text-align: right;\">2</td><td style = \"text-align: left;\">AOS</td><td style = \"text-align: left;\">A. O. Smith</td><td style = \"text-align: left;\">reports</td><td style = \"text-align: left;\">Industrials</td><td style = \"text-align: left;\">Building Products</td><td style = \"text-align: left;\">Milwaukee, Wisconsin</td><td style = \"text-align: left;\">2017-07-26</td><td style = \"text-align: right;\">91142</td><td style = \"text-align: left;\">1916</td></tr><tr><td class = \"rowNumber\" style = \"font-weight: bold; text-align: right;\">3</td><td style = \"text-align: left;\">ABT</td><td style = \"text-align: left;\">Abbott</td><td style = \"text-align: left;\">reports</td><td style = \"text-align: left;\">Health Care</td><td style = \"text-align: left;\">Health Care Equipment</td><td style = \"text-align: left;\">North Chicago, Illinois</td><td style = \"text-align: left;\">1964-03-31</td><td style = \"text-align: right;\">1800</td><td style = \"text-align: left;\">1888</td></tr><tr><td class = \"rowNumber\" style = \"font-weight: bold; text-align: right;\">4</td><td style = \"text-align: left;\">ABBV</td><td style = \"text-align: left;\">AbbVie</td><td style = \"text-align: left;\">reports</td><td style = \"text-align: left;\">Health Care</td><td style = \"text-align: left;\">Pharmaceuticals</td><td style = \"text-align: left;\">North Chicago, Illinois</td><td style = \"text-align: left;\">2012-12-31</td><td style = \"text-align: right;\">1551152</td><td style = \"text-align: left;\">2013 (1888)</td></tr><tr><td class = \"rowNumber\" style = \"font-weight: bold; text-align: right;\">5</td><td style = \"text-align: left;\">ABMD</td><td style = \"text-align: left;\">Abiomed</td><td style = \"text-align: left;\">reports</td><td style = \"text-align: left;\">Health Care</td><td style = \"text-align: left;\">Health Care Equipment</td><td style = \"text-align: left;\">Danvers, Massachusetts</td><td style = \"text-align: left;\">2018-05-31</td><td style = \"text-align: right;\">815094</td><td style = \"text-align: left;\">1981</td></tr><tr><td class = \"rowNumber\" style = \"font-weight: bold; text-align: right;\">6</td><td style = \"text-align: left;\">ACN</td><td style = \"text-align: left;\">Accenture</td><td style = \"text-align: left;\">reports</td><td style = \"text-align: left;\">Information Technology</td><td style = \"text-align: left;\">IT Consulting &amp; Other Services</td><td style = \"text-align: left;\">Dublin, Ireland</td><td style = \"text-align: left;\">2011-07-06</td><td style = \"text-align: right;\">1467373</td><td style = \"text-align: left;\">1989</td></tr><tr><td class = \"rowNumber\" style = \"font-weight: bold; text-align: right;\">7</td><td style = \"text-align: left;\">ATVI</td><td style = \"text-align: left;\">Activision Blizzard</td><td style = \"text-align: left;\">reports</td><td style = \"text-align: left;\">Communication Services</td><td style = \"text-align: left;\">Interactive Home Entertainment</td><td style = \"text-align: left;\">Santa Monica, California</td><td style = \"text-align: left;\">2015-08-31</td><td style = \"text-align: right;\">718877</td><td style = \"text-align: left;\">2008</td></tr><tr><td class = \"rowNumber\" style = \"font-weight: bold; text-align: right;\">8</td><td style = \"text-align: left;\">ADM</td><td style = \"text-align: left;\">ADM</td><td style = \"text-align: left;\">reports</td><td style = \"text-align: left;\">Consumer Staples</td><td style = \"text-align: left;\">Agricultural Products</td><td style = \"text-align: left;\">Chicago, Illinois</td><td style = \"text-align: left;\">1981-07-29</td><td style = \"text-align: right;\">7084</td><td style = \"text-align: left;\">1902</td></tr><tr><td class = \"rowNumber\" style = \"font-weight: bold; text-align: right;\">9</td><td style = \"text-align: left;\">ADBE</td><td style = \"text-align: left;\">Adobe Inc.</td><td style = \"text-align: left;\">reports</td><td style = \"text-align: left;\">Information Technology</td><td style = \"text-align: left;\">Application Software</td><td style = \"text-align: left;\">San Jose, California</td><td style = \"text-align: left;\">1997-05-05</td><td style = \"text-align: right;\">796343</td><td style = \"text-align: left;\">1982</td></tr><tr><td class = \"rowNumber\" style = \"font-weight: bold; text-align: right;\">10</td><td style = \"text-align: left;\">ADP</td><td style = \"text-align: left;\">ADP</td><td style = \"text-align: left;\">reports</td><td style = \"text-align: left;\">Information Technology</td><td style = \"text-align: left;\">Data Processing &amp; Outsourced Services</td><td style = \"text-align: left;\">Roseland, New Jersey</td><td style = \"text-align: left;\">1981-03-31</td><td style = \"text-align: right;\">8670</td><td style = \"text-align: left;\">1949</td></tr><tr><td class = \"rowNumber\" style = \"font-weight: bold; text-align: right;\">11</td><td style = \"text-align: left;\">AAP</td><td style = \"text-align: left;\">Advance Auto Parts</td><td style = \"text-align: left;\">reports</td><td style = \"text-align: left;\">Consumer Discretionary</td><td style = \"text-align: left;\">Automotive Retail</td><td style = \"text-align: left;\">Raleigh, North Carolina</td><td style = \"text-align: left;\">2015-07-09</td><td style = \"text-align: right;\">1158449</td><td style = \"text-align: left;\">1932</td></tr><tr><td class = \"rowNumber\" style = \"font-weight: bold; text-align: right;\">12</td><td style = \"text-align: left;\">AES</td><td style = \"text-align: left;\">AES Corporation</td><td style = \"text-align: left;\">reports</td><td style = \"text-align: left;\">Utilities</td><td style = \"text-align: left;\">Independent Power Producers &amp; Energy Traders</td><td style = \"text-align: left;\">Arlington, Virginia</td><td style = \"text-align: left;\">1998-10-02</td><td style = \"text-align: right;\">874761</td><td style = \"text-align: left;\">1981</td></tr><tr><td class = \"rowNumber\" style = \"font-weight: bold; text-align: right;\">13</td><td style = \"text-align: left;\">AFL</td><td style = \"text-align: left;\">Aflac</td><td style = \"text-align: left;\">reports</td><td style = \"text-align: left;\">Financials</td><td style = \"text-align: left;\">Life &amp; Health Insurance</td><td style = \"text-align: left;\">Columbus, Georgia</td><td style = \"text-align: left;\">1999-05-28</td><td style = \"text-align: right;\">4977</td><td style = \"text-align: left;\">1955</td></tr><tr><td style = \"text-align: right;\">&vellip;</td><td style = \"text-align: right;\">&vellip;</td><td style = \"text-align: right;\">&vellip;</td><td style = \"text-align: right;\">&vellip;</td><td style = \"text-align: right;\">&vellip;</td><td style = \"text-align: right;\">&vellip;</td><td style = \"text-align: right;\">&vellip;</td><td style = \"text-align: right;\">&vellip;</td><td style = \"text-align: right;\">&vellip;</td><td style = \"text-align: right;\">&vellip;</td></tr><tr><td class = \"rowNumber\" style = \"font-weight: bold; text-align: right;\">492</td><td style = \"text-align: left;\">WHR</td><td style = \"text-align: left;\">Whirlpool Corporation</td><td style = \"text-align: left;\">reports</td><td style = \"text-align: left;\">Consumer Discretionary</td><td style = \"text-align: left;\">Household Appliances</td><td style = \"text-align: left;\">Benton Harbor, Michigan</td><td style = \"text-align: left;\"></td><td style = \"text-align: right;\">106640</td><td style = \"text-align: left;\">1911</td></tr><tr><td class = \"rowNumber\" style = \"font-weight: bold; text-align: right;\">493</td><td style = \"text-align: left;\">WMB</td><td style = \"text-align: left;\">Williams Companies</td><td style = \"text-align: left;\">reports</td><td style = \"text-align: left;\">Energy</td><td style = \"text-align: left;\">Oil &amp; Gas Storage &amp; Transportation</td><td style = \"text-align: left;\">Tulsa, Oklahoma</td><td style = \"text-align: left;\">1975-03-31</td><td style = \"text-align: right;\">107263</td><td style = \"text-align: left;\">1908</td></tr><tr><td class = \"rowNumber\" style = \"font-weight: bold; text-align: right;\">494</td><td style = \"text-align: left;\">WTW</td><td style = \"text-align: left;\">Willis Towers Watson</td><td style = \"text-align: left;\">reports</td><td style = \"text-align: left;\">Financials</td><td style = \"text-align: left;\">Insurance Brokers</td><td style = \"text-align: left;\">London, United Kingdom</td><td style = \"text-align: left;\">2016-01-05</td><td style = \"text-align: right;\">1140536</td><td style = \"text-align: left;\">2016</td></tr><tr><td class = \"rowNumber\" style = \"font-weight: bold; text-align: right;\">495</td><td style = \"text-align: left;\">GWW</td><td style = \"text-align: left;\">W. W. Grainger</td><td style = \"text-align: left;\">reports</td><td style = \"text-align: left;\">Industrials</td><td style = \"text-align: left;\">Industrial Machinery</td><td style = \"text-align: left;\">Lake Forest, Illinois</td><td style = \"text-align: left;\">1981-06-30</td><td style = \"text-align: right;\">277135</td><td style = \"text-align: left;\">1927</td></tr><tr><td class = \"rowNumber\" style = \"font-weight: bold; text-align: right;\">496</td><td style = \"text-align: left;\">WYNN</td><td style = \"text-align: left;\">Wynn Resorts</td><td style = \"text-align: left;\">reports</td><td style = \"text-align: left;\">Consumer Discretionary</td><td style = \"text-align: left;\">Casinos &amp; Gaming</td><td style = \"text-align: left;\">Paradise, Nevada</td><td style = \"text-align: left;\">2008-11-14</td><td style = \"text-align: right;\">1174922</td><td style = \"text-align: left;\">2002</td></tr><tr><td class = \"rowNumber\" style = \"font-weight: bold; text-align: right;\">497</td><td style = \"text-align: left;\">XEL</td><td style = \"text-align: left;\">Xcel Energy</td><td style = \"text-align: left;\">reports</td><td style = \"text-align: left;\">Utilities</td><td style = \"text-align: left;\">Multi-Utilities</td><td style = \"text-align: left;\">Minneapolis, Minnesota</td><td style = \"text-align: left;\">1957-03-04</td><td style = \"text-align: right;\">72903</td><td style = \"text-align: left;\">1909</td></tr><tr><td class = \"rowNumber\" style = \"font-weight: bold; text-align: right;\">498</td><td style = \"text-align: left;\">XYL</td><td style = \"text-align: left;\">Xylem Inc.</td><td style = \"text-align: left;\">reports</td><td style = \"text-align: left;\">Industrials</td><td style = \"text-align: left;\">Industrial Machinery</td><td style = \"text-align: left;\">White Plains, New York</td><td style = \"text-align: left;\">2011-11-01</td><td style = \"text-align: right;\">1524472</td><td style = \"text-align: left;\">2011</td></tr><tr><td class = \"rowNumber\" style = \"font-weight: bold; text-align: right;\">499</td><td style = \"text-align: left;\">YUM</td><td style = \"text-align: left;\">Yum! Brands</td><td style = \"text-align: left;\">reports</td><td style = \"text-align: left;\">Consumer Discretionary</td><td style = \"text-align: left;\">Restaurants</td><td style = \"text-align: left;\">Louisville, Kentucky</td><td style = \"text-align: left;\">1997-10-06</td><td style = \"text-align: right;\">1041061</td><td style = \"text-align: left;\">1997</td></tr><tr><td class = \"rowNumber\" style = \"font-weight: bold; text-align: right;\">500</td><td style = \"text-align: left;\">ZBRA</td><td style = \"text-align: left;\">Zebra Technologies</td><td style = \"text-align: left;\">reports</td><td style = \"text-align: left;\">Information Technology</td><td style = \"text-align: left;\">Electronic Equipment &amp; Instruments</td><td style = \"text-align: left;\">Lincolnshire, Illinois</td><td style = \"text-align: left;\">2019-12-23</td><td style = \"text-align: right;\">877212</td><td style = \"text-align: left;\">1969</td></tr><tr><td class = \"rowNumber\" style = \"font-weight: bold; text-align: right;\">501</td><td style = \"text-align: left;\">ZBH</td><td style = \"text-align: left;\">Zimmer Biomet</td><td style = \"text-align: left;\">reports</td><td style = \"text-align: left;\">Health Care</td><td style = \"text-align: left;\">Health Care Equipment</td><td style = \"text-align: left;\">Warsaw, Indiana</td><td style = \"text-align: left;\">2001-08-07</td><td style = \"text-align: right;\">1136869</td><td style = \"text-align: left;\">1927</td></tr><tr><td class = \"rowNumber\" style = \"font-weight: bold; text-align: right;\">502</td><td style = \"text-align: left;\">ZION</td><td style = \"text-align: left;\">Zions Bancorporation</td><td style = \"text-align: left;\">reports</td><td style = \"text-align: left;\">Financials</td><td style = \"text-align: left;\">Regional Banks</td><td style = \"text-align: left;\">Salt Lake City, Utah</td><td style = \"text-align: left;\">2001-06-22</td><td style = \"text-align: right;\">109380</td><td style = \"text-align: left;\">1873</td></tr><tr><td class = \"rowNumber\" style = \"font-weight: bold; text-align: right;\">503</td><td style = \"text-align: left;\">ZTS</td><td style = \"text-align: left;\">Zoetis</td><td style = \"text-align: left;\">reports</td><td style = \"text-align: left;\">Health Care</td><td style = \"text-align: left;\">Pharmaceuticals</td><td style = \"text-align: left;\">Parsippany, New Jersey</td><td style = \"text-align: left;\">2013-06-21</td><td style = \"text-align: right;\">1555280</td><td style = \"text-align: left;\">1952</td></tr></tbody></table></div>"
      ],
      "text/latex": [
       "\\begin{tabular}{r|cccccc}\n",
       "\t& Symbol & Security & SEC filings & GICS Sector & GICS Sub-Industry & \\\\\n",
       "\t\\hline\n",
       "\t& String & String & String & String & String & \\\\\n",
       "\t\\hline\n",
       "\t1 & MMM & 3M & reports & Industrials & Industrial Conglomerates & $\\dots$ \\\\\n",
       "\t2 & AOS & A. O. Smith & reports & Industrials & Building Products & $\\dots$ \\\\\n",
       "\t3 & ABT & Abbott & reports & Health Care & Health Care Equipment & $\\dots$ \\\\\n",
       "\t4 & ABBV & AbbVie & reports & Health Care & Pharmaceuticals & $\\dots$ \\\\\n",
       "\t5 & ABMD & Abiomed & reports & Health Care & Health Care Equipment & $\\dots$ \\\\\n",
       "\t6 & ACN & Accenture & reports & Information Technology & IT Consulting \\& Other Services & $\\dots$ \\\\\n",
       "\t7 & ATVI & Activision Blizzard & reports & Communication Services & Interactive Home Entertainment & $\\dots$ \\\\\n",
       "\t8 & ADM & ADM & reports & Consumer Staples & Agricultural Products & $\\dots$ \\\\\n",
       "\t9 & ADBE & Adobe Inc. & reports & Information Technology & Application Software & $\\dots$ \\\\\n",
       "\t10 & ADP & ADP & reports & Information Technology & Data Processing \\& Outsourced Services & $\\dots$ \\\\\n",
       "\t11 & AAP & Advance Auto Parts & reports & Consumer Discretionary & Automotive Retail & $\\dots$ \\\\\n",
       "\t12 & AES & AES Corporation & reports & Utilities & Independent Power Producers \\& Energy Traders & $\\dots$ \\\\\n",
       "\t13 & AFL & Aflac & reports & Financials & Life \\& Health Insurance & $\\dots$ \\\\\n",
       "\t14 & A & Agilent Technologies & reports & Health Care & Health Care Equipment & $\\dots$ \\\\\n",
       "\t15 & APD & Air Products and Chemicals & reports & Materials & Industrial Gases & $\\dots$ \\\\\n",
       "\t16 & AKAM & Akamai & reports & Information Technology & Internet Services \\& Infrastructure & $\\dots$ \\\\\n",
       "\t17 & ALK & Alaska Air Group & reports & Industrials & Airlines & $\\dots$ \\\\\n",
       "\t18 & ALB & Albemarle Corporation & reports & Materials & Specialty Chemicals & $\\dots$ \\\\\n",
       "\t19 & ARE & Alexandria Real Estate Equities & reports & Real Estate & Office REITs & $\\dots$ \\\\\n",
       "\t20 & ALGN & Align Technology & reports & Health Care & Health Care Supplies & $\\dots$ \\\\\n",
       "\t21 & ALLE & Allegion & reports & Industrials & Building Products & $\\dots$ \\\\\n",
       "\t22 & LNT & Alliant Energy & reports & Utilities & Electric Utilities & $\\dots$ \\\\\n",
       "\t23 & ALL & Allstate & reports & Financials & Property \\& Casualty Insurance & $\\dots$ \\\\\n",
       "\t24 & GOOGL & Alphabet Inc. (Class A) & reports & Communication Services & Interactive Media \\& Services & $\\dots$ \\\\\n",
       "\t$\\dots$ & $\\dots$ & $\\dots$ & $\\dots$ & $\\dots$ & $\\dots$ &  \\\\\n",
       "\\end{tabular}\n"
      ],
      "text/plain": [
       "\u001b[1m503×9 DataFrame\u001b[0m\n",
       "\u001b[1m Row \u001b[0m│\u001b[1m Symbol \u001b[0m\u001b[1m Security             \u001b[0m\u001b[1m SEC filings \u001b[0m\u001b[1m GICS Sector            \u001b[0m\u001b[1m GICS\u001b[0m ⋯\n",
       "     │\u001b[90m String \u001b[0m\u001b[90m String               \u001b[0m\u001b[90m String      \u001b[0m\u001b[90m String                 \u001b[0m\u001b[90m Stri\u001b[0m ⋯\n",
       "─────┼──────────────────────────────────────────────────────────────────────────\n",
       "   1 │ MMM     3M                    reports      Industrials             Indu ⋯\n",
       "   2 │ AOS     A. O. Smith           reports      Industrials             Buil\n",
       "   3 │ ABT     Abbott                reports      Health Care             Heal\n",
       "   4 │ ABBV    AbbVie                reports      Health Care             Phar\n",
       "   5 │ ABMD    Abiomed               reports      Health Care             Heal ⋯\n",
       "   6 │ ACN     Accenture             reports      Information Technology  IT C\n",
       "   7 │ ATVI    Activision Blizzard   reports      Communication Services  Inte\n",
       "   8 │ ADM     ADM                   reports      Consumer Staples        Agri\n",
       "  ⋮  │   ⋮              ⋮                 ⋮                 ⋮                  ⋱\n",
       " 497 │ XEL     Xcel Energy           reports      Utilities               Mult ⋯\n",
       " 498 │ XYL     Xylem Inc.            reports      Industrials             Indu\n",
       " 499 │ YUM     Yum! Brands           reports      Consumer Discretionary  Rest\n",
       " 500 │ ZBRA    Zebra Technologies    reports      Information Technology  Elec\n",
       " 501 │ ZBH     Zimmer Biomet         reports      Health Care             Heal ⋯\n",
       " 502 │ ZION    Zions Bancorporation  reports      Financials              Regi\n",
       " 503 │ ZTS     Zoetis                reports      Health Care             Phar\n",
       "\u001b[36m                                                  5 columns and 488 rows omitted\u001b[0m"
      ]
     },
     "metadata": {},
     "output_type": "display_data"
    }
   ],
   "source": [
    "sp500 = DataFrame(load(\"sp500_list_07_29_2022.csv\"));\n",
    "# sp500 = CSV.read(\"sp500_list_07_29_2022.csv\", DataFrame);\n",
    "# sp500 = DataFrame(load(\"sp500_companies.csv\"));"
   ]
  },
  {
   "cell_type": "code",
   "execution_count": 43,
   "metadata": {},
   "outputs": [
    {
     "data": {
      "text/plain": [
       "9-element Vector{String}:\n",
       " \"Symbol\"\n",
       " \"Security\"\n",
       " \"SEC filings\"\n",
       " \"GICS Sector\"\n",
       " \"GICS Sub-Industry\"\n",
       " \"Headquarters Location\"\n",
       " \"Date first added\"\n",
       " \"CIK\"\n",
       " \"Founded\""
      ]
     },
     "metadata": {},
     "output_type": "display_data"
    }
   ],
   "source": [
    "names(sp500)"
   ]
  },
  {
   "cell_type": "code",
   "execution_count": 44,
   "metadata": {},
   "outputs": [
    {
     "data": {
      "text/plain": [
       "(503, (503, 9))"
      ]
     },
     "metadata": {},
     "output_type": "display_data"
    }
   ],
   "source": [
    "nrow(sp500), size(sp500)"
   ]
  },
  {
   "attachments": {
    "image.png": {
     "image/png": "[encoded data removed]"
    }
   },
   "cell_type": "markdown",
   "metadata": {},
   "source": [
    "### Read `sp500_index.csv` using `FileIO`\n",
    "\n",
    "![image.png](attachment:image.png)"
   ]
  },
  {
   "cell_type": "code",
   "execution_count": 45,
   "metadata": {},
   "outputs": [],
   "source": [
    "sp500_index = DataFrame(load(\"sp500_index.csv\"));"
   ]
  },
  {
   "cell_type": "code",
   "execution_count": 46,
   "metadata": {},
   "outputs": [
    {
     "data": {
      "text/plain": [
       "2-element Vector{String}:\n",
       " \"Date\"\n",
       " \"S&P500\""
      ]
     },
     "metadata": {},
     "output_type": "display_data"
    }
   ],
   "source": [
    "names(sp500_index)"
   ]
  },
  {
   "cell_type": "code",
   "execution_count": 47,
   "metadata": {},
   "outputs": [],
   "source": [
    "index = sp500_index[:, \"S&P500\"];"
   ]
  },
  {
   "cell_type": "code",
   "execution_count": 48,
   "metadata": {},
   "outputs": [
    {
     "data": {
      "text/plain": [
       "(Vector{Float64}, 2516)"
      ]
     },
     "metadata": {},
     "output_type": "display_data"
    }
   ],
   "source": [
    "typeof(index), length(index)"
   ]
  },
  {
   "cell_type": "code",
   "execution_count": 49,
   "metadata": {},
   "outputs": [],
   "source": [
    "using Statistics"
   ]
  },
  {
   "cell_type": "code",
   "execution_count": 50,
   "metadata": {},
   "outputs": [
    {
     "data": {
      "text/plain": [
       "2596.8279531001594"
      ]
     },
     "metadata": {},
     "output_type": "display_data"
    }
   ],
   "source": [
    "mean(index)"
   ]
  },
  {
   "cell_type": "code",
   "execution_count": 51,
   "metadata": {},
   "outputs": [
    {
     "data": {
      "text/plain": [
       "2596.8279531001594"
      ]
     },
     "metadata": {},
     "output_type": "display_data"
    }
   ],
   "source": [
    "mean(sp500_index[:,\"S&P500\"])"
   ]
  },
  {
   "attachments": {},
   "cell_type": "markdown",
   "metadata": {},
   "source": []
  }
 ],
 "metadata": {
  "kernelspec": {
   "display_name": "Julia 1.9.0",
   "language": "julia",
   "name": "julia-1.9"
  },
  "language_info": {
   "file_extension": ".jl",
   "mimetype": "application/julia",
   "name": "julia",
   "version": "1.9.0"
  }
 },
 "nbformat": 4,
 "nbformat_minor": 4
}
