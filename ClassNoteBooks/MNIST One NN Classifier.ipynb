{
 "cells": [
  {
   "attachments": {
    "image.png": {
     "image/png": "[encoded data removed]"
    }
   },
   "cell_type": "markdown",
   "metadata": {},
   "source": [
    "# MNIST oneNN Classifier\n",
    "\n",
    "One-Nearest-Neighbor (oneNN) classifiers are among the most versatile classifiers in the field of machine learning. Their only prerequisite is a pairwise distance measure \n",
    "\n",
    " \t\t\tdist ( Xⁱₜₑₛₜ , Xʲₜᵣₐᵢₙ) \n",
    "\n",
    "assigning a notion of distance (or similarity) between two objects Xⁱₜₑₛₜ and  Xʲₜᵣₐᵢₙ. 1NN classifiers often provide reasonable classification accuracy and are easy to implement. The goal of classification is to correctly predict the class labels Yⁱₜₑₛₜ for all objects Xⁱₜₑₛₜ stemming from a test set of unlabeled objects by assigning the corresponding label Yʲₜᵣₐᵢₙ of the nearest instance  Xʲₜᵣₐᵢₙ from a labeled training set. The label assignment step for a fixed index i in the test set reads as follows:\n",
    "\n",
    "![image.png](attachment:image.png)\n",
    "\n",
    "We will test 1NN classifier performance (i.e., accuracy) by using the MNIST dataset:\n",
    "\n",
    "- X2.bin\n",
    "\n",
    "    70,000 digit images\n",
    "    \n",
    "\n",
    "- Y2_int8.bin\n",
    "\n",
    "    70,000 labels\n",
    "    \n",
    "\n",
    "For the 1NN classifier test, We will divide them into two sets:\n",
    "\n",
    "1. 60,000 train set\n",
    "\n",
    "2. 10,000 test set\n",
    "    "
   ]
  },
  {
   "cell_type": "code",
   "execution_count": 1,
   "metadata": {},
   "outputs": [],
   "source": [
    "using BenchmarkTools, Images, Colors, Plots, StatsBase"
   ]
  },
  {
   "cell_type": "markdown",
   "metadata": {},
   "source": [
    "# Read digit images and their labels"
   ]
  },
  {
   "cell_type": "code",
   "execution_count": null,
   "metadata": {},
   "outputs": [],
   "source": [
    "pwd()"
   ]
  },
  {
   "cell_type": "code",
   "execution_count": 2,
   "metadata": {},
   "outputs": [],
   "source": [
    "cd(\"MNIST\")"
   ]
  },
  {
   "cell_type": "code",
   "execution_count": null,
   "metadata": {},
   "outputs": [],
   "source": [
    "readdir()"
   ]
  },
  {
   "cell_type": "code",
   "execution_count": 3,
   "metadata": {},
   "outputs": [],
   "source": [
    "# requires 219,520,000 bytes to store 70,000 digit images\n",
    "digits = Array{Float32, 2}(undef, 28*28, 70_000) \n",
    "read!(\"X2.bin\", digits);"
   ]
  },
  {
   "cell_type": "code",
   "execution_count": 4,
   "metadata": {},
   "outputs": [],
   "source": [
    "labels = Vector{Int8}(undef, 70_000) # requires 70,000 bytes\n",
    "read!(\"Y2_int8.bin\", labels);"
   ]
  },
  {
   "cell_type": "code",
   "execution_count": null,
   "metadata": {},
   "outputs": [],
   "source": []
  },
  {
   "cell_type": "markdown",
   "metadata": {},
   "source": [
    "# Pair-wise distance matrix computation functions \n",
    "\n",
    "\n",
    "The distance matrix is between train and test digit images."
   ]
  },
  {
   "cell_type": "code",
   "execution_count": 5,
   "metadata": {},
   "outputs": [
    {
     "data": {
      "text/plain": [
       "distance (generic function with 1 method)"
      ]
     },
     "execution_count": 5,
     "metadata": {},
     "output_type": "execute_result"
    }
   ],
   "source": [
    "# Define distance function of two float32 vector of size len\n",
    "function distance(x, y, len)\n",
    "    \n",
    "    acc = zero(Float32)\n",
    "    @simd for i in 1:len\n",
    "        residue = x[i] - y[i]\n",
    "        acc += residue * residue\n",
    "    end\n",
    "    \n",
    "    return acc\n",
    "end"
   ]
  },
  {
   "cell_type": "code",
   "execution_count": 8,
   "metadata": {},
   "outputs": [],
   "source": [
    "using LinearAlgebra"
   ]
  },
  {
   "cell_type": "code",
   "execution_count": 6,
   "metadata": {},
   "outputs": [],
   "source": [
    "L = 10_000\n",
    "x = fill(1f0, L)\n",
    "y = fill(2f0, L);"
   ]
  },
  {
   "cell_type": "code",
   "execution_count": 13,
   "metadata": {},
   "outputs": [
    {
     "name": "stdout",
     "output_type": "stream",
     "text": [
      "  4.450 μs (3 allocations: 39.12 KiB)\n"
     ]
    },
    {
     "data": {
      "text/plain": [
       "100.0f0"
      ]
     },
     "execution_count": 13,
     "metadata": {},
     "output_type": "execute_result"
    }
   ],
   "source": [
    "@btime norm(x-y)"
   ]
  },
  {
   "cell_type": "code",
   "execution_count": 14,
   "metadata": {},
   "outputs": [
    {
     "name": "stdout",
     "output_type": "stream",
     "text": [
      "  702.479 ns (2 allocations: 32 bytes)\n"
     ]
    },
    {
     "data": {
      "text/plain": [
       "100.0f0"
      ]
     },
     "execution_count": 14,
     "metadata": {},
     "output_type": "execute_result"
    }
   ],
   "source": [
    "@btime sqrt(distance(x,y,L))"
   ]
  },
  {
   "cell_type": "code",
   "execution_count": 6,
   "metadata": {},
   "outputs": [
    {
     "data": {
      "text/plain": [
       "distM"
      ]
     },
     "execution_count": 6,
     "metadata": {},
     "output_type": "execute_result"
    }
   ],
   "source": [
    "\"\"\"\n",
    "    compute all_pair_distance matrix (n_train by n_test)\n",
    "    distM(d, n_train, n_test, len)\n",
    "\n",
    "    For MNIST dataset:\n",
    "        d          digit images\n",
    "        n_train    number of train images\n",
    "        n_test     number of test images\n",
    "                   (note: n_train + n_test ≤ 70,000)\n",
    "        len        length (number of pixels) of each image (28*28)\n",
    "\n",
    "\"\"\"\n",
    "function distM(in_digits, n_train, n_test, len)\n",
    "    \n",
    "    distMat = Matrix{Float32}(undef, n_train, n_test)\n",
    "\n",
    "    for i in 1:n_train\n",
    "        for j in 1:n_test\n",
    "            distMat[i, j] = distance(in_digits[:,i], in_digits[:,j + n_train], len)\n",
    "        end\n",
    "    end\n",
    "    \n",
    "    return distMat\n",
    "end"
   ]
  },
  {
   "cell_type": "code",
   "execution_count": 7,
   "metadata": {},
   "outputs": [],
   "source": [
    "using Base.Threads"
   ]
  },
  {
   "cell_type": "code",
   "execution_count": 8,
   "metadata": {},
   "outputs": [
    {
     "data": {
      "text/plain": [
       "distM_threads"
      ]
     },
     "execution_count": 8,
     "metadata": {},
     "output_type": "execute_result"
    }
   ],
   "source": [
    "\"\"\"\n",
    "    compute all_pair_distance matrix (n_train by n_test)\n",
    "    distM_threads(d, n_train, n_test, len)\n",
    "\n",
    "    For MNIST dataset:\n",
    "        d          digit images\n",
    "        n_train    number of train images\n",
    "        n_test     number of test images\n",
    "                   (note: n_train + n_test ≤ 70,000)\n",
    "        len        length (number of pixels) of each image (28*28)\n",
    "\n",
    "\"\"\"\n",
    "function distM_threads(in_digits, n_train, n_test, len)\n",
    "    \n",
    "    distMat = Matrix{Float32}(undef, n_train, n_test)\n",
    "\n",
    "    @threads for j in 1:n_test \n",
    "        for i in 1:n_train    \n",
    "            @simd distMat[i, j] = distance(in_digits[:,i], in_digits[:,j + n_train], len)\n",
    "        end\n",
    "    end\n",
    "    \n",
    "    return distMat\n",
    "end"
   ]
  },
  {
   "cell_type": "code",
   "execution_count": null,
   "metadata": {},
   "outputs": [],
   "source": []
  },
  {
   "cell_type": "markdown",
   "metadata": {},
   "source": [
    "# distM and distM_threads timing test"
   ]
  },
  {
   "cell_type": "code",
   "execution_count": 56,
   "metadata": {},
   "outputs": [
    {
     "data": {
      "text/plain": [
       "784"
      ]
     },
     "execution_count": 56,
     "metadata": {},
     "output_type": "execute_result"
    }
   ],
   "source": [
    "num_train = 6_000\n",
    "num_test = 1_000\n",
    "len = 28*28"
   ]
  },
  {
   "cell_type": "code",
   "execution_count": 57,
   "metadata": {},
   "outputs": [
    {
     "name": "stdout",
     "output_type": "stream",
     "text": [
      " 12.187813 seconds (12.00 M allocations: 36.500 GiB, 13.25% gc time)\n"
     ]
    }
   ],
   "source": [
    "@time d1 = distM(digits, num_train, num_test, len);"
   ]
  },
  {
   "cell_type": "code",
   "execution_count": 58,
   "metadata": {},
   "outputs": [
    {
     "name": "stdout",
     "output_type": "stream",
     "text": [
      "  8.994021 seconds (12.00 M allocations: 36.500 GiB, 39.27% gc time)\n"
     ]
    }
   ],
   "source": [
    "@time d2 = distM_threads(digits, num_train, num_test, len);"
   ]
  },
  {
   "cell_type": "code",
   "execution_count": 59,
   "metadata": {},
   "outputs": [
    {
     "data": {
      "text/plain": [
       "false"
      ]
     },
     "execution_count": 59,
     "metadata": {},
     "output_type": "execute_result"
    }
   ],
   "source": [
    "d1 == d2"
   ]
  },
  {
   "cell_type": "markdown",
   "metadata": {},
   "source": [
    "# oneNN Classifier implementation"
   ]
  },
  {
   "cell_type": "code",
   "execution_count": 9,
   "metadata": {},
   "outputs": [
    {
     "data": {
      "text/plain": [
       "oneNN_accuracy"
      ]
     },
     "execution_count": 9,
     "metadata": {},
     "output_type": "execute_result"
    }
   ],
   "source": [
    "\"\"\"\n",
    "\n",
    "  oneNN_accuracy(ntrain, ntest, distM, in_labels)   \n",
    " \n",
    "        ntrain    number of train images\n",
    "        ntest     number of test images\n",
    "        distM     ntrain by ntest distance matrix\n",
    "        in_labels lablels digit images\n",
    "\n",
    "\"\"\"\n",
    "function oneNN_accuracy(ntrain, ntest, distMat, in_labels)\n",
    "\n",
    "    mis_match = Vector{Tuple{Int64, Int64}}([])\n",
    "    match = 0\n",
    "   \n",
    "    for j in 1:ntest\n",
    "        \n",
    "        min_ind = 1\n",
    "        m = distMat[1,j]\n",
    "        for i in 2:ntrain\n",
    "            x = distMat[i,j]\n",
    "            if x < m\n",
    "                m = x\n",
    "                min_ind = i\n",
    "            end\n",
    "        end\n",
    "    \n",
    "        # test if match\n",
    "        if in_labels[j + ntrain] == in_labels[min_ind] \n",
    "            match += 1\n",
    "        else    # add to the mis_match list\n",
    "            push!(mis_match, (j + ntrain, min_ind))\n",
    "        end\n",
    "    end\n",
    "    \n",
    "    println((match*100f0 / ntest), \"% Accuracy\")\n",
    "    \n",
    "    return mis_match\n",
    "end"
   ]
  },
  {
   "cell_type": "markdown",
   "metadata": {},
   "source": [
    "# oneNN classifier test 1 (6,000, 1,000)"
   ]
  },
  {
   "cell_type": "code",
   "execution_count": 10,
   "metadata": {},
   "outputs": [],
   "source": [
    "n_train = 6_000\n",
    "n_test = 1_000\n",
    "len = 28*28;"
   ]
  },
  {
   "cell_type": "code",
   "execution_count": 11,
   "metadata": {},
   "outputs": [
    {
     "name": "stdout",
     "output_type": "stream",
     "text": [
      " 10.394836 seconds (12.08 M allocations: 36.505 GiB, 42.77% gc time, 4.65% compilation time)\n"
     ]
    }
   ],
   "source": [
    "@time dist = distM_threads(digits, n_train, n_test, len);"
   ]
  },
  {
   "cell_type": "code",
   "execution_count": 12,
   "metadata": {},
   "outputs": [
    {
     "data": {
      "text/plain": [
       "(Matrix{Float32}, (6000, 1000))"
      ]
     },
     "execution_count": 12,
     "metadata": {},
     "output_type": "execute_result"
    }
   ],
   "source": [
    "typeof(dist), size(dist)"
   ]
  },
  {
   "cell_type": "code",
   "execution_count": 13,
   "metadata": {},
   "outputs": [
    {
     "name": "stdout",
     "output_type": "stream",
     "text": [
      "92.8% Accuracy\n"
     ]
    }
   ],
   "source": [
    "mis_match = oneNN_accuracy(n_train, n_test, dist, labels);"
   ]
  },
  {
   "cell_type": "code",
   "execution_count": 14,
   "metadata": {},
   "outputs": [
    {
     "data": {
      "text/plain": [
       "72"
      ]
     },
     "execution_count": 14,
     "metadata": {},
     "output_type": "execute_result"
    }
   ],
   "source": [
    "length(mis_match)"
   ]
  },
  {
   "cell_type": "markdown",
   "metadata": {},
   "source": [
    "# oneNN classifier test 2 (8,000, 1,000)"
   ]
  },
  {
   "cell_type": "code",
   "execution_count": 41,
   "metadata": {},
   "outputs": [],
   "source": [
    "n_train = 8_000\n",
    "n_test = 1_000\n",
    "len = 28*28;"
   ]
  },
  {
   "cell_type": "code",
   "execution_count": 42,
   "metadata": {},
   "outputs": [
    {
     "name": "stdout",
     "output_type": "stream",
     "text": [
      " 11.303857 seconds (16.00 M allocations: 48.667 GiB, 38.90% gc time)\n"
     ]
    }
   ],
   "source": [
    "@time dist = distM_threads(digits, n_train, n_test, len);"
   ]
  },
  {
   "cell_type": "code",
   "execution_count": 43,
   "metadata": {},
   "outputs": [
    {
     "data": {
      "text/plain": [
       "(Matrix{Float32}, (8000, 1000))"
      ]
     },
     "execution_count": 43,
     "metadata": {},
     "output_type": "execute_result"
    }
   ],
   "source": [
    "typeof(dist), size(dist)"
   ]
  },
  {
   "cell_type": "code",
   "execution_count": 44,
   "metadata": {},
   "outputs": [
    {
     "name": "stdout",
     "output_type": "stream",
     "text": [
      "93.2% Accuracy\n",
      "  0.008667 seconds (273 allocations: 9.352 KiB)\n"
     ]
    }
   ],
   "source": [
    "@time mis_match = oneNN_accuracy(n_train, n_test, dist, labels);"
   ]
  },
  {
   "cell_type": "code",
   "execution_count": 45,
   "metadata": {},
   "outputs": [
    {
     "data": {
      "text/plain": [
       "68"
      ]
     },
     "execution_count": 45,
     "metadata": {},
     "output_type": "execute_result"
    }
   ],
   "source": [
    "length(mis_match)"
   ]
  },
  {
   "cell_type": "markdown",
   "metadata": {},
   "source": [
    "# oneNN classifier test 3 (10,000, 1,000)"
   ]
  },
  {
   "cell_type": "code",
   "execution_count": 46,
   "metadata": {},
   "outputs": [],
   "source": [
    "n_train = 10_000\n",
    "n_test = 1_000\n",
    "len = 28*28;"
   ]
  },
  {
   "cell_type": "code",
   "execution_count": 47,
   "metadata": {},
   "outputs": [
    {
     "name": "stdout",
     "output_type": "stream",
     "text": [
      " 13.728214 seconds (20.00 M allocations: 60.834 GiB, 37.12% gc time)\n"
     ]
    }
   ],
   "source": [
    "@time dist = distM_threads(digits, n_train, n_test, len);"
   ]
  },
  {
   "cell_type": "code",
   "execution_count": 48,
   "metadata": {},
   "outputs": [
    {
     "data": {
      "text/plain": [
       "(Matrix{Float32}, (10000, 1000))"
      ]
     },
     "execution_count": 48,
     "metadata": {},
     "output_type": "execute_result"
    }
   ],
   "source": [
    "typeof(dist), size(dist)"
   ]
  },
  {
   "cell_type": "code",
   "execution_count": 49,
   "metadata": {},
   "outputs": [
    {
     "name": "stdout",
     "output_type": "stream",
     "text": [
      "95.7% Accuracy\n",
      "  0.010994 seconds (183 allocations: 7.555 KiB)\n"
     ]
    }
   ],
   "source": [
    "@time mis_match = oneNN_accuracy(n_train, n_test, dist, labels);"
   ]
  },
  {
   "cell_type": "code",
   "execution_count": 50,
   "metadata": {},
   "outputs": [
    {
     "data": {
      "text/plain": [
       "43"
      ]
     },
     "execution_count": 50,
     "metadata": {},
     "output_type": "execute_result"
    }
   ],
   "source": [
    "length(mis_match)"
   ]
  },
  {
   "cell_type": "markdown",
   "metadata": {},
   "source": [
    "# oneNN classifier test 4 (12,000, 1,000)"
   ]
  },
  {
   "cell_type": "code",
   "execution_count": 51,
   "metadata": {},
   "outputs": [],
   "source": [
    "n_train = 12_000\n",
    "n_test = 1_000\n",
    "len = 28*28;"
   ]
  },
  {
   "cell_type": "code",
   "execution_count": 52,
   "metadata": {},
   "outputs": [
    {
     "name": "stdout",
     "output_type": "stream",
     "text": [
      " 16.647904 seconds (24.00 M allocations: 73.001 GiB, 36.63% gc time)\n"
     ]
    }
   ],
   "source": [
    "@time dist = distM_threads(digits, n_train, n_test, len);"
   ]
  },
  {
   "cell_type": "code",
   "execution_count": 53,
   "metadata": {},
   "outputs": [
    {
     "data": {
      "text/plain": [
       "(Matrix{Float32}, (12000, 1000))"
      ]
     },
     "execution_count": 53,
     "metadata": {},
     "output_type": "execute_result"
    }
   ],
   "source": [
    "typeof(dist), size(dist)"
   ]
  },
  {
   "cell_type": "code",
   "execution_count": 54,
   "metadata": {},
   "outputs": [
    {
     "name": "stdout",
     "output_type": "stream",
     "text": [
      "94.7% Accuracy\n",
      "  0.012922 seconds (224 allocations: 8.352 KiB)\n"
     ]
    }
   ],
   "source": [
    "@time mis_match = oneNN_accuracy(n_train, n_test, dist, labels);"
   ]
  },
  {
   "cell_type": "code",
   "execution_count": 55,
   "metadata": {},
   "outputs": [
    {
     "data": {
      "text/plain": [
       "53"
      ]
     },
     "execution_count": 55,
     "metadata": {},
     "output_type": "execute_result"
    }
   ],
   "source": [
    "length(mis_match)"
   ]
  },
  {
   "cell_type": "markdown",
   "metadata": {},
   "source": [
    "# oneNN classifier test 5 (15,000, 1,000)"
   ]
  },
  {
   "cell_type": "code",
   "execution_count": 57,
   "metadata": {},
   "outputs": [],
   "source": [
    "n_train = 15_000\n",
    "n_test = 1_000\n",
    "len = 28*28;"
   ]
  },
  {
   "cell_type": "code",
   "execution_count": 58,
   "metadata": {},
   "outputs": [
    {
     "name": "stdout",
     "output_type": "stream",
     "text": [
      " 21.492135 seconds (30.00 M allocations: 91.251 GiB, 36.84% gc time)\n"
     ]
    }
   ],
   "source": [
    "@time dist = distM_threads(digits, n_train, n_test, len);"
   ]
  },
  {
   "cell_type": "code",
   "execution_count": 59,
   "metadata": {},
   "outputs": [
    {
     "data": {
      "text/plain": [
       "(Matrix{Float32}, (15000, 1000))"
      ]
     },
     "execution_count": 59,
     "metadata": {},
     "output_type": "execute_result"
    }
   ],
   "source": [
    "typeof(dist), size(dist)"
   ]
  },
  {
   "cell_type": "code",
   "execution_count": 60,
   "metadata": {},
   "outputs": [
    {
     "name": "stdout",
     "output_type": "stream",
     "text": [
      "95.1% Accuracy\n",
      "  0.016067 seconds (202 allocations: 7.852 KiB)\n"
     ]
    }
   ],
   "source": [
    "@time mis_match = oneNN_accuracy(n_train, n_test, dist, labels);"
   ]
  },
  {
   "cell_type": "code",
   "execution_count": 61,
   "metadata": {},
   "outputs": [
    {
     "data": {
      "text/plain": [
       "49"
      ]
     },
     "execution_count": 61,
     "metadata": {},
     "output_type": "execute_result"
    }
   ],
   "source": [
    "length(mis_match)"
   ]
  },
  {
   "cell_type": "markdown",
   "metadata": {},
   "source": [
    "# oneNN classifier test 5 (20,000, 1,000)"
   ]
  },
  {
   "cell_type": "code",
   "execution_count": 45,
   "metadata": {},
   "outputs": [],
   "source": [
    "n_train = 20_000\n",
    "n_test = 1_000\n",
    "len = 28*28;"
   ]
  },
  {
   "cell_type": "code",
   "execution_count": 46,
   "metadata": {},
   "outputs": [
    {
     "name": "stdout",
     "output_type": "stream",
     "text": [
      " 28.576281 seconds (40.00 M allocations: 121.668 GiB, 37.41% gc time)\n"
     ]
    }
   ],
   "source": [
    "@time dist = distM_threads(digits, n_train, n_test, len);"
   ]
  },
  {
   "cell_type": "code",
   "execution_count": 47,
   "metadata": {},
   "outputs": [
    {
     "data": {
      "text/plain": [
       "(Matrix{Float32}, (20000, 1000))"
      ]
     },
     "execution_count": 47,
     "metadata": {},
     "output_type": "execute_result"
    }
   ],
   "source": [
    "typeof(dist), size(dist)"
   ]
  },
  {
   "cell_type": "code",
   "execution_count": 48,
   "metadata": {},
   "outputs": [
    {
     "name": "stdout",
     "output_type": "stream",
     "text": [
      "96.7% Accuracy\n",
      "  0.021216 seconds (36 allocations: 1.805 KiB)\n"
     ]
    }
   ],
   "source": [
    "@time mis_match = oneNN_accuracy(n_train, n_test, dist, labels);"
   ]
  },
  {
   "cell_type": "code",
   "execution_count": 49,
   "metadata": {},
   "outputs": [
    {
     "data": {
      "text/plain": [
       "33"
      ]
     },
     "execution_count": 49,
     "metadata": {},
     "output_type": "execute_result"
    }
   ],
   "source": [
    "length(mis_match)"
   ]
  },
  {
   "cell_type": "markdown",
   "metadata": {},
   "source": [
    "# Plot mis_match pair Images"
   ]
  },
  {
   "cell_type": "code",
   "execution_count": 50,
   "metadata": {},
   "outputs": [
    {
     "data": {
      "text/plain": [
       "33"
      ]
     },
     "execution_count": 50,
     "metadata": {},
     "output_type": "execute_result"
    }
   ],
   "source": [
    "length(mis_match)"
   ]
  },
  {
   "cell_type": "code",
   "execution_count": 51,
   "metadata": {},
   "outputs": [
    {
     "data": {
      "text/plain": [
       "((20017, 589), 3, 2)"
      ]
     },
     "execution_count": 51,
     "metadata": {},
     "output_type": "execute_result"
    }
   ],
   "source": [
    "mis_match[1], labels[mis_match[1][1]], labels[mis_match[1][2]]"
   ]
  },
  {
   "cell_type": "code",
   "execution_count": 52,
   "metadata": {},
   "outputs": [],
   "source": [
    "test = reshape(digits[:,mis_match[1][1]], 28, 28);"
   ]
  },
  {
   "cell_type": "code",
   "execution_count": 53,
   "metadata": {},
   "outputs": [
    {
     "data": {
      "image/png": "[encoded data removed]",
      "text/html": [
       "<img src=\"data:image/png;base64,iVBORw0KGgoAAAANSUhEUgAAAHAAAABwCAAAAADji6uXAAAABGdBTUEAALGPC/xhBQAAAAFzUkdCAK7OHOkAAAAgY0hSTQAAeiYAAICEAAD6AAAAgOgAAHUwAADqYAAAOpgAABdwnLpRPAAAAfRJREFUaAW9wT+I1gUABuBHfZG4SW0QQihEnNVJGhwUavA2twM9cDJQCRGUjEBBXAQhkoigwe2gIMNJPdAhGsM/IDSoOIhgQ0JweBjX8A0u3ufv+5T3eaIsyqIsyqIsyqIsyqIsyqIsyqIsyqIsyqIsyqIsymKgZ7iLJcxiLa7iEb7Hv3jq7aIsyqIsBlrBXiMr+B2zRo7hHxzHz1i2uiiLsiiLgT7DAm7gR/yF7ZjDFszhCjbjktVFWZRFWQx0DzvxCv8ZuY+vsAZnsYhZXLK6KIuyKIsJvPRmK1iLGWwxXpRFWZTFe/ABLmATfjBelEVZlMU72oHz+Bx38K3xoizKoizewcf4BvtwE4fw3HhRFmVRFlM6iIv4EKdx0TBRFmVRFhPaiq8xjyc4g58MF2VRFmUxgfU4gXncxQE8NJkoi7IoiwmcxBFcxnHTibIoi7IYaAYncAsnTS/KoizKYqCj2IDrWDa9KIuyKIuBYmQbPsFj04myKIuyGGgB53AY+/EFfjO5KIuyKIuBHuJLnMdG/II/8Ssu44VhoizKoiwGWsF3eIBz2I1d2IWj+MgwURZlURZj7Mc6bMdm7MBObDDyN/7AbcNFWZRFWYxxCp96bRFncc3IEp6ZTJRFWZTFGHu8f1EWZVEWZVEWZVEWZVEWZVH2PxotR2NjtGV+AAAAAElFTkSuQmCC\">"
      ],
      "text/plain": [
       "28×28 adjoint(::Array{Gray{N0f8},2}) with eltype Gray{N0f8}:\n",
       " Gray{N0f8}(0.0)  Gray{N0f8}(0.0)  …  Gray{N0f8}(0.0)  Gray{N0f8}(0.0)\n",
       " Gray{N0f8}(0.0)  Gray{N0f8}(0.0)     Gray{N0f8}(0.0)  Gray{N0f8}(0.0)\n",
       " Gray{N0f8}(0.0)  Gray{N0f8}(0.0)     Gray{N0f8}(0.0)  Gray{N0f8}(0.0)\n",
       " Gray{N0f8}(0.0)  Gray{N0f8}(0.0)     Gray{N0f8}(0.0)  Gray{N0f8}(0.0)\n",
       " Gray{N0f8}(0.0)  Gray{N0f8}(0.0)     Gray{N0f8}(0.0)  Gray{N0f8}(0.0)\n",
       " Gray{N0f8}(0.0)  Gray{N0f8}(0.0)  …  Gray{N0f8}(0.0)  Gray{N0f8}(0.0)\n",
       " Gray{N0f8}(0.0)  Gray{N0f8}(0.0)     Gray{N0f8}(0.0)  Gray{N0f8}(0.0)\n",
       " Gray{N0f8}(0.0)  Gray{N0f8}(0.0)     Gray{N0f8}(0.0)  Gray{N0f8}(0.0)\n",
       " Gray{N0f8}(0.0)  Gray{N0f8}(0.0)     Gray{N0f8}(0.0)  Gray{N0f8}(0.0)\n",
       " Gray{N0f8}(0.0)  Gray{N0f8}(0.0)     Gray{N0f8}(0.0)  Gray{N0f8}(0.0)\n",
       " Gray{N0f8}(0.0)  Gray{N0f8}(0.0)  …  Gray{N0f8}(0.0)  Gray{N0f8}(0.0)\n",
       " Gray{N0f8}(0.0)  Gray{N0f8}(0.0)     Gray{N0f8}(0.0)  Gray{N0f8}(0.0)\n",
       " Gray{N0f8}(0.0)  Gray{N0f8}(0.0)     Gray{N0f8}(0.0)  Gray{N0f8}(0.0)\n",
       " ⋮                                 ⋱                   \n",
       " Gray{N0f8}(0.0)  Gray{N0f8}(0.0)     Gray{N0f8}(0.0)  Gray{N0f8}(0.0)\n",
       " Gray{N0f8}(0.0)  Gray{N0f8}(0.0)     Gray{N0f8}(0.0)  Gray{N0f8}(0.0)\n",
       " Gray{N0f8}(0.0)  Gray{N0f8}(0.0)     Gray{N0f8}(0.0)  Gray{N0f8}(0.0)\n",
       " Gray{N0f8}(0.0)  Gray{N0f8}(0.0)     Gray{N0f8}(0.0)  Gray{N0f8}(0.0)\n",
       " Gray{N0f8}(0.0)  Gray{N0f8}(0.0)  …  Gray{N0f8}(0.0)  Gray{N0f8}(0.0)\n",
       " Gray{N0f8}(0.0)  Gray{N0f8}(0.0)     Gray{N0f8}(0.0)  Gray{N0f8}(0.0)\n",
       " Gray{N0f8}(0.0)  Gray{N0f8}(0.0)     Gray{N0f8}(0.0)  Gray{N0f8}(0.0)\n",
       " Gray{N0f8}(0.0)  Gray{N0f8}(0.0)     Gray{N0f8}(0.0)  Gray{N0f8}(0.0)\n",
       " Gray{N0f8}(0.0)  Gray{N0f8}(0.0)     Gray{N0f8}(0.0)  Gray{N0f8}(0.0)\n",
       " Gray{N0f8}(0.0)  Gray{N0f8}(0.0)  …  Gray{N0f8}(0.0)  Gray{N0f8}(0.0)\n",
       " Gray{N0f8}(0.0)  Gray{N0f8}(0.0)     Gray{N0f8}(0.0)  Gray{N0f8}(0.0)\n",
       " Gray{N0f8}(0.0)  Gray{N0f8}(0.0)     Gray{N0f8}(0.0)  Gray{N0f8}(0.0)"
      ]
     },
     "execution_count": 53,
     "metadata": {},
     "output_type": "execute_result"
    }
   ],
   "source": [
    "test = (Matrix{Gray{N0f8}}(test))'"
   ]
  },
  {
   "cell_type": "code",
   "execution_count": 54,
   "metadata": {},
   "outputs": [],
   "source": [
    "train = reshape(digits[:,mis_match[1][2]], 28, 28);"
   ]
  },
  {
   "cell_type": "code",
   "execution_count": 55,
   "metadata": {},
   "outputs": [
    {
     "data": {
      "image/png": "[encoded data removed]",
      "text/html": [
       "<img src=\"data:image/png;base64,iVBORw0KGgoAAAANSUhEUgAAAHAAAABwCAAAAADji6uXAAAABGdBTUEAALGPC/xhBQAAAAFzUkdCAK7OHOkAAAAgY0hSTQAAeiYAAICEAAD6AAAAgOgAAHUwAADqYAAAOpgAABdwnLpRPAAAAclJREFUaAW9wbGL1nUAB+Dn6ONmy4FQDmKbotvdfAQJgZPg4BY63KCToEtDSzeUf4AcblpLg4PLDYJTgRy3ii7CoZNwBZ3DCxdR1/AOEcH5+74Hn+eJsiiLsiiLsiiLsiiLsiiLsiiLsiiLsiiLsiiLsiiLia7hDk7hFS5jEyewbrooi7Ioi4lWsWLuDP7GGj7FC3OP8N7RoizKoiwmeotd3PKvn/EdvsEytrHjaFEWZVEWEz3AU7z2Xxu4hGVcxY6jRVmURVlM9Cde+7+ruGC6KIuyKItj+BhfYgm/4FsfFmVRFmVxDNs4hxe4gpkPi7Ioi7JYwGlcxHkc4h1+N02URVmUxQK+wENzT3DXdFEWZVEWg85iht+wie9xYLooi7Ioi0Hr+BpLmOHAmCiLsiiLAWdwHYfYw5ZxURZlURYD1vGJuQ28Mi7KoizKYsCv5nbxo8VEWZRFWQxYNbePvywmyqIsymLAEpawgpOYGRdlURZlMWAPh44nyqIsymLAfXyFZfyEG3hjTJRFWZTFgF3cxg9Yw3O8xD08M02URVmUxaDH2MdNfI6P8JnpoizKoiwG/YEtbFlMlEVZlEVZlEVZlEVZlEVZlP0DC28/QYjUmSQAAAAASUVORK5C\">"
      ],
      "text/plain": [
       "28×28 adjoint(::Array{Gray{N0f8},2}) with eltype Gray{N0f8}:\n",
       " Gray{N0f8}(0.0)  Gray{N0f8}(0.0)  …  Gray{N0f8}(0.0)  Gray{N0f8}(0.0)\n",
       " Gray{N0f8}(0.0)  Gray{N0f8}(0.0)     Gray{N0f8}(0.0)  Gray{N0f8}(0.0)\n",
       " Gray{N0f8}(0.0)  Gray{N0f8}(0.0)     Gray{N0f8}(0.0)  Gray{N0f8}(0.0)\n",
       " Gray{N0f8}(0.0)  Gray{N0f8}(0.0)     Gray{N0f8}(0.0)  Gray{N0f8}(0.0)\n",
       " Gray{N0f8}(0.0)  Gray{N0f8}(0.0)     Gray{N0f8}(0.0)  Gray{N0f8}(0.0)\n",
       " Gray{N0f8}(0.0)  Gray{N0f8}(0.0)  …  Gray{N0f8}(0.0)  Gray{N0f8}(0.0)\n",
       " Gray{N0f8}(0.0)  Gray{N0f8}(0.0)     Gray{N0f8}(0.0)  Gray{N0f8}(0.0)\n",
       " Gray{N0f8}(0.0)  Gray{N0f8}(0.0)     Gray{N0f8}(0.0)  Gray{N0f8}(0.0)\n",
       " Gray{N0f8}(0.0)  Gray{N0f8}(0.0)     Gray{N0f8}(0.0)  Gray{N0f8}(0.0)\n",
       " Gray{N0f8}(0.0)  Gray{N0f8}(0.0)     Gray{N0f8}(0.0)  Gray{N0f8}(0.0)\n",
       " Gray{N0f8}(0.0)  Gray{N0f8}(0.0)  …  Gray{N0f8}(0.0)  Gray{N0f8}(0.0)\n",
       " Gray{N0f8}(0.0)  Gray{N0f8}(0.0)     Gray{N0f8}(0.0)  Gray{N0f8}(0.0)\n",
       " Gray{N0f8}(0.0)  Gray{N0f8}(0.0)     Gray{N0f8}(0.0)  Gray{N0f8}(0.0)\n",
       " ⋮                                 ⋱                   \n",
       " Gray{N0f8}(0.0)  Gray{N0f8}(0.0)     Gray{N0f8}(0.0)  Gray{N0f8}(0.0)\n",
       " Gray{N0f8}(0.0)  Gray{N0f8}(0.0)     Gray{N0f8}(0.0)  Gray{N0f8}(0.0)\n",
       " Gray{N0f8}(0.0)  Gray{N0f8}(0.0)     Gray{N0f8}(0.0)  Gray{N0f8}(0.0)\n",
       " Gray{N0f8}(0.0)  Gray{N0f8}(0.0)     Gray{N0f8}(0.0)  Gray{N0f8}(0.0)\n",
       " Gray{N0f8}(0.0)  Gray{N0f8}(0.0)  …  Gray{N0f8}(0.0)  Gray{N0f8}(0.0)\n",
       " Gray{N0f8}(0.0)  Gray{N0f8}(0.0)     Gray{N0f8}(0.0)  Gray{N0f8}(0.0)\n",
       " Gray{N0f8}(0.0)  Gray{N0f8}(0.0)     Gray{N0f8}(0.0)  Gray{N0f8}(0.0)\n",
       " Gray{N0f8}(0.0)  Gray{N0f8}(0.0)     Gray{N0f8}(0.0)  Gray{N0f8}(0.0)\n",
       " Gray{N0f8}(0.0)  Gray{N0f8}(0.0)     Gray{N0f8}(0.0)  Gray{N0f8}(0.0)\n",
       " Gray{N0f8}(0.0)  Gray{N0f8}(0.0)  …  Gray{N0f8}(0.0)  Gray{N0f8}(0.0)\n",
       " Gray{N0f8}(0.0)  Gray{N0f8}(0.0)     Gray{N0f8}(0.0)  Gray{N0f8}(0.0)\n",
       " Gray{N0f8}(0.0)  Gray{N0f8}(0.0)     Gray{N0f8}(0.0)  Gray{N0f8}(0.0)"
      ]
     },
     "execution_count": 55,
     "metadata": {},
     "output_type": "execute_result"
    }
   ],
   "source": [
    "train = (Matrix{Gray{N0f8}}(train))'"
   ]
  },
  {
   "cell_type": "code",
   "execution_count": 31,
   "metadata": {},
   "outputs": [
    {
     "data": {
      "text/plain": [
       "((6067, 1785), 8, 6)"
      ]
     },
     "execution_count": 31,
     "metadata": {},
     "output_type": "execute_result"
    }
   ],
   "source": [
    "mis_match[2], labels[mis_match[2][1]], labels[mis_match[2][2]]"
   ]
  },
  {
   "cell_type": "code",
   "execution_count": 59,
   "metadata": {},
   "outputs": [
    {
     "data": {
      "image/png": "[encoded data removed]",
      "text/html": [
       "<img src=\"data:image/png;base64,iVBORw0KGgoAAAANSUhEUgAAAMYAAABUCAAAAAD8XhfJAAAABGdBTUEAALGPC/xhBQAAAAFzUkdCAK7OHOkAAAAgY0hSTQAAeiYAAICEAAD6AAAAgOgAAHUwAADqYAAAOpgAABdwnLpRPAAAAwRJREFUeAHdwU2IlAUYAOBn9SUl28sgRD8aiOvFQCMht6Kw9NQhI0SKfiD7kTIPHhJCZdm2QxhlylqJpkJiYKHkD0GRaIfMcDFQEIW6pEhqEBNWUDvxwcDs2Li7A9+avM8TxkCP4fQoX0ghpBBSCCmEFEIKIYWQQkghpBBSCCmEFEIKIYWQQkgh/Ec365ij8D3fKmznJ34ztjoVZnBMe0IKIYXQrEIvd1NTmMMchVc5wkIuKt8UKrzPJIUuvmEzX3PJqIQUQgqh2Vrmaa2bDTyhZC/wJjfQSU3dfB5mA2uoGllIIaQQhhjPrYbzOMvop6Ycm1iibhyD6joUlnM/D1E1gpBCSCEMcQcLNJzkIGd4ktlMZBzr+IjLyrGEmro/2adwjuO8RYW72M18IwgphBRCK39xmB6+U+hnNjvpUljMVuU4w3SF/exls4Yf2UWF+1jKB4YTUggphFb+5jMGNBxnLysUpijNG2znMQ7wjyaH6KOXTt7hKAOuKqQQUghDXGAjP9DNYvZxXsMuVigsolc5drDDVa0neJsJLGDAVYUUQgphiCrLFba40jRWqZvAl5xmPweMlRl08xQ1atxlOCGFkEIYnU+ZRU1hGtOYx4us5XUlm8E2plPRcDs3cllrIYWQQhiFp5nFOAY16WAlR9mjTKu5h5omcznNoxzTQkghpBBG4RlqDFLTwrPsUaYH6dDQoe4WDrKK9a4UUggphJFMZopClV+ZqnCSmeqm0klVafbxEjUNNXWTeI5f+ESTkEJIIYzkIh/zMn1sYTz3cp5znKLCLCZTVZoz6n5mI4cVFvMAs7mTZXzOZQ0hhZBCGIU++jR8RRebqBgTA7xLjW2cVHeETm5jN3N5jR4NIYWQQmjfRLYyV91ZflemQxzSQpVT9PMeq+nREFIIKYR2jOd51nCzugs8wgXXzk5eoUuTkEJIIbSjl5UaBunnhGvqEou4SZOQQkghtGOmugHO8iFf+B+ccKWQQkghtO8PljLgOhJSCCmEdix0nQophBRCCiGFkMK/1YyezXDSMhsAAAAASUVORK5C\">"
      ],
      "text/plain": [
       "28×66 MosaicView{Gray{N0f8}, 4, PermutedDimsArray{Gray{N0f8}, 4, (1, 2, 4, 3), (1, 2, 4, 3), Base.ReshapedArray{Gray{N0f8}, 4, PaddedView{Gray{N0f8}, 3, Tuple{Base.OneTo{Int64}, Base.OneTo{Int64}, Base.OneTo{Int64}}, StackViews.StackView{Gray{N0f8}, 3, 3, Tuple{OffsetArrays.OffsetMatrix{Gray{N0f8}, PaddedView{Gray{N0f8}, 2, Tuple{Base.IdentityUnitRange{UnitRange{Int64}}, Base.IdentityUnitRange{UnitRange{Int64}}}, LinearAlgebra.Adjoint{Gray{N0f8}, Matrix{Gray{N0f8}}}}}, OffsetArrays.OffsetMatrix{Gray{N0f8}, PaddedView{Gray{N0f8}, 2, Tuple{Base.IdentityUnitRange{UnitRange{Int64}}, Base.IdentityUnitRange{UnitRange{Int64}}}, LinearAlgebra.Adjoint{Gray{N0f8}, Matrix{Gray{N0f8}}}}}}}}, Tuple{Base.MultiplicativeInverses.SignedMultiplicativeInverse{Int64}, Base.MultiplicativeInverses.SignedMultiplicativeInverse{Int64}}}}}:\n",
       " Gray{N0f8}(0.0)  Gray{N0f8}(0.0)  …  Gray{N0f8}(0.0)  Gray{N0f8}(0.0)\n",
       " Gray{N0f8}(0.0)  Gray{N0f8}(0.0)     Gray{N0f8}(0.0)  Gray{N0f8}(0.0)\n",
       " Gray{N0f8}(0.0)  Gray{N0f8}(0.0)     Gray{N0f8}(0.0)  Gray{N0f8}(0.0)\n",
       " Gray{N0f8}(0.0)  Gray{N0f8}(0.0)     Gray{N0f8}(0.0)  Gray{N0f8}(0.0)\n",
       " Gray{N0f8}(0.0)  Gray{N0f8}(0.0)     Gray{N0f8}(0.0)  Gray{N0f8}(0.0)\n",
       " Gray{N0f8}(0.0)  Gray{N0f8}(0.0)  …  Gray{N0f8}(0.0)  Gray{N0f8}(0.0)\n",
       " Gray{N0f8}(0.0)  Gray{N0f8}(0.0)     Gray{N0f8}(0.0)  Gray{N0f8}(0.0)\n",
       " Gray{N0f8}(0.0)  Gray{N0f8}(0.0)     Gray{N0f8}(0.0)  Gray{N0f8}(0.0)\n",
       " Gray{N0f8}(0.0)  Gray{N0f8}(0.0)     Gray{N0f8}(0.0)  Gray{N0f8}(0.0)\n",
       " Gray{N0f8}(0.0)  Gray{N0f8}(0.0)     Gray{N0f8}(0.0)  Gray{N0f8}(0.0)\n",
       " Gray{N0f8}(0.0)  Gray{N0f8}(0.0)  …  Gray{N0f8}(0.0)  Gray{N0f8}(0.0)\n",
       " Gray{N0f8}(0.0)  Gray{N0f8}(0.0)     Gray{N0f8}(0.0)  Gray{N0f8}(0.0)\n",
       " Gray{N0f8}(0.0)  Gray{N0f8}(0.0)     Gray{N0f8}(0.0)  Gray{N0f8}(0.0)\n",
       " ⋮                                 ⋱                   ⋮\n",
       " Gray{N0f8}(0.0)  Gray{N0f8}(0.0)     Gray{N0f8}(0.0)  Gray{N0f8}(0.0)\n",
       " Gray{N0f8}(0.0)  Gray{N0f8}(0.0)     Gray{N0f8}(0.0)  Gray{N0f8}(0.0)\n",
       " Gray{N0f8}(0.0)  Gray{N0f8}(0.0)     Gray{N0f8}(0.0)  Gray{N0f8}(0.0)\n",
       " Gray{N0f8}(0.0)  Gray{N0f8}(0.0)     Gray{N0f8}(0.0)  Gray{N0f8}(0.0)\n",
       " Gray{N0f8}(0.0)  Gray{N0f8}(0.0)  …  Gray{N0f8}(0.0)  Gray{N0f8}(0.0)\n",
       " Gray{N0f8}(0.0)  Gray{N0f8}(0.0)     Gray{N0f8}(0.0)  Gray{N0f8}(0.0)\n",
       " Gray{N0f8}(0.0)  Gray{N0f8}(0.0)     Gray{N0f8}(0.0)  Gray{N0f8}(0.0)\n",
       " Gray{N0f8}(0.0)  Gray{N0f8}(0.0)     Gray{N0f8}(0.0)  Gray{N0f8}(0.0)\n",
       " Gray{N0f8}(0.0)  Gray{N0f8}(0.0)     Gray{N0f8}(0.0)  Gray{N0f8}(0.0)\n",
       " Gray{N0f8}(0.0)  Gray{N0f8}(0.0)  …  Gray{N0f8}(0.0)  Gray{N0f8}(0.0)\n",
       " Gray{N0f8}(0.0)  Gray{N0f8}(0.0)     Gray{N0f8}(0.0)  Gray{N0f8}(0.0)\n",
       " Gray{N0f8}(0.0)  Gray{N0f8}(0.0)     Gray{N0f8}(0.0)  Gray{N0f8}(0.0)"
      ]
     },
     "execution_count": 59,
     "metadata": {},
     "output_type": "execute_result"
    }
   ],
   "source": [
    "nm = 5\n",
    "test = reshape(digits[:,mis_match[nm][1]], 28, 28);\n",
    "test = (Matrix{Gray{N0f8}}(test))';\n",
    "train = reshape(digits[:,mis_match[nm][2]], 28, 28);\n",
    "train = (Matrix{Gray{N0f8}}(train))';\n",
    "mosaicview(test, train; fillvalue=0.5, npad=10, ncol=2, rowmajor=true)"
   ]
  },
  {
   "cell_type": "markdown",
   "metadata": {},
   "source": [
    "# Mis-Match Digist Distribution"
   ]
  },
  {
   "cell_type": "code",
   "execution_count": 35,
   "metadata": {},
   "outputs": [],
   "source": [
    "using Plots"
   ]
  },
  {
   "cell_type": "code",
   "execution_count": 40,
   "metadata": {},
   "outputs": [
    {
     "data": {
      "image/png": "[encoded data removed]",
      "image/svg+xml": [
       "<?xml version=\"1.0\" encoding=\"utf-8\"?>\n",
       "<svg xmlns=\"http://www.w3.org/2000/svg\" xmlns:xlink=\"http://www.w3.org/1999/xlink\" width=\"600\" height=\"400\" viewBox=\"0 0 2400 1600\">\n",
       "<defs>\n",
       "  <clipPath id=\"clip350\">\n",
       "    <rect x=\"0\" y=\"0\" width=\"2400\" height=\"1600\"/>\n",
       "  </clipPath>\n",
       "</defs>\n",
       "<path clip-path=\"url(#clip350)\" d=\"M0 1600 L2400 1600 L2400 0 L0 0  Z\" fill=\"#ffffff\" fill-rule=\"evenodd\" fill-opacity=\"1\"/>\n",
       "<defs>\n",
       "  <clipPath id=\"clip351\">\n",
       "    <rect x=\"480\" y=\"0\" width=\"1681\" height=\"1600\"/>\n",
       "  </clipPath>\n",
       "</defs>\n",
       "<path clip-path=\"url(#clip350)\" d=\"M202.177 1486.45 L2352.76 1486.45 L2352.76 47.2441 L202.177 47.2441  Z\" fill=\"#ffffff\" fill-rule=\"evenodd\" fill-opacity=\"1\"/>\n",
       "<defs>\n",
       "  <clipPath id=\"clip352\">\n",
       "    <rect x=\"202\" y=\"47\" width=\"2152\" height=\"1440\"/>\n",
       "  </clipPath>\n",
       "</defs>\n",
       "<polyline clip-path=\"url(#clip352)\" style=\"stroke:#000000; stroke-linecap:round; stroke-linejoin:round; stroke-width:2; stroke-opacity:0.1; fill:none\" points=\"320.462,1486.45 320.462,47.2441 \"/>\n",
       "<polyline clip-path=\"url(#clip352)\" style=\"stroke:#000000; stroke-linecap:round; stroke-linejoin:round; stroke-width:2; stroke-opacity:0.1; fill:none\" points=\"798.964,1486.45 798.964,47.2441 \"/>\n",
       "<polyline clip-path=\"url(#clip352)\" style=\"stroke:#000000; stroke-linecap:round; stroke-linejoin:round; stroke-width:2; stroke-opacity:0.1; fill:none\" points=\"1277.47,1486.45 1277.47,47.2441 \"/>\n",
       "<polyline clip-path=\"url(#clip352)\" style=\"stroke:#000000; stroke-linecap:round; stroke-linejoin:round; stroke-width:2; stroke-opacity:0.1; fill:none\" points=\"1755.97,1486.45 1755.97,47.2441 \"/>\n",
       "<polyline clip-path=\"url(#clip352)\" style=\"stroke:#000000; stroke-linecap:round; stroke-linejoin:round; stroke-width:2; stroke-opacity:0.1; fill:none\" points=\"2234.47,1486.45 2234.47,47.2441 \"/>\n",
       "<polyline clip-path=\"url(#clip350)\" style=\"stroke:#000000; stroke-linecap:round; stroke-linejoin:round; stroke-width:4; stroke-opacity:1; fill:none\" points=\"202.177,1486.45 2352.76,1486.45 \"/>\n",
       "<polyline clip-path=\"url(#clip350)\" style=\"stroke:#000000; stroke-linecap:round; stroke-linejoin:round; stroke-width:4; stroke-opacity:1; fill:none\" points=\"320.462,1486.45 320.462,1467.55 \"/>\n",
       "<polyline clip-path=\"url(#clip350)\" style=\"stroke:#000000; stroke-linecap:round; stroke-linejoin:round; stroke-width:4; stroke-opacity:1; fill:none\" points=\"798.964,1486.45 798.964,1467.55 \"/>\n",
       "<polyline clip-path=\"url(#clip350)\" style=\"stroke:#000000; stroke-linecap:round; stroke-linejoin:round; stroke-width:4; stroke-opacity:1; fill:none\" points=\"1277.47,1486.45 1277.47,1467.55 \"/>\n",
       "<polyline clip-path=\"url(#clip350)\" style=\"stroke:#000000; stroke-linecap:round; stroke-linejoin:round; stroke-width:4; stroke-opacity:1; fill:none\" points=\"1755.97,1486.45 1755.97,1467.55 \"/>\n",
       "<polyline clip-path=\"url(#clip350)\" style=\"stroke:#000000; stroke-linecap:round; stroke-linejoin:round; stroke-width:4; stroke-opacity:1; fill:none\" points=\"2234.47,1486.45 2234.47,1467.55 \"/>\n",
       "<path clip-path=\"url(#clip350)\" d=\"M297.847 1517.37 Q294.236 1517.37 292.407 1520.93 Q290.601 1524.47 290.601 1531.6 Q290.601 1538.71 292.407 1542.27 Q294.236 1545.82 297.847 1545.82 Q301.481 1545.82 303.287 1542.27 Q305.115 1538.71 305.115 1531.6 Q305.115 1524.47 303.287 1520.93 Q301.481 1517.37 297.847 1517.37 M297.847 1513.66 Q303.657 1513.66 306.712 1518.27 Q309.791 1522.85 309.791 1531.6 Q309.791 1540.33 306.712 1544.94 Q303.657 1549.52 297.847 1549.52 Q292.037 1549.52 288.958 1544.94 Q285.902 1540.33 285.902 1531.6 Q285.902 1522.85 288.958 1518.27 Q292.037 1513.66 297.847 1513.66 Z\" fill=\"#000000\" fill-rule=\"nonzero\" fill-opacity=\"1\" /><path clip-path=\"url(#clip350)\" d=\"M318.009 1542.97 L322.893 1542.97 L322.893 1548.85 L318.009 1548.85 L318.009 1542.97 Z\" fill=\"#000000\" fill-rule=\"nonzero\" fill-opacity=\"1\" /><path clip-path=\"url(#clip350)\" d=\"M343.078 1517.37 Q339.467 1517.37 337.638 1520.93 Q335.833 1524.47 335.833 1531.6 Q335.833 1538.71 337.638 1542.27 Q339.467 1545.82 343.078 1545.82 Q346.712 1545.82 348.518 1542.27 Q350.346 1538.71 350.346 1531.6 Q350.346 1524.47 348.518 1520.93 Q346.712 1517.37 343.078 1517.37 M343.078 1513.66 Q348.888 1513.66 351.944 1518.27 Q355.022 1522.85 355.022 1531.6 Q355.022 1540.33 351.944 1544.94 Q348.888 1549.52 343.078 1549.52 Q337.268 1549.52 334.189 1544.94 Q331.134 1540.33 331.134 1531.6 Q331.134 1522.85 334.189 1518.27 Q337.268 1513.66 343.078 1513.66 Z\" fill=\"#000000\" fill-rule=\"nonzero\" fill-opacity=\"1\" /><path clip-path=\"url(#clip350)\" d=\"M770.701 1544.91 L787.02 1544.91 L787.02 1548.85 L765.076 1548.85 L765.076 1544.91 Q767.738 1542.16 772.321 1537.53 Q776.927 1532.88 778.108 1531.53 Q780.353 1529.01 781.233 1527.27 Q782.136 1525.51 782.136 1523.82 Q782.136 1521.07 780.191 1519.33 Q778.27 1517.6 775.168 1517.6 Q772.969 1517.6 770.515 1518.36 Q768.085 1519.13 765.307 1520.68 L765.307 1515.95 Q768.131 1514.82 770.585 1514.24 Q773.039 1513.66 775.076 1513.66 Q780.446 1513.66 783.64 1516.35 Q786.835 1519.03 786.835 1523.52 Q786.835 1525.65 786.025 1527.57 Q785.238 1529.47 783.131 1532.07 Q782.552 1532.74 779.451 1535.95 Q776.349 1539.15 770.701 1544.91 Z\" fill=\"#000000\" fill-rule=\"nonzero\" fill-opacity=\"1\" /><path clip-path=\"url(#clip350)\" d=\"M796.835 1542.97 L801.719 1542.97 L801.719 1548.85 L796.835 1548.85 L796.835 1542.97 Z\" fill=\"#000000\" fill-rule=\"nonzero\" fill-opacity=\"1\" /><path clip-path=\"url(#clip350)\" d=\"M811.95 1514.29 L830.307 1514.29 L830.307 1518.22 L816.233 1518.22 L816.233 1526.7 Q817.251 1526.35 818.27 1526.19 Q819.288 1526 820.307 1526 Q826.094 1526 829.473 1529.17 Q832.853 1532.34 832.853 1537.76 Q832.853 1543.34 829.381 1546.44 Q825.909 1549.52 819.589 1549.52 Q817.413 1549.52 815.145 1549.15 Q812.899 1548.78 810.492 1548.04 L810.492 1543.34 Q812.575 1544.47 814.798 1545.03 Q817.02 1545.58 819.497 1545.58 Q823.501 1545.58 825.839 1543.48 Q828.177 1541.37 828.177 1537.76 Q828.177 1534.15 825.839 1532.04 Q823.501 1529.94 819.497 1529.94 Q817.622 1529.94 815.747 1530.35 Q813.895 1530.77 811.95 1531.65 L811.95 1514.29 Z\" fill=\"#000000\" fill-rule=\"nonzero\" fill-opacity=\"1\" /><path clip-path=\"url(#clip350)\" d=\"M1244.63 1514.29 L1262.99 1514.29 L1262.99 1518.22 L1248.91 1518.22 L1248.91 1526.7 Q1249.93 1526.35 1250.95 1526.19 Q1251.97 1526 1252.99 1526 Q1258.77 1526 1262.15 1529.17 Q1265.53 1532.34 1265.53 1537.76 Q1265.53 1543.34 1262.06 1546.44 Q1258.59 1549.52 1252.27 1549.52 Q1250.09 1549.52 1247.83 1549.15 Q1245.58 1548.78 1243.17 1548.04 L1243.17 1543.34 Q1245.26 1544.47 1247.48 1545.03 Q1249.7 1545.58 1252.18 1545.58 Q1256.18 1545.58 1258.52 1543.48 Q1260.86 1541.37 1260.86 1537.76 Q1260.86 1534.15 1258.52 1532.04 Q1256.18 1529.94 1252.18 1529.94 Q1250.3 1529.94 1248.43 1530.35 Q1246.58 1530.77 1244.63 1531.65 L1244.63 1514.29 Z\" fill=\"#000000\" fill-rule=\"nonzero\" fill-opacity=\"1\" /><path clip-path=\"url(#clip350)\" d=\"M1274.75 1542.97 L1279.63 1542.97 L1279.63 1548.85 L1274.75 1548.85 L1274.75 1542.97 Z\" fill=\"#000000\" fill-rule=\"nonzero\" fill-opacity=\"1\" /><path clip-path=\"url(#clip350)\" d=\"M1299.82 1517.37 Q1296.2 1517.37 1294.38 1520.93 Q1292.57 1524.47 1292.57 1531.6 Q1292.57 1538.71 1294.38 1542.27 Q1296.2 1545.82 1299.82 1545.82 Q1303.45 1545.82 1305.26 1542.27 Q1307.08 1538.71 1307.08 1531.6 Q1307.08 1524.47 1305.26 1520.93 Q1303.45 1517.37 1299.82 1517.37 M1299.82 1513.66 Q1305.63 1513.66 1308.68 1518.27 Q1311.76 1522.85 1311.76 1531.6 Q1311.76 1540.33 1308.68 1544.94 Q1305.63 1549.52 1299.82 1549.52 Q1294.01 1549.52 1290.93 1544.94 Q1287.87 1540.33 1287.87 1531.6 Q1287.87 1522.85 1290.93 1518.27 Q1294.01 1513.66 1299.82 1513.66 Z\" fill=\"#000000\" fill-rule=\"nonzero\" fill-opacity=\"1\" /><path clip-path=\"url(#clip350)\" d=\"M1722.29 1514.29 L1744.51 1514.29 L1744.51 1516.28 L1731.96 1548.85 L1727.08 1548.85 L1738.89 1518.22 L1722.29 1518.22 L1722.29 1514.29 Z\" fill=\"#000000\" fill-rule=\"nonzero\" fill-opacity=\"1\" /><path clip-path=\"url(#clip350)\" d=\"M1753.63 1542.97 L1758.51 1542.97 L1758.51 1548.85 L1753.63 1548.85 L1753.63 1542.97 Z\" fill=\"#000000\" fill-rule=\"nonzero\" fill-opacity=\"1\" /><path clip-path=\"url(#clip350)\" d=\"M1768.75 1514.29 L1787.1 1514.29 L1787.1 1518.22 L1773.03 1518.22 L1773.03 1526.7 Q1774.05 1526.35 1775.07 1526.19 Q1776.08 1526 1777.1 1526 Q1782.89 1526 1786.27 1529.17 Q1789.65 1532.34 1789.65 1537.76 Q1789.65 1543.34 1786.18 1546.44 Q1782.7 1549.52 1776.38 1549.52 Q1774.21 1549.52 1771.94 1549.15 Q1769.7 1548.78 1767.29 1548.04 L1767.29 1543.34 Q1769.37 1544.47 1771.59 1545.03 Q1773.82 1545.58 1776.29 1545.58 Q1780.3 1545.58 1782.63 1543.48 Q1784.97 1541.37 1784.97 1537.76 Q1784.97 1534.15 1782.63 1532.04 Q1780.3 1529.94 1776.29 1529.94 Q1774.42 1529.94 1772.54 1530.35 Q1770.69 1530.77 1768.75 1531.65 L1768.75 1514.29 Z\" fill=\"#000000\" fill-rule=\"nonzero\" fill-opacity=\"1\" /><path clip-path=\"url(#clip350)\" d=\"M2186.54 1544.91 L2194.18 1544.91 L2194.18 1518.55 L2185.87 1520.21 L2185.87 1515.95 L2194.13 1514.29 L2198.81 1514.29 L2198.81 1544.91 L2206.45 1544.91 L2206.45 1548.85 L2186.54 1548.85 L2186.54 1544.91 Z\" fill=\"#000000\" fill-rule=\"nonzero\" fill-opacity=\"1\" /><path clip-path=\"url(#clip350)\" d=\"M2225.89 1517.37 Q2222.28 1517.37 2220.45 1520.93 Q2218.65 1524.47 2218.65 1531.6 Q2218.65 1538.71 2220.45 1542.27 Q2222.28 1545.82 2225.89 1545.82 Q2229.53 1545.82 2231.33 1542.27 Q2233.16 1538.71 2233.16 1531.6 Q2233.16 1524.47 2231.33 1520.93 Q2229.53 1517.37 2225.89 1517.37 M2225.89 1513.66 Q2231.7 1513.66 2234.76 1518.27 Q2237.84 1522.85 2237.84 1531.6 Q2237.84 1540.33 2234.76 1544.94 Q2231.7 1549.52 2225.89 1549.52 Q2220.08 1549.52 2217.01 1544.94 Q2213.95 1540.33 2213.95 1531.6 Q2213.95 1522.85 2217.01 1518.27 Q2220.08 1513.66 2225.89 1513.66 Z\" fill=\"#000000\" fill-rule=\"nonzero\" fill-opacity=\"1\" /><path clip-path=\"url(#clip350)\" d=\"M2246.06 1542.97 L2250.94 1542.97 L2250.94 1548.85 L2246.06 1548.85 L2246.06 1542.97 Z\" fill=\"#000000\" fill-rule=\"nonzero\" fill-opacity=\"1\" /><path clip-path=\"url(#clip350)\" d=\"M2271.13 1517.37 Q2267.51 1517.37 2265.69 1520.93 Q2263.88 1524.47 2263.88 1531.6 Q2263.88 1538.71 2265.69 1542.27 Q2267.51 1545.82 2271.13 1545.82 Q2274.76 1545.82 2276.56 1542.27 Q2278.39 1538.71 2278.39 1531.6 Q2278.39 1524.47 2276.56 1520.93 Q2274.76 1517.37 2271.13 1517.37 M2271.13 1513.66 Q2276.94 1513.66 2279.99 1518.27 Q2283.07 1522.85 2283.07 1531.6 Q2283.07 1540.33 2279.99 1544.94 Q2276.94 1549.52 2271.13 1549.52 Q2265.31 1549.52 2262.24 1544.94 Q2259.18 1540.33 2259.18 1531.6 Q2259.18 1522.85 2262.24 1518.27 Q2265.31 1513.66 2271.13 1513.66 Z\" fill=\"#000000\" fill-rule=\"nonzero\" fill-opacity=\"1\" /><polyline clip-path=\"url(#clip352)\" style=\"stroke:#000000; stroke-linecap:round; stroke-linejoin:round; stroke-width:2; stroke-opacity:0.1; fill:none\" points=\"202.177,1445.72 2352.76,1445.72 \"/>\n",
       "<polyline clip-path=\"url(#clip352)\" style=\"stroke:#000000; stroke-linecap:round; stroke-linejoin:round; stroke-width:2; stroke-opacity:0.1; fill:none\" points=\"202.177,1100.98 2352.76,1100.98 \"/>\n",
       "<polyline clip-path=\"url(#clip352)\" style=\"stroke:#000000; stroke-linecap:round; stroke-linejoin:round; stroke-width:2; stroke-opacity:0.1; fill:none\" points=\"202.177,756.245 2352.76,756.245 \"/>\n",
       "<polyline clip-path=\"url(#clip352)\" style=\"stroke:#000000; stroke-linecap:round; stroke-linejoin:round; stroke-width:2; stroke-opacity:0.1; fill:none\" points=\"202.177,411.51 2352.76,411.51 \"/>\n",
       "<polyline clip-path=\"url(#clip352)\" style=\"stroke:#000000; stroke-linecap:round; stroke-linejoin:round; stroke-width:2; stroke-opacity:0.1; fill:none\" points=\"202.177,66.7751 2352.76,66.7751 \"/>\n",
       "<polyline clip-path=\"url(#clip350)\" style=\"stroke:#000000; stroke-linecap:round; stroke-linejoin:round; stroke-width:4; stroke-opacity:1; fill:none\" points=\"202.177,1486.45 202.177,47.2441 \"/>\n",
       "<polyline clip-path=\"url(#clip350)\" style=\"stroke:#000000; stroke-linecap:round; stroke-linejoin:round; stroke-width:4; stroke-opacity:1; fill:none\" points=\"202.177,1445.72 221.074,1445.72 \"/>\n",
       "<polyline clip-path=\"url(#clip350)\" style=\"stroke:#000000; stroke-linecap:round; stroke-linejoin:round; stroke-width:4; stroke-opacity:1; fill:none\" points=\"202.177,1100.98 221.074,1100.98 \"/>\n",
       "<polyline clip-path=\"url(#clip350)\" style=\"stroke:#000000; stroke-linecap:round; stroke-linejoin:round; stroke-width:4; stroke-opacity:1; fill:none\" points=\"202.177,756.245 221.074,756.245 \"/>\n",
       "<polyline clip-path=\"url(#clip350)\" style=\"stroke:#000000; stroke-linecap:round; stroke-linejoin:round; stroke-width:4; stroke-opacity:1; fill:none\" points=\"202.177,411.51 221.074,411.51 \"/>\n",
       "<polyline clip-path=\"url(#clip350)\" style=\"stroke:#000000; stroke-linecap:round; stroke-linejoin:round; stroke-width:4; stroke-opacity:1; fill:none\" points=\"202.177,66.7751 221.074,66.7751 \"/>\n",
       "<path clip-path=\"url(#clip350)\" d=\"M154.232 1431.51 Q150.621 1431.51 148.793 1435.08 Q146.987 1438.62 146.987 1445.75 Q146.987 1452.86 148.793 1456.42 Q150.621 1459.96 154.232 1459.96 Q157.867 1459.96 159.672 1456.42 Q161.501 1452.86 161.501 1445.75 Q161.501 1438.62 159.672 1435.08 Q157.867 1431.51 154.232 1431.51 M154.232 1427.81 Q160.042 1427.81 163.098 1432.42 Q166.177 1437 166.177 1445.75 Q166.177 1454.48 163.098 1459.08 Q160.042 1463.67 154.232 1463.67 Q148.422 1463.67 145.343 1459.08 Q142.288 1454.48 142.288 1445.75 Q142.288 1437 145.343 1432.42 Q148.422 1427.81 154.232 1427.81 Z\" fill=\"#000000\" fill-rule=\"nonzero\" fill-opacity=\"1\" /><path clip-path=\"url(#clip350)\" d=\"M57.7745 1114.33 L74.0939 1114.33 L74.0939 1118.26 L52.1495 1118.26 L52.1495 1114.33 Q54.8115 1111.57 59.3949 1106.94 Q64.0013 1102.29 65.1819 1100.95 Q67.4272 1098.42 68.3068 1096.69 Q69.2096 1094.93 69.2096 1093.24 Q69.2096 1090.48 67.2652 1088.75 Q65.3439 1087.01 62.2421 1087.01 Q60.043 1087.01 57.5893 1087.77 Q55.1588 1088.54 52.381 1090.09 L52.381 1085.37 Q55.2051 1084.23 57.6588 1083.65 Q60.1124 1083.08 62.1495 1083.08 Q67.5198 1083.08 70.7142 1085.76 Q73.9087 1088.45 73.9087 1092.94 Q73.9087 1095.07 73.0985 1096.99 Q72.3115 1098.89 70.205 1101.48 Q69.6263 1102.15 66.5245 1105.37 Q63.4226 1108.56 57.7745 1114.33 Z\" fill=\"#000000\" fill-rule=\"nonzero\" fill-opacity=\"1\" /><path clip-path=\"url(#clip350)\" d=\"M93.9086 1086.78 Q90.2975 1086.78 88.4688 1090.34 Q86.6632 1093.89 86.6632 1101.02 Q86.6632 1108.12 88.4688 1111.69 Q90.2975 1115.23 93.9086 1115.23 Q97.5428 1115.23 99.3483 1111.69 Q101.177 1108.12 101.177 1101.02 Q101.177 1093.89 99.3483 1090.34 Q97.5428 1086.78 93.9086 1086.78 M93.9086 1083.08 Q99.7187 1083.08 102.774 1087.68 Q105.853 1092.27 105.853 1101.02 Q105.853 1109.74 102.774 1114.35 Q99.7187 1118.93 93.9086 1118.93 Q88.0984 1118.93 85.0197 1114.35 Q81.9642 1109.74 81.9642 1101.02 Q81.9642 1092.27 85.0197 1087.68 Q88.0984 1083.08 93.9086 1083.08 Z\" fill=\"#000000\" fill-rule=\"nonzero\" fill-opacity=\"1\" /><path clip-path=\"url(#clip350)\" d=\"M124.07 1086.78 Q120.459 1086.78 118.631 1090.34 Q116.825 1093.89 116.825 1101.02 Q116.825 1108.12 118.631 1111.69 Q120.459 1115.23 124.07 1115.23 Q127.705 1115.23 129.51 1111.69 Q131.339 1108.12 131.339 1101.02 Q131.339 1093.89 129.51 1090.34 Q127.705 1086.78 124.07 1086.78 M124.07 1083.08 Q129.881 1083.08 132.936 1087.68 Q136.015 1092.27 136.015 1101.02 Q136.015 1109.74 132.936 1114.35 Q129.881 1118.93 124.07 1118.93 Q118.26 1118.93 115.182 1114.35 Q112.126 1109.74 112.126 1101.02 Q112.126 1092.27 115.182 1087.68 Q118.26 1083.08 124.07 1083.08 Z\" fill=\"#000000\" fill-rule=\"nonzero\" fill-opacity=\"1\" /><path clip-path=\"url(#clip350)\" d=\"M154.232 1086.78 Q150.621 1086.78 148.793 1090.34 Q146.987 1093.89 146.987 1101.02 Q146.987 1108.12 148.793 1111.69 Q150.621 1115.23 154.232 1115.23 Q157.867 1115.23 159.672 1111.69 Q161.501 1108.12 161.501 1101.02 Q161.501 1093.89 159.672 1090.34 Q157.867 1086.78 154.232 1086.78 M154.232 1083.08 Q160.042 1083.08 163.098 1087.68 Q166.177 1092.27 166.177 1101.02 Q166.177 1109.74 163.098 1114.35 Q160.042 1118.93 154.232 1118.93 Q148.422 1118.93 145.343 1114.35 Q142.288 1109.74 142.288 1101.02 Q142.288 1092.27 145.343 1087.68 Q148.422 1083.08 154.232 1083.08 Z\" fill=\"#000000\" fill-rule=\"nonzero\" fill-opacity=\"1\" /><path clip-path=\"url(#clip350)\" d=\"M66.5939 743.039 L54.7884 761.488 L66.5939 761.488 L66.5939 743.039 M65.367 738.965 L71.2466 738.965 L71.2466 761.488 L76.1772 761.488 L76.1772 765.377 L71.2466 765.377 L71.2466 773.525 L66.5939 773.525 L66.5939 765.377 L50.9921 765.377 L50.9921 760.863 L65.367 738.965 Z\" fill=\"#000000\" fill-rule=\"nonzero\" fill-opacity=\"1\" /><path clip-path=\"url(#clip350)\" d=\"M93.9086 742.044 Q90.2975 742.044 88.4688 745.609 Q86.6632 749.151 86.6632 756.28 Q86.6632 763.387 88.4688 766.951 Q90.2975 770.493 93.9086 770.493 Q97.5428 770.493 99.3483 766.951 Q101.177 763.387 101.177 756.28 Q101.177 749.151 99.3483 745.609 Q97.5428 742.044 93.9086 742.044 M93.9086 738.34 Q99.7187 738.34 102.774 742.947 Q105.853 747.53 105.853 756.28 Q105.853 765.007 102.774 769.613 Q99.7187 774.197 93.9086 774.197 Q88.0984 774.197 85.0197 769.613 Q81.9642 765.007 81.9642 756.28 Q81.9642 747.53 85.0197 742.947 Q88.0984 738.34 93.9086 738.34 Z\" fill=\"#000000\" fill-rule=\"nonzero\" fill-opacity=\"1\" /><path clip-path=\"url(#clip350)\" d=\"M124.07 742.044 Q120.459 742.044 118.631 745.609 Q116.825 749.151 116.825 756.28 Q116.825 763.387 118.631 766.951 Q120.459 770.493 124.07 770.493 Q127.705 770.493 129.51 766.951 Q131.339 763.387 131.339 756.28 Q131.339 749.151 129.51 745.609 Q127.705 742.044 124.07 742.044 M124.07 738.34 Q129.881 738.34 132.936 742.947 Q136.015 747.53 136.015 756.28 Q136.015 765.007 132.936 769.613 Q129.881 774.197 124.07 774.197 Q118.26 774.197 115.182 769.613 Q112.126 765.007 112.126 756.28 Q112.126 747.53 115.182 742.947 Q118.26 738.34 124.07 738.34 Z\" fill=\"#000000\" fill-rule=\"nonzero\" fill-opacity=\"1\" /><path clip-path=\"url(#clip350)\" d=\"M154.232 742.044 Q150.621 742.044 148.793 745.609 Q146.987 749.151 146.987 756.28 Q146.987 763.387 148.793 766.951 Q150.621 770.493 154.232 770.493 Q157.867 770.493 159.672 766.951 Q161.501 763.387 161.501 756.28 Q161.501 749.151 159.672 745.609 Q157.867 742.044 154.232 742.044 M154.232 738.34 Q160.042 738.34 163.098 742.947 Q166.177 747.53 166.177 756.28 Q166.177 765.007 163.098 769.613 Q160.042 774.197 154.232 774.197 Q148.422 774.197 145.343 769.613 Q142.288 765.007 142.288 756.28 Q142.288 747.53 145.343 742.947 Q148.422 738.34 154.232 738.34 Z\" fill=\"#000000\" fill-rule=\"nonzero\" fill-opacity=\"1\" /><path clip-path=\"url(#clip350)\" d=\"M64.3254 409.647 Q61.1773 409.647 59.3254 411.8 Q57.4967 413.952 57.4967 417.702 Q57.4967 421.429 59.3254 423.605 Q61.1773 425.758 64.3254 425.758 Q67.4735 425.758 69.3022 423.605 Q71.1541 421.429 71.1541 417.702 Q71.1541 413.952 69.3022 411.8 Q67.4735 409.647 64.3254 409.647 M73.6077 394.994 L73.6077 399.253 Q71.8485 398.42 70.0429 397.98 Q68.2606 397.54 66.5013 397.54 Q61.8717 397.54 59.418 400.665 Q56.9875 403.79 56.6402 410.11 Q58.006 408.096 60.0662 407.031 Q62.1263 405.943 64.6032 405.943 Q69.8115 405.943 72.8207 409.114 Q75.8531 412.263 75.8531 417.702 Q75.8531 423.026 72.705 426.244 Q69.5568 429.462 64.3254 429.462 Q58.33 429.462 55.1588 424.878 Q51.9875 420.272 51.9875 411.545 Q51.9875 403.351 55.8764 398.489 Q59.7652 393.605 66.3161 393.605 Q68.0754 393.605 69.8578 393.952 Q71.6633 394.3 73.6077 394.994 Z\" fill=\"#000000\" fill-rule=\"nonzero\" fill-opacity=\"1\" /><path clip-path=\"url(#clip350)\" d=\"M93.9086 397.309 Q90.2975 397.309 88.4688 400.874 Q86.6632 404.415 86.6632 411.545 Q86.6632 418.651 88.4688 422.216 Q90.2975 425.758 93.9086 425.758 Q97.5428 425.758 99.3483 422.216 Q101.177 418.651 101.177 411.545 Q101.177 404.415 99.3483 400.874 Q97.5428 397.309 93.9086 397.309 M93.9086 393.605 Q99.7187 393.605 102.774 398.212 Q105.853 402.795 105.853 411.545 Q105.853 420.272 102.774 424.878 Q99.7187 429.462 93.9086 429.462 Q88.0984 429.462 85.0197 424.878 Q81.9642 420.272 81.9642 411.545 Q81.9642 402.795 85.0197 398.212 Q88.0984 393.605 93.9086 393.605 Z\" fill=\"#000000\" fill-rule=\"nonzero\" fill-opacity=\"1\" /><path clip-path=\"url(#clip350)\" d=\"M124.07 397.309 Q120.459 397.309 118.631 400.874 Q116.825 404.415 116.825 411.545 Q116.825 418.651 118.631 422.216 Q120.459 425.758 124.07 425.758 Q127.705 425.758 129.51 422.216 Q131.339 418.651 131.339 411.545 Q131.339 404.415 129.51 400.874 Q127.705 397.309 124.07 397.309 M124.07 393.605 Q129.881 393.605 132.936 398.212 Q136.015 402.795 136.015 411.545 Q136.015 420.272 132.936 424.878 Q129.881 429.462 124.07 429.462 Q118.26 429.462 115.182 424.878 Q112.126 420.272 112.126 411.545 Q112.126 402.795 115.182 398.212 Q118.26 393.605 124.07 393.605 Z\" fill=\"#000000\" fill-rule=\"nonzero\" fill-opacity=\"1\" /><path clip-path=\"url(#clip350)\" d=\"M154.232 397.309 Q150.621 397.309 148.793 400.874 Q146.987 404.415 146.987 411.545 Q146.987 418.651 148.793 422.216 Q150.621 425.758 154.232 425.758 Q157.867 425.758 159.672 422.216 Q161.501 418.651 161.501 411.545 Q161.501 404.415 159.672 400.874 Q157.867 397.309 154.232 397.309 M154.232 393.605 Q160.042 393.605 163.098 398.212 Q166.177 402.795 166.177 411.545 Q166.177 420.272 163.098 424.878 Q160.042 429.462 154.232 429.462 Q148.422 429.462 145.343 424.878 Q142.288 420.272 142.288 411.545 Q142.288 402.795 145.343 398.212 Q148.422 393.605 154.232 393.605 Z\" fill=\"#000000\" fill-rule=\"nonzero\" fill-opacity=\"1\" /><path clip-path=\"url(#clip350)\" d=\"M63.7467 67.6431 Q60.4134 67.6431 58.4921 69.4255 Q56.5939 71.2079 56.5939 74.3329 Q56.5939 77.4579 58.4921 79.2403 Q60.4134 81.0227 63.7467 81.0227 Q67.08 81.0227 69.0013 79.2403 Q70.9226 77.4347 70.9226 74.3329 Q70.9226 71.2079 69.0013 69.4255 Q67.1032 67.6431 63.7467 67.6431 M59.0708 65.6524 Q56.0615 64.9116 54.3717 62.8515 Q52.7051 60.7913 52.7051 57.8284 Q52.7051 53.6849 55.6449 51.2775 Q58.6078 48.8701 63.7467 48.8701 Q68.9087 48.8701 71.8485 51.2775 Q74.7883 53.6849 74.7883 57.8284 Q74.7883 60.7913 73.0985 62.8515 Q71.4318 64.9116 68.4457 65.6524 Q71.8253 66.4394 73.7003 68.7311 Q75.5985 71.0227 75.5985 74.3329 Q75.5985 79.356 72.5198 82.0412 Q69.4642 84.7264 63.7467 84.7264 Q58.0291 84.7264 54.9504 82.0412 Q51.8949 79.356 51.8949 74.3329 Q51.8949 71.0227 53.793 68.7311 Q55.6912 66.4394 59.0708 65.6524 M57.3578 58.2682 Q57.3578 60.9533 59.0245 62.458 Q60.7143 63.9626 63.7467 63.9626 Q66.7559 63.9626 68.4457 62.458 Q70.1587 60.9533 70.1587 58.2682 Q70.1587 55.583 68.4457 54.0784 Q66.7559 52.5738 63.7467 52.5738 Q60.7143 52.5738 59.0245 54.0784 Q57.3578 55.583 57.3578 58.2682 Z\" fill=\"#000000\" fill-rule=\"nonzero\" fill-opacity=\"1\" /><path clip-path=\"url(#clip350)\" d=\"M93.9086 52.5738 Q90.2975 52.5738 88.4688 56.1385 Q86.6632 59.6802 86.6632 66.8098 Q86.6632 73.9162 88.4688 77.481 Q90.2975 81.0227 93.9086 81.0227 Q97.5428 81.0227 99.3483 77.481 Q101.177 73.9162 101.177 66.8098 Q101.177 59.6802 99.3483 56.1385 Q97.5428 52.5738 93.9086 52.5738 M93.9086 48.8701 Q99.7187 48.8701 102.774 53.4765 Q105.853 58.0598 105.853 66.8098 Q105.853 75.5366 102.774 80.143 Q99.7187 84.7264 93.9086 84.7264 Q88.0984 84.7264 85.0197 80.143 Q81.9642 75.5366 81.9642 66.8098 Q81.9642 58.0598 85.0197 53.4765 Q88.0984 48.8701 93.9086 48.8701 Z\" fill=\"#000000\" fill-rule=\"nonzero\" fill-opacity=\"1\" /><path clip-path=\"url(#clip350)\" d=\"M124.07 52.5738 Q120.459 52.5738 118.631 56.1385 Q116.825 59.6802 116.825 66.8098 Q116.825 73.9162 118.631 77.481 Q120.459 81.0227 124.07 81.0227 Q127.705 81.0227 129.51 77.481 Q131.339 73.9162 131.339 66.8098 Q131.339 59.6802 129.51 56.1385 Q127.705 52.5738 124.07 52.5738 M124.07 48.8701 Q129.881 48.8701 132.936 53.4765 Q136.015 58.0598 136.015 66.8098 Q136.015 75.5366 132.936 80.143 Q129.881 84.7264 124.07 84.7264 Q118.26 84.7264 115.182 80.143 Q112.126 75.5366 112.126 66.8098 Q112.126 58.0598 115.182 53.4765 Q118.26 48.8701 124.07 48.8701 Z\" fill=\"#000000\" fill-rule=\"nonzero\" fill-opacity=\"1\" /><path clip-path=\"url(#clip350)\" d=\"M154.232 52.5738 Q150.621 52.5738 148.793 56.1385 Q146.987 59.6802 146.987 66.8098 Q146.987 73.9162 148.793 77.481 Q150.621 81.0227 154.232 81.0227 Q157.867 81.0227 159.672 77.481 Q161.501 73.9162 161.501 66.8098 Q161.501 59.6802 159.672 56.1385 Q157.867 52.5738 154.232 52.5738 M154.232 48.8701 Q160.042 48.8701 163.098 53.4765 Q166.177 58.0598 166.177 66.8098 Q166.177 75.5366 163.098 80.143 Q160.042 84.7264 154.232 84.7264 Q148.422 84.7264 145.343 80.143 Q142.288 75.5366 142.288 66.8098 Q142.288 58.0598 145.343 53.4765 Q148.422 48.8701 154.232 48.8701 Z\" fill=\"#000000\" fill-rule=\"nonzero\" fill-opacity=\"1\" /><path clip-path=\"url(#clip352)\" d=\"M320.462 255.862 L320.462 1445.72 L511.863 1445.72 L511.863 255.862 L320.462 255.862 L320.462 255.862  Z\" fill=\"#808080\" fill-rule=\"evenodd\" fill-opacity=\"1\"/>\n",
       "<polyline clip-path=\"url(#clip352)\" style=\"stroke:#000000; stroke-linecap:round; stroke-linejoin:round; stroke-width:4; stroke-opacity:1; fill:none\" points=\"320.462,255.862 320.462,1445.72 511.863,1445.72 511.863,255.862 320.462,255.862 \"/>\n",
       "<path clip-path=\"url(#clip352)\" d=\"M511.863 87.9763 L511.863 1445.72 L703.264 1445.72 L703.264 87.9763 L511.863 87.9763 L511.863 87.9763  Z\" fill=\"#808080\" fill-rule=\"evenodd\" fill-opacity=\"1\"/>\n",
       "<polyline clip-path=\"url(#clip352)\" style=\"stroke:#000000; stroke-linecap:round; stroke-linejoin:round; stroke-width:4; stroke-opacity:1; fill:none\" points=\"511.863,87.9763 511.863,1445.72 703.264,1445.72 703.264,87.9763 511.863,87.9763 \"/>\n",
       "<path clip-path=\"url(#clip352)\" d=\"M703.264 240.866 L703.264 1445.72 L894.665 1445.72 L894.665 240.866 L703.264 240.866 L703.264 240.866  Z\" fill=\"#808080\" fill-rule=\"evenodd\" fill-opacity=\"1\"/>\n",
       "<polyline clip-path=\"url(#clip352)\" style=\"stroke:#000000; stroke-linecap:round; stroke-linejoin:round; stroke-width:4; stroke-opacity:1; fill:none\" points=\"703.264,240.866 703.264,1445.72 894.665,1445.72 894.665,240.866 703.264,240.866 \"/>\n",
       "<path clip-path=\"url(#clip352)\" d=\"M894.665 214.839 L894.665 1445.72 L1086.07 1445.72 L1086.07 214.839 L894.665 214.839 L894.665 214.839  Z\" fill=\"#808080\" fill-rule=\"evenodd\" fill-opacity=\"1\"/>\n",
       "<polyline clip-path=\"url(#clip352)\" style=\"stroke:#000000; stroke-linecap:round; stroke-linejoin:round; stroke-width:4; stroke-opacity:1; fill:none\" points=\"894.665,214.839 894.665,1445.72 1086.07,1445.72 1086.07,214.839 894.665,214.839 \"/>\n",
       "<path clip-path=\"url(#clip352)\" d=\"M1086.07 269.479 L1086.07 1445.72 L1277.47 1445.72 L1277.47 269.479 L1086.07 269.479 L1086.07 269.479  Z\" fill=\"#808080\" fill-rule=\"evenodd\" fill-opacity=\"1\"/>\n",
       "<polyline clip-path=\"url(#clip352)\" style=\"stroke:#000000; stroke-linecap:round; stroke-linejoin:round; stroke-width:4; stroke-opacity:1; fill:none\" points=\"1086.07,269.479 1086.07,1445.72 1277.47,1445.72 1277.47,269.479 1086.07,269.479 \"/>\n",
       "<path clip-path=\"url(#clip352)\" d=\"M1277.47 357.559 L1277.47 1445.72 L1468.87 1445.72 L1468.87 357.559 L1277.47 357.559 L1277.47 357.559  Z\" fill=\"#808080\" fill-rule=\"evenodd\" fill-opacity=\"1\"/>\n",
       "<polyline clip-path=\"url(#clip352)\" style=\"stroke:#000000; stroke-linecap:round; stroke-linejoin:round; stroke-width:4; stroke-opacity:1; fill:none\" points=\"1277.47,357.559 1277.47,1445.72 1468.87,1445.72 1468.87,357.559 1277.47,357.559 \"/>\n",
       "<path clip-path=\"url(#clip352)\" d=\"M1468.87 260.516 L1468.87 1445.72 L1660.27 1445.72 L1660.27 260.516 L1468.87 260.516 L1468.87 260.516  Z\" fill=\"#808080\" fill-rule=\"evenodd\" fill-opacity=\"1\"/>\n",
       "<polyline clip-path=\"url(#clip352)\" style=\"stroke:#000000; stroke-linecap:round; stroke-linejoin:round; stroke-width:4; stroke-opacity:1; fill:none\" points=\"1468.87,260.516 1468.87,1445.72 1660.27,1445.72 1660.27,260.516 1468.87,260.516 \"/>\n",
       "<path clip-path=\"url(#clip352)\" d=\"M1660.27 188.639 L1660.27 1445.72 L1851.67 1445.72 L1851.67 188.639 L1660.27 188.639 L1660.27 188.639  Z\" fill=\"#808080\" fill-rule=\"evenodd\" fill-opacity=\"1\"/>\n",
       "<polyline clip-path=\"url(#clip352)\" style=\"stroke:#000000; stroke-linecap:round; stroke-linejoin:round; stroke-width:4; stroke-opacity:1; fill:none\" points=\"1660.27,188.639 1660.27,1445.72 1851.67,1445.72 1851.67,188.639 1660.27,188.639 \"/>\n",
       "<path clip-path=\"url(#clip352)\" d=\"M1851.67 269.307 L1851.67 1445.72 L2043.07 1445.72 L2043.07 269.307 L1851.67 269.307 L1851.67 269.307  Z\" fill=\"#808080\" fill-rule=\"evenodd\" fill-opacity=\"1\"/>\n",
       "<polyline clip-path=\"url(#clip352)\" style=\"stroke:#000000; stroke-linecap:round; stroke-linejoin:round; stroke-width:4; stroke-opacity:1; fill:none\" points=\"1851.67,269.307 1851.67,1445.72 2043.07,1445.72 2043.07,269.307 1851.67,269.307 \"/>\n",
       "<path clip-path=\"url(#clip352)\" d=\"M2043.07 246.382 L2043.07 1445.72 L2234.47 1445.72 L2234.47 246.382 L2043.07 246.382 L2043.07 246.382  Z\" fill=\"#808080\" fill-rule=\"evenodd\" fill-opacity=\"1\"/>\n",
       "<polyline clip-path=\"url(#clip352)\" style=\"stroke:#000000; stroke-linecap:round; stroke-linejoin:round; stroke-width:4; stroke-opacity:1; fill:none\" points=\"2043.07,246.382 2043.07,1445.72 2234.47,1445.72 2234.47,246.382 2043.07,246.382 \"/>\n",
       "<circle clip-path=\"url(#clip352)\" style=\"fill:#808080; stroke:none; fill-opacity:0\" cx=\"416.163\" cy=\"255.862\" r=\"2\"/>\n",
       "<circle clip-path=\"url(#clip352)\" style=\"fill:#808080; stroke:none; fill-opacity:0\" cx=\"607.564\" cy=\"87.9763\" r=\"2\"/>\n",
       "<circle clip-path=\"url(#clip352)\" style=\"fill:#808080; stroke:none; fill-opacity:0\" cx=\"798.964\" cy=\"240.866\" r=\"2\"/>\n",
       "<circle clip-path=\"url(#clip352)\" style=\"fill:#808080; stroke:none; fill-opacity:0\" cx=\"990.365\" cy=\"214.839\" r=\"2\"/>\n",
       "<circle clip-path=\"url(#clip352)\" style=\"fill:#808080; stroke:none; fill-opacity:0\" cx=\"1181.77\" cy=\"269.479\" r=\"2\"/>\n",
       "<circle clip-path=\"url(#clip352)\" style=\"fill:#808080; stroke:none; fill-opacity:0\" cx=\"1373.17\" cy=\"357.559\" r=\"2\"/>\n",
       "<circle clip-path=\"url(#clip352)\" style=\"fill:#808080; stroke:none; fill-opacity:0\" cx=\"1564.57\" cy=\"260.516\" r=\"2\"/>\n",
       "<circle clip-path=\"url(#clip352)\" style=\"fill:#808080; stroke:none; fill-opacity:0\" cx=\"1755.97\" cy=\"188.639\" r=\"2\"/>\n",
       "<circle clip-path=\"url(#clip352)\" style=\"fill:#808080; stroke:none; fill-opacity:0\" cx=\"1947.37\" cy=\"269.307\" r=\"2\"/>\n",
       "<circle clip-path=\"url(#clip352)\" style=\"fill:#808080; stroke:none; fill-opacity:0\" cx=\"2138.77\" cy=\"246.382\" r=\"2\"/>\n",
       "<path clip-path=\"url(#clip350)\" d=\"M1941.13 198.898 L2281.07 198.898 L2281.07 95.2176 L1941.13 95.2176  Z\" fill=\"#ffffff\" fill-rule=\"evenodd\" fill-opacity=\"1\"/>\n",
       "<polyline clip-path=\"url(#clip350)\" style=\"stroke:#000000; stroke-linecap:round; stroke-linejoin:round; stroke-width:4; stroke-opacity:1; fill:none\" points=\"1941.13,198.898 2281.07,198.898 2281.07,95.2176 1941.13,95.2176 1941.13,198.898 \"/>\n",
       "<path clip-path=\"url(#clip350)\" d=\"M1965.02 167.794 L2108.4 167.794 L2108.4 126.322 L1965.02 126.322 L1965.02 167.794  Z\" fill=\"#808080\" fill-rule=\"evenodd\" fill-opacity=\"1\"/>\n",
       "<polyline clip-path=\"url(#clip350)\" style=\"stroke:#000000; stroke-linecap:round; stroke-linejoin:round; stroke-width:4; stroke-opacity:1; fill:none\" points=\"1965.02,167.794 2108.4,167.794 2108.4,126.322 1965.02,126.322 1965.02,167.794 \"/>\n",
       "<path clip-path=\"url(#clip350)\" d=\"M2151.2 142.347 L2151.2 128.319 L2155.46 128.319 L2155.46 164.338 L2151.2 164.338 L2151.2 160.449 Q2149.86 162.763 2147.8 163.898 Q2145.76 165.009 2142.89 165.009 Q2138.19 165.009 2135.23 161.259 Q2132.29 157.509 2132.29 151.398 Q2132.29 145.287 2135.23 141.537 Q2138.19 137.787 2142.89 137.787 Q2145.76 137.787 2147.8 138.921 Q2149.86 140.032 2151.2 142.347 M2136.69 151.398 Q2136.69 156.097 2138.61 158.782 Q2140.55 161.444 2143.93 161.444 Q2147.31 161.444 2149.26 158.782 Q2151.2 156.097 2151.2 151.398 Q2151.2 146.699 2149.26 144.037 Q2147.31 141.352 2143.93 141.352 Q2140.55 141.352 2138.61 144.037 Q2136.69 146.699 2136.69 151.398 Z\" fill=\"#000000\" fill-rule=\"nonzero\" fill-opacity=\"1\" /><path clip-path=\"url(#clip350)\" d=\"M2164.24 138.412 L2168.49 138.412 L2168.49 164.338 L2164.24 164.338 L2164.24 138.412 M2164.24 128.319 L2168.49 128.319 L2168.49 133.713 L2164.24 133.713 L2164.24 128.319 Z\" fill=\"#000000\" fill-rule=\"nonzero\" fill-opacity=\"1\" /><path clip-path=\"url(#clip350)\" d=\"M2194.47 151.074 Q2194.47 146.444 2192.55 143.898 Q2190.65 141.352 2187.2 141.352 Q2183.77 141.352 2181.85 143.898 Q2179.95 146.444 2179.95 151.074 Q2179.95 155.68 2181.85 158.226 Q2183.77 160.773 2187.2 160.773 Q2190.65 160.773 2192.55 158.226 Q2194.47 155.68 2194.47 151.074 M2198.73 161.12 Q2198.73 167.74 2195.79 170.958 Q2192.85 174.199 2186.78 174.199 Q2184.54 174.199 2182.55 173.851 Q2180.55 173.527 2178.68 172.833 L2178.68 168.689 Q2180.55 169.708 2182.38 170.194 Q2184.21 170.68 2186.11 170.68 Q2190.3 170.68 2192.38 168.481 Q2194.47 166.305 2194.47 161.884 L2194.47 159.777 Q2193.15 162.069 2191.09 163.203 Q2189.03 164.338 2186.16 164.338 Q2181.39 164.338 2178.47 160.703 Q2175.55 157.069 2175.55 151.074 Q2175.55 145.055 2178.47 141.421 Q2181.39 137.787 2186.16 137.787 Q2189.03 137.787 2191.09 138.921 Q2193.15 140.055 2194.47 142.347 L2194.47 138.412 L2198.73 138.412 L2198.73 161.12 Z\" fill=\"#000000\" fill-rule=\"nonzero\" fill-opacity=\"1\" /><path clip-path=\"url(#clip350)\" d=\"M2207.5 138.412 L2211.76 138.412 L2211.76 164.338 L2207.5 164.338 L2207.5 138.412 M2207.5 128.319 L2211.76 128.319 L2211.76 133.713 L2207.5 133.713 L2207.5 128.319 Z\" fill=\"#000000\" fill-rule=\"nonzero\" fill-opacity=\"1\" /><path clip-path=\"url(#clip350)\" d=\"M2224.88 131.051 L2224.88 138.412 L2233.66 138.412 L2233.66 141.722 L2224.88 141.722 L2224.88 155.796 Q2224.88 158.967 2225.74 159.87 Q2226.62 160.773 2229.28 160.773 L2233.66 160.773 L2233.66 164.338 L2229.28 164.338 Q2224.35 164.338 2222.48 162.509 Q2220.6 160.657 2220.6 155.796 L2220.6 141.722 L2217.48 141.722 L2217.48 138.412 L2220.6 138.412 L2220.6 131.051 L2224.88 131.051 Z\" fill=\"#000000\" fill-rule=\"nonzero\" fill-opacity=\"1\" /><path clip-path=\"url(#clip350)\" d=\"M2255.79 139.176 L2255.79 143.203 Q2253.98 142.277 2252.04 141.815 Q2250.09 141.352 2248.01 141.352 Q2244.84 141.352 2243.24 142.324 Q2241.67 143.296 2241.67 145.24 Q2241.67 146.722 2242.8 147.578 Q2243.93 148.412 2247.36 149.176 L2248.82 149.5 Q2253.36 150.472 2255.25 152.254 Q2257.17 154.014 2257.17 157.185 Q2257.17 160.796 2254.3 162.902 Q2251.46 165.009 2246.46 165.009 Q2244.37 165.009 2242.11 164.592 Q2239.86 164.199 2237.36 163.388 L2237.36 158.99 Q2239.72 160.217 2242.01 160.842 Q2244.3 161.444 2246.55 161.444 Q2249.56 161.444 2251.18 160.426 Q2252.8 159.384 2252.8 157.509 Q2252.8 155.773 2251.62 154.847 Q2250.46 153.921 2246.5 153.064 L2245.02 152.717 Q2241.06 151.884 2239.3 150.171 Q2237.55 148.435 2237.55 145.426 Q2237.55 141.768 2240.14 139.778 Q2242.73 137.787 2247.5 137.787 Q2249.86 137.787 2251.94 138.134 Q2254.03 138.481 2255.79 139.176 Z\" fill=\"#000000\" fill-rule=\"nonzero\" fill-opacity=\"1\" /></svg>\n"
      ],
      "text/html": [
       "<?xml version=\"1.0\" encoding=\"utf-8\"?>\n",
       "<svg xmlns=\"http://www.w3.org/2000/svg\" xmlns:xlink=\"http://www.w3.org/1999/xlink\" width=\"600\" height=\"400\" viewBox=\"0 0 2400 1600\">\n",
       "<defs>\n",
       "  <clipPath id=\"clip400\">\n",
       "    <rect x=\"0\" y=\"0\" width=\"2400\" height=\"1600\"/>\n",
       "  </clipPath>\n",
       "</defs>\n",
       "<path clip-path=\"url(#clip400)\" d=\"M0 1600 L2400 1600 L2400 0 L0 0  Z\" fill=\"#ffffff\" fill-rule=\"evenodd\" fill-opacity=\"1\"/>\n",
       "<defs>\n",
       "  <clipPath id=\"clip401\">\n",
       "    <rect x=\"480\" y=\"0\" width=\"1681\" height=\"1600\"/>\n",
       "  </clipPath>\n",
       "</defs>\n",
       "<path clip-path=\"url(#clip400)\" d=\"M202.177 1486.45 L2352.76 1486.45 L2352.76 47.2441 L202.177 47.2441  Z\" fill=\"#ffffff\" fill-rule=\"evenodd\" fill-opacity=\"1\"/>\n",
       "<defs>\n",
       "  <clipPath id=\"clip402\">\n",
       "    <rect x=\"202\" y=\"47\" width=\"2152\" height=\"1440\"/>\n",
       "  </clipPath>\n",
       "</defs>\n",
       "<polyline clip-path=\"url(#clip402)\" style=\"stroke:#000000; stroke-linecap:round; stroke-linejoin:round; stroke-width:2; stroke-opacity:0.1; fill:none\" points=\"320.462,1486.45 320.462,47.2441 \"/>\n",
       "<polyline clip-path=\"url(#clip402)\" style=\"stroke:#000000; stroke-linecap:round; stroke-linejoin:round; stroke-width:2; stroke-opacity:0.1; fill:none\" points=\"798.964,1486.45 798.964,47.2441 \"/>\n",
       "<polyline clip-path=\"url(#clip402)\" style=\"stroke:#000000; stroke-linecap:round; stroke-linejoin:round; stroke-width:2; stroke-opacity:0.1; fill:none\" points=\"1277.47,1486.45 1277.47,47.2441 \"/>\n",
       "<polyline clip-path=\"url(#clip402)\" style=\"stroke:#000000; stroke-linecap:round; stroke-linejoin:round; stroke-width:2; stroke-opacity:0.1; fill:none\" points=\"1755.97,1486.45 1755.97,47.2441 \"/>\n",
       "<polyline clip-path=\"url(#clip402)\" style=\"stroke:#000000; stroke-linecap:round; stroke-linejoin:round; stroke-width:2; stroke-opacity:0.1; fill:none\" points=\"2234.47,1486.45 2234.47,47.2441 \"/>\n",
       "<polyline clip-path=\"url(#clip400)\" style=\"stroke:#000000; stroke-linecap:round; stroke-linejoin:round; stroke-width:4; stroke-opacity:1; fill:none\" points=\"202.177,1486.45 2352.76,1486.45 \"/>\n",
       "<polyline clip-path=\"url(#clip400)\" style=\"stroke:#000000; stroke-linecap:round; stroke-linejoin:round; stroke-width:4; stroke-opacity:1; fill:none\" points=\"320.462,1486.45 320.462,1467.55 \"/>\n",
       "<polyline clip-path=\"url(#clip400)\" style=\"stroke:#000000; stroke-linecap:round; stroke-linejoin:round; stroke-width:4; stroke-opacity:1; fill:none\" points=\"798.964,1486.45 798.964,1467.55 \"/>\n",
       "<polyline clip-path=\"url(#clip400)\" style=\"stroke:#000000; stroke-linecap:round; stroke-linejoin:round; stroke-width:4; stroke-opacity:1; fill:none\" points=\"1277.47,1486.45 1277.47,1467.55 \"/>\n",
       "<polyline clip-path=\"url(#clip400)\" style=\"stroke:#000000; stroke-linecap:round; stroke-linejoin:round; stroke-width:4; stroke-opacity:1; fill:none\" points=\"1755.97,1486.45 1755.97,1467.55 \"/>\n",
       "<polyline clip-path=\"url(#clip400)\" style=\"stroke:#000000; stroke-linecap:round; stroke-linejoin:round; stroke-width:4; stroke-opacity:1; fill:none\" points=\"2234.47,1486.45 2234.47,1467.55 \"/>\n",
       "<path clip-path=\"url(#clip400)\" d=\"M297.847 1517.37 Q294.236 1517.37 292.407 1520.93 Q290.601 1524.47 290.601 1531.6 Q290.601 1538.71 292.407 1542.27 Q294.236 1545.82 297.847 1545.82 Q301.481 1545.82 303.287 1542.27 Q305.115 1538.71 305.115 1531.6 Q305.115 1524.47 303.287 1520.93 Q301.481 1517.37 297.847 1517.37 M297.847 1513.66 Q303.657 1513.66 306.712 1518.27 Q309.791 1522.85 309.791 1531.6 Q309.791 1540.33 306.712 1544.94 Q303.657 1549.52 297.847 1549.52 Q292.037 1549.52 288.958 1544.94 Q285.902 1540.33 285.902 1531.6 Q285.902 1522.85 288.958 1518.27 Q292.037 1513.66 297.847 1513.66 Z\" fill=\"#000000\" fill-rule=\"nonzero\" fill-opacity=\"1\" /><path clip-path=\"url(#clip400)\" d=\"M318.009 1542.97 L322.893 1542.97 L322.893 1548.85 L318.009 1548.85 L318.009 1542.97 Z\" fill=\"#000000\" fill-rule=\"nonzero\" fill-opacity=\"1\" /><path clip-path=\"url(#clip400)\" d=\"M343.078 1517.37 Q339.467 1517.37 337.638 1520.93 Q335.833 1524.47 335.833 1531.6 Q335.833 1538.71 337.638 1542.27 Q339.467 1545.82 343.078 1545.82 Q346.712 1545.82 348.518 1542.27 Q350.346 1538.71 350.346 1531.6 Q350.346 1524.47 348.518 1520.93 Q346.712 1517.37 343.078 1517.37 M343.078 1513.66 Q348.888 1513.66 351.944 1518.27 Q355.022 1522.85 355.022 1531.6 Q355.022 1540.33 351.944 1544.94 Q348.888 1549.52 343.078 1549.52 Q337.268 1549.52 334.189 1544.94 Q331.134 1540.33 331.134 1531.6 Q331.134 1522.85 334.189 1518.27 Q337.268 1513.66 343.078 1513.66 Z\" fill=\"#000000\" fill-rule=\"nonzero\" fill-opacity=\"1\" /><path clip-path=\"url(#clip400)\" d=\"M770.701 1544.91 L787.02 1544.91 L787.02 1548.85 L765.076 1548.85 L765.076 1544.91 Q767.738 1542.16 772.321 1537.53 Q776.927 1532.88 778.108 1531.53 Q780.353 1529.01 781.233 1527.27 Q782.136 1525.51 782.136 1523.82 Q782.136 1521.07 780.191 1519.33 Q778.27 1517.6 775.168 1517.6 Q772.969 1517.6 770.515 1518.36 Q768.085 1519.13 765.307 1520.68 L765.307 1515.95 Q768.131 1514.82 770.585 1514.24 Q773.039 1513.66 775.076 1513.66 Q780.446 1513.66 783.64 1516.35 Q786.835 1519.03 786.835 1523.52 Q786.835 1525.65 786.025 1527.57 Q785.238 1529.47 783.131 1532.07 Q782.552 1532.74 779.451 1535.95 Q776.349 1539.15 770.701 1544.91 Z\" fill=\"#000000\" fill-rule=\"nonzero\" fill-opacity=\"1\" /><path clip-path=\"url(#clip400)\" d=\"M796.835 1542.97 L801.719 1542.97 L801.719 1548.85 L796.835 1548.85 L796.835 1542.97 Z\" fill=\"#000000\" fill-rule=\"nonzero\" fill-opacity=\"1\" /><path clip-path=\"url(#clip400)\" d=\"M811.95 1514.29 L830.307 1514.29 L830.307 1518.22 L816.233 1518.22 L816.233 1526.7 Q817.251 1526.35 818.27 1526.19 Q819.288 1526 820.307 1526 Q826.094 1526 829.473 1529.17 Q832.853 1532.34 832.853 1537.76 Q832.853 1543.34 829.381 1546.44 Q825.909 1549.52 819.589 1549.52 Q817.413 1549.52 815.145 1549.15 Q812.899 1548.78 810.492 1548.04 L810.492 1543.34 Q812.575 1544.47 814.798 1545.03 Q817.02 1545.58 819.497 1545.58 Q823.501 1545.58 825.839 1543.48 Q828.177 1541.37 828.177 1537.76 Q828.177 1534.15 825.839 1532.04 Q823.501 1529.94 819.497 1529.94 Q817.622 1529.94 815.747 1530.35 Q813.895 1530.77 811.95 1531.65 L811.95 1514.29 Z\" fill=\"#000000\" fill-rule=\"nonzero\" fill-opacity=\"1\" /><path clip-path=\"url(#clip400)\" d=\"M1244.63 1514.29 L1262.99 1514.29 L1262.99 1518.22 L1248.91 1518.22 L1248.91 1526.7 Q1249.93 1526.35 1250.95 1526.19 Q1251.97 1526 1252.99 1526 Q1258.77 1526 1262.15 1529.17 Q1265.53 1532.34 1265.53 1537.76 Q1265.53 1543.34 1262.06 1546.44 Q1258.59 1549.52 1252.27 1549.52 Q1250.09 1549.52 1247.83 1549.15 Q1245.58 1548.78 1243.17 1548.04 L1243.17 1543.34 Q1245.26 1544.47 1247.48 1545.03 Q1249.7 1545.58 1252.18 1545.58 Q1256.18 1545.58 1258.52 1543.48 Q1260.86 1541.37 1260.86 1537.76 Q1260.86 1534.15 1258.52 1532.04 Q1256.18 1529.94 1252.18 1529.94 Q1250.3 1529.94 1248.43 1530.35 Q1246.58 1530.77 1244.63 1531.65 L1244.63 1514.29 Z\" fill=\"#000000\" fill-rule=\"nonzero\" fill-opacity=\"1\" /><path clip-path=\"url(#clip400)\" d=\"M1274.75 1542.97 L1279.63 1542.97 L1279.63 1548.85 L1274.75 1548.85 L1274.75 1542.97 Z\" fill=\"#000000\" fill-rule=\"nonzero\" fill-opacity=\"1\" /><path clip-path=\"url(#clip400)\" d=\"M1299.82 1517.37 Q1296.2 1517.37 1294.38 1520.93 Q1292.57 1524.47 1292.57 1531.6 Q1292.57 1538.71 1294.38 1542.27 Q1296.2 1545.82 1299.82 1545.82 Q1303.45 1545.82 1305.26 1542.27 Q1307.08 1538.71 1307.08 1531.6 Q1307.08 1524.47 1305.26 1520.93 Q1303.45 1517.37 1299.82 1517.37 M1299.82 1513.66 Q1305.63 1513.66 1308.68 1518.27 Q1311.76 1522.85 1311.76 1531.6 Q1311.76 1540.33 1308.68 1544.94 Q1305.63 1549.52 1299.82 1549.52 Q1294.01 1549.52 1290.93 1544.94 Q1287.87 1540.33 1287.87 1531.6 Q1287.87 1522.85 1290.93 1518.27 Q1294.01 1513.66 1299.82 1513.66 Z\" fill=\"#000000\" fill-rule=\"nonzero\" fill-opacity=\"1\" /><path clip-path=\"url(#clip400)\" d=\"M1722.29 1514.29 L1744.51 1514.29 L1744.51 1516.28 L1731.96 1548.85 L1727.08 1548.85 L1738.89 1518.22 L1722.29 1518.22 L1722.29 1514.29 Z\" fill=\"#000000\" fill-rule=\"nonzero\" fill-opacity=\"1\" /><path clip-path=\"url(#clip400)\" d=\"M1753.63 1542.97 L1758.51 1542.97 L1758.51 1548.85 L1753.63 1548.85 L1753.63 1542.97 Z\" fill=\"#000000\" fill-rule=\"nonzero\" fill-opacity=\"1\" /><path clip-path=\"url(#clip400)\" d=\"M1768.75 1514.29 L1787.1 1514.29 L1787.1 1518.22 L1773.03 1518.22 L1773.03 1526.7 Q1774.05 1526.35 1775.07 1526.19 Q1776.08 1526 1777.1 1526 Q1782.89 1526 1786.27 1529.17 Q1789.65 1532.34 1789.65 1537.76 Q1789.65 1543.34 1786.18 1546.44 Q1782.7 1549.52 1776.38 1549.52 Q1774.21 1549.52 1771.94 1549.15 Q1769.7 1548.78 1767.29 1548.04 L1767.29 1543.34 Q1769.37 1544.47 1771.59 1545.03 Q1773.82 1545.58 1776.29 1545.58 Q1780.3 1545.58 1782.63 1543.48 Q1784.97 1541.37 1784.97 1537.76 Q1784.97 1534.15 1782.63 1532.04 Q1780.3 1529.94 1776.29 1529.94 Q1774.42 1529.94 1772.54 1530.35 Q1770.69 1530.77 1768.75 1531.65 L1768.75 1514.29 Z\" fill=\"#000000\" fill-rule=\"nonzero\" fill-opacity=\"1\" /><path clip-path=\"url(#clip400)\" d=\"M2186.54 1544.91 L2194.18 1544.91 L2194.18 1518.55 L2185.87 1520.21 L2185.87 1515.95 L2194.13 1514.29 L2198.81 1514.29 L2198.81 1544.91 L2206.45 1544.91 L2206.45 1548.85 L2186.54 1548.85 L2186.54 1544.91 Z\" fill=\"#000000\" fill-rule=\"nonzero\" fill-opacity=\"1\" /><path clip-path=\"url(#clip400)\" d=\"M2225.89 1517.37 Q2222.28 1517.37 2220.45 1520.93 Q2218.65 1524.47 2218.65 1531.6 Q2218.65 1538.71 2220.45 1542.27 Q2222.28 1545.82 2225.89 1545.82 Q2229.53 1545.82 2231.33 1542.27 Q2233.16 1538.71 2233.16 1531.6 Q2233.16 1524.47 2231.33 1520.93 Q2229.53 1517.37 2225.89 1517.37 M2225.89 1513.66 Q2231.7 1513.66 2234.76 1518.27 Q2237.84 1522.85 2237.84 1531.6 Q2237.84 1540.33 2234.76 1544.94 Q2231.7 1549.52 2225.89 1549.52 Q2220.08 1549.52 2217.01 1544.94 Q2213.95 1540.33 2213.95 1531.6 Q2213.95 1522.85 2217.01 1518.27 Q2220.08 1513.66 2225.89 1513.66 Z\" fill=\"#000000\" fill-rule=\"nonzero\" fill-opacity=\"1\" /><path clip-path=\"url(#clip400)\" d=\"M2246.06 1542.97 L2250.94 1542.97 L2250.94 1548.85 L2246.06 1548.85 L2246.06 1542.97 Z\" fill=\"#000000\" fill-rule=\"nonzero\" fill-opacity=\"1\" /><path clip-path=\"url(#clip400)\" d=\"M2271.13 1517.37 Q2267.51 1517.37 2265.69 1520.93 Q2263.88 1524.47 2263.88 1531.6 Q2263.88 1538.71 2265.69 1542.27 Q2267.51 1545.82 2271.13 1545.82 Q2274.76 1545.82 2276.56 1542.27 Q2278.39 1538.71 2278.39 1531.6 Q2278.39 1524.47 2276.56 1520.93 Q2274.76 1517.37 2271.13 1517.37 M2271.13 1513.66 Q2276.94 1513.66 2279.99 1518.27 Q2283.07 1522.85 2283.07 1531.6 Q2283.07 1540.33 2279.99 1544.94 Q2276.94 1549.52 2271.13 1549.52 Q2265.31 1549.52 2262.24 1544.94 Q2259.18 1540.33 2259.18 1531.6 Q2259.18 1522.85 2262.24 1518.27 Q2265.31 1513.66 2271.13 1513.66 Z\" fill=\"#000000\" fill-rule=\"nonzero\" fill-opacity=\"1\" /><polyline clip-path=\"url(#clip402)\" style=\"stroke:#000000; stroke-linecap:round; stroke-linejoin:round; stroke-width:2; stroke-opacity:0.1; fill:none\" points=\"202.177,1445.72 2352.76,1445.72 \"/>\n",
       "<polyline clip-path=\"url(#clip402)\" style=\"stroke:#000000; stroke-linecap:round; stroke-linejoin:round; stroke-width:2; stroke-opacity:0.1; fill:none\" points=\"202.177,1100.98 2352.76,1100.98 \"/>\n",
       "<polyline clip-path=\"url(#clip402)\" style=\"stroke:#000000; stroke-linecap:round; stroke-linejoin:round; stroke-width:2; stroke-opacity:0.1; fill:none\" points=\"202.177,756.245 2352.76,756.245 \"/>\n",
       "<polyline clip-path=\"url(#clip402)\" style=\"stroke:#000000; stroke-linecap:round; stroke-linejoin:round; stroke-width:2; stroke-opacity:0.1; fill:none\" points=\"202.177,411.51 2352.76,411.51 \"/>\n",
       "<polyline clip-path=\"url(#clip402)\" style=\"stroke:#000000; stroke-linecap:round; stroke-linejoin:round; stroke-width:2; stroke-opacity:0.1; fill:none\" points=\"202.177,66.7751 2352.76,66.7751 \"/>\n",
       "<polyline clip-path=\"url(#clip400)\" style=\"stroke:#000000; stroke-linecap:round; stroke-linejoin:round; stroke-width:4; stroke-opacity:1; fill:none\" points=\"202.177,1486.45 202.177,47.2441 \"/>\n",
       "<polyline clip-path=\"url(#clip400)\" style=\"stroke:#000000; stroke-linecap:round; stroke-linejoin:round; stroke-width:4; stroke-opacity:1; fill:none\" points=\"202.177,1445.72 221.074,1445.72 \"/>\n",
       "<polyline clip-path=\"url(#clip400)\" style=\"stroke:#000000; stroke-linecap:round; stroke-linejoin:round; stroke-width:4; stroke-opacity:1; fill:none\" points=\"202.177,1100.98 221.074,1100.98 \"/>\n",
       "<polyline clip-path=\"url(#clip400)\" style=\"stroke:#000000; stroke-linecap:round; stroke-linejoin:round; stroke-width:4; stroke-opacity:1; fill:none\" points=\"202.177,756.245 221.074,756.245 \"/>\n",
       "<polyline clip-path=\"url(#clip400)\" style=\"stroke:#000000; stroke-linecap:round; stroke-linejoin:round; stroke-width:4; stroke-opacity:1; fill:none\" points=\"202.177,411.51 221.074,411.51 \"/>\n",
       "<polyline clip-path=\"url(#clip400)\" style=\"stroke:#000000; stroke-linecap:round; stroke-linejoin:round; stroke-width:4; stroke-opacity:1; fill:none\" points=\"202.177,66.7751 221.074,66.7751 \"/>\n",
       "<path clip-path=\"url(#clip400)\" d=\"M154.232 1431.51 Q150.621 1431.51 148.793 1435.08 Q146.987 1438.62 146.987 1445.75 Q146.987 1452.86 148.793 1456.42 Q150.621 1459.96 154.232 1459.96 Q157.867 1459.96 159.672 1456.42 Q161.501 1452.86 161.501 1445.75 Q161.501 1438.62 159.672 1435.08 Q157.867 1431.51 154.232 1431.51 M154.232 1427.81 Q160.042 1427.81 163.098 1432.42 Q166.177 1437 166.177 1445.75 Q166.177 1454.48 163.098 1459.08 Q160.042 1463.67 154.232 1463.67 Q148.422 1463.67 145.343 1459.08 Q142.288 1454.48 142.288 1445.75 Q142.288 1437 145.343 1432.42 Q148.422 1427.81 154.232 1427.81 Z\" fill=\"#000000\" fill-rule=\"nonzero\" fill-opacity=\"1\" /><path clip-path=\"url(#clip400)\" d=\"M57.7745 1114.33 L74.0939 1114.33 L74.0939 1118.26 L52.1495 1118.26 L52.1495 1114.33 Q54.8115 1111.57 59.3949 1106.94 Q64.0013 1102.29 65.1819 1100.95 Q67.4272 1098.42 68.3068 1096.69 Q69.2096 1094.93 69.2096 1093.24 Q69.2096 1090.48 67.2652 1088.75 Q65.3439 1087.01 62.2421 1087.01 Q60.043 1087.01 57.5893 1087.77 Q55.1588 1088.54 52.381 1090.09 L52.381 1085.37 Q55.2051 1084.23 57.6588 1083.65 Q60.1124 1083.08 62.1495 1083.08 Q67.5198 1083.08 70.7142 1085.76 Q73.9087 1088.45 73.9087 1092.94 Q73.9087 1095.07 73.0985 1096.99 Q72.3115 1098.89 70.205 1101.48 Q69.6263 1102.15 66.5245 1105.37 Q63.4226 1108.56 57.7745 1114.33 Z\" fill=\"#000000\" fill-rule=\"nonzero\" fill-opacity=\"1\" /><path clip-path=\"url(#clip400)\" d=\"M93.9086 1086.78 Q90.2975 1086.78 88.4688 1090.34 Q86.6632 1093.89 86.6632 1101.02 Q86.6632 1108.12 88.4688 1111.69 Q90.2975 1115.23 93.9086 1115.23 Q97.5428 1115.23 99.3483 1111.69 Q101.177 1108.12 101.177 1101.02 Q101.177 1093.89 99.3483 1090.34 Q97.5428 1086.78 93.9086 1086.78 M93.9086 1083.08 Q99.7187 1083.08 102.774 1087.68 Q105.853 1092.27 105.853 1101.02 Q105.853 1109.74 102.774 1114.35 Q99.7187 1118.93 93.9086 1118.93 Q88.0984 1118.93 85.0197 1114.35 Q81.9642 1109.74 81.9642 1101.02 Q81.9642 1092.27 85.0197 1087.68 Q88.0984 1083.08 93.9086 1083.08 Z\" fill=\"#000000\" fill-rule=\"nonzero\" fill-opacity=\"1\" /><path clip-path=\"url(#clip400)\" d=\"M124.07 1086.78 Q120.459 1086.78 118.631 1090.34 Q116.825 1093.89 116.825 1101.02 Q116.825 1108.12 118.631 1111.69 Q120.459 1115.23 124.07 1115.23 Q127.705 1115.23 129.51 1111.69 Q131.339 1108.12 131.339 1101.02 Q131.339 1093.89 129.51 1090.34 Q127.705 1086.78 124.07 1086.78 M124.07 1083.08 Q129.881 1083.08 132.936 1087.68 Q136.015 1092.27 136.015 1101.02 Q136.015 1109.74 132.936 1114.35 Q129.881 1118.93 124.07 1118.93 Q118.26 1118.93 115.182 1114.35 Q112.126 1109.74 112.126 1101.02 Q112.126 1092.27 115.182 1087.68 Q118.26 1083.08 124.07 1083.08 Z\" fill=\"#000000\" fill-rule=\"nonzero\" fill-opacity=\"1\" /><path clip-path=\"url(#clip400)\" d=\"M154.232 1086.78 Q150.621 1086.78 148.793 1090.34 Q146.987 1093.89 146.987 1101.02 Q146.987 1108.12 148.793 1111.69 Q150.621 1115.23 154.232 1115.23 Q157.867 1115.23 159.672 1111.69 Q161.501 1108.12 161.501 1101.02 Q161.501 1093.89 159.672 1090.34 Q157.867 1086.78 154.232 1086.78 M154.232 1083.08 Q160.042 1083.08 163.098 1087.68 Q166.177 1092.27 166.177 1101.02 Q166.177 1109.74 163.098 1114.35 Q160.042 1118.93 154.232 1118.93 Q148.422 1118.93 145.343 1114.35 Q142.288 1109.74 142.288 1101.02 Q142.288 1092.27 145.343 1087.68 Q148.422 1083.08 154.232 1083.08 Z\" fill=\"#000000\" fill-rule=\"nonzero\" fill-opacity=\"1\" /><path clip-path=\"url(#clip400)\" d=\"M66.5939 743.039 L54.7884 761.488 L66.5939 761.488 L66.5939 743.039 M65.367 738.965 L71.2466 738.965 L71.2466 761.488 L76.1772 761.488 L76.1772 765.377 L71.2466 765.377 L71.2466 773.525 L66.5939 773.525 L66.5939 765.377 L50.9921 765.377 L50.9921 760.863 L65.367 738.965 Z\" fill=\"#000000\" fill-rule=\"nonzero\" fill-opacity=\"1\" /><path clip-path=\"url(#clip400)\" d=\"M93.9086 742.044 Q90.2975 742.044 88.4688 745.609 Q86.6632 749.151 86.6632 756.28 Q86.6632 763.387 88.4688 766.951 Q90.2975 770.493 93.9086 770.493 Q97.5428 770.493 99.3483 766.951 Q101.177 763.387 101.177 756.28 Q101.177 749.151 99.3483 745.609 Q97.5428 742.044 93.9086 742.044 M93.9086 738.34 Q99.7187 738.34 102.774 742.947 Q105.853 747.53 105.853 756.28 Q105.853 765.007 102.774 769.613 Q99.7187 774.197 93.9086 774.197 Q88.0984 774.197 85.0197 769.613 Q81.9642 765.007 81.9642 756.28 Q81.9642 747.53 85.0197 742.947 Q88.0984 738.34 93.9086 738.34 Z\" fill=\"#000000\" fill-rule=\"nonzero\" fill-opacity=\"1\" /><path clip-path=\"url(#clip400)\" d=\"M124.07 742.044 Q120.459 742.044 118.631 745.609 Q116.825 749.151 116.825 756.28 Q116.825 763.387 118.631 766.951 Q120.459 770.493 124.07 770.493 Q127.705 770.493 129.51 766.951 Q131.339 763.387 131.339 756.28 Q131.339 749.151 129.51 745.609 Q127.705 742.044 124.07 742.044 M124.07 738.34 Q129.881 738.34 132.936 742.947 Q136.015 747.53 136.015 756.28 Q136.015 765.007 132.936 769.613 Q129.881 774.197 124.07 774.197 Q118.26 774.197 115.182 769.613 Q112.126 765.007 112.126 756.28 Q112.126 747.53 115.182 742.947 Q118.26 738.34 124.07 738.34 Z\" fill=\"#000000\" fill-rule=\"nonzero\" fill-opacity=\"1\" /><path clip-path=\"url(#clip400)\" d=\"M154.232 742.044 Q150.621 742.044 148.793 745.609 Q146.987 749.151 146.987 756.28 Q146.987 763.387 148.793 766.951 Q150.621 770.493 154.232 770.493 Q157.867 770.493 159.672 766.951 Q161.501 763.387 161.501 756.28 Q161.501 749.151 159.672 745.609 Q157.867 742.044 154.232 742.044 M154.232 738.34 Q160.042 738.34 163.098 742.947 Q166.177 747.53 166.177 756.28 Q166.177 765.007 163.098 769.613 Q160.042 774.197 154.232 774.197 Q148.422 774.197 145.343 769.613 Q142.288 765.007 142.288 756.28 Q142.288 747.53 145.343 742.947 Q148.422 738.34 154.232 738.34 Z\" fill=\"#000000\" fill-rule=\"nonzero\" fill-opacity=\"1\" /><path clip-path=\"url(#clip400)\" d=\"M64.3254 409.647 Q61.1773 409.647 59.3254 411.8 Q57.4967 413.952 57.4967 417.702 Q57.4967 421.429 59.3254 423.605 Q61.1773 425.758 64.3254 425.758 Q67.4735 425.758 69.3022 423.605 Q71.1541 421.429 71.1541 417.702 Q71.1541 413.952 69.3022 411.8 Q67.4735 409.647 64.3254 409.647 M73.6077 394.994 L73.6077 399.253 Q71.8485 398.42 70.0429 397.98 Q68.2606 397.54 66.5013 397.54 Q61.8717 397.54 59.418 400.665 Q56.9875 403.79 56.6402 410.11 Q58.006 408.096 60.0662 407.031 Q62.1263 405.943 64.6032 405.943 Q69.8115 405.943 72.8207 409.114 Q75.8531 412.263 75.8531 417.702 Q75.8531 423.026 72.705 426.244 Q69.5568 429.462 64.3254 429.462 Q58.33 429.462 55.1588 424.878 Q51.9875 420.272 51.9875 411.545 Q51.9875 403.351 55.8764 398.489 Q59.7652 393.605 66.3161 393.605 Q68.0754 393.605 69.8578 393.952 Q71.6633 394.3 73.6077 394.994 Z\" fill=\"#000000\" fill-rule=\"nonzero\" fill-opacity=\"1\" /><path clip-path=\"url(#clip400)\" d=\"M93.9086 397.309 Q90.2975 397.309 88.4688 400.874 Q86.6632 404.415 86.6632 411.545 Q86.6632 418.651 88.4688 422.216 Q90.2975 425.758 93.9086 425.758 Q97.5428 425.758 99.3483 422.216 Q101.177 418.651 101.177 411.545 Q101.177 404.415 99.3483 400.874 Q97.5428 397.309 93.9086 397.309 M93.9086 393.605 Q99.7187 393.605 102.774 398.212 Q105.853 402.795 105.853 411.545 Q105.853 420.272 102.774 424.878 Q99.7187 429.462 93.9086 429.462 Q88.0984 429.462 85.0197 424.878 Q81.9642 420.272 81.9642 411.545 Q81.9642 402.795 85.0197 398.212 Q88.0984 393.605 93.9086 393.605 Z\" fill=\"#000000\" fill-rule=\"nonzero\" fill-opacity=\"1\" /><path clip-path=\"url(#clip400)\" d=\"M124.07 397.309 Q120.459 397.309 118.631 400.874 Q116.825 404.415 116.825 411.545 Q116.825 418.651 118.631 422.216 Q120.459 425.758 124.07 425.758 Q127.705 425.758 129.51 422.216 Q131.339 418.651 131.339 411.545 Q131.339 404.415 129.51 400.874 Q127.705 397.309 124.07 397.309 M124.07 393.605 Q129.881 393.605 132.936 398.212 Q136.015 402.795 136.015 411.545 Q136.015 420.272 132.936 424.878 Q129.881 429.462 124.07 429.462 Q118.26 429.462 115.182 424.878 Q112.126 420.272 112.126 411.545 Q112.126 402.795 115.182 398.212 Q118.26 393.605 124.07 393.605 Z\" fill=\"#000000\" fill-rule=\"nonzero\" fill-opacity=\"1\" /><path clip-path=\"url(#clip400)\" d=\"M154.232 397.309 Q150.621 397.309 148.793 400.874 Q146.987 404.415 146.987 411.545 Q146.987 418.651 148.793 422.216 Q150.621 425.758 154.232 425.758 Q157.867 425.758 159.672 422.216 Q161.501 418.651 161.501 411.545 Q161.501 404.415 159.672 400.874 Q157.867 397.309 154.232 397.309 M154.232 393.605 Q160.042 393.605 163.098 398.212 Q166.177 402.795 166.177 411.545 Q166.177 420.272 163.098 424.878 Q160.042 429.462 154.232 429.462 Q148.422 429.462 145.343 424.878 Q142.288 420.272 142.288 411.545 Q142.288 402.795 145.343 398.212 Q148.422 393.605 154.232 393.605 Z\" fill=\"#000000\" fill-rule=\"nonzero\" fill-opacity=\"1\" /><path clip-path=\"url(#clip400)\" d=\"M63.7467 67.6431 Q60.4134 67.6431 58.4921 69.4255 Q56.5939 71.2079 56.5939 74.3329 Q56.5939 77.4579 58.4921 79.2403 Q60.4134 81.0227 63.7467 81.0227 Q67.08 81.0227 69.0013 79.2403 Q70.9226 77.4347 70.9226 74.3329 Q70.9226 71.2079 69.0013 69.4255 Q67.1032 67.6431 63.7467 67.6431 M59.0708 65.6524 Q56.0615 64.9116 54.3717 62.8515 Q52.7051 60.7913 52.7051 57.8284 Q52.7051 53.6849 55.6449 51.2775 Q58.6078 48.8701 63.7467 48.8701 Q68.9087 48.8701 71.8485 51.2775 Q74.7883 53.6849 74.7883 57.8284 Q74.7883 60.7913 73.0985 62.8515 Q71.4318 64.9116 68.4457 65.6524 Q71.8253 66.4394 73.7003 68.7311 Q75.5985 71.0227 75.5985 74.3329 Q75.5985 79.356 72.5198 82.0412 Q69.4642 84.7264 63.7467 84.7264 Q58.0291 84.7264 54.9504 82.0412 Q51.8949 79.356 51.8949 74.3329 Q51.8949 71.0227 53.793 68.7311 Q55.6912 66.4394 59.0708 65.6524 M57.3578 58.2682 Q57.3578 60.9533 59.0245 62.458 Q60.7143 63.9626 63.7467 63.9626 Q66.7559 63.9626 68.4457 62.458 Q70.1587 60.9533 70.1587 58.2682 Q70.1587 55.583 68.4457 54.0784 Q66.7559 52.5738 63.7467 52.5738 Q60.7143 52.5738 59.0245 54.0784 Q57.3578 55.583 57.3578 58.2682 Z\" fill=\"#000000\" fill-rule=\"nonzero\" fill-opacity=\"1\" /><path clip-path=\"url(#clip400)\" d=\"M93.9086 52.5738 Q90.2975 52.5738 88.4688 56.1385 Q86.6632 59.6802 86.6632 66.8098 Q86.6632 73.9162 88.4688 77.481 Q90.2975 81.0227 93.9086 81.0227 Q97.5428 81.0227 99.3483 77.481 Q101.177 73.9162 101.177 66.8098 Q101.177 59.6802 99.3483 56.1385 Q97.5428 52.5738 93.9086 52.5738 M93.9086 48.8701 Q99.7187 48.8701 102.774 53.4765 Q105.853 58.0598 105.853 66.8098 Q105.853 75.5366 102.774 80.143 Q99.7187 84.7264 93.9086 84.7264 Q88.0984 84.7264 85.0197 80.143 Q81.9642 75.5366 81.9642 66.8098 Q81.9642 58.0598 85.0197 53.4765 Q88.0984 48.8701 93.9086 48.8701 Z\" fill=\"#000000\" fill-rule=\"nonzero\" fill-opacity=\"1\" /><path clip-path=\"url(#clip400)\" d=\"M124.07 52.5738 Q120.459 52.5738 118.631 56.1385 Q116.825 59.6802 116.825 66.8098 Q116.825 73.9162 118.631 77.481 Q120.459 81.0227 124.07 81.0227 Q127.705 81.0227 129.51 77.481 Q131.339 73.9162 131.339 66.8098 Q131.339 59.6802 129.51 56.1385 Q127.705 52.5738 124.07 52.5738 M124.07 48.8701 Q129.881 48.8701 132.936 53.4765 Q136.015 58.0598 136.015 66.8098 Q136.015 75.5366 132.936 80.143 Q129.881 84.7264 124.07 84.7264 Q118.26 84.7264 115.182 80.143 Q112.126 75.5366 112.126 66.8098 Q112.126 58.0598 115.182 53.4765 Q118.26 48.8701 124.07 48.8701 Z\" fill=\"#000000\" fill-rule=\"nonzero\" fill-opacity=\"1\" /><path clip-path=\"url(#clip400)\" d=\"M154.232 52.5738 Q150.621 52.5738 148.793 56.1385 Q146.987 59.6802 146.987 66.8098 Q146.987 73.9162 148.793 77.481 Q150.621 81.0227 154.232 81.0227 Q157.867 81.0227 159.672 77.481 Q161.501 73.9162 161.501 66.8098 Q161.501 59.6802 159.672 56.1385 Q157.867 52.5738 154.232 52.5738 M154.232 48.8701 Q160.042 48.8701 163.098 53.4765 Q166.177 58.0598 166.177 66.8098 Q166.177 75.5366 163.098 80.143 Q160.042 84.7264 154.232 84.7264 Q148.422 84.7264 145.343 80.143 Q142.288 75.5366 142.288 66.8098 Q142.288 58.0598 145.343 53.4765 Q148.422 48.8701 154.232 48.8701 Z\" fill=\"#000000\" fill-rule=\"nonzero\" fill-opacity=\"1\" /><path clip-path=\"url(#clip402)\" d=\"M320.462 255.862 L320.462 1445.72 L511.863 1445.72 L511.863 255.862 L320.462 255.862 L320.462 255.862  Z\" fill=\"#808080\" fill-rule=\"evenodd\" fill-opacity=\"1\"/>\n",
       "<polyline clip-path=\"url(#clip402)\" style=\"stroke:#000000; stroke-linecap:round; stroke-linejoin:round; stroke-width:4; stroke-opacity:1; fill:none\" points=\"320.462,255.862 320.462,1445.72 511.863,1445.72 511.863,255.862 320.462,255.862 \"/>\n",
       "<path clip-path=\"url(#clip402)\" d=\"M511.863 87.9763 L511.863 1445.72 L703.264 1445.72 L703.264 87.9763 L511.863 87.9763 L511.863 87.9763  Z\" fill=\"#808080\" fill-rule=\"evenodd\" fill-opacity=\"1\"/>\n",
       "<polyline clip-path=\"url(#clip402)\" style=\"stroke:#000000; stroke-linecap:round; stroke-linejoin:round; stroke-width:4; stroke-opacity:1; fill:none\" points=\"511.863,87.9763 511.863,1445.72 703.264,1445.72 703.264,87.9763 511.863,87.9763 \"/>\n",
       "<path clip-path=\"url(#clip402)\" d=\"M703.264 240.866 L703.264 1445.72 L894.665 1445.72 L894.665 240.866 L703.264 240.866 L703.264 240.866  Z\" fill=\"#808080\" fill-rule=\"evenodd\" fill-opacity=\"1\"/>\n",
       "<polyline clip-path=\"url(#clip402)\" style=\"stroke:#000000; stroke-linecap:round; stroke-linejoin:round; stroke-width:4; stroke-opacity:1; fill:none\" points=\"703.264,240.866 703.264,1445.72 894.665,1445.72 894.665,240.866 703.264,240.866 \"/>\n",
       "<path clip-path=\"url(#clip402)\" d=\"M894.665 214.839 L894.665 1445.72 L1086.07 1445.72 L1086.07 214.839 L894.665 214.839 L894.665 214.839  Z\" fill=\"#808080\" fill-rule=\"evenodd\" fill-opacity=\"1\"/>\n",
       "<polyline clip-path=\"url(#clip402)\" style=\"stroke:#000000; stroke-linecap:round; stroke-linejoin:round; stroke-width:4; stroke-opacity:1; fill:none\" points=\"894.665,214.839 894.665,1445.72 1086.07,1445.72 1086.07,214.839 894.665,214.839 \"/>\n",
       "<path clip-path=\"url(#clip402)\" d=\"M1086.07 269.479 L1086.07 1445.72 L1277.47 1445.72 L1277.47 269.479 L1086.07 269.479 L1086.07 269.479  Z\" fill=\"#808080\" fill-rule=\"evenodd\" fill-opacity=\"1\"/>\n",
       "<polyline clip-path=\"url(#clip402)\" style=\"stroke:#000000; stroke-linecap:round; stroke-linejoin:round; stroke-width:4; stroke-opacity:1; fill:none\" points=\"1086.07,269.479 1086.07,1445.72 1277.47,1445.72 1277.47,269.479 1086.07,269.479 \"/>\n",
       "<path clip-path=\"url(#clip402)\" d=\"M1277.47 357.559 L1277.47 1445.72 L1468.87 1445.72 L1468.87 357.559 L1277.47 357.559 L1277.47 357.559  Z\" fill=\"#808080\" fill-rule=\"evenodd\" fill-opacity=\"1\"/>\n",
       "<polyline clip-path=\"url(#clip402)\" style=\"stroke:#000000; stroke-linecap:round; stroke-linejoin:round; stroke-width:4; stroke-opacity:1; fill:none\" points=\"1277.47,357.559 1277.47,1445.72 1468.87,1445.72 1468.87,357.559 1277.47,357.559 \"/>\n",
       "<path clip-path=\"url(#clip402)\" d=\"M1468.87 260.516 L1468.87 1445.72 L1660.27 1445.72 L1660.27 260.516 L1468.87 260.516 L1468.87 260.516  Z\" fill=\"#808080\" fill-rule=\"evenodd\" fill-opacity=\"1\"/>\n",
       "<polyline clip-path=\"url(#clip402)\" style=\"stroke:#000000; stroke-linecap:round; stroke-linejoin:round; stroke-width:4; stroke-opacity:1; fill:none\" points=\"1468.87,260.516 1468.87,1445.72 1660.27,1445.72 1660.27,260.516 1468.87,260.516 \"/>\n",
       "<path clip-path=\"url(#clip402)\" d=\"M1660.27 188.639 L1660.27 1445.72 L1851.67 1445.72 L1851.67 188.639 L1660.27 188.639 L1660.27 188.639  Z\" fill=\"#808080\" fill-rule=\"evenodd\" fill-opacity=\"1\"/>\n",
       "<polyline clip-path=\"url(#clip402)\" style=\"stroke:#000000; stroke-linecap:round; stroke-linejoin:round; stroke-width:4; stroke-opacity:1; fill:none\" points=\"1660.27,188.639 1660.27,1445.72 1851.67,1445.72 1851.67,188.639 1660.27,188.639 \"/>\n",
       "<path clip-path=\"url(#clip402)\" d=\"M1851.67 269.307 L1851.67 1445.72 L2043.07 1445.72 L2043.07 269.307 L1851.67 269.307 L1851.67 269.307  Z\" fill=\"#808080\" fill-rule=\"evenodd\" fill-opacity=\"1\"/>\n",
       "<polyline clip-path=\"url(#clip402)\" style=\"stroke:#000000; stroke-linecap:round; stroke-linejoin:round; stroke-width:4; stroke-opacity:1; fill:none\" points=\"1851.67,269.307 1851.67,1445.72 2043.07,1445.72 2043.07,269.307 1851.67,269.307 \"/>\n",
       "<path clip-path=\"url(#clip402)\" d=\"M2043.07 246.382 L2043.07 1445.72 L2234.47 1445.72 L2234.47 246.382 L2043.07 246.382 L2043.07 246.382  Z\" fill=\"#808080\" fill-rule=\"evenodd\" fill-opacity=\"1\"/>\n",
       "<polyline clip-path=\"url(#clip402)\" style=\"stroke:#000000; stroke-linecap:round; stroke-linejoin:round; stroke-width:4; stroke-opacity:1; fill:none\" points=\"2043.07,246.382 2043.07,1445.72 2234.47,1445.72 2234.47,246.382 2043.07,246.382 \"/>\n",
       "<circle clip-path=\"url(#clip402)\" style=\"fill:#808080; stroke:none; fill-opacity:0\" cx=\"416.163\" cy=\"255.862\" r=\"2\"/>\n",
       "<circle clip-path=\"url(#clip402)\" style=\"fill:#808080; stroke:none; fill-opacity:0\" cx=\"607.564\" cy=\"87.9763\" r=\"2\"/>\n",
       "<circle clip-path=\"url(#clip402)\" style=\"fill:#808080; stroke:none; fill-opacity:0\" cx=\"798.964\" cy=\"240.866\" r=\"2\"/>\n",
       "<circle clip-path=\"url(#clip402)\" style=\"fill:#808080; stroke:none; fill-opacity:0\" cx=\"990.365\" cy=\"214.839\" r=\"2\"/>\n",
       "<circle clip-path=\"url(#clip402)\" style=\"fill:#808080; stroke:none; fill-opacity:0\" cx=\"1181.77\" cy=\"269.479\" r=\"2\"/>\n",
       "<circle clip-path=\"url(#clip402)\" style=\"fill:#808080; stroke:none; fill-opacity:0\" cx=\"1373.17\" cy=\"357.559\" r=\"2\"/>\n",
       "<circle clip-path=\"url(#clip402)\" style=\"fill:#808080; stroke:none; fill-opacity:0\" cx=\"1564.57\" cy=\"260.516\" r=\"2\"/>\n",
       "<circle clip-path=\"url(#clip402)\" style=\"fill:#808080; stroke:none; fill-opacity:0\" cx=\"1755.97\" cy=\"188.639\" r=\"2\"/>\n",
       "<circle clip-path=\"url(#clip402)\" style=\"fill:#808080; stroke:none; fill-opacity:0\" cx=\"1947.37\" cy=\"269.307\" r=\"2\"/>\n",
       "<circle clip-path=\"url(#clip402)\" style=\"fill:#808080; stroke:none; fill-opacity:0\" cx=\"2138.77\" cy=\"246.382\" r=\"2\"/>\n",
       "<path clip-path=\"url(#clip400)\" d=\"M1941.13 198.898 L2281.07 198.898 L2281.07 95.2176 L1941.13 95.2176  Z\" fill=\"#ffffff\" fill-rule=\"evenodd\" fill-opacity=\"1\"/>\n",
       "<polyline clip-path=\"url(#clip400)\" style=\"stroke:#000000; stroke-linecap:round; stroke-linejoin:round; stroke-width:4; stroke-opacity:1; fill:none\" points=\"1941.13,198.898 2281.07,198.898 2281.07,95.2176 1941.13,95.2176 1941.13,198.898 \"/>\n",
       "<path clip-path=\"url(#clip400)\" d=\"M1965.02 167.794 L2108.4 167.794 L2108.4 126.322 L1965.02 126.322 L1965.02 167.794  Z\" fill=\"#808080\" fill-rule=\"evenodd\" fill-opacity=\"1\"/>\n",
       "<polyline clip-path=\"url(#clip400)\" style=\"stroke:#000000; stroke-linecap:round; stroke-linejoin:round; stroke-width:4; stroke-opacity:1; fill:none\" points=\"1965.02,167.794 2108.4,167.794 2108.4,126.322 1965.02,126.322 1965.02,167.794 \"/>\n",
       "<path clip-path=\"url(#clip400)\" d=\"M2151.2 142.347 L2151.2 128.319 L2155.46 128.319 L2155.46 164.338 L2151.2 164.338 L2151.2 160.449 Q2149.86 162.763 2147.8 163.898 Q2145.76 165.009 2142.89 165.009 Q2138.19 165.009 2135.23 161.259 Q2132.29 157.509 2132.29 151.398 Q2132.29 145.287 2135.23 141.537 Q2138.19 137.787 2142.89 137.787 Q2145.76 137.787 2147.8 138.921 Q2149.86 140.032 2151.2 142.347 M2136.69 151.398 Q2136.69 156.097 2138.61 158.782 Q2140.55 161.444 2143.93 161.444 Q2147.31 161.444 2149.26 158.782 Q2151.2 156.097 2151.2 151.398 Q2151.2 146.699 2149.26 144.037 Q2147.31 141.352 2143.93 141.352 Q2140.55 141.352 2138.61 144.037 Q2136.69 146.699 2136.69 151.398 Z\" fill=\"#000000\" fill-rule=\"nonzero\" fill-opacity=\"1\" /><path clip-path=\"url(#clip400)\" d=\"M2164.24 138.412 L2168.49 138.412 L2168.49 164.338 L2164.24 164.338 L2164.24 138.412 M2164.24 128.319 L2168.49 128.319 L2168.49 133.713 L2164.24 133.713 L2164.24 128.319 Z\" fill=\"#000000\" fill-rule=\"nonzero\" fill-opacity=\"1\" /><path clip-path=\"url(#clip400)\" d=\"M2194.47 151.074 Q2194.47 146.444 2192.55 143.898 Q2190.65 141.352 2187.2 141.352 Q2183.77 141.352 2181.85 143.898 Q2179.95 146.444 2179.95 151.074 Q2179.95 155.68 2181.85 158.226 Q2183.77 160.773 2187.2 160.773 Q2190.65 160.773 2192.55 158.226 Q2194.47 155.68 2194.47 151.074 M2198.73 161.12 Q2198.73 167.74 2195.79 170.958 Q2192.85 174.199 2186.78 174.199 Q2184.54 174.199 2182.55 173.851 Q2180.55 173.527 2178.68 172.833 L2178.68 168.689 Q2180.55 169.708 2182.38 170.194 Q2184.21 170.68 2186.11 170.68 Q2190.3 170.68 2192.38 168.481 Q2194.47 166.305 2194.47 161.884 L2194.47 159.777 Q2193.15 162.069 2191.09 163.203 Q2189.03 164.338 2186.16 164.338 Q2181.39 164.338 2178.47 160.703 Q2175.55 157.069 2175.55 151.074 Q2175.55 145.055 2178.47 141.421 Q2181.39 137.787 2186.16 137.787 Q2189.03 137.787 2191.09 138.921 Q2193.15 140.055 2194.47 142.347 L2194.47 138.412 L2198.73 138.412 L2198.73 161.12 Z\" fill=\"#000000\" fill-rule=\"nonzero\" fill-opacity=\"1\" /><path clip-path=\"url(#clip400)\" d=\"M2207.5 138.412 L2211.76 138.412 L2211.76 164.338 L2207.5 164.338 L2207.5 138.412 M2207.5 128.319 L2211.76 128.319 L2211.76 133.713 L2207.5 133.713 L2207.5 128.319 Z\" fill=\"#000000\" fill-rule=\"nonzero\" fill-opacity=\"1\" /><path clip-path=\"url(#clip400)\" d=\"M2224.88 131.051 L2224.88 138.412 L2233.66 138.412 L2233.66 141.722 L2224.88 141.722 L2224.88 155.796 Q2224.88 158.967 2225.74 159.87 Q2226.62 160.773 2229.28 160.773 L2233.66 160.773 L2233.66 164.338 L2229.28 164.338 Q2224.35 164.338 2222.48 162.509 Q2220.6 160.657 2220.6 155.796 L2220.6 141.722 L2217.48 141.722 L2217.48 138.412 L2220.6 138.412 L2220.6 131.051 L2224.88 131.051 Z\" fill=\"#000000\" fill-rule=\"nonzero\" fill-opacity=\"1\" /><path clip-path=\"url(#clip400)\" d=\"M2255.79 139.176 L2255.79 143.203 Q2253.98 142.277 2252.04 141.815 Q2250.09 141.352 2248.01 141.352 Q2244.84 141.352 2243.24 142.324 Q2241.67 143.296 2241.67 145.24 Q2241.67 146.722 2242.8 147.578 Q2243.93 148.412 2247.36 149.176 L2248.82 149.5 Q2253.36 150.472 2255.25 152.254 Q2257.17 154.014 2257.17 157.185 Q2257.17 160.796 2254.3 162.902 Q2251.46 165.009 2246.46 165.009 Q2244.37 165.009 2242.11 164.592 Q2239.86 164.199 2237.36 163.388 L2237.36 158.99 Q2239.72 160.217 2242.01 160.842 Q2244.3 161.444 2246.55 161.444 Q2249.56 161.444 2251.18 160.426 Q2252.8 159.384 2252.8 157.509 Q2252.8 155.773 2251.62 154.847 Q2250.46 153.921 2246.5 153.064 L2245.02 152.717 Q2241.06 151.884 2239.3 150.171 Q2237.55 148.435 2237.55 145.426 Q2237.55 141.768 2240.14 139.778 Q2242.73 137.787 2247.5 137.787 Q2249.86 137.787 2251.94 138.134 Q2254.03 138.481 2255.79 139.176 Z\" fill=\"#000000\" fill-rule=\"nonzero\" fill-opacity=\"1\" /></svg>\n"
      ]
     },
     "execution_count": 40,
     "metadata": {},
     "output_type": "execute_result"
    }
   ],
   "source": [
    "histogram(labels, label=\"digits\", bins=11, color=:gray)"
   ]
  },
  {
   "cell_type": "code",
   "execution_count": 60,
   "metadata": {},
   "outputs": [],
   "source": [
    "mis_match_digits = [labels[t[1]] for t in mis_match ];"
   ]
  },
  {
   "cell_type": "code",
   "execution_count": 61,
   "metadata": {},
   "outputs": [
    {
     "data": {
      "text/plain": [
       "(Vector{Int8}, 33)"
      ]
     },
     "execution_count": 61,
     "metadata": {},
     "output_type": "execute_result"
    }
   ],
   "source": [
    "typeof(mis_match_digits), length(mis_match_digits)"
   ]
  },
  {
   "cell_type": "code",
   "execution_count": 62,
   "metadata": {},
   "outputs": [
    {
     "name": "stdout",
     "output_type": "stream",
     "text": [
      " digit 0: 0\n",
      " digit 1: 2\n",
      " digit 2: 0\n",
      " digit 3: 3\n",
      " digit 4: 2\n",
      " digit 5: 5\n",
      " digit 6: 2\n",
      " digit 7: 4\n",
      " digit 8: 8\n",
      " digit 9: 7\n"
     ]
    }
   ],
   "source": [
    "for i in 1:10\n",
    "    x = filter(==(i-1), mis_match_digits)\n",
    "    println(\" digit $(i-1): \", length(x))\n",
    "end"
   ]
  },
  {
   "cell_type": "code",
   "execution_count": 63,
   "metadata": {},
   "outputs": [
    {
     "data": {
      "image/png": "[encoded data removed]",
      "image/svg+xml": [
       "<?xml version=\"1.0\" encoding=\"utf-8\"?>\n",
       "<svg xmlns=\"http://www.w3.org/2000/svg\" xmlns:xlink=\"http://www.w3.org/1999/xlink\" width=\"600\" height=\"400\" viewBox=\"0 0 2400 1600\">\n",
       "<defs>\n",
       "  <clipPath id=\"clip620\">\n",
       "    <rect x=\"0\" y=\"0\" width=\"2400\" height=\"1600\"/>\n",
       "  </clipPath>\n",
       "</defs>\n",
       "<path clip-path=\"url(#clip620)\" d=\"M0 1600 L2400 1600 L2400 0 L0 0  Z\" fill=\"#ffffff\" fill-rule=\"evenodd\" fill-opacity=\"1\"/>\n",
       "<defs>\n",
       "  <clipPath id=\"clip621\">\n",
       "    <rect x=\"480\" y=\"0\" width=\"1681\" height=\"1600\"/>\n",
       "  </clipPath>\n",
       "</defs>\n",
       "<path clip-path=\"url(#clip620)\" d=\"M112.177 1423.18 L2352.76 1423.18 L2352.76 47.2441 L112.177 47.2441  Z\" fill=\"#ffffff\" fill-rule=\"evenodd\" fill-opacity=\"1\"/>\n",
       "<defs>\n",
       "  <clipPath id=\"clip622\">\n",
       "    <rect x=\"112\" y=\"47\" width=\"2242\" height=\"1377\"/>\n",
       "  </clipPath>\n",
       "</defs>\n",
       "<polyline clip-path=\"url(#clip622)\" style=\"stroke:#000000; stroke-linecap:round; stroke-linejoin:round; stroke-width:2; stroke-opacity:0.1; fill:none\" points=\"456.98,1423.18 456.98,47.2441 \"/>\n",
       "<polyline clip-path=\"url(#clip622)\" style=\"stroke:#000000; stroke-linecap:round; stroke-linejoin:round; stroke-width:2; stroke-opacity:0.1; fill:none\" points=\"900.115,1423.18 900.115,47.2441 \"/>\n",
       "<polyline clip-path=\"url(#clip622)\" style=\"stroke:#000000; stroke-linecap:round; stroke-linejoin:round; stroke-width:2; stroke-opacity:0.1; fill:none\" points=\"1343.25,1423.18 1343.25,47.2441 \"/>\n",
       "<polyline clip-path=\"url(#clip622)\" style=\"stroke:#000000; stroke-linecap:round; stroke-linejoin:round; stroke-width:2; stroke-opacity:0.1; fill:none\" points=\"1786.39,1423.18 1786.39,47.2441 \"/>\n",
       "<polyline clip-path=\"url(#clip622)\" style=\"stroke:#000000; stroke-linecap:round; stroke-linejoin:round; stroke-width:2; stroke-opacity:0.1; fill:none\" points=\"2229.52,1423.18 2229.52,47.2441 \"/>\n",
       "<polyline clip-path=\"url(#clip620)\" style=\"stroke:#000000; stroke-linecap:round; stroke-linejoin:round; stroke-width:4; stroke-opacity:1; fill:none\" points=\"112.177,1423.18 2352.76,1423.18 \"/>\n",
       "<polyline clip-path=\"url(#clip620)\" style=\"stroke:#000000; stroke-linecap:round; stroke-linejoin:round; stroke-width:4; stroke-opacity:1; fill:none\" points=\"456.98,1423.18 456.98,1404.28 \"/>\n",
       "<polyline clip-path=\"url(#clip620)\" style=\"stroke:#000000; stroke-linecap:round; stroke-linejoin:round; stroke-width:4; stroke-opacity:1; fill:none\" points=\"900.115,1423.18 900.115,1404.28 \"/>\n",
       "<polyline clip-path=\"url(#clip620)\" style=\"stroke:#000000; stroke-linecap:round; stroke-linejoin:round; stroke-width:4; stroke-opacity:1; fill:none\" points=\"1343.25,1423.18 1343.25,1404.28 \"/>\n",
       "<polyline clip-path=\"url(#clip620)\" style=\"stroke:#000000; stroke-linecap:round; stroke-linejoin:round; stroke-width:4; stroke-opacity:1; fill:none\" points=\"1786.39,1423.18 1786.39,1404.28 \"/>\n",
       "<polyline clip-path=\"url(#clip620)\" style=\"stroke:#000000; stroke-linecap:round; stroke-linejoin:round; stroke-width:4; stroke-opacity:1; fill:none\" points=\"2229.52,1423.18 2229.52,1404.28 \"/>\n",
       "<path clip-path=\"url(#clip620)\" d=\"M451.633 1481.64 L467.953 1481.64 L467.953 1485.58 L446.008 1485.58 L446.008 1481.64 Q448.67 1478.89 453.254 1474.26 Q457.86 1469.61 459.041 1468.27 Q461.286 1465.74 462.166 1464.01 Q463.068 1462.25 463.068 1460.56 Q463.068 1457.8 461.124 1456.07 Q459.203 1454.33 456.101 1454.33 Q453.902 1454.33 451.448 1455.09 Q449.018 1455.86 446.24 1457.41 L446.24 1452.69 Q449.064 1451.55 451.518 1450.97 Q453.971 1450.39 456.008 1450.39 Q461.379 1450.39 464.573 1453.08 Q467.767 1455.77 467.767 1460.26 Q467.767 1462.39 466.957 1464.31 Q466.17 1466.2 464.064 1468.8 Q463.485 1469.47 460.383 1472.69 Q457.281 1475.88 451.633 1481.64 Z\" fill=\"#000000\" fill-rule=\"nonzero\" fill-opacity=\"1\" /><path clip-path=\"url(#clip620)\" d=\"M903.125 1455.09 L891.319 1473.54 L903.125 1473.54 L903.125 1455.09 M901.898 1451.02 L907.777 1451.02 L907.777 1473.54 L912.708 1473.54 L912.708 1477.43 L907.777 1477.43 L907.777 1485.58 L903.125 1485.58 L903.125 1477.43 L887.523 1477.43 L887.523 1472.92 L901.898 1451.02 Z\" fill=\"#000000\" fill-rule=\"nonzero\" fill-opacity=\"1\" /><path clip-path=\"url(#clip620)\" d=\"M1343.66 1466.44 Q1340.51 1466.44 1338.66 1468.59 Q1336.83 1470.74 1336.83 1474.49 Q1336.83 1478.22 1338.66 1480.39 Q1340.51 1482.55 1343.66 1482.55 Q1346.8 1482.55 1348.63 1480.39 Q1350.48 1478.22 1350.48 1474.49 Q1350.48 1470.74 1348.63 1468.59 Q1346.8 1466.44 1343.66 1466.44 M1352.94 1451.78 L1352.94 1456.04 Q1351.18 1455.21 1349.37 1454.77 Q1347.59 1454.33 1345.83 1454.33 Q1341.2 1454.33 1338.75 1457.45 Q1336.32 1460.58 1335.97 1466.9 Q1337.34 1464.89 1339.4 1463.82 Q1341.46 1462.73 1343.93 1462.73 Q1349.14 1462.73 1352.15 1465.9 Q1355.18 1469.05 1355.18 1474.49 Q1355.18 1479.82 1352.03 1483.03 Q1348.89 1486.25 1343.66 1486.25 Q1337.66 1486.25 1334.49 1481.67 Q1331.32 1477.06 1331.32 1468.33 Q1331.32 1460.14 1335.21 1455.28 Q1339.1 1450.39 1345.65 1450.39 Q1347.41 1450.39 1349.19 1450.74 Q1350.99 1451.09 1352.94 1451.78 Z\" fill=\"#000000\" fill-rule=\"nonzero\" fill-opacity=\"1\" /><path clip-path=\"url(#clip620)\" d=\"M1786.39 1469.17 Q1783.05 1469.17 1781.13 1470.95 Q1779.23 1472.73 1779.23 1475.86 Q1779.23 1478.98 1781.13 1480.77 Q1783.05 1482.55 1786.39 1482.55 Q1789.72 1482.55 1791.64 1480.77 Q1793.56 1478.96 1793.56 1475.86 Q1793.56 1472.73 1791.64 1470.95 Q1789.74 1469.17 1786.39 1469.17 M1781.71 1467.18 Q1778.7 1466.44 1777.01 1464.38 Q1775.34 1462.32 1775.34 1459.35 Q1775.34 1455.21 1778.28 1452.8 Q1781.25 1450.39 1786.39 1450.39 Q1791.55 1450.39 1794.49 1452.8 Q1797.43 1455.21 1797.43 1459.35 Q1797.43 1462.32 1795.74 1464.38 Q1794.07 1466.44 1791.08 1467.18 Q1794.46 1467.96 1796.34 1470.26 Q1798.24 1472.55 1798.24 1475.86 Q1798.24 1480.88 1795.16 1483.57 Q1792.1 1486.25 1786.39 1486.25 Q1780.67 1486.25 1777.59 1483.57 Q1774.53 1480.88 1774.53 1475.86 Q1774.53 1472.55 1776.43 1470.26 Q1778.33 1467.96 1781.71 1467.18 M1780 1459.79 Q1780 1462.48 1781.66 1463.98 Q1783.35 1465.49 1786.39 1465.49 Q1789.39 1465.49 1791.08 1463.98 Q1792.8 1462.48 1792.8 1459.79 Q1792.8 1457.11 1791.08 1455.6 Q1789.39 1454.1 1786.39 1454.1 Q1783.35 1454.1 1781.66 1455.6 Q1780 1457.11 1780 1459.79 Z\" fill=\"#000000\" fill-rule=\"nonzero\" fill-opacity=\"1\" /><path clip-path=\"url(#clip620)\" d=\"M2204.21 1481.64 L2211.85 1481.64 L2211.85 1455.28 L2203.54 1456.95 L2203.54 1452.69 L2211.8 1451.02 L2216.48 1451.02 L2216.48 1481.64 L2224.12 1481.64 L2224.12 1485.58 L2204.21 1485.58 L2204.21 1481.64 Z\" fill=\"#000000\" fill-rule=\"nonzero\" fill-opacity=\"1\" /><path clip-path=\"url(#clip620)\" d=\"M2243.56 1454.1 Q2239.95 1454.1 2238.12 1457.66 Q2236.31 1461.2 2236.31 1468.33 Q2236.31 1475.44 2238.12 1479.01 Q2239.95 1482.55 2243.56 1482.55 Q2247.19 1482.55 2249 1479.01 Q2250.83 1475.44 2250.83 1468.33 Q2250.83 1461.2 2249 1457.66 Q2247.19 1454.1 2243.56 1454.1 M2243.56 1450.39 Q2249.37 1450.39 2252.43 1455 Q2255.5 1459.58 2255.5 1468.33 Q2255.5 1477.06 2252.43 1481.67 Q2249.37 1486.25 2243.56 1486.25 Q2237.75 1486.25 2234.67 1481.67 Q2231.61 1477.06 2231.61 1468.33 Q2231.61 1459.58 2234.67 1455 Q2237.75 1450.39 2243.56 1450.39 Z\" fill=\"#000000\" fill-rule=\"nonzero\" fill-opacity=\"1\" /><path clip-path=\"url(#clip620)\" d=\"M1188.78 1537.81 L1188.78 1518.52 L1194.64 1518.52 L1194.64 1568.04 L1188.78 1568.04 L1188.78 1562.7 Q1186.94 1565.88 1184.1 1567.44 Q1181.3 1568.97 1177.36 1568.97 Q1170.89 1568.97 1166.82 1563.81 Q1162.78 1558.65 1162.78 1550.25 Q1162.78 1541.85 1166.82 1536.69 Q1170.89 1531.54 1177.36 1531.54 Q1181.3 1531.54 1184.1 1533.1 Q1186.94 1534.62 1188.78 1537.81 M1168.83 1550.25 Q1168.83 1556.71 1171.47 1560.4 Q1174.14 1564.07 1178.79 1564.07 Q1183.43 1564.07 1186.11 1560.4 Q1188.78 1556.71 1188.78 1550.25 Q1188.78 1543.79 1186.11 1540.13 Q1183.43 1536.44 1178.79 1536.44 Q1174.14 1536.44 1171.47 1540.13 Q1168.83 1543.79 1168.83 1550.25 Z\" fill=\"#000000\" fill-rule=\"nonzero\" fill-opacity=\"1\" /><path clip-path=\"url(#clip620)\" d=\"M1206.7 1532.4 L1212.56 1532.4 L1212.56 1568.04 L1206.7 1568.04 L1206.7 1532.4 M1206.7 1518.52 L1212.56 1518.52 L1212.56 1525.93 L1206.7 1525.93 L1206.7 1518.52 Z\" fill=\"#000000\" fill-rule=\"nonzero\" fill-opacity=\"1\" /><path clip-path=\"url(#clip620)\" d=\"M1248.27 1549.81 Q1248.27 1543.44 1245.63 1539.94 Q1243.02 1536.44 1238.28 1536.44 Q1233.56 1536.44 1230.92 1539.94 Q1228.31 1543.44 1228.31 1549.81 Q1228.31 1556.14 1230.92 1559.64 Q1233.56 1563.14 1238.28 1563.14 Q1243.02 1563.14 1245.63 1559.64 Q1248.27 1556.14 1248.27 1549.81 M1254.13 1563.62 Q1254.13 1572.72 1250.08 1577.15 Q1246.04 1581.6 1237.7 1581.6 Q1234.61 1581.6 1231.88 1581.13 Q1229.14 1580.68 1226.56 1579.72 L1226.56 1574.03 Q1229.14 1575.43 1231.65 1576.1 Q1234.17 1576.76 1236.78 1576.76 Q1242.54 1576.76 1245.4 1573.74 Q1248.27 1570.75 1248.27 1564.67 L1248.27 1561.77 Q1246.46 1564.92 1243.62 1566.48 Q1240.79 1568.04 1236.84 1568.04 Q1230.29 1568.04 1226.28 1563.05 Q1222.27 1558.05 1222.27 1549.81 Q1222.27 1541.53 1226.28 1536.53 Q1230.29 1531.54 1236.84 1531.54 Q1240.79 1531.54 1243.62 1533.1 Q1246.46 1534.66 1248.27 1537.81 L1248.27 1532.4 L1254.13 1532.4 L1254.13 1563.62 Z\" fill=\"#000000\" fill-rule=\"nonzero\" fill-opacity=\"1\" /><path clip-path=\"url(#clip620)\" d=\"M1266.19 1532.4 L1272.05 1532.4 L1272.05 1568.04 L1266.19 1568.04 L1266.19 1532.4 M1266.19 1518.52 L1272.05 1518.52 L1272.05 1525.93 L1266.19 1525.93 L1266.19 1518.52 Z\" fill=\"#000000\" fill-rule=\"nonzero\" fill-opacity=\"1\" /><path clip-path=\"url(#clip620)\" d=\"M1290.09 1522.27 L1290.09 1532.4 L1302.16 1532.4 L1302.16 1536.95 L1290.09 1536.95 L1290.09 1556.3 Q1290.09 1560.66 1291.27 1561.9 Q1292.48 1563.14 1296.14 1563.14 L1302.16 1563.14 L1302.16 1568.04 L1296.14 1568.04 Q1289.36 1568.04 1286.78 1565.53 Q1284.2 1562.98 1284.2 1556.3 L1284.2 1536.95 L1279.91 1536.95 L1279.91 1532.4 L1284.2 1532.4 L1284.2 1522.27 L1290.09 1522.27 Z\" fill=\"#000000\" fill-rule=\"nonzero\" fill-opacity=\"1\" /><polyline clip-path=\"url(#clip622)\" style=\"stroke:#000000; stroke-linecap:round; stroke-linejoin:round; stroke-width:2; stroke-opacity:0.1; fill:none\" points=\"112.177,1384.24 2352.76,1384.24 \"/>\n",
       "<polyline clip-path=\"url(#clip622)\" style=\"stroke:#000000; stroke-linecap:round; stroke-linejoin:round; stroke-width:2; stroke-opacity:0.1; fill:none\" points=\"112.177,1059.73 2352.76,1059.73 \"/>\n",
       "<polyline clip-path=\"url(#clip622)\" style=\"stroke:#000000; stroke-linecap:round; stroke-linejoin:round; stroke-width:2; stroke-opacity:0.1; fill:none\" points=\"112.177,735.212 2352.76,735.212 \"/>\n",
       "<polyline clip-path=\"url(#clip622)\" style=\"stroke:#000000; stroke-linecap:round; stroke-linejoin:round; stroke-width:2; stroke-opacity:0.1; fill:none\" points=\"112.177,410.699 2352.76,410.699 \"/>\n",
       "<polyline clip-path=\"url(#clip622)\" style=\"stroke:#000000; stroke-linecap:round; stroke-linejoin:round; stroke-width:2; stroke-opacity:0.1; fill:none\" points=\"112.177,86.1857 2352.76,86.1857 \"/>\n",
       "<polyline clip-path=\"url(#clip620)\" style=\"stroke:#000000; stroke-linecap:round; stroke-linejoin:round; stroke-width:4; stroke-opacity:1; fill:none\" points=\"112.177,1423.18 112.177,47.2441 \"/>\n",
       "<polyline clip-path=\"url(#clip620)\" style=\"stroke:#000000; stroke-linecap:round; stroke-linejoin:round; stroke-width:4; stroke-opacity:1; fill:none\" points=\"112.177,1384.24 131.075,1384.24 \"/>\n",
       "<polyline clip-path=\"url(#clip620)\" style=\"stroke:#000000; stroke-linecap:round; stroke-linejoin:round; stroke-width:4; stroke-opacity:1; fill:none\" points=\"112.177,1059.73 131.075,1059.73 \"/>\n",
       "<polyline clip-path=\"url(#clip620)\" style=\"stroke:#000000; stroke-linecap:round; stroke-linejoin:round; stroke-width:4; stroke-opacity:1; fill:none\" points=\"112.177,735.212 131.075,735.212 \"/>\n",
       "<polyline clip-path=\"url(#clip620)\" style=\"stroke:#000000; stroke-linecap:round; stroke-linejoin:round; stroke-width:4; stroke-opacity:1; fill:none\" points=\"112.177,410.699 131.075,410.699 \"/>\n",
       "<polyline clip-path=\"url(#clip620)\" style=\"stroke:#000000; stroke-linecap:round; stroke-linejoin:round; stroke-width:4; stroke-opacity:1; fill:none\" points=\"112.177,86.1857 131.075,86.1857 \"/>\n",
       "<path clip-path=\"url(#clip620)\" d=\"M64.2328 1370.04 Q60.6217 1370.04 58.793 1373.6 Q56.9875 1377.14 56.9875 1384.27 Q56.9875 1391.38 58.793 1394.94 Q60.6217 1398.49 64.2328 1398.49 Q67.867 1398.49 69.6726 1394.94 Q71.5013 1391.38 71.5013 1384.27 Q71.5013 1377.14 69.6726 1373.6 Q67.867 1370.04 64.2328 1370.04 M64.2328 1366.33 Q70.0429 1366.33 73.0985 1370.94 Q76.1772 1375.52 76.1772 1384.27 Q76.1772 1393 73.0985 1397.61 Q70.0429 1402.19 64.2328 1402.19 Q58.4226 1402.19 55.344 1397.61 Q52.2884 1393 52.2884 1384.27 Q52.2884 1375.52 55.344 1370.94 Q58.4226 1366.33 64.2328 1366.33 Z\" fill=\"#000000\" fill-rule=\"nonzero\" fill-opacity=\"1\" /><path clip-path=\"url(#clip620)\" d=\"M59.8578 1073.07 L76.1772 1073.07 L76.1772 1077.01 L54.2328 1077.01 L54.2328 1073.07 Q56.8949 1070.32 61.4782 1065.69 Q66.0846 1061.03 67.2652 1059.69 Q69.5105 1057.17 70.3902 1055.43 Q71.2929 1053.67 71.2929 1051.98 Q71.2929 1049.23 69.3485 1047.49 Q67.4272 1045.76 64.3254 1045.76 Q62.1263 1045.76 59.6726 1046.52 Q57.2421 1047.28 54.4643 1048.83 L54.4643 1044.11 Q57.2884 1042.98 59.7421 1042.4 Q62.1958 1041.82 64.2328 1041.82 Q69.6031 1041.82 72.7976 1044.51 Q75.992 1047.19 75.992 1051.68 Q75.992 1053.81 75.1818 1055.73 Q74.3948 1057.63 72.2883 1060.22 Q71.7096 1060.89 68.6078 1064.11 Q65.5059 1067.31 59.8578 1073.07 Z\" fill=\"#000000\" fill-rule=\"nonzero\" fill-opacity=\"1\" /><path clip-path=\"url(#clip620)\" d=\"M66.5939 722.006 L54.7884 740.455 L66.5939 740.455 L66.5939 722.006 M65.367 717.932 L71.2466 717.932 L71.2466 740.455 L76.1772 740.455 L76.1772 744.344 L71.2466 744.344 L71.2466 752.492 L66.5939 752.492 L66.5939 744.344 L50.9921 744.344 L50.9921 739.83 L65.367 717.932 Z\" fill=\"#000000\" fill-rule=\"nonzero\" fill-opacity=\"1\" /><path clip-path=\"url(#clip620)\" d=\"M64.6495 408.835 Q61.5013 408.835 59.6495 410.988 Q57.8208 413.141 57.8208 416.891 Q57.8208 420.618 59.6495 422.794 Q61.5013 424.946 64.6495 424.946 Q67.7976 424.946 69.6263 422.794 Q71.4781 420.618 71.4781 416.891 Q71.4781 413.141 69.6263 410.988 Q67.7976 408.835 64.6495 408.835 M73.9318 394.183 L73.9318 398.442 Q72.1726 397.609 70.367 397.169 Q68.5846 396.729 66.8254 396.729 Q62.1958 396.729 59.7421 399.854 Q57.3115 402.979 56.9643 409.298 Q58.33 407.284 60.3902 406.22 Q62.4504 405.132 64.9272 405.132 Q70.1355 405.132 73.1448 408.303 Q76.1772 411.451 76.1772 416.891 Q76.1772 422.215 73.029 425.433 Q69.8809 428.65 64.6495 428.65 Q58.6541 428.65 55.4828 424.067 Q52.3116 419.46 52.3116 410.734 Q52.3116 402.539 56.2004 397.678 Q60.0893 392.794 66.6402 392.794 Q68.3994 392.794 70.1818 393.141 Q71.9874 393.488 73.9318 394.183 Z\" fill=\"#000000\" fill-rule=\"nonzero\" fill-opacity=\"1\" /><path clip-path=\"url(#clip620)\" d=\"M64.3254 87.0537 Q60.9921 87.0537 59.0708 88.8361 Q57.1726 90.6185 57.1726 93.7435 Q57.1726 96.8685 59.0708 98.6509 Q60.9921 100.433 64.3254 100.433 Q67.6587 100.433 69.58 98.6509 Q71.5013 96.8453 71.5013 93.7435 Q71.5013 90.6185 69.58 88.8361 Q67.6819 87.0537 64.3254 87.0537 M59.6495 85.063 Q56.6402 84.3223 54.9504 82.2621 Q53.2838 80.2019 53.2838 77.239 Q53.2838 73.0955 56.2236 70.6881 Q59.1865 68.2807 64.3254 68.2807 Q69.4874 68.2807 72.4272 70.6881 Q75.367 73.0955 75.367 77.239 Q75.367 80.2019 73.6772 82.2621 Q72.0105 84.3223 69.0244 85.063 Q72.404 85.85 74.279 88.1417 Q76.1772 90.4333 76.1772 93.7435 Q76.1772 98.7666 73.0985 101.452 Q70.0429 104.137 64.3254 104.137 Q58.6078 104.137 55.5291 101.452 Q52.4736 98.7666 52.4736 93.7435 Q52.4736 90.4333 54.3717 88.1417 Q56.2699 85.85 59.6495 85.063 M57.9365 77.6788 Q57.9365 80.3639 59.6032 81.8686 Q61.293 83.3732 64.3254 83.3732 Q67.3346 83.3732 69.0244 81.8686 Q70.7374 80.3639 70.7374 77.6788 Q70.7374 74.9936 69.0244 73.489 Q67.3346 71.9844 64.3254 71.9844 Q61.293 71.9844 59.6032 73.489 Q57.9365 74.9936 57.9365 77.6788 Z\" fill=\"#000000\" fill-rule=\"nonzero\" fill-opacity=\"1\" /><path clip-path=\"url(#clip622)\" d=\"M235.413 1059.73 L235.413 1384.24 L456.98 1384.24 L456.98 1059.73 L235.413 1059.73 L235.413 1059.73  Z\" fill=\"#808080\" fill-rule=\"evenodd\" fill-opacity=\"1\"/>\n",
       "<polyline clip-path=\"url(#clip622)\" style=\"stroke:#000000; stroke-linecap:round; stroke-linejoin:round; stroke-width:4; stroke-opacity:1; fill:none\" points=\"235.413,1059.73 235.413,1384.24 456.98,1384.24 456.98,1059.73 235.413,1059.73 \"/>\n",
       "<path clip-path=\"url(#clip622)\" d=\"M456.98 1384.24 L456.98 1384.24 L678.548 1384.24 L678.548 1384.24 L456.98 1384.24 L456.98 1384.24  Z\" fill=\"#808080\" fill-rule=\"evenodd\" fill-opacity=\"1\"/>\n",
       "<polyline clip-path=\"url(#clip622)\" style=\"stroke:#000000; stroke-linecap:round; stroke-linejoin:round; stroke-width:4; stroke-opacity:1; fill:none\" points=\"456.98,1384.24 456.98,1384.24 678.548,1384.24 456.98,1384.24 \"/>\n",
       "<path clip-path=\"url(#clip622)\" d=\"M678.548 897.469 L678.548 1384.24 L900.115 1384.24 L900.115 897.469 L678.548 897.469 L678.548 897.469  Z\" fill=\"#808080\" fill-rule=\"evenodd\" fill-opacity=\"1\"/>\n",
       "<polyline clip-path=\"url(#clip622)\" style=\"stroke:#000000; stroke-linecap:round; stroke-linejoin:round; stroke-width:4; stroke-opacity:1; fill:none\" points=\"678.548,897.469 678.548,1384.24 900.115,1384.24 900.115,897.469 678.548,897.469 \"/>\n",
       "<path clip-path=\"url(#clip622)\" d=\"M900.115 1059.73 L900.115 1384.24 L1121.68 1384.24 L1121.68 1059.73 L900.115 1059.73 L900.115 1059.73  Z\" fill=\"#808080\" fill-rule=\"evenodd\" fill-opacity=\"1\"/>\n",
       "<polyline clip-path=\"url(#clip622)\" style=\"stroke:#000000; stroke-linecap:round; stroke-linejoin:round; stroke-width:4; stroke-opacity:1; fill:none\" points=\"900.115,1059.73 900.115,1384.24 1121.68,1384.24 1121.68,1059.73 900.115,1059.73 \"/>\n",
       "<path clip-path=\"url(#clip622)\" d=\"M1121.68 572.955 L1121.68 1384.24 L1343.25 1384.24 L1343.25 572.955 L1121.68 572.955 L1121.68 572.955  Z\" fill=\"#808080\" fill-rule=\"evenodd\" fill-opacity=\"1\"/>\n",
       "<polyline clip-path=\"url(#clip622)\" style=\"stroke:#000000; stroke-linecap:round; stroke-linejoin:round; stroke-width:4; stroke-opacity:1; fill:none\" points=\"1121.68,572.955 1121.68,1384.24 1343.25,1384.24 1343.25,572.955 1121.68,572.955 \"/>\n",
       "<path clip-path=\"url(#clip622)\" d=\"M1343.25 1059.73 L1343.25 1384.24 L1564.82 1384.24 L1564.82 1059.73 L1343.25 1059.73 L1343.25 1059.73  Z\" fill=\"#808080\" fill-rule=\"evenodd\" fill-opacity=\"1\"/>\n",
       "<polyline clip-path=\"url(#clip622)\" style=\"stroke:#000000; stroke-linecap:round; stroke-linejoin:round; stroke-width:4; stroke-opacity:1; fill:none\" points=\"1343.25,1059.73 1343.25,1384.24 1564.82,1384.24 1564.82,1059.73 1343.25,1059.73 \"/>\n",
       "<path clip-path=\"url(#clip622)\" d=\"M1564.82 735.212 L1564.82 1384.24 L1786.39 1384.24 L1786.39 735.212 L1564.82 735.212 L1564.82 735.212  Z\" fill=\"#808080\" fill-rule=\"evenodd\" fill-opacity=\"1\"/>\n",
       "<polyline clip-path=\"url(#clip622)\" style=\"stroke:#000000; stroke-linecap:round; stroke-linejoin:round; stroke-width:4; stroke-opacity:1; fill:none\" points=\"1564.82,735.212 1564.82,1384.24 1786.39,1384.24 1786.39,735.212 1564.82,735.212 \"/>\n",
       "<path clip-path=\"url(#clip622)\" d=\"M1786.39 86.1857 L1786.39 1384.24 L2007.95 1384.24 L2007.95 86.1857 L1786.39 86.1857 L1786.39 86.1857  Z\" fill=\"#808080\" fill-rule=\"evenodd\" fill-opacity=\"1\"/>\n",
       "<polyline clip-path=\"url(#clip622)\" style=\"stroke:#000000; stroke-linecap:round; stroke-linejoin:round; stroke-width:4; stroke-opacity:1; fill:none\" points=\"1786.39,86.1857 1786.39,1384.24 2007.95,1384.24 2007.95,86.1857 1786.39,86.1857 \"/>\n",
       "<path clip-path=\"url(#clip622)\" d=\"M2007.95 248.442 L2007.95 1384.24 L2229.52 1384.24 L2229.52 248.442 L2007.95 248.442 L2007.95 248.442  Z\" fill=\"#808080\" fill-rule=\"evenodd\" fill-opacity=\"1\"/>\n",
       "<polyline clip-path=\"url(#clip622)\" style=\"stroke:#000000; stroke-linecap:round; stroke-linejoin:round; stroke-width:4; stroke-opacity:1; fill:none\" points=\"2007.95,248.442 2007.95,1384.24 2229.52,1384.24 2229.52,248.442 2007.95,248.442 \"/>\n",
       "<circle clip-path=\"url(#clip622)\" style=\"fill:#808080; stroke:none; fill-opacity:0\" cx=\"346.197\" cy=\"1059.73\" r=\"2\"/>\n",
       "<circle clip-path=\"url(#clip622)\" style=\"fill:#808080; stroke:none; fill-opacity:0\" cx=\"567.764\" cy=\"1384.24\" r=\"2\"/>\n",
       "<circle clip-path=\"url(#clip622)\" style=\"fill:#808080; stroke:none; fill-opacity:0\" cx=\"789.332\" cy=\"897.469\" r=\"2\"/>\n",
       "<circle clip-path=\"url(#clip622)\" style=\"fill:#808080; stroke:none; fill-opacity:0\" cx=\"1010.9\" cy=\"1059.73\" r=\"2\"/>\n",
       "<circle clip-path=\"url(#clip622)\" style=\"fill:#808080; stroke:none; fill-opacity:0\" cx=\"1232.47\" cy=\"572.955\" r=\"2\"/>\n",
       "<circle clip-path=\"url(#clip622)\" style=\"fill:#808080; stroke:none; fill-opacity:0\" cx=\"1454.03\" cy=\"1059.73\" r=\"2\"/>\n",
       "<circle clip-path=\"url(#clip622)\" style=\"fill:#808080; stroke:none; fill-opacity:0\" cx=\"1675.6\" cy=\"735.212\" r=\"2\"/>\n",
       "<circle clip-path=\"url(#clip622)\" style=\"fill:#808080; stroke:none; fill-opacity:0\" cx=\"1897.17\" cy=\"86.1857\" r=\"2\"/>\n",
       "<circle clip-path=\"url(#clip622)\" style=\"fill:#808080; stroke:none; fill-opacity:0\" cx=\"2118.74\" cy=\"248.442\" r=\"2\"/>\n",
       "<path clip-path=\"url(#clip620)\" d=\"M186.863 196.789 L535.805 196.789 L535.805 93.1086 L186.863 93.1086  Z\" fill=\"#ffffff\" fill-rule=\"evenodd\" fill-opacity=\"1\"/>\n",
       "<polyline clip-path=\"url(#clip620)\" style=\"stroke:#000000; stroke-linecap:round; stroke-linejoin:round; stroke-width:4; stroke-opacity:1; fill:none\" points=\"186.863,196.789 535.805,196.789 535.805,93.1086 186.863,93.1086 186.863,196.789 \"/>\n",
       "<path clip-path=\"url(#clip620)\" d=\"M211.758 165.685 L361.13 165.685 L361.13 124.213 L211.758 124.213 L211.758 165.685  Z\" fill=\"#808080\" fill-rule=\"evenodd\" fill-opacity=\"1\"/>\n",
       "<polyline clip-path=\"url(#clip620)\" style=\"stroke:#000000; stroke-linecap:round; stroke-linejoin:round; stroke-width:4; stroke-opacity:1; fill:none\" points=\"211.758,165.685 361.13,165.685 361.13,124.213 211.758,124.213 211.758,165.685 \"/>\n",
       "<path clip-path=\"url(#clip620)\" d=\"M404.938 140.238 L404.938 126.21 L409.197 126.21 L409.197 162.229 L404.938 162.229 L404.938 158.34 Q403.595 160.655 401.535 161.789 Q399.498 162.9 396.627 162.9 Q391.928 162.9 388.965 159.15 Q386.026 155.4 386.026 149.289 Q386.026 143.178 388.965 139.428 Q391.928 135.678 396.627 135.678 Q399.498 135.678 401.535 136.812 Q403.595 137.923 404.938 140.238 M390.424 149.289 Q390.424 153.988 392.345 156.673 Q394.29 159.335 397.669 159.335 Q401.049 159.335 402.993 156.673 Q404.938 153.988 404.938 149.289 Q404.938 144.59 402.993 141.928 Q401.049 139.243 397.669 139.243 Q394.29 139.243 392.345 141.928 Q390.424 144.59 390.424 149.289 Z\" fill=\"#000000\" fill-rule=\"nonzero\" fill-opacity=\"1\" /><path clip-path=\"url(#clip620)\" d=\"M417.97 136.303 L422.229 136.303 L422.229 162.229 L417.97 162.229 L417.97 136.303 M417.97 126.21 L422.229 126.21 L422.229 131.604 L417.97 131.604 L417.97 126.21 Z\" fill=\"#000000\" fill-rule=\"nonzero\" fill-opacity=\"1\" /><path clip-path=\"url(#clip620)\" d=\"M448.201 148.965 Q448.201 144.335 446.28 141.789 Q444.382 139.243 440.933 139.243 Q437.507 139.243 435.586 141.789 Q433.687 144.335 433.687 148.965 Q433.687 153.571 435.586 156.118 Q437.507 158.664 440.933 158.664 Q444.382 158.664 446.28 156.118 Q448.201 153.571 448.201 148.965 M452.461 159.011 Q452.461 165.631 449.521 168.849 Q446.581 172.09 440.516 172.09 Q438.271 172.09 436.28 171.742 Q434.289 171.418 432.414 170.724 L432.414 166.58 Q434.289 167.599 436.118 168.085 Q437.947 168.571 439.845 168.571 Q444.035 168.571 446.118 166.372 Q448.201 164.196 448.201 159.775 L448.201 157.668 Q446.882 159.96 444.822 161.094 Q442.761 162.229 439.891 162.229 Q435.123 162.229 432.206 158.594 Q429.289 154.96 429.289 148.965 Q429.289 142.946 432.206 139.312 Q435.123 135.678 439.891 135.678 Q442.761 135.678 444.822 136.812 Q446.882 137.946 448.201 140.238 L448.201 136.303 L452.461 136.303 L452.461 159.011 Z\" fill=\"#000000\" fill-rule=\"nonzero\" fill-opacity=\"1\" /><path clip-path=\"url(#clip620)\" d=\"M461.234 136.303 L465.493 136.303 L465.493 162.229 L461.234 162.229 L461.234 136.303 M461.234 126.21 L465.493 126.21 L465.493 131.604 L461.234 131.604 L461.234 126.21 Z\" fill=\"#000000\" fill-rule=\"nonzero\" fill-opacity=\"1\" /><path clip-path=\"url(#clip620)\" d=\"M478.618 128.942 L478.618 136.303 L487.391 136.303 L487.391 139.613 L478.618 139.613 L478.618 153.687 Q478.618 156.858 479.474 157.761 Q480.354 158.664 483.016 158.664 L487.391 158.664 L487.391 162.229 L483.016 162.229 Q478.085 162.229 476.21 160.4 Q474.335 158.548 474.335 153.687 L474.335 139.613 L471.21 139.613 L471.21 136.303 L474.335 136.303 L474.335 128.942 L478.618 128.942 Z\" fill=\"#000000\" fill-rule=\"nonzero\" fill-opacity=\"1\" /><path clip-path=\"url(#clip620)\" d=\"M509.52 137.067 L509.52 141.094 Q507.715 140.169 505.77 139.706 Q503.826 139.243 501.743 139.243 Q498.571 139.243 496.974 140.215 Q495.4 141.187 495.4 143.131 Q495.4 144.613 496.534 145.469 Q497.669 146.303 501.095 147.067 L502.553 147.391 Q507.09 148.363 508.988 150.145 Q510.909 151.905 510.909 155.076 Q510.909 158.687 508.039 160.793 Q505.192 162.9 500.192 162.9 Q498.108 162.9 495.84 162.483 Q493.595 162.09 491.095 161.28 L491.095 156.881 Q493.456 158.108 495.747 158.733 Q498.039 159.335 500.284 159.335 Q503.294 159.335 504.914 158.317 Q506.534 157.275 506.534 155.4 Q506.534 153.664 505.354 152.738 Q504.196 151.812 500.238 150.956 L498.757 150.608 Q494.798 149.775 493.039 148.062 Q491.28 146.326 491.28 143.317 Q491.28 139.659 493.872 137.669 Q496.465 135.678 501.233 135.678 Q503.595 135.678 505.678 136.025 Q507.761 136.372 509.52 137.067 Z\" fill=\"#000000\" fill-rule=\"nonzero\" fill-opacity=\"1\" /></svg>\n"
      ],
      "text/html": [
       "<?xml version=\"1.0\" encoding=\"utf-8\"?>\n",
       "<svg xmlns=\"http://www.w3.org/2000/svg\" xmlns:xlink=\"http://www.w3.org/1999/xlink\" width=\"600\" height=\"400\" viewBox=\"0 0 2400 1600\">\n",
       "<defs>\n",
       "  <clipPath id=\"clip670\">\n",
       "    <rect x=\"0\" y=\"0\" width=\"2400\" height=\"1600\"/>\n",
       "  </clipPath>\n",
       "</defs>\n",
       "<path clip-path=\"url(#clip670)\" d=\"M0 1600 L2400 1600 L2400 0 L0 0  Z\" fill=\"#ffffff\" fill-rule=\"evenodd\" fill-opacity=\"1\"/>\n",
       "<defs>\n",
       "  <clipPath id=\"clip671\">\n",
       "    <rect x=\"480\" y=\"0\" width=\"1681\" height=\"1600\"/>\n",
       "  </clipPath>\n",
       "</defs>\n",
       "<path clip-path=\"url(#clip670)\" d=\"M112.177 1423.18 L2352.76 1423.18 L2352.76 47.2441 L112.177 47.2441  Z\" fill=\"#ffffff\" fill-rule=\"evenodd\" fill-opacity=\"1\"/>\n",
       "<defs>\n",
       "  <clipPath id=\"clip672\">\n",
       "    <rect x=\"112\" y=\"47\" width=\"2242\" height=\"1377\"/>\n",
       "  </clipPath>\n",
       "</defs>\n",
       "<polyline clip-path=\"url(#clip672)\" style=\"stroke:#000000; stroke-linecap:round; stroke-linejoin:round; stroke-width:2; stroke-opacity:0.1; fill:none\" points=\"456.98,1423.18 456.98,47.2441 \"/>\n",
       "<polyline clip-path=\"url(#clip672)\" style=\"stroke:#000000; stroke-linecap:round; stroke-linejoin:round; stroke-width:2; stroke-opacity:0.1; fill:none\" points=\"900.115,1423.18 900.115,47.2441 \"/>\n",
       "<polyline clip-path=\"url(#clip672)\" style=\"stroke:#000000; stroke-linecap:round; stroke-linejoin:round; stroke-width:2; stroke-opacity:0.1; fill:none\" points=\"1343.25,1423.18 1343.25,47.2441 \"/>\n",
       "<polyline clip-path=\"url(#clip672)\" style=\"stroke:#000000; stroke-linecap:round; stroke-linejoin:round; stroke-width:2; stroke-opacity:0.1; fill:none\" points=\"1786.39,1423.18 1786.39,47.2441 \"/>\n",
       "<polyline clip-path=\"url(#clip672)\" style=\"stroke:#000000; stroke-linecap:round; stroke-linejoin:round; stroke-width:2; stroke-opacity:0.1; fill:none\" points=\"2229.52,1423.18 2229.52,47.2441 \"/>\n",
       "<polyline clip-path=\"url(#clip670)\" style=\"stroke:#000000; stroke-linecap:round; stroke-linejoin:round; stroke-width:4; stroke-opacity:1; fill:none\" points=\"112.177,1423.18 2352.76,1423.18 \"/>\n",
       "<polyline clip-path=\"url(#clip670)\" style=\"stroke:#000000; stroke-linecap:round; stroke-linejoin:round; stroke-width:4; stroke-opacity:1; fill:none\" points=\"456.98,1423.18 456.98,1404.28 \"/>\n",
       "<polyline clip-path=\"url(#clip670)\" style=\"stroke:#000000; stroke-linecap:round; stroke-linejoin:round; stroke-width:4; stroke-opacity:1; fill:none\" points=\"900.115,1423.18 900.115,1404.28 \"/>\n",
       "<polyline clip-path=\"url(#clip670)\" style=\"stroke:#000000; stroke-linecap:round; stroke-linejoin:round; stroke-width:4; stroke-opacity:1; fill:none\" points=\"1343.25,1423.18 1343.25,1404.28 \"/>\n",
       "<polyline clip-path=\"url(#clip670)\" style=\"stroke:#000000; stroke-linecap:round; stroke-linejoin:round; stroke-width:4; stroke-opacity:1; fill:none\" points=\"1786.39,1423.18 1786.39,1404.28 \"/>\n",
       "<polyline clip-path=\"url(#clip670)\" style=\"stroke:#000000; stroke-linecap:round; stroke-linejoin:round; stroke-width:4; stroke-opacity:1; fill:none\" points=\"2229.52,1423.18 2229.52,1404.28 \"/>\n",
       "<path clip-path=\"url(#clip670)\" d=\"M451.633 1481.64 L467.953 1481.64 L467.953 1485.58 L446.008 1485.58 L446.008 1481.64 Q448.67 1478.89 453.254 1474.26 Q457.86 1469.61 459.041 1468.27 Q461.286 1465.74 462.166 1464.01 Q463.068 1462.25 463.068 1460.56 Q463.068 1457.8 461.124 1456.07 Q459.203 1454.33 456.101 1454.33 Q453.902 1454.33 451.448 1455.09 Q449.018 1455.86 446.24 1457.41 L446.24 1452.69 Q449.064 1451.55 451.518 1450.97 Q453.971 1450.39 456.008 1450.39 Q461.379 1450.39 464.573 1453.08 Q467.767 1455.77 467.767 1460.26 Q467.767 1462.39 466.957 1464.31 Q466.17 1466.2 464.064 1468.8 Q463.485 1469.47 460.383 1472.69 Q457.281 1475.88 451.633 1481.64 Z\" fill=\"#000000\" fill-rule=\"nonzero\" fill-opacity=\"1\" /><path clip-path=\"url(#clip670)\" d=\"M903.125 1455.09 L891.319 1473.54 L903.125 1473.54 L903.125 1455.09 M901.898 1451.02 L907.777 1451.02 L907.777 1473.54 L912.708 1473.54 L912.708 1477.43 L907.777 1477.43 L907.777 1485.58 L903.125 1485.58 L903.125 1477.43 L887.523 1477.43 L887.523 1472.92 L901.898 1451.02 Z\" fill=\"#000000\" fill-rule=\"nonzero\" fill-opacity=\"1\" /><path clip-path=\"url(#clip670)\" d=\"M1343.66 1466.44 Q1340.51 1466.44 1338.66 1468.59 Q1336.83 1470.74 1336.83 1474.49 Q1336.83 1478.22 1338.66 1480.39 Q1340.51 1482.55 1343.66 1482.55 Q1346.8 1482.55 1348.63 1480.39 Q1350.48 1478.22 1350.48 1474.49 Q1350.48 1470.74 1348.63 1468.59 Q1346.8 1466.44 1343.66 1466.44 M1352.94 1451.78 L1352.94 1456.04 Q1351.18 1455.21 1349.37 1454.77 Q1347.59 1454.33 1345.83 1454.33 Q1341.2 1454.33 1338.75 1457.45 Q1336.32 1460.58 1335.97 1466.9 Q1337.34 1464.89 1339.4 1463.82 Q1341.46 1462.73 1343.93 1462.73 Q1349.14 1462.73 1352.15 1465.9 Q1355.18 1469.05 1355.18 1474.49 Q1355.18 1479.82 1352.03 1483.03 Q1348.89 1486.25 1343.66 1486.25 Q1337.66 1486.25 1334.49 1481.67 Q1331.32 1477.06 1331.32 1468.33 Q1331.32 1460.14 1335.21 1455.28 Q1339.1 1450.39 1345.65 1450.39 Q1347.41 1450.39 1349.19 1450.74 Q1350.99 1451.09 1352.94 1451.78 Z\" fill=\"#000000\" fill-rule=\"nonzero\" fill-opacity=\"1\" /><path clip-path=\"url(#clip670)\" d=\"M1786.39 1469.17 Q1783.05 1469.17 1781.13 1470.95 Q1779.23 1472.73 1779.23 1475.86 Q1779.23 1478.98 1781.13 1480.77 Q1783.05 1482.55 1786.39 1482.55 Q1789.72 1482.55 1791.64 1480.77 Q1793.56 1478.96 1793.56 1475.86 Q1793.56 1472.73 1791.64 1470.95 Q1789.74 1469.17 1786.39 1469.17 M1781.71 1467.18 Q1778.7 1466.44 1777.01 1464.38 Q1775.34 1462.32 1775.34 1459.35 Q1775.34 1455.21 1778.28 1452.8 Q1781.25 1450.39 1786.39 1450.39 Q1791.55 1450.39 1794.49 1452.8 Q1797.43 1455.21 1797.43 1459.35 Q1797.43 1462.32 1795.74 1464.38 Q1794.07 1466.44 1791.08 1467.18 Q1794.46 1467.96 1796.34 1470.26 Q1798.24 1472.55 1798.24 1475.86 Q1798.24 1480.88 1795.16 1483.57 Q1792.1 1486.25 1786.39 1486.25 Q1780.67 1486.25 1777.59 1483.57 Q1774.53 1480.88 1774.53 1475.86 Q1774.53 1472.55 1776.43 1470.26 Q1778.33 1467.96 1781.71 1467.18 M1780 1459.79 Q1780 1462.48 1781.66 1463.98 Q1783.35 1465.49 1786.39 1465.49 Q1789.39 1465.49 1791.08 1463.98 Q1792.8 1462.48 1792.8 1459.79 Q1792.8 1457.11 1791.08 1455.6 Q1789.39 1454.1 1786.39 1454.1 Q1783.35 1454.1 1781.66 1455.6 Q1780 1457.11 1780 1459.79 Z\" fill=\"#000000\" fill-rule=\"nonzero\" fill-opacity=\"1\" /><path clip-path=\"url(#clip670)\" d=\"M2204.21 1481.64 L2211.85 1481.64 L2211.85 1455.28 L2203.54 1456.95 L2203.54 1452.69 L2211.8 1451.02 L2216.48 1451.02 L2216.48 1481.64 L2224.12 1481.64 L2224.12 1485.58 L2204.21 1485.58 L2204.21 1481.64 Z\" fill=\"#000000\" fill-rule=\"nonzero\" fill-opacity=\"1\" /><path clip-path=\"url(#clip670)\" d=\"M2243.56 1454.1 Q2239.95 1454.1 2238.12 1457.66 Q2236.31 1461.2 2236.31 1468.33 Q2236.31 1475.44 2238.12 1479.01 Q2239.95 1482.55 2243.56 1482.55 Q2247.19 1482.55 2249 1479.01 Q2250.83 1475.44 2250.83 1468.33 Q2250.83 1461.2 2249 1457.66 Q2247.19 1454.1 2243.56 1454.1 M2243.56 1450.39 Q2249.37 1450.39 2252.43 1455 Q2255.5 1459.58 2255.5 1468.33 Q2255.5 1477.06 2252.43 1481.67 Q2249.37 1486.25 2243.56 1486.25 Q2237.75 1486.25 2234.67 1481.67 Q2231.61 1477.06 2231.61 1468.33 Q2231.61 1459.58 2234.67 1455 Q2237.75 1450.39 2243.56 1450.39 Z\" fill=\"#000000\" fill-rule=\"nonzero\" fill-opacity=\"1\" /><path clip-path=\"url(#clip670)\" d=\"M1188.78 1537.81 L1188.78 1518.52 L1194.64 1518.52 L1194.64 1568.04 L1188.78 1568.04 L1188.78 1562.7 Q1186.94 1565.88 1184.1 1567.44 Q1181.3 1568.97 1177.36 1568.97 Q1170.89 1568.97 1166.82 1563.81 Q1162.78 1558.65 1162.78 1550.25 Q1162.78 1541.85 1166.82 1536.69 Q1170.89 1531.54 1177.36 1531.54 Q1181.3 1531.54 1184.1 1533.1 Q1186.94 1534.62 1188.78 1537.81 M1168.83 1550.25 Q1168.83 1556.71 1171.47 1560.4 Q1174.14 1564.07 1178.79 1564.07 Q1183.43 1564.07 1186.11 1560.4 Q1188.78 1556.71 1188.78 1550.25 Q1188.78 1543.79 1186.11 1540.13 Q1183.43 1536.44 1178.79 1536.44 Q1174.14 1536.44 1171.47 1540.13 Q1168.83 1543.79 1168.83 1550.25 Z\" fill=\"#000000\" fill-rule=\"nonzero\" fill-opacity=\"1\" /><path clip-path=\"url(#clip670)\" d=\"M1206.7 1532.4 L1212.56 1532.4 L1212.56 1568.04 L1206.7 1568.04 L1206.7 1532.4 M1206.7 1518.52 L1212.56 1518.52 L1212.56 1525.93 L1206.7 1525.93 L1206.7 1518.52 Z\" fill=\"#000000\" fill-rule=\"nonzero\" fill-opacity=\"1\" /><path clip-path=\"url(#clip670)\" d=\"M1248.27 1549.81 Q1248.27 1543.44 1245.63 1539.94 Q1243.02 1536.44 1238.28 1536.44 Q1233.56 1536.44 1230.92 1539.94 Q1228.31 1543.44 1228.31 1549.81 Q1228.31 1556.14 1230.92 1559.64 Q1233.56 1563.14 1238.28 1563.14 Q1243.02 1563.14 1245.63 1559.64 Q1248.27 1556.14 1248.27 1549.81 M1254.13 1563.62 Q1254.13 1572.72 1250.08 1577.15 Q1246.04 1581.6 1237.7 1581.6 Q1234.61 1581.6 1231.88 1581.13 Q1229.14 1580.68 1226.56 1579.72 L1226.56 1574.03 Q1229.14 1575.43 1231.65 1576.1 Q1234.17 1576.76 1236.78 1576.76 Q1242.54 1576.76 1245.4 1573.74 Q1248.27 1570.75 1248.27 1564.67 L1248.27 1561.77 Q1246.46 1564.92 1243.62 1566.48 Q1240.79 1568.04 1236.84 1568.04 Q1230.29 1568.04 1226.28 1563.05 Q1222.27 1558.05 1222.27 1549.81 Q1222.27 1541.53 1226.28 1536.53 Q1230.29 1531.54 1236.84 1531.54 Q1240.79 1531.54 1243.62 1533.1 Q1246.46 1534.66 1248.27 1537.81 L1248.27 1532.4 L1254.13 1532.4 L1254.13 1563.62 Z\" fill=\"#000000\" fill-rule=\"nonzero\" fill-opacity=\"1\" /><path clip-path=\"url(#clip670)\" d=\"M1266.19 1532.4 L1272.05 1532.4 L1272.05 1568.04 L1266.19 1568.04 L1266.19 1532.4 M1266.19 1518.52 L1272.05 1518.52 L1272.05 1525.93 L1266.19 1525.93 L1266.19 1518.52 Z\" fill=\"#000000\" fill-rule=\"nonzero\" fill-opacity=\"1\" /><path clip-path=\"url(#clip670)\" d=\"M1290.09 1522.27 L1290.09 1532.4 L1302.16 1532.4 L1302.16 1536.95 L1290.09 1536.95 L1290.09 1556.3 Q1290.09 1560.66 1291.27 1561.9 Q1292.48 1563.14 1296.14 1563.14 L1302.16 1563.14 L1302.16 1568.04 L1296.14 1568.04 Q1289.36 1568.04 1286.78 1565.53 Q1284.2 1562.98 1284.2 1556.3 L1284.2 1536.95 L1279.91 1536.95 L1279.91 1532.4 L1284.2 1532.4 L1284.2 1522.27 L1290.09 1522.27 Z\" fill=\"#000000\" fill-rule=\"nonzero\" fill-opacity=\"1\" /><polyline clip-path=\"url(#clip672)\" style=\"stroke:#000000; stroke-linecap:round; stroke-linejoin:round; stroke-width:2; stroke-opacity:0.1; fill:none\" points=\"112.177,1384.24 2352.76,1384.24 \"/>\n",
       "<polyline clip-path=\"url(#clip672)\" style=\"stroke:#000000; stroke-linecap:round; stroke-linejoin:round; stroke-width:2; stroke-opacity:0.1; fill:none\" points=\"112.177,1059.73 2352.76,1059.73 \"/>\n",
       "<polyline clip-path=\"url(#clip672)\" style=\"stroke:#000000; stroke-linecap:round; stroke-linejoin:round; stroke-width:2; stroke-opacity:0.1; fill:none\" points=\"112.177,735.212 2352.76,735.212 \"/>\n",
       "<polyline clip-path=\"url(#clip672)\" style=\"stroke:#000000; stroke-linecap:round; stroke-linejoin:round; stroke-width:2; stroke-opacity:0.1; fill:none\" points=\"112.177,410.699 2352.76,410.699 \"/>\n",
       "<polyline clip-path=\"url(#clip672)\" style=\"stroke:#000000; stroke-linecap:round; stroke-linejoin:round; stroke-width:2; stroke-opacity:0.1; fill:none\" points=\"112.177,86.1857 2352.76,86.1857 \"/>\n",
       "<polyline clip-path=\"url(#clip670)\" style=\"stroke:#000000; stroke-linecap:round; stroke-linejoin:round; stroke-width:4; stroke-opacity:1; fill:none\" points=\"112.177,1423.18 112.177,47.2441 \"/>\n",
       "<polyline clip-path=\"url(#clip670)\" style=\"stroke:#000000; stroke-linecap:round; stroke-linejoin:round; stroke-width:4; stroke-opacity:1; fill:none\" points=\"112.177,1384.24 131.075,1384.24 \"/>\n",
       "<polyline clip-path=\"url(#clip670)\" style=\"stroke:#000000; stroke-linecap:round; stroke-linejoin:round; stroke-width:4; stroke-opacity:1; fill:none\" points=\"112.177,1059.73 131.075,1059.73 \"/>\n",
       "<polyline clip-path=\"url(#clip670)\" style=\"stroke:#000000; stroke-linecap:round; stroke-linejoin:round; stroke-width:4; stroke-opacity:1; fill:none\" points=\"112.177,735.212 131.075,735.212 \"/>\n",
       "<polyline clip-path=\"url(#clip670)\" style=\"stroke:#000000; stroke-linecap:round; stroke-linejoin:round; stroke-width:4; stroke-opacity:1; fill:none\" points=\"112.177,410.699 131.075,410.699 \"/>\n",
       "<polyline clip-path=\"url(#clip670)\" style=\"stroke:#000000; stroke-linecap:round; stroke-linejoin:round; stroke-width:4; stroke-opacity:1; fill:none\" points=\"112.177,86.1857 131.075,86.1857 \"/>\n",
       "<path clip-path=\"url(#clip670)\" d=\"M64.2328 1370.04 Q60.6217 1370.04 58.793 1373.6 Q56.9875 1377.14 56.9875 1384.27 Q56.9875 1391.38 58.793 1394.94 Q60.6217 1398.49 64.2328 1398.49 Q67.867 1398.49 69.6726 1394.94 Q71.5013 1391.38 71.5013 1384.27 Q71.5013 1377.14 69.6726 1373.6 Q67.867 1370.04 64.2328 1370.04 M64.2328 1366.33 Q70.0429 1366.33 73.0985 1370.94 Q76.1772 1375.52 76.1772 1384.27 Q76.1772 1393 73.0985 1397.61 Q70.0429 1402.19 64.2328 1402.19 Q58.4226 1402.19 55.344 1397.61 Q52.2884 1393 52.2884 1384.27 Q52.2884 1375.52 55.344 1370.94 Q58.4226 1366.33 64.2328 1366.33 Z\" fill=\"#000000\" fill-rule=\"nonzero\" fill-opacity=\"1\" /><path clip-path=\"url(#clip670)\" d=\"M59.8578 1073.07 L76.1772 1073.07 L76.1772 1077.01 L54.2328 1077.01 L54.2328 1073.07 Q56.8949 1070.32 61.4782 1065.69 Q66.0846 1061.03 67.2652 1059.69 Q69.5105 1057.17 70.3902 1055.43 Q71.2929 1053.67 71.2929 1051.98 Q71.2929 1049.23 69.3485 1047.49 Q67.4272 1045.76 64.3254 1045.76 Q62.1263 1045.76 59.6726 1046.52 Q57.2421 1047.28 54.4643 1048.83 L54.4643 1044.11 Q57.2884 1042.98 59.7421 1042.4 Q62.1958 1041.82 64.2328 1041.82 Q69.6031 1041.82 72.7976 1044.51 Q75.992 1047.19 75.992 1051.68 Q75.992 1053.81 75.1818 1055.73 Q74.3948 1057.63 72.2883 1060.22 Q71.7096 1060.89 68.6078 1064.11 Q65.5059 1067.31 59.8578 1073.07 Z\" fill=\"#000000\" fill-rule=\"nonzero\" fill-opacity=\"1\" /><path clip-path=\"url(#clip670)\" d=\"M66.5939 722.006 L54.7884 740.455 L66.5939 740.455 L66.5939 722.006 M65.367 717.932 L71.2466 717.932 L71.2466 740.455 L76.1772 740.455 L76.1772 744.344 L71.2466 744.344 L71.2466 752.492 L66.5939 752.492 L66.5939 744.344 L50.9921 744.344 L50.9921 739.83 L65.367 717.932 Z\" fill=\"#000000\" fill-rule=\"nonzero\" fill-opacity=\"1\" /><path clip-path=\"url(#clip670)\" d=\"M64.6495 408.835 Q61.5013 408.835 59.6495 410.988 Q57.8208 413.141 57.8208 416.891 Q57.8208 420.618 59.6495 422.794 Q61.5013 424.946 64.6495 424.946 Q67.7976 424.946 69.6263 422.794 Q71.4781 420.618 71.4781 416.891 Q71.4781 413.141 69.6263 410.988 Q67.7976 408.835 64.6495 408.835 M73.9318 394.183 L73.9318 398.442 Q72.1726 397.609 70.367 397.169 Q68.5846 396.729 66.8254 396.729 Q62.1958 396.729 59.7421 399.854 Q57.3115 402.979 56.9643 409.298 Q58.33 407.284 60.3902 406.22 Q62.4504 405.132 64.9272 405.132 Q70.1355 405.132 73.1448 408.303 Q76.1772 411.451 76.1772 416.891 Q76.1772 422.215 73.029 425.433 Q69.8809 428.65 64.6495 428.65 Q58.6541 428.65 55.4828 424.067 Q52.3116 419.46 52.3116 410.734 Q52.3116 402.539 56.2004 397.678 Q60.0893 392.794 66.6402 392.794 Q68.3994 392.794 70.1818 393.141 Q71.9874 393.488 73.9318 394.183 Z\" fill=\"#000000\" fill-rule=\"nonzero\" fill-opacity=\"1\" /><path clip-path=\"url(#clip670)\" d=\"M64.3254 87.0537 Q60.9921 87.0537 59.0708 88.8361 Q57.1726 90.6185 57.1726 93.7435 Q57.1726 96.8685 59.0708 98.6509 Q60.9921 100.433 64.3254 100.433 Q67.6587 100.433 69.58 98.6509 Q71.5013 96.8453 71.5013 93.7435 Q71.5013 90.6185 69.58 88.8361 Q67.6819 87.0537 64.3254 87.0537 M59.6495 85.063 Q56.6402 84.3223 54.9504 82.2621 Q53.2838 80.2019 53.2838 77.239 Q53.2838 73.0955 56.2236 70.6881 Q59.1865 68.2807 64.3254 68.2807 Q69.4874 68.2807 72.4272 70.6881 Q75.367 73.0955 75.367 77.239 Q75.367 80.2019 73.6772 82.2621 Q72.0105 84.3223 69.0244 85.063 Q72.404 85.85 74.279 88.1417 Q76.1772 90.4333 76.1772 93.7435 Q76.1772 98.7666 73.0985 101.452 Q70.0429 104.137 64.3254 104.137 Q58.6078 104.137 55.5291 101.452 Q52.4736 98.7666 52.4736 93.7435 Q52.4736 90.4333 54.3717 88.1417 Q56.2699 85.85 59.6495 85.063 M57.9365 77.6788 Q57.9365 80.3639 59.6032 81.8686 Q61.293 83.3732 64.3254 83.3732 Q67.3346 83.3732 69.0244 81.8686 Q70.7374 80.3639 70.7374 77.6788 Q70.7374 74.9936 69.0244 73.489 Q67.3346 71.9844 64.3254 71.9844 Q61.293 71.9844 59.6032 73.489 Q57.9365 74.9936 57.9365 77.6788 Z\" fill=\"#000000\" fill-rule=\"nonzero\" fill-opacity=\"1\" /><path clip-path=\"url(#clip672)\" d=\"M235.413 1059.73 L235.413 1384.24 L456.98 1384.24 L456.98 1059.73 L235.413 1059.73 L235.413 1059.73  Z\" fill=\"#808080\" fill-rule=\"evenodd\" fill-opacity=\"1\"/>\n",
       "<polyline clip-path=\"url(#clip672)\" style=\"stroke:#000000; stroke-linecap:round; stroke-linejoin:round; stroke-width:4; stroke-opacity:1; fill:none\" points=\"235.413,1059.73 235.413,1384.24 456.98,1384.24 456.98,1059.73 235.413,1059.73 \"/>\n",
       "<path clip-path=\"url(#clip672)\" d=\"M456.98 1384.24 L456.98 1384.24 L678.548 1384.24 L678.548 1384.24 L456.98 1384.24 L456.98 1384.24  Z\" fill=\"#808080\" fill-rule=\"evenodd\" fill-opacity=\"1\"/>\n",
       "<polyline clip-path=\"url(#clip672)\" style=\"stroke:#000000; stroke-linecap:round; stroke-linejoin:round; stroke-width:4; stroke-opacity:1; fill:none\" points=\"456.98,1384.24 456.98,1384.24 678.548,1384.24 456.98,1384.24 \"/>\n",
       "<path clip-path=\"url(#clip672)\" d=\"M678.548 897.469 L678.548 1384.24 L900.115 1384.24 L900.115 897.469 L678.548 897.469 L678.548 897.469  Z\" fill=\"#808080\" fill-rule=\"evenodd\" fill-opacity=\"1\"/>\n",
       "<polyline clip-path=\"url(#clip672)\" style=\"stroke:#000000; stroke-linecap:round; stroke-linejoin:round; stroke-width:4; stroke-opacity:1; fill:none\" points=\"678.548,897.469 678.548,1384.24 900.115,1384.24 900.115,897.469 678.548,897.469 \"/>\n",
       "<path clip-path=\"url(#clip672)\" d=\"M900.115 1059.73 L900.115 1384.24 L1121.68 1384.24 L1121.68 1059.73 L900.115 1059.73 L900.115 1059.73  Z\" fill=\"#808080\" fill-rule=\"evenodd\" fill-opacity=\"1\"/>\n",
       "<polyline clip-path=\"url(#clip672)\" style=\"stroke:#000000; stroke-linecap:round; stroke-linejoin:round; stroke-width:4; stroke-opacity:1; fill:none\" points=\"900.115,1059.73 900.115,1384.24 1121.68,1384.24 1121.68,1059.73 900.115,1059.73 \"/>\n",
       "<path clip-path=\"url(#clip672)\" d=\"M1121.68 572.955 L1121.68 1384.24 L1343.25 1384.24 L1343.25 572.955 L1121.68 572.955 L1121.68 572.955  Z\" fill=\"#808080\" fill-rule=\"evenodd\" fill-opacity=\"1\"/>\n",
       "<polyline clip-path=\"url(#clip672)\" style=\"stroke:#000000; stroke-linecap:round; stroke-linejoin:round; stroke-width:4; stroke-opacity:1; fill:none\" points=\"1121.68,572.955 1121.68,1384.24 1343.25,1384.24 1343.25,572.955 1121.68,572.955 \"/>\n",
       "<path clip-path=\"url(#clip672)\" d=\"M1343.25 1059.73 L1343.25 1384.24 L1564.82 1384.24 L1564.82 1059.73 L1343.25 1059.73 L1343.25 1059.73  Z\" fill=\"#808080\" fill-rule=\"evenodd\" fill-opacity=\"1\"/>\n",
       "<polyline clip-path=\"url(#clip672)\" style=\"stroke:#000000; stroke-linecap:round; stroke-linejoin:round; stroke-width:4; stroke-opacity:1; fill:none\" points=\"1343.25,1059.73 1343.25,1384.24 1564.82,1384.24 1564.82,1059.73 1343.25,1059.73 \"/>\n",
       "<path clip-path=\"url(#clip672)\" d=\"M1564.82 735.212 L1564.82 1384.24 L1786.39 1384.24 L1786.39 735.212 L1564.82 735.212 L1564.82 735.212  Z\" fill=\"#808080\" fill-rule=\"evenodd\" fill-opacity=\"1\"/>\n",
       "<polyline clip-path=\"url(#clip672)\" style=\"stroke:#000000; stroke-linecap:round; stroke-linejoin:round; stroke-width:4; stroke-opacity:1; fill:none\" points=\"1564.82,735.212 1564.82,1384.24 1786.39,1384.24 1786.39,735.212 1564.82,735.212 \"/>\n",
       "<path clip-path=\"url(#clip672)\" d=\"M1786.39 86.1857 L1786.39 1384.24 L2007.95 1384.24 L2007.95 86.1857 L1786.39 86.1857 L1786.39 86.1857  Z\" fill=\"#808080\" fill-rule=\"evenodd\" fill-opacity=\"1\"/>\n",
       "<polyline clip-path=\"url(#clip672)\" style=\"stroke:#000000; stroke-linecap:round; stroke-linejoin:round; stroke-width:4; stroke-opacity:1; fill:none\" points=\"1786.39,86.1857 1786.39,1384.24 2007.95,1384.24 2007.95,86.1857 1786.39,86.1857 \"/>\n",
       "<path clip-path=\"url(#clip672)\" d=\"M2007.95 248.442 L2007.95 1384.24 L2229.52 1384.24 L2229.52 248.442 L2007.95 248.442 L2007.95 248.442  Z\" fill=\"#808080\" fill-rule=\"evenodd\" fill-opacity=\"1\"/>\n",
       "<polyline clip-path=\"url(#clip672)\" style=\"stroke:#000000; stroke-linecap:round; stroke-linejoin:round; stroke-width:4; stroke-opacity:1; fill:none\" points=\"2007.95,248.442 2007.95,1384.24 2229.52,1384.24 2229.52,248.442 2007.95,248.442 \"/>\n",
       "<circle clip-path=\"url(#clip672)\" style=\"fill:#808080; stroke:none; fill-opacity:0\" cx=\"346.197\" cy=\"1059.73\" r=\"2\"/>\n",
       "<circle clip-path=\"url(#clip672)\" style=\"fill:#808080; stroke:none; fill-opacity:0\" cx=\"567.764\" cy=\"1384.24\" r=\"2\"/>\n",
       "<circle clip-path=\"url(#clip672)\" style=\"fill:#808080; stroke:none; fill-opacity:0\" cx=\"789.332\" cy=\"897.469\" r=\"2\"/>\n",
       "<circle clip-path=\"url(#clip672)\" style=\"fill:#808080; stroke:none; fill-opacity:0\" cx=\"1010.9\" cy=\"1059.73\" r=\"2\"/>\n",
       "<circle clip-path=\"url(#clip672)\" style=\"fill:#808080; stroke:none; fill-opacity:0\" cx=\"1232.47\" cy=\"572.955\" r=\"2\"/>\n",
       "<circle clip-path=\"url(#clip672)\" style=\"fill:#808080; stroke:none; fill-opacity:0\" cx=\"1454.03\" cy=\"1059.73\" r=\"2\"/>\n",
       "<circle clip-path=\"url(#clip672)\" style=\"fill:#808080; stroke:none; fill-opacity:0\" cx=\"1675.6\" cy=\"735.212\" r=\"2\"/>\n",
       "<circle clip-path=\"url(#clip672)\" style=\"fill:#808080; stroke:none; fill-opacity:0\" cx=\"1897.17\" cy=\"86.1857\" r=\"2\"/>\n",
       "<circle clip-path=\"url(#clip672)\" style=\"fill:#808080; stroke:none; fill-opacity:0\" cx=\"2118.74\" cy=\"248.442\" r=\"2\"/>\n",
       "<path clip-path=\"url(#clip670)\" d=\"M186.863 196.789 L535.805 196.789 L535.805 93.1086 L186.863 93.1086  Z\" fill=\"#ffffff\" fill-rule=\"evenodd\" fill-opacity=\"1\"/>\n",
       "<polyline clip-path=\"url(#clip670)\" style=\"stroke:#000000; stroke-linecap:round; stroke-linejoin:round; stroke-width:4; stroke-opacity:1; fill:none\" points=\"186.863,196.789 535.805,196.789 535.805,93.1086 186.863,93.1086 186.863,196.789 \"/>\n",
       "<path clip-path=\"url(#clip670)\" d=\"M211.758 165.685 L361.13 165.685 L361.13 124.213 L211.758 124.213 L211.758 165.685  Z\" fill=\"#808080\" fill-rule=\"evenodd\" fill-opacity=\"1\"/>\n",
       "<polyline clip-path=\"url(#clip670)\" style=\"stroke:#000000; stroke-linecap:round; stroke-linejoin:round; stroke-width:4; stroke-opacity:1; fill:none\" points=\"211.758,165.685 361.13,165.685 361.13,124.213 211.758,124.213 211.758,165.685 \"/>\n",
       "<path clip-path=\"url(#clip670)\" d=\"M404.938 140.238 L404.938 126.21 L409.197 126.21 L409.197 162.229 L404.938 162.229 L404.938 158.34 Q403.595 160.655 401.535 161.789 Q399.498 162.9 396.627 162.9 Q391.928 162.9 388.965 159.15 Q386.026 155.4 386.026 149.289 Q386.026 143.178 388.965 139.428 Q391.928 135.678 396.627 135.678 Q399.498 135.678 401.535 136.812 Q403.595 137.923 404.938 140.238 M390.424 149.289 Q390.424 153.988 392.345 156.673 Q394.29 159.335 397.669 159.335 Q401.049 159.335 402.993 156.673 Q404.938 153.988 404.938 149.289 Q404.938 144.59 402.993 141.928 Q401.049 139.243 397.669 139.243 Q394.29 139.243 392.345 141.928 Q390.424 144.59 390.424 149.289 Z\" fill=\"#000000\" fill-rule=\"nonzero\" fill-opacity=\"1\" /><path clip-path=\"url(#clip670)\" d=\"M417.97 136.303 L422.229 136.303 L422.229 162.229 L417.97 162.229 L417.97 136.303 M417.97 126.21 L422.229 126.21 L422.229 131.604 L417.97 131.604 L417.97 126.21 Z\" fill=\"#000000\" fill-rule=\"nonzero\" fill-opacity=\"1\" /><path clip-path=\"url(#clip670)\" d=\"M448.201 148.965 Q448.201 144.335 446.28 141.789 Q444.382 139.243 440.933 139.243 Q437.507 139.243 435.586 141.789 Q433.687 144.335 433.687 148.965 Q433.687 153.571 435.586 156.118 Q437.507 158.664 440.933 158.664 Q444.382 158.664 446.28 156.118 Q448.201 153.571 448.201 148.965 M452.461 159.011 Q452.461 165.631 449.521 168.849 Q446.581 172.09 440.516 172.09 Q438.271 172.09 436.28 171.742 Q434.289 171.418 432.414 170.724 L432.414 166.58 Q434.289 167.599 436.118 168.085 Q437.947 168.571 439.845 168.571 Q444.035 168.571 446.118 166.372 Q448.201 164.196 448.201 159.775 L448.201 157.668 Q446.882 159.96 444.822 161.094 Q442.761 162.229 439.891 162.229 Q435.123 162.229 432.206 158.594 Q429.289 154.96 429.289 148.965 Q429.289 142.946 432.206 139.312 Q435.123 135.678 439.891 135.678 Q442.761 135.678 444.822 136.812 Q446.882 137.946 448.201 140.238 L448.201 136.303 L452.461 136.303 L452.461 159.011 Z\" fill=\"#000000\" fill-rule=\"nonzero\" fill-opacity=\"1\" /><path clip-path=\"url(#clip670)\" d=\"M461.234 136.303 L465.493 136.303 L465.493 162.229 L461.234 162.229 L461.234 136.303 M461.234 126.21 L465.493 126.21 L465.493 131.604 L461.234 131.604 L461.234 126.21 Z\" fill=\"#000000\" fill-rule=\"nonzero\" fill-opacity=\"1\" /><path clip-path=\"url(#clip670)\" d=\"M478.618 128.942 L478.618 136.303 L487.391 136.303 L487.391 139.613 L478.618 139.613 L478.618 153.687 Q478.618 156.858 479.474 157.761 Q480.354 158.664 483.016 158.664 L487.391 158.664 L487.391 162.229 L483.016 162.229 Q478.085 162.229 476.21 160.4 Q474.335 158.548 474.335 153.687 L474.335 139.613 L471.21 139.613 L471.21 136.303 L474.335 136.303 L474.335 128.942 L478.618 128.942 Z\" fill=\"#000000\" fill-rule=\"nonzero\" fill-opacity=\"1\" /><path clip-path=\"url(#clip670)\" d=\"M509.52 137.067 L509.52 141.094 Q507.715 140.169 505.77 139.706 Q503.826 139.243 501.743 139.243 Q498.571 139.243 496.974 140.215 Q495.4 141.187 495.4 143.131 Q495.4 144.613 496.534 145.469 Q497.669 146.303 501.095 147.067 L502.553 147.391 Q507.09 148.363 508.988 150.145 Q510.909 151.905 510.909 155.076 Q510.909 158.687 508.039 160.793 Q505.192 162.9 500.192 162.9 Q498.108 162.9 495.84 162.483 Q493.595 162.09 491.095 161.28 L491.095 156.881 Q493.456 158.108 495.747 158.733 Q498.039 159.335 500.284 159.335 Q503.294 159.335 504.914 158.317 Q506.534 157.275 506.534 155.4 Q506.534 153.664 505.354 152.738 Q504.196 151.812 500.238 150.956 L498.757 150.608 Q494.798 149.775 493.039 148.062 Q491.28 146.326 491.28 143.317 Q491.28 139.659 493.872 137.669 Q496.465 135.678 501.233 135.678 Q503.595 135.678 505.678 136.025 Q507.761 136.372 509.52 137.067 Z\" fill=\"#000000\" fill-rule=\"nonzero\" fill-opacity=\"1\" /></svg>\n"
      ]
     },
     "execution_count": 63,
     "metadata": {},
     "output_type": "execute_result"
    }
   ],
   "source": [
    "histogram(mis_match_digits, label=\"digits\", bins=11, color=:gray)\n",
    "xlabel!(\"digit\")"
   ]
  },
  {
   "cell_type": "markdown",
   "metadata": {},
   "source": [
    "# Mis_match of Digit 8 analysis"
   ]
  },
  {
   "cell_type": "code",
   "execution_count": 64,
   "metadata": {},
   "outputs": [
    {
     "data": {
      "text/plain": [
       "8-element Vector{Int8}:\n",
       " 6\n",
       " 3\n",
       " 7\n",
       " 5\n",
       " 3\n",
       " 5\n",
       " 3\n",
       " 3"
      ]
     },
     "execution_count": 64,
     "metadata": {},
     "output_type": "execute_result"
    }
   ],
   "source": [
    "mis_match_8 = [labels[t[2]] for t in mis_match if labels[t[1]] == 8]"
   ]
  },
  {
   "cell_type": "code",
   "execution_count": 65,
   "metadata": {},
   "outputs": [
    {
     "data": {
      "image/png": "[encoded data removed]",
      "image/svg+xml": [
       "<?xml version=\"1.0\" encoding=\"utf-8\"?>\n",
       "<svg xmlns=\"http://www.w3.org/2000/svg\" xmlns:xlink=\"http://www.w3.org/1999/xlink\" width=\"600\" height=\"400\" viewBox=\"0 0 2400 1600\">\n",
       "<defs>\n",
       "  <clipPath id=\"clip710\">\n",
       "    <rect x=\"0\" y=\"0\" width=\"2400\" height=\"1600\"/>\n",
       "  </clipPath>\n",
       "</defs>\n",
       "<path clip-path=\"url(#clip710)\" d=\"M0 1600 L2400 1600 L2400 0 L0 0  Z\" fill=\"#ffffff\" fill-rule=\"evenodd\" fill-opacity=\"1\"/>\n",
       "<defs>\n",
       "  <clipPath id=\"clip711\">\n",
       "    <rect x=\"480\" y=\"0\" width=\"1681\" height=\"1600\"/>\n",
       "  </clipPath>\n",
       "</defs>\n",
       "<path clip-path=\"url(#clip710)\" d=\"M112.177 1423.18 L2352.76 1423.18 L2352.76 47.2441 L112.177 47.2441  Z\" fill=\"#ffffff\" fill-rule=\"evenodd\" fill-opacity=\"1\"/>\n",
       "<defs>\n",
       "  <clipPath id=\"clip712\">\n",
       "    <rect x=\"112\" y=\"47\" width=\"2242\" height=\"1377\"/>\n",
       "  </clipPath>\n",
       "</defs>\n",
       "<polyline clip-path=\"url(#clip712)\" style=\"stroke:#000000; stroke-linecap:round; stroke-linejoin:round; stroke-width:2; stroke-opacity:0.1; fill:none\" points=\"235.413,1423.18 235.413,47.2441 \"/>\n",
       "<polyline clip-path=\"url(#clip712)\" style=\"stroke:#000000; stroke-linecap:round; stroke-linejoin:round; stroke-width:2; stroke-opacity:0.1; fill:none\" points=\"678.548,1423.18 678.548,47.2441 \"/>\n",
       "<polyline clip-path=\"url(#clip712)\" style=\"stroke:#000000; stroke-linecap:round; stroke-linejoin:round; stroke-width:2; stroke-opacity:0.1; fill:none\" points=\"1121.68,1423.18 1121.68,47.2441 \"/>\n",
       "<polyline clip-path=\"url(#clip712)\" style=\"stroke:#000000; stroke-linecap:round; stroke-linejoin:round; stroke-width:2; stroke-opacity:0.1; fill:none\" points=\"1564.82,1423.18 1564.82,47.2441 \"/>\n",
       "<polyline clip-path=\"url(#clip712)\" style=\"stroke:#000000; stroke-linecap:round; stroke-linejoin:round; stroke-width:2; stroke-opacity:0.1; fill:none\" points=\"2007.95,1423.18 2007.95,47.2441 \"/>\n",
       "<polyline clip-path=\"url(#clip710)\" style=\"stroke:#000000; stroke-linecap:round; stroke-linejoin:round; stroke-width:4; stroke-opacity:1; fill:none\" points=\"112.177,1423.18 2352.76,1423.18 \"/>\n",
       "<polyline clip-path=\"url(#clip710)\" style=\"stroke:#000000; stroke-linecap:round; stroke-linejoin:round; stroke-width:4; stroke-opacity:1; fill:none\" points=\"235.413,1423.18 235.413,1404.28 \"/>\n",
       "<polyline clip-path=\"url(#clip710)\" style=\"stroke:#000000; stroke-linecap:round; stroke-linejoin:round; stroke-width:4; stroke-opacity:1; fill:none\" points=\"678.548,1423.18 678.548,1404.28 \"/>\n",
       "<polyline clip-path=\"url(#clip710)\" style=\"stroke:#000000; stroke-linecap:round; stroke-linejoin:round; stroke-width:4; stroke-opacity:1; fill:none\" points=\"1121.68,1423.18 1121.68,1404.28 \"/>\n",
       "<polyline clip-path=\"url(#clip710)\" style=\"stroke:#000000; stroke-linecap:round; stroke-linejoin:round; stroke-width:4; stroke-opacity:1; fill:none\" points=\"1564.82,1423.18 1564.82,1404.28 \"/>\n",
       "<polyline clip-path=\"url(#clip710)\" style=\"stroke:#000000; stroke-linecap:round; stroke-linejoin:round; stroke-width:4; stroke-opacity:1; fill:none\" points=\"2007.95,1423.18 2007.95,1404.28 \"/>\n",
       "<path clip-path=\"url(#clip710)\" d=\"M239.661 1466.95 Q243.017 1467.66 244.892 1469.93 Q246.79 1472.2 246.79 1475.53 Q246.79 1480.65 243.272 1483.45 Q239.753 1486.25 233.272 1486.25 Q231.096 1486.25 228.781 1485.81 Q226.489 1485.39 224.036 1484.54 L224.036 1480.02 Q225.98 1481.16 228.295 1481.74 Q230.61 1482.32 233.133 1482.32 Q237.531 1482.32 239.823 1480.58 Q242.137 1478.84 242.137 1475.53 Q242.137 1472.48 239.985 1470.77 Q237.855 1469.03 234.036 1469.03 L230.008 1469.03 L230.008 1465.19 L234.221 1465.19 Q237.67 1465.19 239.499 1463.82 Q241.327 1462.43 241.327 1459.84 Q241.327 1457.18 239.429 1455.77 Q237.554 1454.33 234.036 1454.33 Q232.114 1454.33 229.915 1454.75 Q227.716 1455.16 225.077 1456.04 L225.077 1451.88 Q227.739 1451.14 230.054 1450.77 Q232.392 1450.39 234.452 1450.39 Q239.776 1450.39 242.878 1452.83 Q245.98 1455.23 245.98 1459.35 Q245.98 1462.22 244.337 1464.21 Q242.693 1466.18 239.661 1466.95 Z\" fill=\"#000000\" fill-rule=\"nonzero\" fill-opacity=\"1\" /><path clip-path=\"url(#clip710)\" d=\"M681.557 1455.09 L669.752 1473.54 L681.557 1473.54 L681.557 1455.09 M680.33 1451.02 L686.21 1451.02 L686.21 1473.54 L691.14 1473.54 L691.14 1477.43 L686.21 1477.43 L686.21 1485.58 L681.557 1485.58 L681.557 1477.43 L665.955 1477.43 L665.955 1472.92 L680.33 1451.02 Z\" fill=\"#000000\" fill-rule=\"nonzero\" fill-opacity=\"1\" /><path clip-path=\"url(#clip710)\" d=\"M1111.96 1451.02 L1130.32 1451.02 L1130.32 1454.96 L1116.24 1454.96 L1116.24 1463.43 Q1117.26 1463.08 1118.28 1462.92 Q1119.3 1462.73 1120.32 1462.73 Q1126.1 1462.73 1129.48 1465.9 Q1132.86 1469.08 1132.86 1474.49 Q1132.86 1480.07 1129.39 1483.17 Q1125.92 1486.25 1119.6 1486.25 Q1117.42 1486.25 1115.16 1485.88 Q1112.91 1485.51 1110.5 1484.77 L1110.5 1480.07 Q1112.59 1481.2 1114.81 1481.76 Q1117.03 1482.32 1119.51 1482.32 Q1123.51 1482.32 1125.85 1480.21 Q1128.19 1478.1 1128.19 1474.49 Q1128.19 1470.88 1125.85 1468.77 Q1123.51 1466.67 1119.51 1466.67 Q1117.63 1466.67 1115.76 1467.08 Q1113.91 1467.5 1111.96 1468.38 L1111.96 1451.02 Z\" fill=\"#000000\" fill-rule=\"nonzero\" fill-opacity=\"1\" /><path clip-path=\"url(#clip710)\" d=\"M1565.22 1466.44 Q1562.07 1466.44 1560.22 1468.59 Q1558.39 1470.74 1558.39 1474.49 Q1558.39 1478.22 1560.22 1480.39 Q1562.07 1482.55 1565.22 1482.55 Q1568.37 1482.55 1570.2 1480.39 Q1572.05 1478.22 1572.05 1474.49 Q1572.05 1470.74 1570.2 1468.59 Q1568.37 1466.44 1565.22 1466.44 M1574.51 1451.78 L1574.51 1456.04 Q1572.75 1455.21 1570.94 1454.77 Q1569.16 1454.33 1567.4 1454.33 Q1562.77 1454.33 1560.32 1457.45 Q1557.88 1460.58 1557.54 1466.9 Q1558.9 1464.89 1560.96 1463.82 Q1563.02 1462.73 1565.5 1462.73 Q1570.71 1462.73 1573.72 1465.9 Q1576.75 1469.05 1576.75 1474.49 Q1576.75 1479.82 1573.6 1483.03 Q1570.45 1486.25 1565.22 1486.25 Q1559.23 1486.25 1556.06 1481.67 Q1552.88 1477.06 1552.88 1468.33 Q1552.88 1460.14 1556.77 1455.28 Q1560.66 1450.39 1567.21 1450.39 Q1568.97 1450.39 1570.76 1450.74 Q1572.56 1451.09 1574.51 1451.78 Z\" fill=\"#000000\" fill-rule=\"nonzero\" fill-opacity=\"1\" /><path clip-path=\"url(#clip710)\" d=\"M1996.84 1451.02 L2019.06 1451.02 L2019.06 1453.01 L2006.52 1485.58 L2001.63 1485.58 L2013.44 1454.96 L1996.84 1454.96 L1996.84 1451.02 Z\" fill=\"#000000\" fill-rule=\"nonzero\" fill-opacity=\"1\" /><path clip-path=\"url(#clip710)\" d=\"M974.751 1539.24 Q976.947 1535.29 980.003 1533.41 Q983.058 1531.54 987.196 1531.54 Q992.766 1531.54 995.79 1535.45 Q998.813 1539.33 998.813 1546.53 L998.813 1568.04 L992.925 1568.04 L992.925 1546.72 Q992.925 1541.59 991.111 1539.11 Q989.297 1536.63 985.573 1536.63 Q981.021 1536.63 978.379 1539.65 Q975.738 1542.68 975.738 1547.9 L975.738 1568.04 L969.849 1568.04 L969.849 1546.72 Q969.849 1541.56 968.035 1539.11 Q966.221 1536.63 962.433 1536.63 Q957.945 1536.63 955.304 1539.68 Q952.662 1542.71 952.662 1547.9 L952.662 1568.04 L946.774 1568.04 L946.774 1532.4 L952.662 1532.4 L952.662 1537.93 Q954.667 1534.66 957.468 1533.1 Q960.269 1531.54 964.12 1531.54 Q968.003 1531.54 970.709 1533.51 Q973.446 1535.48 974.751 1539.24 Z\" fill=\"#000000\" fill-rule=\"nonzero\" fill-opacity=\"1\" /><path clip-path=\"url(#clip710)\" d=\"M1010.49 1532.4 L1016.35 1532.4 L1016.35 1568.04 L1010.49 1568.04 L1010.49 1532.4 M1010.49 1518.52 L1016.35 1518.52 L1016.35 1525.93 L1010.49 1525.93 L1010.49 1518.52 Z\" fill=\"#000000\" fill-rule=\"nonzero\" fill-opacity=\"1\" /><path clip-path=\"url(#clip710)\" d=\"M1051.33 1533.45 L1051.33 1538.98 Q1048.85 1537.71 1046.17 1537.07 Q1043.5 1536.44 1040.64 1536.44 Q1036.28 1536.44 1034.08 1537.77 Q1031.91 1539.11 1031.91 1541.79 Q1031.91 1543.82 1033.47 1545 Q1035.03 1546.15 1039.74 1547.2 L1041.75 1547.64 Q1047.99 1548.98 1050.6 1551.43 Q1053.24 1553.85 1053.24 1558.21 Q1053.24 1563.17 1049.29 1566.07 Q1045.38 1568.97 1038.5 1568.97 Q1035.64 1568.97 1032.52 1568.39 Q1029.43 1567.85 1025.99 1566.74 L1025.99 1560.69 Q1029.24 1562.38 1032.39 1563.24 Q1035.54 1564.07 1038.63 1564.07 Q1042.77 1564.07 1045 1562.66 Q1047.22 1561.23 1047.22 1558.65 Q1047.22 1556.27 1045.6 1554.99 Q1044.01 1553.72 1038.57 1552.54 L1036.53 1552.07 Q1031.09 1550.92 1028.67 1548.56 Q1026.25 1546.18 1026.25 1542.04 Q1026.25 1537.01 1029.81 1534.27 Q1033.38 1531.54 1039.94 1531.54 Q1043.18 1531.54 1046.05 1532.01 Q1048.91 1532.49 1051.33 1533.45 Z\" fill=\"#000000\" fill-rule=\"nonzero\" fill-opacity=\"1\" /><path clip-path=\"url(#clip710)\" d=\"M1089.65 1578.87 L1089.65 1583.42 L1055.79 1583.42 L1055.79 1578.87 L1089.65 1578.87 Z\" fill=\"#000000\" fill-rule=\"nonzero\" fill-opacity=\"1\" /><path clip-path=\"url(#clip710)\" d=\"M1122.91 1539.24 Q1125.11 1535.29 1128.16 1533.41 Q1131.22 1531.54 1135.36 1531.54 Q1140.93 1531.54 1143.95 1535.45 Q1146.98 1539.33 1146.98 1546.53 L1146.98 1568.04 L1141.09 1568.04 L1141.09 1546.72 Q1141.09 1541.59 1139.27 1539.11 Q1137.46 1536.63 1133.73 1536.63 Q1129.18 1536.63 1126.54 1539.65 Q1123.9 1542.68 1123.9 1547.9 L1123.9 1568.04 L1118.01 1568.04 L1118.01 1546.72 Q1118.01 1541.56 1116.2 1539.11 Q1114.38 1536.63 1110.6 1536.63 Q1106.11 1536.63 1103.47 1539.68 Q1100.82 1542.71 1100.82 1547.9 L1100.82 1568.04 L1094.94 1568.04 L1094.94 1532.4 L1100.82 1532.4 L1100.82 1537.93 Q1102.83 1534.66 1105.63 1533.1 Q1108.43 1531.54 1112.28 1531.54 Q1116.17 1531.54 1118.87 1533.51 Q1121.61 1535.48 1122.91 1539.24 Z\" fill=\"#000000\" fill-rule=\"nonzero\" fill-opacity=\"1\" /><path clip-path=\"url(#clip710)\" d=\"M1174.86 1550.12 Q1167.76 1550.12 1165.02 1551.75 Q1162.28 1553.37 1162.28 1557.29 Q1162.28 1560.4 1164.32 1562.25 Q1166.39 1564.07 1169.92 1564.07 Q1174.79 1564.07 1177.72 1560.63 Q1180.68 1557.16 1180.68 1551.43 L1180.68 1550.12 L1174.86 1550.12 M1186.54 1547.71 L1186.54 1568.04 L1180.68 1568.04 L1180.68 1562.63 Q1178.68 1565.88 1175.68 1567.44 Q1172.69 1568.97 1168.36 1568.97 Q1162.89 1568.97 1159.64 1565.91 Q1156.43 1562.82 1156.43 1557.67 Q1156.43 1551.65 1160.44 1548.6 Q1164.48 1545.54 1172.47 1545.54 L1180.68 1545.54 L1180.68 1544.97 Q1180.68 1540.93 1178.01 1538.73 Q1175.37 1536.5 1170.56 1536.5 Q1167.5 1536.5 1164.61 1537.23 Q1161.71 1537.97 1159.04 1539.43 L1159.04 1534.02 Q1162.25 1532.78 1165.28 1532.17 Q1168.3 1531.54 1171.16 1531.54 Q1178.9 1531.54 1182.72 1535.55 Q1186.54 1539.56 1186.54 1547.71 Z\" fill=\"#000000\" fill-rule=\"nonzero\" fill-opacity=\"1\" /><path clip-path=\"url(#clip710)\" d=\"M1204.39 1522.27 L1204.39 1532.4 L1216.46 1532.4 L1216.46 1536.95 L1204.39 1536.95 L1204.39 1556.3 Q1204.39 1560.66 1205.57 1561.9 Q1206.78 1563.14 1210.44 1563.14 L1216.46 1563.14 L1216.46 1568.04 L1210.44 1568.04 Q1203.66 1568.04 1201.08 1565.53 Q1198.51 1562.98 1198.51 1556.3 L1198.51 1536.95 L1194.21 1536.95 L1194.21 1532.4 L1198.51 1532.4 L1198.51 1522.27 L1204.39 1522.27 Z\" fill=\"#000000\" fill-rule=\"nonzero\" fill-opacity=\"1\" /><path clip-path=\"url(#clip710)\" d=\"M1249.81 1533.76 L1249.81 1539.24 Q1247.33 1537.87 1244.82 1537.2 Q1242.33 1536.5 1239.79 1536.5 Q1234.09 1536.5 1230.94 1540.13 Q1227.79 1543.73 1227.79 1550.25 Q1227.79 1556.78 1230.94 1560.4 Q1234.09 1564 1239.79 1564 Q1242.33 1564 1244.82 1563.33 Q1247.33 1562.63 1249.81 1561.26 L1249.81 1566.68 Q1247.36 1567.82 1244.72 1568.39 Q1242.11 1568.97 1239.15 1568.97 Q1231.1 1568.97 1226.36 1563.91 Q1221.61 1558.85 1221.61 1550.25 Q1221.61 1541.53 1226.39 1536.53 Q1231.19 1531.54 1239.53 1531.54 Q1242.24 1531.54 1244.82 1532.11 Q1247.39 1532.65 1249.81 1533.76 Z\" fill=\"#000000\" fill-rule=\"nonzero\" fill-opacity=\"1\" /><path clip-path=\"url(#clip710)\" d=\"M1289.63 1546.53 L1289.63 1568.04 L1283.77 1568.04 L1283.77 1546.72 Q1283.77 1541.66 1281.8 1539.14 Q1279.83 1536.63 1275.88 1536.63 Q1271.14 1536.63 1268.4 1539.65 Q1265.66 1542.68 1265.66 1547.9 L1265.66 1568.04 L1259.78 1568.04 L1259.78 1518.52 L1265.66 1518.52 L1265.66 1537.93 Q1267.76 1534.72 1270.6 1533.13 Q1273.46 1531.54 1277.19 1531.54 Q1283.33 1531.54 1286.48 1535.36 Q1289.63 1539.14 1289.63 1546.53 Z\" fill=\"#000000\" fill-rule=\"nonzero\" fill-opacity=\"1\" /><path clip-path=\"url(#clip710)\" d=\"M1345.49 1537.81 L1345.49 1518.52 L1351.35 1518.52 L1351.35 1568.04 L1345.49 1568.04 L1345.49 1562.7 Q1343.64 1565.88 1340.81 1567.44 Q1338.01 1568.97 1334.06 1568.97 Q1327.6 1568.97 1323.53 1563.81 Q1319.49 1558.65 1319.49 1550.25 Q1319.49 1541.85 1323.53 1536.69 Q1327.6 1531.54 1334.06 1531.54 Q1338.01 1531.54 1340.81 1533.1 Q1343.64 1534.62 1345.49 1537.81 M1325.53 1550.25 Q1325.53 1556.71 1328.17 1560.4 Q1330.85 1564.07 1335.5 1564.07 Q1340.14 1564.07 1342.82 1560.4 Q1345.49 1556.71 1345.49 1550.25 Q1345.49 1543.79 1342.82 1540.13 Q1340.14 1536.44 1335.5 1536.44 Q1330.85 1536.44 1328.17 1540.13 Q1325.53 1543.79 1325.53 1550.25 Z\" fill=\"#000000\" fill-rule=\"nonzero\" fill-opacity=\"1\" /><path clip-path=\"url(#clip710)\" d=\"M1363.41 1532.4 L1369.27 1532.4 L1369.27 1568.04 L1363.41 1568.04 L1363.41 1532.4 M1363.41 1518.52 L1369.27 1518.52 L1369.27 1525.93 L1363.41 1525.93 L1363.41 1518.52 Z\" fill=\"#000000\" fill-rule=\"nonzero\" fill-opacity=\"1\" /><path clip-path=\"url(#clip710)\" d=\"M1404.98 1549.81 Q1404.98 1543.44 1402.34 1539.94 Q1399.73 1536.44 1394.98 1536.44 Q1390.27 1536.44 1387.63 1539.94 Q1385.02 1543.44 1385.02 1549.81 Q1385.02 1556.14 1387.63 1559.64 Q1390.27 1563.14 1394.98 1563.14 Q1399.73 1563.14 1402.34 1559.64 Q1404.98 1556.14 1404.98 1549.81 M1410.83 1563.62 Q1410.83 1572.72 1406.79 1577.15 Q1402.75 1581.6 1394.41 1581.6 Q1391.32 1581.6 1388.59 1581.13 Q1385.85 1580.68 1383.27 1579.72 L1383.27 1574.03 Q1385.85 1575.43 1388.36 1576.1 Q1390.88 1576.76 1393.49 1576.76 Q1399.25 1576.76 1402.11 1573.74 Q1404.98 1570.75 1404.98 1564.67 L1404.98 1561.77 Q1403.16 1564.92 1400.33 1566.48 Q1397.5 1568.04 1393.55 1568.04 Q1386.99 1568.04 1382.98 1563.05 Q1378.97 1558.05 1378.97 1549.81 Q1378.97 1541.53 1382.98 1536.53 Q1386.99 1531.54 1393.55 1531.54 Q1397.5 1531.54 1400.33 1533.1 Q1403.16 1534.66 1404.98 1537.81 L1404.98 1532.4 L1410.83 1532.4 L1410.83 1563.62 Z\" fill=\"#000000\" fill-rule=\"nonzero\" fill-opacity=\"1\" /><path clip-path=\"url(#clip710)\" d=\"M1422.9 1532.4 L1428.75 1532.4 L1428.75 1568.04 L1422.9 1568.04 L1422.9 1532.4 M1422.9 1518.52 L1428.75 1518.52 L1428.75 1525.93 L1422.9 1525.93 L1422.9 1518.52 Z\" fill=\"#000000\" fill-rule=\"nonzero\" fill-opacity=\"1\" /><path clip-path=\"url(#clip710)\" d=\"M1446.8 1522.27 L1446.8 1532.4 L1458.86 1532.4 L1458.86 1536.95 L1446.8 1536.95 L1446.8 1556.3 Q1446.8 1560.66 1447.98 1561.9 Q1449.19 1563.14 1452.85 1563.14 L1458.86 1563.14 L1458.86 1568.04 L1452.85 1568.04 Q1446.07 1568.04 1443.49 1565.53 Q1440.91 1562.98 1440.91 1556.3 L1440.91 1536.95 L1436.61 1536.95 L1436.61 1532.4 L1440.91 1532.4 L1440.91 1522.27 L1446.8 1522.27 Z\" fill=\"#000000\" fill-rule=\"nonzero\" fill-opacity=\"1\" /><path clip-path=\"url(#clip710)\" d=\"M1501.86 1545.48 Q1497.28 1545.48 1494.64 1547.93 Q1492.03 1550.38 1492.03 1554.68 Q1492.03 1558.97 1494.64 1561.42 Q1497.28 1563.87 1501.86 1563.87 Q1506.45 1563.87 1509.09 1561.42 Q1511.73 1558.94 1511.73 1554.68 Q1511.73 1550.38 1509.09 1547.93 Q1506.48 1545.48 1501.86 1545.48 M1495.43 1542.74 Q1491.3 1541.72 1488.97 1538.89 Q1486.68 1536.06 1486.68 1531.98 Q1486.68 1526.28 1490.72 1522.97 Q1494.8 1519.66 1501.86 1519.66 Q1508.96 1519.66 1513 1522.97 Q1517.05 1526.28 1517.05 1531.98 Q1517.05 1536.06 1514.72 1538.89 Q1512.43 1541.72 1508.32 1542.74 Q1512.97 1543.82 1515.55 1546.97 Q1518.16 1550.12 1518.16 1554.68 Q1518.16 1561.58 1513.93 1565.27 Q1509.72 1568.97 1501.86 1568.97 Q1494 1568.97 1489.77 1565.27 Q1485.57 1561.58 1485.57 1554.68 Q1485.57 1550.12 1488.18 1546.97 Q1490.79 1543.82 1495.43 1542.74 M1493.08 1532.59 Q1493.08 1536.28 1495.37 1538.35 Q1497.69 1540.42 1501.86 1540.42 Q1506 1540.42 1508.32 1538.35 Q1510.68 1536.28 1510.68 1532.59 Q1510.68 1528.89 1508.32 1526.83 Q1506 1524.76 1501.86 1524.76 Q1497.69 1524.76 1495.37 1526.83 Q1493.08 1528.89 1493.08 1532.59 Z\" fill=\"#000000\" fill-rule=\"nonzero\" fill-opacity=\"1\" /><polyline clip-path=\"url(#clip712)\" style=\"stroke:#000000; stroke-linecap:round; stroke-linejoin:round; stroke-width:2; stroke-opacity:0.1; fill:none\" points=\"112.177,1384.24 2352.76,1384.24 \"/>\n",
       "<polyline clip-path=\"url(#clip712)\" style=\"stroke:#000000; stroke-linecap:round; stroke-linejoin:round; stroke-width:2; stroke-opacity:0.1; fill:none\" points=\"112.177,1059.73 2352.76,1059.73 \"/>\n",
       "<polyline clip-path=\"url(#clip712)\" style=\"stroke:#000000; stroke-linecap:round; stroke-linejoin:round; stroke-width:2; stroke-opacity:0.1; fill:none\" points=\"112.177,735.212 2352.76,735.212 \"/>\n",
       "<polyline clip-path=\"url(#clip712)\" style=\"stroke:#000000; stroke-linecap:round; stroke-linejoin:round; stroke-width:2; stroke-opacity:0.1; fill:none\" points=\"112.177,410.699 2352.76,410.699 \"/>\n",
       "<polyline clip-path=\"url(#clip712)\" style=\"stroke:#000000; stroke-linecap:round; stroke-linejoin:round; stroke-width:2; stroke-opacity:0.1; fill:none\" points=\"112.177,86.1857 2352.76,86.1857 \"/>\n",
       "<polyline clip-path=\"url(#clip710)\" style=\"stroke:#000000; stroke-linecap:round; stroke-linejoin:round; stroke-width:4; stroke-opacity:1; fill:none\" points=\"112.177,1423.18 112.177,47.2441 \"/>\n",
       "<polyline clip-path=\"url(#clip710)\" style=\"stroke:#000000; stroke-linecap:round; stroke-linejoin:round; stroke-width:4; stroke-opacity:1; fill:none\" points=\"112.177,1384.24 131.075,1384.24 \"/>\n",
       "<polyline clip-path=\"url(#clip710)\" style=\"stroke:#000000; stroke-linecap:round; stroke-linejoin:round; stroke-width:4; stroke-opacity:1; fill:none\" points=\"112.177,1059.73 131.075,1059.73 \"/>\n",
       "<polyline clip-path=\"url(#clip710)\" style=\"stroke:#000000; stroke-linecap:round; stroke-linejoin:round; stroke-width:4; stroke-opacity:1; fill:none\" points=\"112.177,735.212 131.075,735.212 \"/>\n",
       "<polyline clip-path=\"url(#clip710)\" style=\"stroke:#000000; stroke-linecap:round; stroke-linejoin:round; stroke-width:4; stroke-opacity:1; fill:none\" points=\"112.177,410.699 131.075,410.699 \"/>\n",
       "<polyline clip-path=\"url(#clip710)\" style=\"stroke:#000000; stroke-linecap:round; stroke-linejoin:round; stroke-width:4; stroke-opacity:1; fill:none\" points=\"112.177,86.1857 131.075,86.1857 \"/>\n",
       "<path clip-path=\"url(#clip710)\" d=\"M64.2328 1370.04 Q60.6217 1370.04 58.793 1373.6 Q56.9875 1377.14 56.9875 1384.27 Q56.9875 1391.38 58.793 1394.94 Q60.6217 1398.49 64.2328 1398.49 Q67.867 1398.49 69.6726 1394.94 Q71.5013 1391.38 71.5013 1384.27 Q71.5013 1377.14 69.6726 1373.6 Q67.867 1370.04 64.2328 1370.04 M64.2328 1366.33 Q70.0429 1366.33 73.0985 1370.94 Q76.1772 1375.52 76.1772 1384.27 Q76.1772 1393 73.0985 1397.61 Q70.0429 1402.19 64.2328 1402.19 Q58.4226 1402.19 55.344 1397.61 Q52.2884 1393 52.2884 1384.27 Q52.2884 1375.52 55.344 1370.94 Q58.4226 1366.33 64.2328 1366.33 Z\" fill=\"#000000\" fill-rule=\"nonzero\" fill-opacity=\"1\" /><path clip-path=\"url(#clip710)\" d=\"M56.2699 1073.07 L63.9087 1073.07 L63.9087 1046.7 L55.5986 1048.37 L55.5986 1044.11 L63.8624 1042.45 L68.5383 1042.45 L68.5383 1073.07 L76.1772 1073.07 L76.1772 1077.01 L56.2699 1077.01 L56.2699 1073.07 Z\" fill=\"#000000\" fill-rule=\"nonzero\" fill-opacity=\"1\" /><path clip-path=\"url(#clip710)\" d=\"M59.8578 748.557 L76.1772 748.557 L76.1772 752.492 L54.2328 752.492 L54.2328 748.557 Q56.8949 745.802 61.4782 741.173 Q66.0846 736.52 67.2652 735.177 Q69.5105 732.654 70.3902 730.918 Q71.2929 729.159 71.2929 727.469 Q71.2929 724.714 69.3485 722.978 Q67.4272 721.242 64.3254 721.242 Q62.1263 721.242 59.6726 722.006 Q57.2421 722.77 54.4643 724.321 L54.4643 719.599 Q57.2884 718.464 59.7421 717.886 Q62.1958 717.307 64.2328 717.307 Q69.6031 717.307 72.7976 719.992 Q75.992 722.677 75.992 727.168 Q75.992 729.298 75.1818 731.219 Q74.3948 733.117 72.2883 735.71 Q71.7096 736.381 68.6078 739.599 Q65.5059 742.793 59.8578 748.557 Z\" fill=\"#000000\" fill-rule=\"nonzero\" fill-opacity=\"1\" /><path clip-path=\"url(#clip710)\" d=\"M69.0476 409.345 Q72.404 410.062 74.279 412.331 Q76.1772 414.599 76.1772 417.933 Q76.1772 423.048 72.6587 425.849 Q69.1402 428.65 62.6587 428.65 Q60.4828 428.65 58.168 428.21 Q55.8764 427.794 53.4227 426.937 L53.4227 422.423 Q55.3671 423.558 57.6819 424.136 Q59.9967 424.715 62.5198 424.715 Q66.918 424.715 69.2096 422.979 Q71.5244 421.243 71.5244 417.933 Q71.5244 414.877 69.3717 413.164 Q67.242 411.428 63.4226 411.428 L59.3949 411.428 L59.3949 407.585 L63.6078 407.585 Q67.0569 407.585 68.8855 406.22 Q70.7142 404.831 70.7142 402.238 Q70.7142 399.576 68.8161 398.164 Q66.9411 396.729 63.4226 396.729 Q61.5013 396.729 59.3023 397.146 Q57.1032 397.562 54.4643 398.442 L54.4643 394.275 Q57.1264 393.535 59.4412 393.164 Q61.7791 392.794 63.8393 392.794 Q69.1633 392.794 72.2652 395.224 Q75.367 397.632 75.367 401.752 Q75.367 404.622 73.7235 406.613 Q72.08 408.581 69.0476 409.345 Z\" fill=\"#000000\" fill-rule=\"nonzero\" fill-opacity=\"1\" /><path clip-path=\"url(#clip710)\" d=\"M66.5939 72.9797 L54.7884 91.4287 L66.5939 91.4287 L66.5939 72.9797 M65.367 68.9057 L71.2466 68.9057 L71.2466 91.4287 L76.1772 91.4287 L76.1772 95.3176 L71.2466 95.3176 L71.2466 103.466 L66.5939 103.466 L66.5939 95.3176 L50.9921 95.3176 L50.9921 90.8037 L65.367 68.9057 Z\" fill=\"#000000\" fill-rule=\"nonzero\" fill-opacity=\"1\" /><path clip-path=\"url(#clip712)\" d=\"M235.413 86.1857 L235.413 1384.24 L456.98 1384.24 L456.98 86.1857 L235.413 86.1857 L235.413 86.1857  Z\" fill=\"#808080\" fill-rule=\"evenodd\" fill-opacity=\"1\"/>\n",
       "<polyline clip-path=\"url(#clip712)\" style=\"stroke:#000000; stroke-linecap:round; stroke-linejoin:round; stroke-width:4; stroke-opacity:1; fill:none\" points=\"235.413,86.1857 235.413,1384.24 456.98,1384.24 456.98,86.1857 235.413,86.1857 \"/>\n",
       "<path clip-path=\"url(#clip712)\" d=\"M456.98 1384.24 L456.98 1384.24 L678.548 1384.24 L678.548 1384.24 L456.98 1384.24 L456.98 1384.24  Z\" fill=\"#808080\" fill-rule=\"evenodd\" fill-opacity=\"1\"/>\n",
       "<polyline clip-path=\"url(#clip712)\" style=\"stroke:#000000; stroke-linecap:round; stroke-linejoin:round; stroke-width:4; stroke-opacity:1; fill:none\" points=\"456.98,1384.24 456.98,1384.24 678.548,1384.24 456.98,1384.24 \"/>\n",
       "<path clip-path=\"url(#clip712)\" d=\"M678.548 1384.24 L678.548 1384.24 L900.115 1384.24 L900.115 1384.24 L678.548 1384.24 L678.548 1384.24  Z\" fill=\"#808080\" fill-rule=\"evenodd\" fill-opacity=\"1\"/>\n",
       "<polyline clip-path=\"url(#clip712)\" style=\"stroke:#000000; stroke-linecap:round; stroke-linejoin:round; stroke-width:4; stroke-opacity:1; fill:none\" points=\"678.548,1384.24 678.548,1384.24 900.115,1384.24 678.548,1384.24 \"/>\n",
       "<path clip-path=\"url(#clip712)\" d=\"M900.115 1384.24 L900.115 1384.24 L1121.68 1384.24 L1121.68 1384.24 L900.115 1384.24 L900.115 1384.24  Z\" fill=\"#808080\" fill-rule=\"evenodd\" fill-opacity=\"1\"/>\n",
       "<polyline clip-path=\"url(#clip712)\" style=\"stroke:#000000; stroke-linecap:round; stroke-linejoin:round; stroke-width:4; stroke-opacity:1; fill:none\" points=\"900.115,1384.24 900.115,1384.24 1121.68,1384.24 900.115,1384.24 \"/>\n",
       "<path clip-path=\"url(#clip712)\" d=\"M1121.68 735.212 L1121.68 1384.24 L1343.25 1384.24 L1343.25 735.212 L1121.68 735.212 L1121.68 735.212  Z\" fill=\"#808080\" fill-rule=\"evenodd\" fill-opacity=\"1\"/>\n",
       "<polyline clip-path=\"url(#clip712)\" style=\"stroke:#000000; stroke-linecap:round; stroke-linejoin:round; stroke-width:4; stroke-opacity:1; fill:none\" points=\"1121.68,735.212 1121.68,1384.24 1343.25,1384.24 1343.25,735.212 1121.68,735.212 \"/>\n",
       "<path clip-path=\"url(#clip712)\" d=\"M1343.25 1384.24 L1343.25 1384.24 L1564.82 1384.24 L1564.82 1384.24 L1343.25 1384.24 L1343.25 1384.24  Z\" fill=\"#808080\" fill-rule=\"evenodd\" fill-opacity=\"1\"/>\n",
       "<polyline clip-path=\"url(#clip712)\" style=\"stroke:#000000; stroke-linecap:round; stroke-linejoin:round; stroke-width:4; stroke-opacity:1; fill:none\" points=\"1343.25,1384.24 1343.25,1384.24 1564.82,1384.24 1343.25,1384.24 \"/>\n",
       "<path clip-path=\"url(#clip712)\" d=\"M1564.82 1059.73 L1564.82 1384.24 L1786.39 1384.24 L1786.39 1059.73 L1564.82 1059.73 L1564.82 1059.73  Z\" fill=\"#808080\" fill-rule=\"evenodd\" fill-opacity=\"1\"/>\n",
       "<polyline clip-path=\"url(#clip712)\" style=\"stroke:#000000; stroke-linecap:round; stroke-linejoin:round; stroke-width:4; stroke-opacity:1; fill:none\" points=\"1564.82,1059.73 1564.82,1384.24 1786.39,1384.24 1786.39,1059.73 1564.82,1059.73 \"/>\n",
       "<path clip-path=\"url(#clip712)\" d=\"M1786.39 1384.24 L1786.39 1384.24 L2007.95 1384.24 L2007.95 1384.24 L1786.39 1384.24 L1786.39 1384.24  Z\" fill=\"#808080\" fill-rule=\"evenodd\" fill-opacity=\"1\"/>\n",
       "<polyline clip-path=\"url(#clip712)\" style=\"stroke:#000000; stroke-linecap:round; stroke-linejoin:round; stroke-width:4; stroke-opacity:1; fill:none\" points=\"1786.39,1384.24 1786.39,1384.24 2007.95,1384.24 1786.39,1384.24 \"/>\n",
       "<path clip-path=\"url(#clip712)\" d=\"M2007.95 1059.73 L2007.95 1384.24 L2229.52 1384.24 L2229.52 1059.73 L2007.95 1059.73 L2007.95 1059.73  Z\" fill=\"#808080\" fill-rule=\"evenodd\" fill-opacity=\"1\"/>\n",
       "<polyline clip-path=\"url(#clip712)\" style=\"stroke:#000000; stroke-linecap:round; stroke-linejoin:round; stroke-width:4; stroke-opacity:1; fill:none\" points=\"2007.95,1059.73 2007.95,1384.24 2229.52,1384.24 2229.52,1059.73 2007.95,1059.73 \"/>\n",
       "<circle clip-path=\"url(#clip712)\" style=\"fill:#808080; stroke:none; fill-opacity:0\" cx=\"346.197\" cy=\"86.1857\" r=\"2\"/>\n",
       "<circle clip-path=\"url(#clip712)\" style=\"fill:#808080; stroke:none; fill-opacity:0\" cx=\"567.764\" cy=\"1384.24\" r=\"2\"/>\n",
       "<circle clip-path=\"url(#clip712)\" style=\"fill:#808080; stroke:none; fill-opacity:0\" cx=\"789.332\" cy=\"1384.24\" r=\"2\"/>\n",
       "<circle clip-path=\"url(#clip712)\" style=\"fill:#808080; stroke:none; fill-opacity:0\" cx=\"1010.9\" cy=\"1384.24\" r=\"2\"/>\n",
       "<circle clip-path=\"url(#clip712)\" style=\"fill:#808080; stroke:none; fill-opacity:0\" cx=\"1232.47\" cy=\"735.212\" r=\"2\"/>\n",
       "<circle clip-path=\"url(#clip712)\" style=\"fill:#808080; stroke:none; fill-opacity:0\" cx=\"1454.03\" cy=\"1384.24\" r=\"2\"/>\n",
       "<circle clip-path=\"url(#clip712)\" style=\"fill:#808080; stroke:none; fill-opacity:0\" cx=\"1675.6\" cy=\"1059.73\" r=\"2\"/>\n",
       "<circle clip-path=\"url(#clip712)\" style=\"fill:#808080; stroke:none; fill-opacity:0\" cx=\"1897.17\" cy=\"1384.24\" r=\"2\"/>\n",
       "<circle clip-path=\"url(#clip712)\" style=\"fill:#808080; stroke:none; fill-opacity:0\" cx=\"2118.74\" cy=\"1059.73\" r=\"2\"/>\n",
       "<path clip-path=\"url(#clip710)\" d=\"M1929.13 196.789 L2278.07 196.789 L2278.07 93.1086 L1929.13 93.1086  Z\" fill=\"#ffffff\" fill-rule=\"evenodd\" fill-opacity=\"1\"/>\n",
       "<polyline clip-path=\"url(#clip710)\" style=\"stroke:#000000; stroke-linecap:round; stroke-linejoin:round; stroke-width:4; stroke-opacity:1; fill:none\" points=\"1929.13,196.789 2278.07,196.789 2278.07,93.1086 1929.13,93.1086 1929.13,196.789 \"/>\n",
       "<path clip-path=\"url(#clip710)\" d=\"M1954.02 165.685 L2103.4 165.685 L2103.4 124.213 L1954.02 124.213 L1954.02 165.685  Z\" fill=\"#808080\" fill-rule=\"evenodd\" fill-opacity=\"1\"/>\n",
       "<polyline clip-path=\"url(#clip710)\" style=\"stroke:#000000; stroke-linecap:round; stroke-linejoin:round; stroke-width:4; stroke-opacity:1; fill:none\" points=\"1954.02,165.685 2103.4,165.685 2103.4,124.213 1954.02,124.213 1954.02,165.685 \"/>\n",
       "<path clip-path=\"url(#clip710)\" d=\"M2147.2 140.238 L2147.2 126.21 L2151.46 126.21 L2151.46 162.229 L2147.2 162.229 L2147.2 158.34 Q2145.86 160.655 2143.8 161.789 Q2141.76 162.9 2138.89 162.9 Q2134.19 162.9 2131.23 159.15 Q2128.29 155.4 2128.29 149.289 Q2128.29 143.178 2131.23 139.428 Q2134.19 135.678 2138.89 135.678 Q2141.76 135.678 2143.8 136.812 Q2145.86 137.923 2147.2 140.238 M2132.69 149.289 Q2132.69 153.988 2134.61 156.673 Q2136.55 159.335 2139.93 159.335 Q2143.31 159.335 2145.26 156.673 Q2147.2 153.988 2147.2 149.289 Q2147.2 144.59 2145.26 141.928 Q2143.31 139.243 2139.93 139.243 Q2136.55 139.243 2134.61 141.928 Q2132.69 144.59 2132.69 149.289 Z\" fill=\"#000000\" fill-rule=\"nonzero\" fill-opacity=\"1\" /><path clip-path=\"url(#clip710)\" d=\"M2160.24 136.303 L2164.49 136.303 L2164.49 162.229 L2160.24 162.229 L2160.24 136.303 M2160.24 126.21 L2164.49 126.21 L2164.49 131.604 L2160.24 131.604 L2160.24 126.21 Z\" fill=\"#000000\" fill-rule=\"nonzero\" fill-opacity=\"1\" /><path clip-path=\"url(#clip710)\" d=\"M2190.47 148.965 Q2190.47 144.335 2188.55 141.789 Q2186.65 139.243 2183.2 139.243 Q2179.77 139.243 2177.85 141.789 Q2175.95 144.335 2175.95 148.965 Q2175.95 153.571 2177.85 156.118 Q2179.77 158.664 2183.2 158.664 Q2186.65 158.664 2188.55 156.118 Q2190.47 153.571 2190.47 148.965 M2194.73 159.011 Q2194.73 165.631 2191.79 168.849 Q2188.85 172.09 2182.78 172.09 Q2180.54 172.09 2178.55 171.742 Q2176.55 171.418 2174.68 170.724 L2174.68 166.58 Q2176.55 167.599 2178.38 168.085 Q2180.21 168.571 2182.11 168.571 Q2186.3 168.571 2188.38 166.372 Q2190.47 164.196 2190.47 159.775 L2190.47 157.668 Q2189.15 159.96 2187.09 161.094 Q2185.03 162.229 2182.16 162.229 Q2177.39 162.229 2174.47 158.594 Q2171.55 154.96 2171.55 148.965 Q2171.55 142.946 2174.47 139.312 Q2177.39 135.678 2182.16 135.678 Q2185.03 135.678 2187.09 136.812 Q2189.15 137.946 2190.47 140.238 L2190.47 136.303 L2194.73 136.303 L2194.73 159.011 Z\" fill=\"#000000\" fill-rule=\"nonzero\" fill-opacity=\"1\" /><path clip-path=\"url(#clip710)\" d=\"M2203.5 136.303 L2207.76 136.303 L2207.76 162.229 L2203.5 162.229 L2203.5 136.303 M2203.5 126.21 L2207.76 126.21 L2207.76 131.604 L2203.5 131.604 L2203.5 126.21 Z\" fill=\"#000000\" fill-rule=\"nonzero\" fill-opacity=\"1\" /><path clip-path=\"url(#clip710)\" d=\"M2220.88 128.942 L2220.88 136.303 L2229.66 136.303 L2229.66 139.613 L2220.88 139.613 L2220.88 153.687 Q2220.88 156.858 2221.74 157.761 Q2222.62 158.664 2225.28 158.664 L2229.66 158.664 L2229.66 162.229 L2225.28 162.229 Q2220.35 162.229 2218.48 160.4 Q2216.6 158.548 2216.6 153.687 L2216.6 139.613 L2213.48 139.613 L2213.48 136.303 L2216.6 136.303 L2216.6 128.942 L2220.88 128.942 Z\" fill=\"#000000\" fill-rule=\"nonzero\" fill-opacity=\"1\" /><path clip-path=\"url(#clip710)\" d=\"M2251.79 137.067 L2251.79 141.094 Q2249.98 140.169 2248.04 139.706 Q2246.09 139.243 2244.01 139.243 Q2240.84 139.243 2239.24 140.215 Q2237.67 141.187 2237.67 143.131 Q2237.67 144.613 2238.8 145.469 Q2239.93 146.303 2243.36 147.067 L2244.82 147.391 Q2249.36 148.363 2251.25 150.145 Q2253.17 151.905 2253.17 155.076 Q2253.17 158.687 2250.3 160.793 Q2247.46 162.9 2242.46 162.9 Q2240.37 162.9 2238.11 162.483 Q2235.86 162.09 2233.36 161.28 L2233.36 156.881 Q2235.72 158.108 2238.01 158.733 Q2240.3 159.335 2242.55 159.335 Q2245.56 159.335 2247.18 158.317 Q2248.8 157.275 2248.8 155.4 Q2248.8 153.664 2247.62 152.738 Q2246.46 151.812 2242.5 150.956 L2241.02 150.608 Q2237.06 149.775 2235.3 148.062 Q2233.55 146.326 2233.55 143.317 Q2233.55 139.659 2236.14 137.669 Q2238.73 135.678 2243.5 135.678 Q2245.86 135.678 2247.94 136.025 Q2250.03 136.372 2251.79 137.067 Z\" fill=\"#000000\" fill-rule=\"nonzero\" fill-opacity=\"1\" /></svg>\n"
      ],
      "text/html": [
       "<?xml version=\"1.0\" encoding=\"utf-8\"?>\n",
       "<svg xmlns=\"http://www.w3.org/2000/svg\" xmlns:xlink=\"http://www.w3.org/1999/xlink\" width=\"600\" height=\"400\" viewBox=\"0 0 2400 1600\">\n",
       "<defs>\n",
       "  <clipPath id=\"clip760\">\n",
       "    <rect x=\"0\" y=\"0\" width=\"2400\" height=\"1600\"/>\n",
       "  </clipPath>\n",
       "</defs>\n",
       "<path clip-path=\"url(#clip760)\" d=\"M0 1600 L2400 1600 L2400 0 L0 0  Z\" fill=\"#ffffff\" fill-rule=\"evenodd\" fill-opacity=\"1\"/>\n",
       "<defs>\n",
       "  <clipPath id=\"clip761\">\n",
       "    <rect x=\"480\" y=\"0\" width=\"1681\" height=\"1600\"/>\n",
       "  </clipPath>\n",
       "</defs>\n",
       "<path clip-path=\"url(#clip760)\" d=\"M112.177 1423.18 L2352.76 1423.18 L2352.76 47.2441 L112.177 47.2441  Z\" fill=\"#ffffff\" fill-rule=\"evenodd\" fill-opacity=\"1\"/>\n",
       "<defs>\n",
       "  <clipPath id=\"clip762\">\n",
       "    <rect x=\"112\" y=\"47\" width=\"2242\" height=\"1377\"/>\n",
       "  </clipPath>\n",
       "</defs>\n",
       "<polyline clip-path=\"url(#clip762)\" style=\"stroke:#000000; stroke-linecap:round; stroke-linejoin:round; stroke-width:2; stroke-opacity:0.1; fill:none\" points=\"235.413,1423.18 235.413,47.2441 \"/>\n",
       "<polyline clip-path=\"url(#clip762)\" style=\"stroke:#000000; stroke-linecap:round; stroke-linejoin:round; stroke-width:2; stroke-opacity:0.1; fill:none\" points=\"678.548,1423.18 678.548,47.2441 \"/>\n",
       "<polyline clip-path=\"url(#clip762)\" style=\"stroke:#000000; stroke-linecap:round; stroke-linejoin:round; stroke-width:2; stroke-opacity:0.1; fill:none\" points=\"1121.68,1423.18 1121.68,47.2441 \"/>\n",
       "<polyline clip-path=\"url(#clip762)\" style=\"stroke:#000000; stroke-linecap:round; stroke-linejoin:round; stroke-width:2; stroke-opacity:0.1; fill:none\" points=\"1564.82,1423.18 1564.82,47.2441 \"/>\n",
       "<polyline clip-path=\"url(#clip762)\" style=\"stroke:#000000; stroke-linecap:round; stroke-linejoin:round; stroke-width:2; stroke-opacity:0.1; fill:none\" points=\"2007.95,1423.18 2007.95,47.2441 \"/>\n",
       "<polyline clip-path=\"url(#clip760)\" style=\"stroke:#000000; stroke-linecap:round; stroke-linejoin:round; stroke-width:4; stroke-opacity:1; fill:none\" points=\"112.177,1423.18 2352.76,1423.18 \"/>\n",
       "<polyline clip-path=\"url(#clip760)\" style=\"stroke:#000000; stroke-linecap:round; stroke-linejoin:round; stroke-width:4; stroke-opacity:1; fill:none\" points=\"235.413,1423.18 235.413,1404.28 \"/>\n",
       "<polyline clip-path=\"url(#clip760)\" style=\"stroke:#000000; stroke-linecap:round; stroke-linejoin:round; stroke-width:4; stroke-opacity:1; fill:none\" points=\"678.548,1423.18 678.548,1404.28 \"/>\n",
       "<polyline clip-path=\"url(#clip760)\" style=\"stroke:#000000; stroke-linecap:round; stroke-linejoin:round; stroke-width:4; stroke-opacity:1; fill:none\" points=\"1121.68,1423.18 1121.68,1404.28 \"/>\n",
       "<polyline clip-path=\"url(#clip760)\" style=\"stroke:#000000; stroke-linecap:round; stroke-linejoin:round; stroke-width:4; stroke-opacity:1; fill:none\" points=\"1564.82,1423.18 1564.82,1404.28 \"/>\n",
       "<polyline clip-path=\"url(#clip760)\" style=\"stroke:#000000; stroke-linecap:round; stroke-linejoin:round; stroke-width:4; stroke-opacity:1; fill:none\" points=\"2007.95,1423.18 2007.95,1404.28 \"/>\n",
       "<path clip-path=\"url(#clip760)\" d=\"M239.661 1466.95 Q243.017 1467.66 244.892 1469.93 Q246.79 1472.2 246.79 1475.53 Q246.79 1480.65 243.272 1483.45 Q239.753 1486.25 233.272 1486.25 Q231.096 1486.25 228.781 1485.81 Q226.489 1485.39 224.036 1484.54 L224.036 1480.02 Q225.98 1481.16 228.295 1481.74 Q230.61 1482.32 233.133 1482.32 Q237.531 1482.32 239.823 1480.58 Q242.137 1478.84 242.137 1475.53 Q242.137 1472.48 239.985 1470.77 Q237.855 1469.03 234.036 1469.03 L230.008 1469.03 L230.008 1465.19 L234.221 1465.19 Q237.67 1465.19 239.499 1463.82 Q241.327 1462.43 241.327 1459.84 Q241.327 1457.18 239.429 1455.77 Q237.554 1454.33 234.036 1454.33 Q232.114 1454.33 229.915 1454.75 Q227.716 1455.16 225.077 1456.04 L225.077 1451.88 Q227.739 1451.14 230.054 1450.77 Q232.392 1450.39 234.452 1450.39 Q239.776 1450.39 242.878 1452.83 Q245.98 1455.23 245.98 1459.35 Q245.98 1462.22 244.337 1464.21 Q242.693 1466.18 239.661 1466.95 Z\" fill=\"#000000\" fill-rule=\"nonzero\" fill-opacity=\"1\" /><path clip-path=\"url(#clip760)\" d=\"M681.557 1455.09 L669.752 1473.54 L681.557 1473.54 L681.557 1455.09 M680.33 1451.02 L686.21 1451.02 L686.21 1473.54 L691.14 1473.54 L691.14 1477.43 L686.21 1477.43 L686.21 1485.58 L681.557 1485.58 L681.557 1477.43 L665.955 1477.43 L665.955 1472.92 L680.33 1451.02 Z\" fill=\"#000000\" fill-rule=\"nonzero\" fill-opacity=\"1\" /><path clip-path=\"url(#clip760)\" d=\"M1111.96 1451.02 L1130.32 1451.02 L1130.32 1454.96 L1116.24 1454.96 L1116.24 1463.43 Q1117.26 1463.08 1118.28 1462.92 Q1119.3 1462.73 1120.32 1462.73 Q1126.1 1462.73 1129.48 1465.9 Q1132.86 1469.08 1132.86 1474.49 Q1132.86 1480.07 1129.39 1483.17 Q1125.92 1486.25 1119.6 1486.25 Q1117.42 1486.25 1115.16 1485.88 Q1112.91 1485.51 1110.5 1484.77 L1110.5 1480.07 Q1112.59 1481.2 1114.81 1481.76 Q1117.03 1482.32 1119.51 1482.32 Q1123.51 1482.32 1125.85 1480.21 Q1128.19 1478.1 1128.19 1474.49 Q1128.19 1470.88 1125.85 1468.77 Q1123.51 1466.67 1119.51 1466.67 Q1117.63 1466.67 1115.76 1467.08 Q1113.91 1467.5 1111.96 1468.38 L1111.96 1451.02 Z\" fill=\"#000000\" fill-rule=\"nonzero\" fill-opacity=\"1\" /><path clip-path=\"url(#clip760)\" d=\"M1565.22 1466.44 Q1562.07 1466.44 1560.22 1468.59 Q1558.39 1470.74 1558.39 1474.49 Q1558.39 1478.22 1560.22 1480.39 Q1562.07 1482.55 1565.22 1482.55 Q1568.37 1482.55 1570.2 1480.39 Q1572.05 1478.22 1572.05 1474.49 Q1572.05 1470.74 1570.2 1468.59 Q1568.37 1466.44 1565.22 1466.44 M1574.51 1451.78 L1574.51 1456.04 Q1572.75 1455.21 1570.94 1454.77 Q1569.16 1454.33 1567.4 1454.33 Q1562.77 1454.33 1560.32 1457.45 Q1557.88 1460.58 1557.54 1466.9 Q1558.9 1464.89 1560.96 1463.82 Q1563.02 1462.73 1565.5 1462.73 Q1570.71 1462.73 1573.72 1465.9 Q1576.75 1469.05 1576.75 1474.49 Q1576.75 1479.82 1573.6 1483.03 Q1570.45 1486.25 1565.22 1486.25 Q1559.23 1486.25 1556.06 1481.67 Q1552.88 1477.06 1552.88 1468.33 Q1552.88 1460.14 1556.77 1455.28 Q1560.66 1450.39 1567.21 1450.39 Q1568.97 1450.39 1570.76 1450.74 Q1572.56 1451.09 1574.51 1451.78 Z\" fill=\"#000000\" fill-rule=\"nonzero\" fill-opacity=\"1\" /><path clip-path=\"url(#clip760)\" d=\"M1996.84 1451.02 L2019.06 1451.02 L2019.06 1453.01 L2006.52 1485.58 L2001.63 1485.58 L2013.44 1454.96 L1996.84 1454.96 L1996.84 1451.02 Z\" fill=\"#000000\" fill-rule=\"nonzero\" fill-opacity=\"1\" /><path clip-path=\"url(#clip760)\" d=\"M974.751 1539.24 Q976.947 1535.29 980.003 1533.41 Q983.058 1531.54 987.196 1531.54 Q992.766 1531.54 995.79 1535.45 Q998.813 1539.33 998.813 1546.53 L998.813 1568.04 L992.925 1568.04 L992.925 1546.72 Q992.925 1541.59 991.111 1539.11 Q989.297 1536.63 985.573 1536.63 Q981.021 1536.63 978.379 1539.65 Q975.738 1542.68 975.738 1547.9 L975.738 1568.04 L969.849 1568.04 L969.849 1546.72 Q969.849 1541.56 968.035 1539.11 Q966.221 1536.63 962.433 1536.63 Q957.945 1536.63 955.304 1539.68 Q952.662 1542.71 952.662 1547.9 L952.662 1568.04 L946.774 1568.04 L946.774 1532.4 L952.662 1532.4 L952.662 1537.93 Q954.667 1534.66 957.468 1533.1 Q960.269 1531.54 964.12 1531.54 Q968.003 1531.54 970.709 1533.51 Q973.446 1535.48 974.751 1539.24 Z\" fill=\"#000000\" fill-rule=\"nonzero\" fill-opacity=\"1\" /><path clip-path=\"url(#clip760)\" d=\"M1010.49 1532.4 L1016.35 1532.4 L1016.35 1568.04 L1010.49 1568.04 L1010.49 1532.4 M1010.49 1518.52 L1016.35 1518.52 L1016.35 1525.93 L1010.49 1525.93 L1010.49 1518.52 Z\" fill=\"#000000\" fill-rule=\"nonzero\" fill-opacity=\"1\" /><path clip-path=\"url(#clip760)\" d=\"M1051.33 1533.45 L1051.33 1538.98 Q1048.85 1537.71 1046.17 1537.07 Q1043.5 1536.44 1040.64 1536.44 Q1036.28 1536.44 1034.08 1537.77 Q1031.91 1539.11 1031.91 1541.79 Q1031.91 1543.82 1033.47 1545 Q1035.03 1546.15 1039.74 1547.2 L1041.75 1547.64 Q1047.99 1548.98 1050.6 1551.43 Q1053.24 1553.85 1053.24 1558.21 Q1053.24 1563.17 1049.29 1566.07 Q1045.38 1568.97 1038.5 1568.97 Q1035.64 1568.97 1032.52 1568.39 Q1029.43 1567.85 1025.99 1566.74 L1025.99 1560.69 Q1029.24 1562.38 1032.39 1563.24 Q1035.54 1564.07 1038.63 1564.07 Q1042.77 1564.07 1045 1562.66 Q1047.22 1561.23 1047.22 1558.65 Q1047.22 1556.27 1045.6 1554.99 Q1044.01 1553.72 1038.57 1552.54 L1036.53 1552.07 Q1031.09 1550.92 1028.67 1548.56 Q1026.25 1546.18 1026.25 1542.04 Q1026.25 1537.01 1029.81 1534.27 Q1033.38 1531.54 1039.94 1531.54 Q1043.18 1531.54 1046.05 1532.01 Q1048.91 1532.49 1051.33 1533.45 Z\" fill=\"#000000\" fill-rule=\"nonzero\" fill-opacity=\"1\" /><path clip-path=\"url(#clip760)\" d=\"M1089.65 1578.87 L1089.65 1583.42 L1055.79 1583.42 L1055.79 1578.87 L1089.65 1578.87 Z\" fill=\"#000000\" fill-rule=\"nonzero\" fill-opacity=\"1\" /><path clip-path=\"url(#clip760)\" d=\"M1122.91 1539.24 Q1125.11 1535.29 1128.16 1533.41 Q1131.22 1531.54 1135.36 1531.54 Q1140.93 1531.54 1143.95 1535.45 Q1146.98 1539.33 1146.98 1546.53 L1146.98 1568.04 L1141.09 1568.04 L1141.09 1546.72 Q1141.09 1541.59 1139.27 1539.11 Q1137.46 1536.63 1133.73 1536.63 Q1129.18 1536.63 1126.54 1539.65 Q1123.9 1542.68 1123.9 1547.9 L1123.9 1568.04 L1118.01 1568.04 L1118.01 1546.72 Q1118.01 1541.56 1116.2 1539.11 Q1114.38 1536.63 1110.6 1536.63 Q1106.11 1536.63 1103.47 1539.68 Q1100.82 1542.71 1100.82 1547.9 L1100.82 1568.04 L1094.94 1568.04 L1094.94 1532.4 L1100.82 1532.4 L1100.82 1537.93 Q1102.83 1534.66 1105.63 1533.1 Q1108.43 1531.54 1112.28 1531.54 Q1116.17 1531.54 1118.87 1533.51 Q1121.61 1535.48 1122.91 1539.24 Z\" fill=\"#000000\" fill-rule=\"nonzero\" fill-opacity=\"1\" /><path clip-path=\"url(#clip760)\" d=\"M1174.86 1550.12 Q1167.76 1550.12 1165.02 1551.75 Q1162.28 1553.37 1162.28 1557.29 Q1162.28 1560.4 1164.32 1562.25 Q1166.39 1564.07 1169.92 1564.07 Q1174.79 1564.07 1177.72 1560.63 Q1180.68 1557.16 1180.68 1551.43 L1180.68 1550.12 L1174.86 1550.12 M1186.54 1547.71 L1186.54 1568.04 L1180.68 1568.04 L1180.68 1562.63 Q1178.68 1565.88 1175.68 1567.44 Q1172.69 1568.97 1168.36 1568.97 Q1162.89 1568.97 1159.64 1565.91 Q1156.43 1562.82 1156.43 1557.67 Q1156.43 1551.65 1160.44 1548.6 Q1164.48 1545.54 1172.47 1545.54 L1180.68 1545.54 L1180.68 1544.97 Q1180.68 1540.93 1178.01 1538.73 Q1175.37 1536.5 1170.56 1536.5 Q1167.5 1536.5 1164.61 1537.23 Q1161.71 1537.97 1159.04 1539.43 L1159.04 1534.02 Q1162.25 1532.78 1165.28 1532.17 Q1168.3 1531.54 1171.16 1531.54 Q1178.9 1531.54 1182.72 1535.55 Q1186.54 1539.56 1186.54 1547.71 Z\" fill=\"#000000\" fill-rule=\"nonzero\" fill-opacity=\"1\" /><path clip-path=\"url(#clip760)\" d=\"M1204.39 1522.27 L1204.39 1532.4 L1216.46 1532.4 L1216.46 1536.95 L1204.39 1536.95 L1204.39 1556.3 Q1204.39 1560.66 1205.57 1561.9 Q1206.78 1563.14 1210.44 1563.14 L1216.46 1563.14 L1216.46 1568.04 L1210.44 1568.04 Q1203.66 1568.04 1201.08 1565.53 Q1198.51 1562.98 1198.51 1556.3 L1198.51 1536.95 L1194.21 1536.95 L1194.21 1532.4 L1198.51 1532.4 L1198.51 1522.27 L1204.39 1522.27 Z\" fill=\"#000000\" fill-rule=\"nonzero\" fill-opacity=\"1\" /><path clip-path=\"url(#clip760)\" d=\"M1249.81 1533.76 L1249.81 1539.24 Q1247.33 1537.87 1244.82 1537.2 Q1242.33 1536.5 1239.79 1536.5 Q1234.09 1536.5 1230.94 1540.13 Q1227.79 1543.73 1227.79 1550.25 Q1227.79 1556.78 1230.94 1560.4 Q1234.09 1564 1239.79 1564 Q1242.33 1564 1244.82 1563.33 Q1247.33 1562.63 1249.81 1561.26 L1249.81 1566.68 Q1247.36 1567.82 1244.72 1568.39 Q1242.11 1568.97 1239.15 1568.97 Q1231.1 1568.97 1226.36 1563.91 Q1221.61 1558.85 1221.61 1550.25 Q1221.61 1541.53 1226.39 1536.53 Q1231.19 1531.54 1239.53 1531.54 Q1242.24 1531.54 1244.82 1532.11 Q1247.39 1532.65 1249.81 1533.76 Z\" fill=\"#000000\" fill-rule=\"nonzero\" fill-opacity=\"1\" /><path clip-path=\"url(#clip760)\" d=\"M1289.63 1546.53 L1289.63 1568.04 L1283.77 1568.04 L1283.77 1546.72 Q1283.77 1541.66 1281.8 1539.14 Q1279.83 1536.63 1275.88 1536.63 Q1271.14 1536.63 1268.4 1539.65 Q1265.66 1542.68 1265.66 1547.9 L1265.66 1568.04 L1259.78 1568.04 L1259.78 1518.52 L1265.66 1518.52 L1265.66 1537.93 Q1267.76 1534.72 1270.6 1533.13 Q1273.46 1531.54 1277.19 1531.54 Q1283.33 1531.54 1286.48 1535.36 Q1289.63 1539.14 1289.63 1546.53 Z\" fill=\"#000000\" fill-rule=\"nonzero\" fill-opacity=\"1\" /><path clip-path=\"url(#clip760)\" d=\"M1345.49 1537.81 L1345.49 1518.52 L1351.35 1518.52 L1351.35 1568.04 L1345.49 1568.04 L1345.49 1562.7 Q1343.64 1565.88 1340.81 1567.44 Q1338.01 1568.97 1334.06 1568.97 Q1327.6 1568.97 1323.53 1563.81 Q1319.49 1558.65 1319.49 1550.25 Q1319.49 1541.85 1323.53 1536.69 Q1327.6 1531.54 1334.06 1531.54 Q1338.01 1531.54 1340.81 1533.1 Q1343.64 1534.62 1345.49 1537.81 M1325.53 1550.25 Q1325.53 1556.71 1328.17 1560.4 Q1330.85 1564.07 1335.5 1564.07 Q1340.14 1564.07 1342.82 1560.4 Q1345.49 1556.71 1345.49 1550.25 Q1345.49 1543.79 1342.82 1540.13 Q1340.14 1536.44 1335.5 1536.44 Q1330.85 1536.44 1328.17 1540.13 Q1325.53 1543.79 1325.53 1550.25 Z\" fill=\"#000000\" fill-rule=\"nonzero\" fill-opacity=\"1\" /><path clip-path=\"url(#clip760)\" d=\"M1363.41 1532.4 L1369.27 1532.4 L1369.27 1568.04 L1363.41 1568.04 L1363.41 1532.4 M1363.41 1518.52 L1369.27 1518.52 L1369.27 1525.93 L1363.41 1525.93 L1363.41 1518.52 Z\" fill=\"#000000\" fill-rule=\"nonzero\" fill-opacity=\"1\" /><path clip-path=\"url(#clip760)\" d=\"M1404.98 1549.81 Q1404.98 1543.44 1402.34 1539.94 Q1399.73 1536.44 1394.98 1536.44 Q1390.27 1536.44 1387.63 1539.94 Q1385.02 1543.44 1385.02 1549.81 Q1385.02 1556.14 1387.63 1559.64 Q1390.27 1563.14 1394.98 1563.14 Q1399.73 1563.14 1402.34 1559.64 Q1404.98 1556.14 1404.98 1549.81 M1410.83 1563.62 Q1410.83 1572.72 1406.79 1577.15 Q1402.75 1581.6 1394.41 1581.6 Q1391.32 1581.6 1388.59 1581.13 Q1385.85 1580.68 1383.27 1579.72 L1383.27 1574.03 Q1385.85 1575.43 1388.36 1576.1 Q1390.88 1576.76 1393.49 1576.76 Q1399.25 1576.76 1402.11 1573.74 Q1404.98 1570.75 1404.98 1564.67 L1404.98 1561.77 Q1403.16 1564.92 1400.33 1566.48 Q1397.5 1568.04 1393.55 1568.04 Q1386.99 1568.04 1382.98 1563.05 Q1378.97 1558.05 1378.97 1549.81 Q1378.97 1541.53 1382.98 1536.53 Q1386.99 1531.54 1393.55 1531.54 Q1397.5 1531.54 1400.33 1533.1 Q1403.16 1534.66 1404.98 1537.81 L1404.98 1532.4 L1410.83 1532.4 L1410.83 1563.62 Z\" fill=\"#000000\" fill-rule=\"nonzero\" fill-opacity=\"1\" /><path clip-path=\"url(#clip760)\" d=\"M1422.9 1532.4 L1428.75 1532.4 L1428.75 1568.04 L1422.9 1568.04 L1422.9 1532.4 M1422.9 1518.52 L1428.75 1518.52 L1428.75 1525.93 L1422.9 1525.93 L1422.9 1518.52 Z\" fill=\"#000000\" fill-rule=\"nonzero\" fill-opacity=\"1\" /><path clip-path=\"url(#clip760)\" d=\"M1446.8 1522.27 L1446.8 1532.4 L1458.86 1532.4 L1458.86 1536.95 L1446.8 1536.95 L1446.8 1556.3 Q1446.8 1560.66 1447.98 1561.9 Q1449.19 1563.14 1452.85 1563.14 L1458.86 1563.14 L1458.86 1568.04 L1452.85 1568.04 Q1446.07 1568.04 1443.49 1565.53 Q1440.91 1562.98 1440.91 1556.3 L1440.91 1536.95 L1436.61 1536.95 L1436.61 1532.4 L1440.91 1532.4 L1440.91 1522.27 L1446.8 1522.27 Z\" fill=\"#000000\" fill-rule=\"nonzero\" fill-opacity=\"1\" /><path clip-path=\"url(#clip760)\" d=\"M1501.86 1545.48 Q1497.28 1545.48 1494.64 1547.93 Q1492.03 1550.38 1492.03 1554.68 Q1492.03 1558.97 1494.64 1561.42 Q1497.28 1563.87 1501.86 1563.87 Q1506.45 1563.87 1509.09 1561.42 Q1511.73 1558.94 1511.73 1554.68 Q1511.73 1550.38 1509.09 1547.93 Q1506.48 1545.48 1501.86 1545.48 M1495.43 1542.74 Q1491.3 1541.72 1488.97 1538.89 Q1486.68 1536.06 1486.68 1531.98 Q1486.68 1526.28 1490.72 1522.97 Q1494.8 1519.66 1501.86 1519.66 Q1508.96 1519.66 1513 1522.97 Q1517.05 1526.28 1517.05 1531.98 Q1517.05 1536.06 1514.72 1538.89 Q1512.43 1541.72 1508.32 1542.74 Q1512.97 1543.82 1515.55 1546.97 Q1518.16 1550.12 1518.16 1554.68 Q1518.16 1561.58 1513.93 1565.27 Q1509.72 1568.97 1501.86 1568.97 Q1494 1568.97 1489.77 1565.27 Q1485.57 1561.58 1485.57 1554.68 Q1485.57 1550.12 1488.18 1546.97 Q1490.79 1543.82 1495.43 1542.74 M1493.08 1532.59 Q1493.08 1536.28 1495.37 1538.35 Q1497.69 1540.42 1501.86 1540.42 Q1506 1540.42 1508.32 1538.35 Q1510.68 1536.28 1510.68 1532.59 Q1510.68 1528.89 1508.32 1526.83 Q1506 1524.76 1501.86 1524.76 Q1497.69 1524.76 1495.37 1526.83 Q1493.08 1528.89 1493.08 1532.59 Z\" fill=\"#000000\" fill-rule=\"nonzero\" fill-opacity=\"1\" /><polyline clip-path=\"url(#clip762)\" style=\"stroke:#000000; stroke-linecap:round; stroke-linejoin:round; stroke-width:2; stroke-opacity:0.1; fill:none\" points=\"112.177,1384.24 2352.76,1384.24 \"/>\n",
       "<polyline clip-path=\"url(#clip762)\" style=\"stroke:#000000; stroke-linecap:round; stroke-linejoin:round; stroke-width:2; stroke-opacity:0.1; fill:none\" points=\"112.177,1059.73 2352.76,1059.73 \"/>\n",
       "<polyline clip-path=\"url(#clip762)\" style=\"stroke:#000000; stroke-linecap:round; stroke-linejoin:round; stroke-width:2; stroke-opacity:0.1; fill:none\" points=\"112.177,735.212 2352.76,735.212 \"/>\n",
       "<polyline clip-path=\"url(#clip762)\" style=\"stroke:#000000; stroke-linecap:round; stroke-linejoin:round; stroke-width:2; stroke-opacity:0.1; fill:none\" points=\"112.177,410.699 2352.76,410.699 \"/>\n",
       "<polyline clip-path=\"url(#clip762)\" style=\"stroke:#000000; stroke-linecap:round; stroke-linejoin:round; stroke-width:2; stroke-opacity:0.1; fill:none\" points=\"112.177,86.1857 2352.76,86.1857 \"/>\n",
       "<polyline clip-path=\"url(#clip760)\" style=\"stroke:#000000; stroke-linecap:round; stroke-linejoin:round; stroke-width:4; stroke-opacity:1; fill:none\" points=\"112.177,1423.18 112.177,47.2441 \"/>\n",
       "<polyline clip-path=\"url(#clip760)\" style=\"stroke:#000000; stroke-linecap:round; stroke-linejoin:round; stroke-width:4; stroke-opacity:1; fill:none\" points=\"112.177,1384.24 131.075,1384.24 \"/>\n",
       "<polyline clip-path=\"url(#clip760)\" style=\"stroke:#000000; stroke-linecap:round; stroke-linejoin:round; stroke-width:4; stroke-opacity:1; fill:none\" points=\"112.177,1059.73 131.075,1059.73 \"/>\n",
       "<polyline clip-path=\"url(#clip760)\" style=\"stroke:#000000; stroke-linecap:round; stroke-linejoin:round; stroke-width:4; stroke-opacity:1; fill:none\" points=\"112.177,735.212 131.075,735.212 \"/>\n",
       "<polyline clip-path=\"url(#clip760)\" style=\"stroke:#000000; stroke-linecap:round; stroke-linejoin:round; stroke-width:4; stroke-opacity:1; fill:none\" points=\"112.177,410.699 131.075,410.699 \"/>\n",
       "<polyline clip-path=\"url(#clip760)\" style=\"stroke:#000000; stroke-linecap:round; stroke-linejoin:round; stroke-width:4; stroke-opacity:1; fill:none\" points=\"112.177,86.1857 131.075,86.1857 \"/>\n",
       "<path clip-path=\"url(#clip760)\" d=\"M64.2328 1370.04 Q60.6217 1370.04 58.793 1373.6 Q56.9875 1377.14 56.9875 1384.27 Q56.9875 1391.38 58.793 1394.94 Q60.6217 1398.49 64.2328 1398.49 Q67.867 1398.49 69.6726 1394.94 Q71.5013 1391.38 71.5013 1384.27 Q71.5013 1377.14 69.6726 1373.6 Q67.867 1370.04 64.2328 1370.04 M64.2328 1366.33 Q70.0429 1366.33 73.0985 1370.94 Q76.1772 1375.52 76.1772 1384.27 Q76.1772 1393 73.0985 1397.61 Q70.0429 1402.19 64.2328 1402.19 Q58.4226 1402.19 55.344 1397.61 Q52.2884 1393 52.2884 1384.27 Q52.2884 1375.52 55.344 1370.94 Q58.4226 1366.33 64.2328 1366.33 Z\" fill=\"#000000\" fill-rule=\"nonzero\" fill-opacity=\"1\" /><path clip-path=\"url(#clip760)\" d=\"M56.2699 1073.07 L63.9087 1073.07 L63.9087 1046.7 L55.5986 1048.37 L55.5986 1044.11 L63.8624 1042.45 L68.5383 1042.45 L68.5383 1073.07 L76.1772 1073.07 L76.1772 1077.01 L56.2699 1077.01 L56.2699 1073.07 Z\" fill=\"#000000\" fill-rule=\"nonzero\" fill-opacity=\"1\" /><path clip-path=\"url(#clip760)\" d=\"M59.8578 748.557 L76.1772 748.557 L76.1772 752.492 L54.2328 752.492 L54.2328 748.557 Q56.8949 745.802 61.4782 741.173 Q66.0846 736.52 67.2652 735.177 Q69.5105 732.654 70.3902 730.918 Q71.2929 729.159 71.2929 727.469 Q71.2929 724.714 69.3485 722.978 Q67.4272 721.242 64.3254 721.242 Q62.1263 721.242 59.6726 722.006 Q57.2421 722.77 54.4643 724.321 L54.4643 719.599 Q57.2884 718.464 59.7421 717.886 Q62.1958 717.307 64.2328 717.307 Q69.6031 717.307 72.7976 719.992 Q75.992 722.677 75.992 727.168 Q75.992 729.298 75.1818 731.219 Q74.3948 733.117 72.2883 735.71 Q71.7096 736.381 68.6078 739.599 Q65.5059 742.793 59.8578 748.557 Z\" fill=\"#000000\" fill-rule=\"nonzero\" fill-opacity=\"1\" /><path clip-path=\"url(#clip760)\" d=\"M69.0476 409.345 Q72.404 410.062 74.279 412.331 Q76.1772 414.599 76.1772 417.933 Q76.1772 423.048 72.6587 425.849 Q69.1402 428.65 62.6587 428.65 Q60.4828 428.65 58.168 428.21 Q55.8764 427.794 53.4227 426.937 L53.4227 422.423 Q55.3671 423.558 57.6819 424.136 Q59.9967 424.715 62.5198 424.715 Q66.918 424.715 69.2096 422.979 Q71.5244 421.243 71.5244 417.933 Q71.5244 414.877 69.3717 413.164 Q67.242 411.428 63.4226 411.428 L59.3949 411.428 L59.3949 407.585 L63.6078 407.585 Q67.0569 407.585 68.8855 406.22 Q70.7142 404.831 70.7142 402.238 Q70.7142 399.576 68.8161 398.164 Q66.9411 396.729 63.4226 396.729 Q61.5013 396.729 59.3023 397.146 Q57.1032 397.562 54.4643 398.442 L54.4643 394.275 Q57.1264 393.535 59.4412 393.164 Q61.7791 392.794 63.8393 392.794 Q69.1633 392.794 72.2652 395.224 Q75.367 397.632 75.367 401.752 Q75.367 404.622 73.7235 406.613 Q72.08 408.581 69.0476 409.345 Z\" fill=\"#000000\" fill-rule=\"nonzero\" fill-opacity=\"1\" /><path clip-path=\"url(#clip760)\" d=\"M66.5939 72.9797 L54.7884 91.4287 L66.5939 91.4287 L66.5939 72.9797 M65.367 68.9057 L71.2466 68.9057 L71.2466 91.4287 L76.1772 91.4287 L76.1772 95.3176 L71.2466 95.3176 L71.2466 103.466 L66.5939 103.466 L66.5939 95.3176 L50.9921 95.3176 L50.9921 90.8037 L65.367 68.9057 Z\" fill=\"#000000\" fill-rule=\"nonzero\" fill-opacity=\"1\" /><path clip-path=\"url(#clip762)\" d=\"M235.413 86.1857 L235.413 1384.24 L456.98 1384.24 L456.98 86.1857 L235.413 86.1857 L235.413 86.1857  Z\" fill=\"#808080\" fill-rule=\"evenodd\" fill-opacity=\"1\"/>\n",
       "<polyline clip-path=\"url(#clip762)\" style=\"stroke:#000000; stroke-linecap:round; stroke-linejoin:round; stroke-width:4; stroke-opacity:1; fill:none\" points=\"235.413,86.1857 235.413,1384.24 456.98,1384.24 456.98,86.1857 235.413,86.1857 \"/>\n",
       "<path clip-path=\"url(#clip762)\" d=\"M456.98 1384.24 L456.98 1384.24 L678.548 1384.24 L678.548 1384.24 L456.98 1384.24 L456.98 1384.24  Z\" fill=\"#808080\" fill-rule=\"evenodd\" fill-opacity=\"1\"/>\n",
       "<polyline clip-path=\"url(#clip762)\" style=\"stroke:#000000; stroke-linecap:round; stroke-linejoin:round; stroke-width:4; stroke-opacity:1; fill:none\" points=\"456.98,1384.24 456.98,1384.24 678.548,1384.24 456.98,1384.24 \"/>\n",
       "<path clip-path=\"url(#clip762)\" d=\"M678.548 1384.24 L678.548 1384.24 L900.115 1384.24 L900.115 1384.24 L678.548 1384.24 L678.548 1384.24  Z\" fill=\"#808080\" fill-rule=\"evenodd\" fill-opacity=\"1\"/>\n",
       "<polyline clip-path=\"url(#clip762)\" style=\"stroke:#000000; stroke-linecap:round; stroke-linejoin:round; stroke-width:4; stroke-opacity:1; fill:none\" points=\"678.548,1384.24 678.548,1384.24 900.115,1384.24 678.548,1384.24 \"/>\n",
       "<path clip-path=\"url(#clip762)\" d=\"M900.115 1384.24 L900.115 1384.24 L1121.68 1384.24 L1121.68 1384.24 L900.115 1384.24 L900.115 1384.24  Z\" fill=\"#808080\" fill-rule=\"evenodd\" fill-opacity=\"1\"/>\n",
       "<polyline clip-path=\"url(#clip762)\" style=\"stroke:#000000; stroke-linecap:round; stroke-linejoin:round; stroke-width:4; stroke-opacity:1; fill:none\" points=\"900.115,1384.24 900.115,1384.24 1121.68,1384.24 900.115,1384.24 \"/>\n",
       "<path clip-path=\"url(#clip762)\" d=\"M1121.68 735.212 L1121.68 1384.24 L1343.25 1384.24 L1343.25 735.212 L1121.68 735.212 L1121.68 735.212  Z\" fill=\"#808080\" fill-rule=\"evenodd\" fill-opacity=\"1\"/>\n",
       "<polyline clip-path=\"url(#clip762)\" style=\"stroke:#000000; stroke-linecap:round; stroke-linejoin:round; stroke-width:4; stroke-opacity:1; fill:none\" points=\"1121.68,735.212 1121.68,1384.24 1343.25,1384.24 1343.25,735.212 1121.68,735.212 \"/>\n",
       "<path clip-path=\"url(#clip762)\" d=\"M1343.25 1384.24 L1343.25 1384.24 L1564.82 1384.24 L1564.82 1384.24 L1343.25 1384.24 L1343.25 1384.24  Z\" fill=\"#808080\" fill-rule=\"evenodd\" fill-opacity=\"1\"/>\n",
       "<polyline clip-path=\"url(#clip762)\" style=\"stroke:#000000; stroke-linecap:round; stroke-linejoin:round; stroke-width:4; stroke-opacity:1; fill:none\" points=\"1343.25,1384.24 1343.25,1384.24 1564.82,1384.24 1343.25,1384.24 \"/>\n",
       "<path clip-path=\"url(#clip762)\" d=\"M1564.82 1059.73 L1564.82 1384.24 L1786.39 1384.24 L1786.39 1059.73 L1564.82 1059.73 L1564.82 1059.73  Z\" fill=\"#808080\" fill-rule=\"evenodd\" fill-opacity=\"1\"/>\n",
       "<polyline clip-path=\"url(#clip762)\" style=\"stroke:#000000; stroke-linecap:round; stroke-linejoin:round; stroke-width:4; stroke-opacity:1; fill:none\" points=\"1564.82,1059.73 1564.82,1384.24 1786.39,1384.24 1786.39,1059.73 1564.82,1059.73 \"/>\n",
       "<path clip-path=\"url(#clip762)\" d=\"M1786.39 1384.24 L1786.39 1384.24 L2007.95 1384.24 L2007.95 1384.24 L1786.39 1384.24 L1786.39 1384.24  Z\" fill=\"#808080\" fill-rule=\"evenodd\" fill-opacity=\"1\"/>\n",
       "<polyline clip-path=\"url(#clip762)\" style=\"stroke:#000000; stroke-linecap:round; stroke-linejoin:round; stroke-width:4; stroke-opacity:1; fill:none\" points=\"1786.39,1384.24 1786.39,1384.24 2007.95,1384.24 1786.39,1384.24 \"/>\n",
       "<path clip-path=\"url(#clip762)\" d=\"M2007.95 1059.73 L2007.95 1384.24 L2229.52 1384.24 L2229.52 1059.73 L2007.95 1059.73 L2007.95 1059.73  Z\" fill=\"#808080\" fill-rule=\"evenodd\" fill-opacity=\"1\"/>\n",
       "<polyline clip-path=\"url(#clip762)\" style=\"stroke:#000000; stroke-linecap:round; stroke-linejoin:round; stroke-width:4; stroke-opacity:1; fill:none\" points=\"2007.95,1059.73 2007.95,1384.24 2229.52,1384.24 2229.52,1059.73 2007.95,1059.73 \"/>\n",
       "<circle clip-path=\"url(#clip762)\" style=\"fill:#808080; stroke:none; fill-opacity:0\" cx=\"346.197\" cy=\"86.1857\" r=\"2\"/>\n",
       "<circle clip-path=\"url(#clip762)\" style=\"fill:#808080; stroke:none; fill-opacity:0\" cx=\"567.764\" cy=\"1384.24\" r=\"2\"/>\n",
       "<circle clip-path=\"url(#clip762)\" style=\"fill:#808080; stroke:none; fill-opacity:0\" cx=\"789.332\" cy=\"1384.24\" r=\"2\"/>\n",
       "<circle clip-path=\"url(#clip762)\" style=\"fill:#808080; stroke:none; fill-opacity:0\" cx=\"1010.9\" cy=\"1384.24\" r=\"2\"/>\n",
       "<circle clip-path=\"url(#clip762)\" style=\"fill:#808080; stroke:none; fill-opacity:0\" cx=\"1232.47\" cy=\"735.212\" r=\"2\"/>\n",
       "<circle clip-path=\"url(#clip762)\" style=\"fill:#808080; stroke:none; fill-opacity:0\" cx=\"1454.03\" cy=\"1384.24\" r=\"2\"/>\n",
       "<circle clip-path=\"url(#clip762)\" style=\"fill:#808080; stroke:none; fill-opacity:0\" cx=\"1675.6\" cy=\"1059.73\" r=\"2\"/>\n",
       "<circle clip-path=\"url(#clip762)\" style=\"fill:#808080; stroke:none; fill-opacity:0\" cx=\"1897.17\" cy=\"1384.24\" r=\"2\"/>\n",
       "<circle clip-path=\"url(#clip762)\" style=\"fill:#808080; stroke:none; fill-opacity:0\" cx=\"2118.74\" cy=\"1059.73\" r=\"2\"/>\n",
       "<path clip-path=\"url(#clip760)\" d=\"M1929.13 196.789 L2278.07 196.789 L2278.07 93.1086 L1929.13 93.1086  Z\" fill=\"#ffffff\" fill-rule=\"evenodd\" fill-opacity=\"1\"/>\n",
       "<polyline clip-path=\"url(#clip760)\" style=\"stroke:#000000; stroke-linecap:round; stroke-linejoin:round; stroke-width:4; stroke-opacity:1; fill:none\" points=\"1929.13,196.789 2278.07,196.789 2278.07,93.1086 1929.13,93.1086 1929.13,196.789 \"/>\n",
       "<path clip-path=\"url(#clip760)\" d=\"M1954.02 165.685 L2103.4 165.685 L2103.4 124.213 L1954.02 124.213 L1954.02 165.685  Z\" fill=\"#808080\" fill-rule=\"evenodd\" fill-opacity=\"1\"/>\n",
       "<polyline clip-path=\"url(#clip760)\" style=\"stroke:#000000; stroke-linecap:round; stroke-linejoin:round; stroke-width:4; stroke-opacity:1; fill:none\" points=\"1954.02,165.685 2103.4,165.685 2103.4,124.213 1954.02,124.213 1954.02,165.685 \"/>\n",
       "<path clip-path=\"url(#clip760)\" d=\"M2147.2 140.238 L2147.2 126.21 L2151.46 126.21 L2151.46 162.229 L2147.2 162.229 L2147.2 158.34 Q2145.86 160.655 2143.8 161.789 Q2141.76 162.9 2138.89 162.9 Q2134.19 162.9 2131.23 159.15 Q2128.29 155.4 2128.29 149.289 Q2128.29 143.178 2131.23 139.428 Q2134.19 135.678 2138.89 135.678 Q2141.76 135.678 2143.8 136.812 Q2145.86 137.923 2147.2 140.238 M2132.69 149.289 Q2132.69 153.988 2134.61 156.673 Q2136.55 159.335 2139.93 159.335 Q2143.31 159.335 2145.26 156.673 Q2147.2 153.988 2147.2 149.289 Q2147.2 144.59 2145.26 141.928 Q2143.31 139.243 2139.93 139.243 Q2136.55 139.243 2134.61 141.928 Q2132.69 144.59 2132.69 149.289 Z\" fill=\"#000000\" fill-rule=\"nonzero\" fill-opacity=\"1\" /><path clip-path=\"url(#clip760)\" d=\"M2160.24 136.303 L2164.49 136.303 L2164.49 162.229 L2160.24 162.229 L2160.24 136.303 M2160.24 126.21 L2164.49 126.21 L2164.49 131.604 L2160.24 131.604 L2160.24 126.21 Z\" fill=\"#000000\" fill-rule=\"nonzero\" fill-opacity=\"1\" /><path clip-path=\"url(#clip760)\" d=\"M2190.47 148.965 Q2190.47 144.335 2188.55 141.789 Q2186.65 139.243 2183.2 139.243 Q2179.77 139.243 2177.85 141.789 Q2175.95 144.335 2175.95 148.965 Q2175.95 153.571 2177.85 156.118 Q2179.77 158.664 2183.2 158.664 Q2186.65 158.664 2188.55 156.118 Q2190.47 153.571 2190.47 148.965 M2194.73 159.011 Q2194.73 165.631 2191.79 168.849 Q2188.85 172.09 2182.78 172.09 Q2180.54 172.09 2178.55 171.742 Q2176.55 171.418 2174.68 170.724 L2174.68 166.58 Q2176.55 167.599 2178.38 168.085 Q2180.21 168.571 2182.11 168.571 Q2186.3 168.571 2188.38 166.372 Q2190.47 164.196 2190.47 159.775 L2190.47 157.668 Q2189.15 159.96 2187.09 161.094 Q2185.03 162.229 2182.16 162.229 Q2177.39 162.229 2174.47 158.594 Q2171.55 154.96 2171.55 148.965 Q2171.55 142.946 2174.47 139.312 Q2177.39 135.678 2182.16 135.678 Q2185.03 135.678 2187.09 136.812 Q2189.15 137.946 2190.47 140.238 L2190.47 136.303 L2194.73 136.303 L2194.73 159.011 Z\" fill=\"#000000\" fill-rule=\"nonzero\" fill-opacity=\"1\" /><path clip-path=\"url(#clip760)\" d=\"M2203.5 136.303 L2207.76 136.303 L2207.76 162.229 L2203.5 162.229 L2203.5 136.303 M2203.5 126.21 L2207.76 126.21 L2207.76 131.604 L2203.5 131.604 L2203.5 126.21 Z\" fill=\"#000000\" fill-rule=\"nonzero\" fill-opacity=\"1\" /><path clip-path=\"url(#clip760)\" d=\"M2220.88 128.942 L2220.88 136.303 L2229.66 136.303 L2229.66 139.613 L2220.88 139.613 L2220.88 153.687 Q2220.88 156.858 2221.74 157.761 Q2222.62 158.664 2225.28 158.664 L2229.66 158.664 L2229.66 162.229 L2225.28 162.229 Q2220.35 162.229 2218.48 160.4 Q2216.6 158.548 2216.6 153.687 L2216.6 139.613 L2213.48 139.613 L2213.48 136.303 L2216.6 136.303 L2216.6 128.942 L2220.88 128.942 Z\" fill=\"#000000\" fill-rule=\"nonzero\" fill-opacity=\"1\" /><path clip-path=\"url(#clip760)\" d=\"M2251.79 137.067 L2251.79 141.094 Q2249.98 140.169 2248.04 139.706 Q2246.09 139.243 2244.01 139.243 Q2240.84 139.243 2239.24 140.215 Q2237.67 141.187 2237.67 143.131 Q2237.67 144.613 2238.8 145.469 Q2239.93 146.303 2243.36 147.067 L2244.82 147.391 Q2249.36 148.363 2251.25 150.145 Q2253.17 151.905 2253.17 155.076 Q2253.17 158.687 2250.3 160.793 Q2247.46 162.9 2242.46 162.9 Q2240.37 162.9 2238.11 162.483 Q2235.86 162.09 2233.36 161.28 L2233.36 156.881 Q2235.72 158.108 2238.01 158.733 Q2240.3 159.335 2242.55 159.335 Q2245.56 159.335 2247.18 158.317 Q2248.8 157.275 2248.8 155.4 Q2248.8 153.664 2247.62 152.738 Q2246.46 151.812 2242.5 150.956 L2241.02 150.608 Q2237.06 149.775 2235.3 148.062 Q2233.55 146.326 2233.55 143.317 Q2233.55 139.659 2236.14 137.669 Q2238.73 135.678 2243.5 135.678 Q2245.86 135.678 2247.94 136.025 Q2250.03 136.372 2251.79 137.067 Z\" fill=\"#000000\" fill-rule=\"nonzero\" fill-opacity=\"1\" /></svg>\n"
      ]
     },
     "execution_count": 65,
     "metadata": {},
     "output_type": "execute_result"
    }
   ],
   "source": [
    "histogram(mis_match_8, label=\"digits\", bins=11, color=:gray)\n",
    "xlabel!(\"mis_match digit 8\")"
   ]
  },
  {
   "cell_type": "code",
   "execution_count": null,
   "metadata": {},
   "outputs": [],
   "source": []
  },
  {
   "cell_type": "code",
   "execution_count": null,
   "metadata": {},
   "outputs": [],
   "source": []
  },
  {
   "cell_type": "code",
   "execution_count": null,
   "metadata": {},
   "outputs": [],
   "source": []
  },
  {
   "cell_type": "markdown",
   "metadata": {},
   "source": [
    "# For 60,000 by10,000 distM_threads computing time"
   ]
  },
  {
   "cell_type": "code",
   "execution_count": null,
   "metadata": {},
   "outputs": [],
   "source": [
    "# Matrix(60000,10000) needs about 2GB of memory space\n",
    "n_train = 60_000\n",
    "n_test = 10_000\n",
    "len = 28*28"
   ]
  },
  {
   "cell_type": "code",
   "execution_count": 39,
   "metadata": {},
   "outputs": [
    {
     "name": "stdout",
     "output_type": "stream",
     "text": [
      "659.253094 seconds (1.20 G allocations: 3.564 TiB, 32.46% gc time, 0.06% compilation time)\n"
     ]
    }
   ],
   "source": [
    "# This takes about 659 seconds\n",
    "@time dist = distM_threads(digits, n_train, n_test, len);"
   ]
  }
 ],
 "metadata": {
  "kernelspec": {
   "display_name": "Julia 6 Threads 1.9.0",
   "language": "julia",
   "name": "julia-6-threads-1.9"
  },
  "language_info": {
   "file_extension": ".jl",
   "mimetype": "application/julia",
   "name": "julia",
   "version": "1.9.0"
  }
 },
 "nbformat": 4,
 "nbformat_minor": 4
}
