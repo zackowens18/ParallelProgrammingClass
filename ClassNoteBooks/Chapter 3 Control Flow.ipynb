{
 "cells": [
  {
   "cell_type": "markdown",
   "metadata": {},
   "source": [
    "# Chapter 3 Control Flow and Functions¶\n",
    "Julia as a Second Language, Erik Engheim Chapter 3 Control Flow\n",
    "\n",
    "Topics\n",
    "\n",
    "1. Using Boolean values in conditions\n",
    "2. Running the same code multiple times using while and for loops\n",
    "3. Deciding what code to run with an if statement\n",
    "4. Looping over ranges of numbers\n",
    "5. Defining functions spanning multiple lines of code\n",
    "6. Implementing control flow using recursion or iteratio\n",
    "\n",
    "\n",
    "References Julia 1.9.0 Manual\n",
    "1. Chapter 5 Mathematical Operations and Elementary Functions (`Boolean Operators` and `Numeric Comparisons`)\n",
    "2. Chapter 8 Functions\n",
    "3. Chapter 9 Control Flow"
   ]
  },
  {
   "attachments": {
    "image.png": {
     "image/png": "[encoded data removed]"
    }
   },
   "cell_type": "markdown",
   "metadata": {},
   "source": [
    "## Numeric Comparison and Boolean Operators\n",
    "\n",
    "Standard comparison operations are defined for all the primitive numeric types:\n",
    "\n",
    "![image.png](attachment:image.png)\n"
   ]
  },
  {
   "cell_type": "markdown",
   "metadata": {},
   "source": [
    "## Boolean expressions"
   ]
  },
  {
   "cell_type": "code",
   "execution_count": null,
   "metadata": {},
   "outputs": [],
   "source": [
    "3 > 5"
   ]
  },
  {
   "cell_type": "code",
   "execution_count": null,
   "metadata": {},
   "outputs": [],
   "source": [
    "x = 6"
   ]
  },
  {
   "cell_type": "code",
   "execution_count": null,
   "metadata": {},
   "outputs": [],
   "source": [
    "1 ≤ x && x < 8"
   ]
  },
  {
   "cell_type": "code",
   "execution_count": null,
   "metadata": {},
   "outputs": [],
   "source": [
    "1 ≤ x < 10  # is x (less tnan or equal to 3) and (less than 10)"
   ]
  },
  {
   "cell_type": "code",
   "execution_count": null,
   "metadata": {},
   "outputs": [],
   "source": [
    "typeof(3>5)"
   ]
  },
  {
   "cell_type": "code",
   "execution_count": null,
   "metadata": {},
   "outputs": [],
   "source": [
    "reinterpret(UInt8, false)"
   ]
  },
  {
   "cell_type": "code",
   "execution_count": null,
   "metadata": {},
   "outputs": [],
   "source": [
    "reinterpret(UInt8, true)"
   ]
  },
  {
   "cell_type": "code",
   "execution_count": null,
   "metadata": {},
   "outputs": [],
   "source": [
    "?reinterpret"
   ]
  },
  {
   "cell_type": "markdown",
   "metadata": {},
   "source": [
    "Boolean values can be used in arithmetic expressions"
   ]
  },
  {
   "cell_type": "code",
   "execution_count": null,
   "metadata": {},
   "outputs": [],
   "source": [
    "true + false"
   ]
  },
  {
   "cell_type": "code",
   "execution_count": null,
   "metadata": {},
   "outputs": [],
   "source": [
    "3 * true"
   ]
  },
  {
   "attachments": {
    "image.png": {
     "image/png": "[encoded data removed]"
    }
   },
   "cell_type": "markdown",
   "metadata": {},
   "source": [
    "## Boolean Operators\n",
    "\n",
    "![image.png](attachment:image.png)"
   ]
  },
  {
   "cell_type": "code",
   "execution_count": null,
   "metadata": {},
   "outputs": [],
   "source": [
    "x = 3"
   ]
  },
  {
   "cell_type": "code",
   "execution_count": null,
   "metadata": {},
   "outputs": [],
   "source": [
    "x < 4 || x > 10"
   ]
  },
  {
   "cell_type": "code",
   "execution_count": null,
   "metadata": {},
   "outputs": [],
   "source": [
    "x > 4 && x < 10"
   ]
  },
  {
   "cell_type": "code",
   "execution_count": null,
   "metadata": {},
   "outputs": [],
   "source": [
    "4 < x < 10"
   ]
  },
  {
   "cell_type": "code",
   "execution_count": null,
   "metadata": {},
   "outputs": [],
   "source": [
    "4 < 7 < 10"
   ]
  },
  {
   "cell_type": "markdown",
   "metadata": {},
   "source": [
    "## Control Flow\n",
    "\n",
    "Julia provides a variety of control flow constructs:\n",
    "\n",
    "* Compound Expressions: `begin .. end` and `;`.\n",
    "* Conditional Evaluation: `if-elseif-else` and `?:` (ternary operator).\n",
    "* Short-Circuit Evaluation: logical operators `&&` (“and”) and `||` (“or”), and also chained comparisons.\n",
    "* Repeated Evaluation: Loops: `while` and `for`.\n",
    "* Exception Handling: `try-catch`, `error` and `throw`.\n",
    "* Tasks (aka Coroutines): `yieldto`.\n",
    "\n",
    "> The first five control flow mechanisms are standard to high-level programming languages. Tasks are not so standard: they provide non-local control flow, making it possible to switch between temporarily-suspended computations. This is a powerful construct: both exception handling and cooperative multitasking are implemented in Julia using tasks. Everyday programming requi\n"
   ]
  },
  {
   "cell_type": "markdown",
   "metadata": {},
   "source": [
    "## Compound Expressions\n",
    "\n",
    "Sometimes it is convenient to have a single expression which evaluates several subexpressions in order, returning the value of the last subexpression as its value. There are two Julia constructs that accomplish this: begin blocks and ; chains. The value of both compound expression constructs is that of the last subexpression. Here's an example of a begin block:"
   ]
  },
  {
   "cell_type": "code",
   "execution_count": null,
   "metadata": {},
   "outputs": [],
   "source": [
    "z = begin\n",
    "        x = 1\n",
    "        y = 2\n",
    "        x + y\n",
    "    end"
   ]
  },
  {
   "cell_type": "code",
   "execution_count": null,
   "metadata": {},
   "outputs": [],
   "source": [
    "z = (x = 1; y = 2; x + y)"
   ]
  },
  {
   "cell_type": "code",
   "execution_count": null,
   "metadata": {},
   "outputs": [],
   "source": [
    "begin x = 1; y = 2; x + y end"
   ]
  },
  {
   "cell_type": "code",
   "execution_count": null,
   "metadata": {},
   "outputs": [],
   "source": [
    "(x = 1; y = 2; x + y)"
   ]
  },
  {
   "cell_type": "markdown",
   "metadata": {},
   "source": [
    "## Conditional Evaluation\n",
    "Conditional evaluation allows portions of code to be evaluated or not evaluated depending \n",
    "on the value of boolean expression. Here is the anatomy of the if-elseif-else conditional syntax:"
   ]
  },
  {
   "cell_type": "code",
   "execution_count": null,
   "metadata": {},
   "outputs": [],
   "source": [
    "x = 10;\n",
    "y = 12;\n",
    "\n",
    "if x < y\n",
    "    println(\"x is less than y\")\n",
    "elseif x > y\n",
    "    println(\"x is greater than y\")\n",
    "else\n",
    "    println(\"x is equal to y\")\n",
    "end"
   ]
  },
  {
   "cell_type": "markdown",
   "metadata": {},
   "source": [
    "The so-called \"ternary operator\", ?:, is closely related to the if-elseif-else syntax, but is used where\n",
    "a conditional choice between single expression values is required, as opposed to conditional execution\n",
    "of longer blocks of code. It gets its name from being the only operator in most languages taking three\n",
    "operands:\n",
    "`a ? b : c`"
   ]
  },
  {
   "cell_type": "code",
   "execution_count": null,
   "metadata": {},
   "outputs": [],
   "source": [
    "x = 1; y = 2;\n",
    "println(x < y ? \"less than\" : \"not less than\")"
   ]
  },
  {
   "cell_type": "markdown",
   "metadata": {},
   "source": [
    "## `while`Looping\n",
    "\n",
    "There are two constructs for repeated evaluation of expressions: the `while` loop and the `for` loop. \n",
    "We consider `while` first.\n",
    "\n",
    "**syntax**\n",
    "\n",
    "    `while <boolean-expression>\n",
    "        <body>\n",
    "      end`"
   ]
  },
  {
   "cell_type": "code",
   "execution_count": null,
   "metadata": {},
   "outputs": [],
   "source": [
    "i = 0\n",
    "while i < 5\n",
    "    i = i + 1\n",
    "end"
   ]
  },
  {
   "cell_type": "code",
   "execution_count": null,
   "metadata": {},
   "outputs": [],
   "source": [
    "i = 0\n",
    "while i < 5\n",
    "    i = i + 1\n",
    "    println(i)\n",
    "end"
   ]
  },
  {
   "cell_type": "code",
   "execution_count": null,
   "metadata": {},
   "outputs": [],
   "source": [
    "print(\"Enter a positive number: \")\n",
    "line = readline()\n",
    "n = parse(Int64, line)\n",
    "\n",
    "i = 0\n",
    "s = 0\n",
    "while i ≤ n\n",
    "    s += 1\n",
    "    i += 1\n",
    "end\n",
    "println(\"The sum of 1 to $n is $s\")"
   ]
  },
  {
   "cell_type": "code",
   "execution_count": null,
   "metadata": {},
   "outputs": [],
   "source": [
    "?parse"
   ]
  },
  {
   "cell_type": "markdown",
   "metadata": {},
   "source": [
    "## Making a mathematical table for the sin function in  degree"
   ]
  },
  {
   "cell_type": "code",
   "execution_count": null,
   "metadata": {},
   "outputs": [],
   "source": [
    "# Making a mathematical table for sin using the sin function\n",
    "angle = 0\n",
    "while angle <= 90\n",
    "    rad = deg2rad(angle)\n",
    "    x = sin(rad)\n",
    "    println(\"sin($angle\", \"°) = $x\")\n",
    "    angle = angle + 15\n",
    "end"
   ]
  },
  {
   "cell_type": "code",
   "execution_count": null,
   "metadata": {},
   "outputs": [],
   "source": [
    "# Making a mathematical table for sin using the sind function\n",
    "angle = 0\n",
    "while angle <= 90\n",
    "    x = sind(angle)\n",
    "    println(\"sin($angle\", \"°) = $x\")\n",
    "    angle = angle + 15\n",
    "end"
   ]
  },
  {
   "cell_type": "markdown",
   "metadata": {},
   "source": [
    "## `for` Loops\n",
    "\n",
    "### Range objects\n",
    "\n",
    "When reading normal Julia code you will find that looping based on conditions is, in\n",
    "fact, not the normal approach. Instead loops tend to be defined using range objects;\n",
    "ranges are constructed with the `:` operator."
   ]
  },
  {
   "cell_type": "code",
   "execution_count": null,
   "metadata": {},
   "outputs": [],
   "source": [
    "1:10, typeof(1:10)"
   ]
  },
  {
   "cell_type": "code",
   "execution_count": null,
   "metadata": {},
   "outputs": [],
   "source": [
    "1:2:10, typeof(1:2:10)"
   ]
  },
  {
   "cell_type": "code",
   "execution_count": null,
   "metadata": {},
   "outputs": [],
   "source": [
    "10:-1:1"
   ]
  },
  {
   "cell_type": "code",
   "execution_count": null,
   "metadata": {},
   "outputs": [],
   "source": [
    "?:"
   ]
  },
  {
   "cell_type": "code",
   "execution_count": null,
   "metadata": {},
   "outputs": [],
   "source": [
    "rand(1:2, 10) # uniform random sequence of 1 and 2"
   ]
  },
  {
   "cell_type": "code",
   "execution_count": null,
   "metadata": {},
   "outputs": [],
   "source": [
    "rand(1:2:5, 10) # uniform random sequence of 1, 3, 5"
   ]
  },
  {
   "cell_type": "markdown",
   "metadata": {},
   "source": [
    "### `for` Loops Examples"
   ]
  },
  {
   "cell_type": "code",
   "execution_count": null,
   "metadata": {},
   "outputs": [],
   "source": [
    "for i in 0:4\n",
    "    println(i)\n",
    "end"
   ]
  },
  {
   "cell_type": "code",
   "execution_count": null,
   "metadata": {},
   "outputs": [],
   "source": [
    "for angle in 0:15:90\n",
    "    println(angle)\n",
    "end"
   ]
  },
  {
   "cell_type": "code",
   "execution_count": null,
   "metadata": {},
   "outputs": [],
   "source": [
    "# Making a mathematical table for sin using the sind function\n",
    "for angle in 0:15:90\n",
    "    x = sind(angle)\n",
    "    println(\"sin($angle\", \"°) = $x\")\n",
    "end"
   ]
  },
  {
   "cell_type": "code",
   "execution_count": null,
   "metadata": {},
   "outputs": [],
   "source": [
    "v = []\n",
    "for x in 1:10\n",
    "    push!(v, x^2-1)\n",
    "end\n",
    "v"
   ]
  },
  {
   "cell_type": "code",
   "execution_count": null,
   "metadata": {},
   "outputs": [],
   "source": [
    "# using comprehension instead\n",
    "v = [x^2-1 for x in 1:10]"
   ]
  },
  {
   "cell_type": "markdown",
   "metadata": {},
   "source": [
    "## Multiline Functions"
   ]
  },
  {
   "cell_type": "code",
   "execution_count": null,
   "metadata": {},
   "outputs": [],
   "source": [
    "function add(x,y)\n",
    "    x+y               # last expression value is returned\n",
    "end"
   ]
  },
  {
   "cell_type": "code",
   "execution_count": null,
   "metadata": {},
   "outputs": [],
   "source": [
    "add(2,3)"
   ]
  },
  {
   "cell_type": "code",
   "execution_count": null,
   "metadata": {},
   "outputs": [],
   "source": [
    "reduce(add, 1:5)"
   ]
  },
  {
   "cell_type": "code",
   "execution_count": null,
   "metadata": {},
   "outputs": [],
   "source": [
    "function x²(x)\n",
    "    x*x\n",
    "end"
   ]
  },
  {
   "cell_type": "code",
   "execution_count": null,
   "metadata": {},
   "outputs": [],
   "source": [
    "x²(10)"
   ]
  },
  {
   "cell_type": "code",
   "execution_count": null,
   "metadata": {},
   "outputs": [],
   "source": [
    "map(x², 1:10)"
   ]
  },
  {
   "cell_type": "code",
   "execution_count": null,
   "metadata": {},
   "outputs": [],
   "source": [
    "\"\"\"\n",
    "    Print sin function table from 0° to max_ange° in the increment of increment°\n",
    "\n",
    "\"\"\"\n",
    "function print_sin_table(increment, max_angle)\n",
    "    angle = 0\n",
    "    while angle <= max_angle\n",
    "        rad = deg2rad(angle)\n",
    "        x = sin(rad)\n",
    "        println(\"sin($angle\", \"°) = $x\")\n",
    "        angle = angle + increment\n",
    "    end\n",
    "end"
   ]
  },
  {
   "cell_type": "code",
   "execution_count": null,
   "metadata": {},
   "outputs": [],
   "source": [
    "print_sin_table(15, 90)"
   ]
  },
  {
   "attachments": {
    "image-3.png": {
     "image/png": "[encoded data removed]"
    },
    "image.png": {
     "image/png": "[encoded data removed]"
    }
   },
   "cell_type": "markdown",
   "metadata": {},
   "source": [
    "## Implemention of the sin function using the Taylor series.\n",
    "\n",
    "A popular method of calculating sine is called the Taylor series:\n",
    "\n",
    "   ![image.png](attachment:image.png) \n",
    "   \n",
    "or in more compact form\n",
    "\n",
    "   ![image-3.png](attachment:image-3.png)"
   ]
  },
  {
   "cell_type": "code",
   "execution_count": null,
   "metadata": {},
   "outputs": [],
   "source": [
    "\"\"\" \n",
    "    sine implements sin function using the Taylor series (compact form).\n",
    "    The default argument, n, is the number of terms used and \n",
    "    the keyword argument, degree, is a switch between degree and radian\n",
    "\n",
    "\"\"\"\n",
    "function sine(x, n = 5; degree = true)\n",
    "    total = 0\n",
    "    if degree \n",
    "        r = deg2rad(x) \n",
    "    else \n",
    "        r = x\n",
    "    end\n",
    "    for i in 0:n\n",
    "        total += (-1)^i*r^(2i+1)/factorial(big(2i + 1))\n",
    "    end\n",
    "    total\n",
    "end"
   ]
  },
  {
   "cell_type": "code",
   "execution_count": null,
   "metadata": {},
   "outputs": [],
   "source": [
    "sine(90)"
   ]
  },
  {
   "cell_type": "code",
   "execution_count": null,
   "metadata": {},
   "outputs": [],
   "source": [
    "sine(90, 10)"
   ]
  },
  {
   "cell_type": "code",
   "execution_count": null,
   "metadata": {},
   "outputs": [],
   "source": [
    "sine(degree = false, 0.5pi, 10)"
   ]
  },
  {
   "cell_type": "code",
   "execution_count": null,
   "metadata": {},
   "outputs": [],
   "source": [
    "# Making a mathematical table for the sine function\n",
    "for angle in 0:15:90\n",
    "    x = sine(angle)\n",
    "    println(\"sin($angle\", \"°) = $x\")\n",
    "end"
   ]
  },
  {
   "cell_type": "code",
   "execution_count": null,
   "metadata": {},
   "outputs": [],
   "source": [
    "# Making a mathematical table for the sine function- timing\n",
    "# 0.0001 increment took about 4 seconds\n",
    "@time \"sine timing\" begin\n",
    "    for angle in 0:0.0001:90\n",
    "        x = sine(angle)\n",
    "        # println(\"sin($angle\", \"°) = $x\")\n",
    "    end\n",
    "end"
   ]
  },
  {
   "cell_type": "code",
   "execution_count": null,
   "metadata": {},
   "outputs": [],
   "source": [
    "?@time"
   ]
  },
  {
   "cell_type": "markdown",
   "metadata": {},
   "source": [
    "### factorial function"
   ]
  },
  {
   "cell_type": "code",
   "execution_count": null,
   "metadata": {},
   "outputs": [],
   "source": [
    "# factorial function defined Julia-base (combinatorics.jl line 27) \n",
    "factorial(10)"
   ]
  },
  {
   "cell_type": "code",
   "execution_count": null,
   "metadata": {},
   "outputs": [],
   "source": [
    "# factorial of 10 to 15\n",
    "factorial.(1:15)"
   ]
  },
  {
   "cell_type": "code",
   "execution_count": null,
   "metadata": {},
   "outputs": [],
   "source": [
    "# factorial of 16 to 20\n",
    "factorial.(16:20)"
   ]
  },
  {
   "cell_type": "code",
   "execution_count": null,
   "metadata": {},
   "outputs": [],
   "source": [
    "# factorial of 21 is too big for Int64\n",
    "factorial(21)"
   ]
  },
  {
   "cell_type": "code",
   "execution_count": null,
   "metadata": {},
   "outputs": [],
   "source": [
    "println(\"factoria(21) = \", factorial(big(21)))\n",
    "println(\"factoria(20) = \", factorial(20))\n",
    "println(\"Int64 max =    \", typemax(Int64))"
   ]
  },
  {
   "cell_type": "code",
   "execution_count": null,
   "metadata": {},
   "outputs": [],
   "source": [
    "# Implement factorial using a recursive function\n",
    "function factorial_rec(n)\n",
    "    if n ≤ 1\n",
    "        return n\n",
    "    end\n",
    "        return n * factorial(n-1)\n",
    "end"
   ]
  },
  {
   "cell_type": "code",
   "execution_count": null,
   "metadata": {},
   "outputs": [],
   "source": [
    "factorial_rec(20)"
   ]
  },
  {
   "cell_type": "code",
   "execution_count": null,
   "metadata": {},
   "outputs": [],
   "source": [
    "factorial_rec(21) # why overflow?"
   ]
  },
  {
   "cell_type": "code",
   "execution_count": null,
   "metadata": {},
   "outputs": [],
   "source": [
    "factorial_rec(big(21))"
   ]
  },
  {
   "cell_type": "code",
   "execution_count": null,
   "metadata": {},
   "outputs": [],
   "source": [
    "factorial_rec(Int8(10))  # Why no Int8 overflow"
   ]
  },
  {
   "cell_type": "code",
   "execution_count": null,
   "metadata": {},
   "outputs": [],
   "source": [
    "typeof(factorial_rec(Int8(10)))"
   ]
  },
  {
   "cell_type": "code",
   "execution_count": null,
   "metadata": {},
   "outputs": [],
   "source": [
    "typeof(factorial_rec(Int8(1)))"
   ]
  },
  {
   "cell_type": "code",
   "execution_count": null,
   "metadata": {},
   "outputs": [],
   "source": [
    "typeof(Int8(2)*Int8(4))"
   ]
  },
  {
   "cell_type": "code",
   "execution_count": null,
   "metadata": {},
   "outputs": [],
   "source": [
    "t=Int16\n",
    "a = t(78)"
   ]
  },
  {
   "cell_type": "code",
   "execution_count": null,
   "metadata": {},
   "outputs": [],
   "source": [
    "typeof(a)"
   ]
  },
  {
   "cell_type": "markdown",
   "metadata": {},
   "source": [
    "### Fibonacci number\n",
    "\n",
    "Implemented using recursive function:"
   ]
  },
  {
   "cell_type": "code",
   "execution_count": null,
   "metadata": {},
   "outputs": [],
   "source": [
    "function fib(n)\n",
    "    if n ≤ 0\n",
    "        0\n",
    "    elseif n == 1\n",
    "        1\n",
    "    else\n",
    "        fib(n-1) + fib(n-2)\n",
    "    end\n",
    "end"
   ]
  },
  {
   "cell_type": "code",
   "execution_count": null,
   "metadata": {},
   "outputs": [],
   "source": [
    "fib(10)"
   ]
  },
  {
   "cell_type": "code",
   "execution_count": null,
   "metadata": {},
   "outputs": [],
   "source": [
    "fib(20)"
   ]
  },
  {
   "cell_type": "code",
   "execution_count": null,
   "metadata": {},
   "outputs": [],
   "source": [
    "fib(8.5)"
   ]
  },
  {
   "cell_type": "code",
   "execution_count": null,
   "metadata": {},
   "outputs": [],
   "source": [
    "fib(\"abc\")"
   ]
  },
  {
   "cell_type": "code",
   "execution_count": null,
   "metadata": {},
   "outputs": [],
   "source": []
  },
  {
   "cell_type": "markdown",
   "metadata": {},
   "source": [
    "### Fibonacci number\n",
    "\n",
    "Implemented using Matrix and vector multiplication"
   ]
  },
  {
   "cell_type": "code",
   "execution_count": null,
   "metadata": {},
   "outputs": [],
   "source": [
    "fib_1(n) = first([1 1;1 0]^(n-1)*[1,0])\n",
    "fib_2(n) = last( [1 1;1 0]^(n-1)*[1,1])"
   ]
  },
  {
   "cell_type": "code",
   "execution_count": null,
   "metadata": {},
   "outputs": [],
   "source": [
    "fib(40), fib_1(40), fib_2(40)"
   ]
  },
  {
   "cell_type": "code",
   "execution_count": null,
   "metadata": {},
   "outputs": [],
   "source": [
    "@time fib(45) # it took close to 6 seconds"
   ]
  },
  {
   "cell_type": "code",
   "execution_count": null,
   "metadata": {},
   "outputs": [],
   "source": [
    "@time fib_1(45)"
   ]
  },
  {
   "cell_type": "code",
   "execution_count": null,
   "metadata": {},
   "outputs": [],
   "source": [
    "@time fib_2(45)"
   ]
  },
  {
   "cell_type": "code",
   "execution_count": null,
   "metadata": {},
   "outputs": [],
   "source": [
    "@time fib(50)  # it took close to 65 seconds"
   ]
  },
  {
   "cell_type": "code",
   "execution_count": null,
   "metadata": {},
   "outputs": [],
   "source": [
    "@time fib_1(50)"
   ]
  },
  {
   "cell_type": "code",
   "execution_count": null,
   "metadata": {},
   "outputs": [],
   "source": [
    "@time fib_2(50)"
   ]
  },
  {
   "cell_type": "markdown",
   "metadata": {},
   "source": [
    "## Exception Handling\n",
    "When an unexpected condition occurs, a function may be unable to return a reasonable value to its caller. In such cases, it may be best for the exceptional condition to either terminate the program while printing a diagnostic error message, or if the programmer has provided code to handle such exceptional circumstancesthen allow that code to take the appropriate action.\n",
    "\n",
    "### Built-in Exceptions\n",
    "\n",
    "Exceptions are thrown when an unexpected condition has occurred. The built-in Exceptions listed below\n",
    "all interrupt the normal flow of control.\n",
    "For example, the sqrt function throws a DomainError if applied to a negative real value:"
   ]
  },
  {
   "cell_type": "code",
   "execution_count": null,
   "metadata": {},
   "outputs": [],
   "source": [
    "sqrt(-1)"
   ]
  },
  {
   "cell_type": "markdown",
   "metadata": {},
   "source": [
    "You may define your own exceptions in the following way:\n",
    "`struct MyCustomException <: Exception end`\n",
    "Julia allows exception handling through the use of a try-catch block. The block of code that can possibly throw an exception is placed in the try block and the catch block handles the exception thrown. The exception propagates through the call stack until a try-catch block is found. Let us consider the following code, Here we try to find the square root of -1 which throws “DomainError” and the program terminates. \n"
   ]
  },
  {
   "cell_type": "code",
   "execution_count": null,
   "metadata": {},
   "outputs": [],
   "source": [
    "println(\"Before Exception\")\n",
    "try\n",
    "    sqrt(-1)\n",
    "catch\n",
    "    println(\"Cannot find the square root of negative numbers\")\n",
    "end\n",
    "println(\"After Exception\")"
   ]
  },
  {
   "cell_type": "markdown",
   "metadata": {},
   "source": [
    "The try-catch block also allows the exception to be stored in a variable. The method of using the catch block to handle multiple types of Exception is called Canonical method. The following example calculates the square root of the third element of x if x is indexable, otherwise assumes x is a real number and returns its square root. "
   ]
  },
  {
   "cell_type": "code",
   "execution_count": null,
   "metadata": {},
   "outputs": [],
   "source": [
    "sqrt_third(x) = try\n",
    "        println(sqrt(x[3]))\n",
    "    catch y\n",
    "        if isa(y, DomainError)\n",
    "            println(sqrt(complex(x[3], 0)))\n",
    "        elseif isa(y, BoundsError)\n",
    "            println(sqrt(x))\n",
    "        end\n",
    "    end\n",
    " \n",
    " \n",
    "sqrt_third([1 9 16 25])\n",
    "sqrt_third([1 -4 9 16])\n",
    "sqrt_third(25)\n",
    "sqrt_third(-9)"
   ]
  },
  {
   "cell_type": "markdown",
   "metadata": {},
   "source": [
    "Use of Finally clause\n",
    "The finally block runs irrespective of the occurrence of an exception. Code inside the finally block can be used to close resources like opened files or other cleanup work. "
   ]
  },
  {
   "cell_type": "code",
   "execution_count": null,
   "metadata": {},
   "outputs": [],
   "source": [
    "try\n",
    "    f = open(\"file.txt\")\n",
    "catch\n",
    "    println(\"No such file exists\")\n",
    "finally\n",
    "    println(\"After exception\")\n",
    "end"
   ]
  },
  {
   "cell_type": "markdown",
   "metadata": {},
   "source": [
    "Throwing An Exception\n",
    "The throw() function can be used to throw custom exceptions. The following examples shows an error being thrown from a function and handled by the catch block. The error() function is used to produce an ErrorException. "
   ]
  },
  {
   "cell_type": "code",
   "execution_count": null,
   "metadata": {},
   "outputs": [],
   "source": [
    "function f(x)\n",
    "    if(x < 5)\n",
    "        throw(error())\n",
    "    end\n",
    "    return sqrt(x)\n",
    "end\n",
    " \n",
    "try\n",
    "    println(f(9))\n",
    "    println(f(1))\n",
    "catch e\n",
    "    println(\"Argument less than 5\")\n",
    "end"
   ]
  },
  {
   "cell_type": "markdown",
   "metadata": {},
   "source": [
    "Exceptions can also be thrown from the catch block. The catch block may include some code to handle the caught exception and then rethrow an exception. This exception must be handled by another try-catch block in the same method or any other method in the call stack. The exception propagates all throughout to the main function if it is left uncaught. "
   ]
  },
  {
   "cell_type": "code",
   "execution_count": null,
   "metadata": {},
   "outputs": [],
   "source": [
    "function f(x)\n",
    "    if(x < 5)\n",
    "        throw(error())\n",
    "    end\n",
    "    return sqrt(x)\n",
    "end\n",
    " \n",
    "try\n",
    "    println(f(9))\n",
    "    println(f(1))\n",
    "catch e\n",
    "    println(\"Argument less than 5\")\n",
    "    throw(error())\n",
    "end"
   ]
  },
  {
   "cell_type": "code",
   "execution_count": null,
   "metadata": {},
   "outputs": [],
   "source": [
    "function f(x)\n",
    "    if(x < 5)\n",
    "        throw(error())\n",
    "    end\n",
    "    return sqrt(x)\n",
    "end\n",
    " \n",
    "try\n",
    "    try\n",
    "        println(f(9))\n",
    "        println(f(1))\n",
    "    catch e\n",
    "        println(\"Argument less than 5\")\n",
    "        throw(error())\n",
    "    end\n",
    "catch e\n",
    "    println(\"Second catch block\")\n",
    "end"
   ]
  }
 ],
 "metadata": {
  "kernelspec": {
   "display_name": "Julia 1.9.0",
   "language": "julia",
   "name": "julia-1.9"
  },
  "language_info": {
   "file_extension": ".jl",
   "mimetype": "application/julia",
   "name": "julia",
   "version": "1.9.0"
  }
 },
 "nbformat": 4,
 "nbformat_minor": 4
}
