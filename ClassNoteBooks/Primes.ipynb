{
 "cells": [
  {
   "cell_type": "markdown",
   "metadata": {},
   "source": [
    "# Primes.jl\n",
    "\n",
    "This package provides functions for computing prime numbers in Julia.\n",
    "\n",
    "\n",
    "To install it, run\n",
    "\n",
    "`Pkg.add(\"Primes\")`\n",
    "    \n",
    "from the Julia REPL.\n",
    "\n",
    "**Source** https://github.com/JuliaMath/Primes.jl/blob/03e3c682d543ca7fef6f158bda4ece89779c03dc/src/Primes.jl#L134-L143"
   ]
  },
  {
   "cell_type": "code",
   "execution_count": null,
   "metadata": {},
   "outputs": [],
   "source": [
    "using Primes"
   ]
  },
  {
   "cell_type": "markdown",
   "metadata": {},
   "source": [
    "## Prime factorization\n",
    "\n",
    "`factor(n::Integer) -> Primes.Factorization`\n"
   ]
  },
  {
   "cell_type": "code",
   "execution_count": null,
   "metadata": {},
   "outputs": [],
   "source": [
    "factor(100)"
   ]
  },
  {
   "cell_type": "code",
   "execution_count": null,
   "metadata": {},
   "outputs": [],
   "source": [
    "collect(factor(100))"
   ]
  },
  {
   "cell_type": "code",
   "execution_count": null,
   "metadata": {},
   "outputs": [],
   "source": [
    "factor(Vector, 100)"
   ]
  },
  {
   "cell_type": "code",
   "execution_count": null,
   "metadata": {},
   "outputs": [],
   "source": [
    "factor(Set, 100)"
   ]
  },
  {
   "cell_type": "markdown",
   "metadata": {},
   "source": [
    "## Factor of large numers"
   ]
  },
  {
   "cell_type": "code",
   "execution_count": null,
   "metadata": {},
   "outputs": [],
   "source": [
    "factor(typemax(Int64)) # 2^63 - 1"
   ]
  },
  {
   "cell_type": "code",
   "execution_count": null,
   "metadata": {},
   "outputs": [],
   "source": [
    "factor(typemin(Int64)) # -2^63"
   ]
  },
  {
   "cell_type": "code",
   "execution_count": null,
   "metadata": {},
   "outputs": [],
   "source": [
    "2^63"
   ]
  },
  {
   "cell_type": "code",
   "execution_count": null,
   "metadata": {},
   "outputs": [],
   "source": [
    "big(2)^63"
   ]
  },
  {
   "cell_type": "code",
   "execution_count": null,
   "metadata": {},
   "outputs": [],
   "source": [
    "factor(34576892089123489876)"
   ]
  },
  {
   "cell_type": "markdown",
   "metadata": {},
   "source": [
    "## Primes.prodfactors — Function.\n",
    "\n",
    "`prodfactors(factors)`"
   ]
  },
  {
   "cell_type": "code",
   "execution_count": null,
   "metadata": {},
   "outputs": [],
   "source": [
    "prodfactors(factor(100))"
   ]
  },
  {
   "cell_type": "code",
   "execution_count": null,
   "metadata": {},
   "outputs": [],
   "source": [
    "reduce(*, factor(Vector, 100))"
   ]
  },
  {
   "cell_type": "code",
   "execution_count": null,
   "metadata": {},
   "outputs": [],
   "source": [
    "prodfactors(factor(34576892089123489876))"
   ]
  },
  {
   "cell_type": "markdown",
   "metadata": {},
   "source": [
    "## Generating prime numbers\n",
    "\n",
    "1. `primes([lo::Int,] hi::Int)`\n",
    "\n",
    "Returns a collection of the prime numbers (from lo, if specified) up to hi.\n",
    "\n",
    "2. `nextprime(n::Integer, i::Integer=1; interval::Integer=1)`\n",
    "\n",
    "The i-th smallest prime not less than n (in particular, nextprime(p) == p if p is prime).\n",
    "If i < 0, this is equivalent to prevprime(n, -i). Note that for n::BigInt, the returned number is only a pseudo-prime\n",
    "    (the function isprime is used internally).\n",
    "\n",
    "If interval is provided, primes are sought in increments of interval. This can be useful to ensure the presence of certain divisors in p-1. The range of possible values for interval is currently 1:typemax(Int).\n",
    "\n",
    "3. `prevprime(n::Integer, i::Integer=1; interval::Integer=1)`\n",
    "    \n",
    "    The i-th largest prime not greater than n (in particular prevprime(p) == p if p is prime). \n",
    "    If i < 0, this is equivalent to nextprime(n, -i). Note that for n::BigInt, \n",
    "    the returned number is only a pseudo-prime (the function isprime is used internally"
   ]
  },
  {
   "cell_type": "code",
   "execution_count": null,
   "metadata": {},
   "outputs": [],
   "source": [
    "primes(60)"
   ]
  },
  {
   "cell_type": "code",
   "execution_count": null,
   "metadata": {},
   "outputs": [],
   "source": [
    "primes(100_000)"
   ]
  },
  {
   "cell_type": "code",
   "execution_count": null,
   "metadata": {},
   "outputs": [],
   "source": [
    "length(primes(100_000))"
   ]
  },
  {
   "cell_type": "code",
   "execution_count": null,
   "metadata": {},
   "outputs": [],
   "source": [
    "nextprime(6, 1)"
   ]
  },
  {
   "cell_type": "code",
   "execution_count": null,
   "metadata": {},
   "outputs": [],
   "source": [
    "nextprime(7, 1)"
   ]
  },
  {
   "cell_type": "code",
   "execution_count": null,
   "metadata": {},
   "outputs": [],
   "source": [
    "nextprime(8,1), nextprime(8,2), nextprime(8,3) "
   ]
  },
  {
   "cell_type": "code",
   "execution_count": null,
   "metadata": {},
   "outputs": [],
   "source": [
    "nextprime(8, 1; interval=1)"
   ]
  },
  {
   "cell_type": "code",
   "execution_count": null,
   "metadata": {},
   "outputs": [],
   "source": [
    "nextprime(4; interval=3)"
   ]
  },
  {
   "cell_type": "code",
   "execution_count": null,
   "metadata": {},
   "outputs": [],
   "source": [
    "x = 2^10+1"
   ]
  },
  {
   "cell_type": "code",
   "execution_count": null,
   "metadata": {},
   "outputs": [],
   "source": [
    "nextprime(x)"
   ]
  },
  {
   "cell_type": "code",
   "execution_count": null,
   "metadata": {},
   "outputs": [],
   "source": [
    "nextprime(x; interval=1024)"
   ]
  },
  {
   "cell_type": "code",
   "execution_count": null,
   "metadata": {},
   "outputs": [],
   "source": [
    "primes(big(2)^64, big(2)^65)"
   ]
  },
  {
   "cell_type": "markdown",
   "metadata": {},
   "source": [
    "## Identifying prime numbers\n",
    "\n",
    "1. `isprime(x::Integer) -> Bool`\n",
    "\n",
    "2. `isprime(x::BigInt, [reps = 25]) -> Bool`\n",
    "\n",
    "\n",
    "Probabilistic primality test. Returns true if x is prime with high probability (pseudoprime);\n",
    "and false if x is composite (not prime). \n",
    "\n",
    "The false positive rate is about 0.25^reps; reps = 25 is considered safe for cryptographic applications \n",
    "(Knuth, Seminumerical Algorithms).\n",
    "\n",
    "3. `ismersenneprime(M::Integer; [check::Bool = true]) -> Bool`\n",
    "\n",
    "Lucas-Lehmer deterministic test for Mersenne primes. M must be a Mersenne number, i.e. of the form M = 2^p - 1, where p is a prime number. Use the keyword argument check to enable/disable checking whether M is a valid Mersenne number; to be used with caution. Return true if the given Mersenne number is prime, and false otherwise.\n",
    "\n",
    "4. `primesmask([lo,] hi)`\n",
    "\n",
    "Returns a prime sieve, as a BitArray, of the positive integers (from lo, if specified) up to hi. Useful when working with either primes or composite numbers."
   ]
  },
  {
   "cell_type": "code",
   "execution_count": null,
   "metadata": {},
   "outputs": [],
   "source": [
    "isprime(99989)"
   ]
  },
  {
   "cell_type": "code",
   "execution_count": null,
   "metadata": {},
   "outputs": [],
   "source": [
    "ismersenneprime(2^41 - 1)"
   ]
  },
  {
   "cell_type": "code",
   "execution_count": null,
   "metadata": {},
   "outputs": [],
   "source": [
    "for p in primes(100)\n",
    "    if ismersenneprime(big(2)^p - 1)\n",
    "        println(\"2^$p-1 is prime.\")\n",
    "    else\n",
    "        println(\"2^$p-1 is not.\")\n",
    "    end\n",
    "end"
   ]
  },
  {
   "cell_type": "code",
   "execution_count": null,
   "metadata": {},
   "outputs": [],
   "source": [
    "x = big(2)^89 -1"
   ]
  },
  {
   "cell_type": "code",
   "execution_count": null,
   "metadata": {},
   "outputs": [],
   "source": [
    "isprime(x)"
   ]
  },
  {
   "cell_type": "code",
   "execution_count": null,
   "metadata": {},
   "outputs": [],
   "source": [
    "y = big(2)^91 -1"
   ]
  },
  {
   "cell_type": "code",
   "execution_count": null,
   "metadata": {},
   "outputs": [],
   "source": [
    "isprime(y)"
   ]
  },
  {
   "cell_type": "code",
   "execution_count": null,
   "metadata": {},
   "outputs": [],
   "source": [
    "factor(y)"
   ]
  },
  {
   "cell_type": "markdown",
   "metadata": {},
   "source": [
    "## Number-theoretic functions\n",
    "\n",
    "1. `radical(n::Integer)`\n",
    "\n",
    "Compute the radical of n, i.e. the largest square-free divisor of n. This is equal to the product of the distinct prime numbers dividing n.\n",
    "\n",
    "2. Compute the Euler totient function ϕ(n)\n",
    ", which counts the number of positive integers less than or equal to n\n",
    " that are relatively prime to n\n",
    " (that is, the number of positive integers m ≤ n with gcd(m, n) == 1). The totient function of n when n is negative is defined to be totient(abs(n)).\n",
    " \n",
    " **Reference** https://en.wikipedia.org/wiki/Euler%27s_totient_function#:~:text=A%20totient%20number%20is%20a,is%20not%20a%20totient%20number.\n",
    "\n",
    "2.1 `totient(f::Factorization{T}) -> T`\n",
    "\n",
    "Compute the Euler totient function of the number whose prime factorization is given by f. This method may be preferable to totient(::Integer) when the factorization can be reused for other purposes.\n",
    "\n",
    "2.2 `totient(n::Integer) -> Integer`\n"
   ]
  },
  {
   "cell_type": "code",
   "execution_count": null,
   "metadata": {},
   "outputs": [],
   "source": [
    "radical(2³ * 3⁴ * 5) # = 2 * 3 * 5"
   ]
  },
  {
   "cell_type": "code",
   "execution_count": null,
   "metadata": {},
   "outputs": [],
   "source": [
    "totient(30)"
   ]
  },
  {
   "cell_type": "code",
   "execution_count": null,
   "metadata": {},
   "outputs": [],
   "source": [
    "# Find all positive number n ≤ 30 and n is relatively prime to m\n",
    "for n in 1:30\n",
    "    if gcd(n, 30) == 1\n",
    "        println(n)\n",
    "    end\n",
    "end"
   ]
  },
  {
   "cell_type": "code",
   "execution_count": null,
   "metadata": {},
   "outputs": [],
   "source": [
    "# Find all positive number n ≤ 30 and n is relatively prime to m\n",
    "function totient!(t::Vector{Int}, m::Int)\n",
    "    if m < 0 m = -m end\n",
    "    for n in 1:m\n",
    "        if gcd(n, 30) == 1\n",
    "            push!(t,n)\n",
    "        end\n",
    "    end\n",
    "end"
   ]
  },
  {
   "cell_type": "code",
   "execution_count": null,
   "metadata": {},
   "outputs": [],
   "source": [
    "t = Vector{Int}([])"
   ]
  },
  {
   "cell_type": "code",
   "execution_count": null,
   "metadata": {},
   "outputs": [],
   "source": [
    "typeof(t)"
   ]
  },
  {
   "cell_type": "code",
   "execution_count": null,
   "metadata": {},
   "outputs": [],
   "source": [
    "totient!(t, 30)"
   ]
  },
  {
   "cell_type": "code",
   "execution_count": null,
   "metadata": {},
   "outputs": [],
   "source": [
    "t"
   ]
  },
  {
   "cell_type": "code",
   "execution_count": null,
   "metadata": {},
   "outputs": [],
   "source": [
    "for n in t, m in t\n",
    "    k = (n * m) % 30\n",
    "    println(\"$n * $m = $k (mod 30) \")\n",
    "end"
   ]
  },
  {
   "cell_type": "code",
   "execution_count": null,
   "metadata": {},
   "outputs": [],
   "source": [
    "totient(17)"
   ]
  },
  {
   "cell_type": "markdown",
   "metadata": {},
   "source": [
    "## Solving the following mod equation\n",
    "\n",
    "    For any two positive numbers n and m, n ≤ m, find a positive integer k ≤ m such that\n",
    "    \n",
    "         n * k == 1 (mod m)\n",
    "         \n",
    "    Note: There is one or no soutioon for any n and m."
   ]
  },
  {
   "cell_type": "code",
   "execution_count": null,
   "metadata": {},
   "outputs": [],
   "source": [
    "# Exercise: Write a Julia script to solve the mod equation"
   ]
  }
 ],
 "metadata": {
  "kernelspec": {
   "display_name": "Julia 1.9.0",
   "language": "julia",
   "name": "julia-1.9"
  },
  "language_info": {
   "file_extension": ".jl",
   "mimetype": "application/julia",
   "name": "julia",
   "version": "1.9.0"
  }
 },
 "nbformat": 4,
 "nbformat_minor": 4
}
