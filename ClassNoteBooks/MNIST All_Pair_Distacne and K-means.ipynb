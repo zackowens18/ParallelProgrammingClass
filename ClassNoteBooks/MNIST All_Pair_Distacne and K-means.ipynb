{
 "cells": [
  {
   "cell_type": "markdown",
   "metadata": {},
   "source": [
    "\n"
   ]
  },
  {
   "cell_type": "markdown",
   "metadata": {},
   "source": [
    "# MNIST all_pairs_distance matrix and K-means clustering\n",
    "\n",
    "Datasets used in this notebook:\n",
    "\n",
    "\n",
    "1. X2.bin (binary Float32, 219,520,000 bytes)\n",
    "\n",
    "    70,000 digit (gray) images stored sequentially and each digit image is stored in 28x28 Float32s (in little endian), top-down and row-by-row. \n",
    "\n",
    "\n",
    "2. Y2_int8.bin (binary Int8, 70,000 bytes)\n",
    "\n",
    "    70,000 Int8 labels of the corresponding digit images.\n",
    "    "
   ]
  },
  {
   "cell_type": "markdown",
   "metadata": {},
   "source": [
    "## Read MNIST binary digit image: X2.bin \n",
    "\n",
    "X2.bin (219,520,000 bytes)\n",
    "\n",
    "70,000 digit (gray) images stored sequentially and each digit image is stored in 28x28 Float32s (in little endian), top-down and row-by-row. Each gray value is between 0 and 1."
   ]
  },
  {
   "cell_type": "code",
   "execution_count": null,
   "metadata": {},
   "outputs": [],
   "source": [
    "using Images, Colors"
   ]
  },
  {
   "cell_type": "code",
   "execution_count": null,
   "metadata": {},
   "outputs": [],
   "source": [
    "pwd()"
   ]
  },
  {
   "cell_type": "code",
   "execution_count": null,
   "metadata": {},
   "outputs": [],
   "source": [
    "cd(\"MNIST\")"
   ]
  },
  {
   "cell_type": "code",
   "execution_count": null,
   "metadata": {},
   "outputs": [],
   "source": [
    "readdir()"
   ]
  },
  {
   "cell_type": "code",
   "execution_count": null,
   "metadata": {},
   "outputs": [],
   "source": [
    "# requires 219,520,000 bytes to store 70,000 digit images\n",
    "digits = Array{Float32, 2}(undef, 28*28, 70_000) \n",
    "read!(\"X2.bin\", digits);"
   ]
  },
  {
   "cell_type": "markdown",
   "metadata": {},
   "source": [
    "## Display digit images"
   ]
  },
  {
   "cell_type": "code",
   "execution_count": null,
   "metadata": {},
   "outputs": [],
   "source": [
    "digit = reshape(digits[:, 34], 28, 28);"
   ]
  },
  {
   "cell_type": "code",
   "execution_count": null,
   "metadata": {},
   "outputs": [],
   "source": [
    "typeof(digit), size(digit)"
   ]
  },
  {
   "cell_type": "code",
   "execution_count": null,
   "metadata": {
    "scrolled": true
   },
   "outputs": [],
   "source": [
    "digit = Matrix{Gray{N0f8}}(digit)"
   ]
  },
  {
   "cell_type": "code",
   "execution_count": null,
   "metadata": {},
   "outputs": [],
   "source": [
    "digit'"
   ]
  },
  {
   "cell_type": "code",
   "execution_count": null,
   "metadata": {},
   "outputs": [],
   "source": [
    "Matrix{Gray{N0f8}}(reshape(digits[:, 100], 28, 28))'"
   ]
  },
  {
   "cell_type": "markdown",
   "metadata": {},
   "source": [
    "## Read MNIST binary labels : Y2_int8.bin"
   ]
  },
  {
   "cell_type": "code",
   "execution_count": null,
   "metadata": {},
   "outputs": [],
   "source": [
    "labels = Vector{Int8}(undef, 70_000) # requires 70,000 bytes\n",
    "read!(\"Y2_int8.bin\", labels);"
   ]
  },
  {
   "cell_type": "code",
   "execution_count": null,
   "metadata": {},
   "outputs": [],
   "source": [
    "findall(==(9), labels[1:200]);"
   ]
  },
  {
   "cell_type": "markdown",
   "metadata": {},
   "source": [
    "## Plot histrogram of digit ditribution"
   ]
  },
  {
   "cell_type": "code",
   "execution_count": null,
   "metadata": {},
   "outputs": [],
   "source": [
    "using Plots"
   ]
  },
  {
   "cell_type": "code",
   "execution_count": null,
   "metadata": {},
   "outputs": [],
   "source": [
    "histogram(labels, label=\"digits\", bins=11, color=:gray)\n",
    "xlabel!(\"digit\")"
   ]
  },
  {
   "cell_type": "code",
   "execution_count": null,
   "metadata": {},
   "outputs": [],
   "source": [
    "histogram(labels, label=\"digits\", bins=11, normalize=true, color=:gray)"
   ]
  },
  {
   "cell_type": "code",
   "execution_count": null,
   "metadata": {},
   "outputs": [],
   "source": [
    "labels_digits = []\n",
    "for i in 0:9 \n",
    "    push!(labels_digits, Vector{Int32}(findall(==(i), labels)))\n",
    "end"
   ]
  },
  {
   "cell_type": "code",
   "execution_count": null,
   "metadata": {},
   "outputs": [],
   "source": [
    "sum(length.(labels_digits))"
   ]
  },
  {
   "cell_type": "code",
   "execution_count": null,
   "metadata": {},
   "outputs": [],
   "source": []
  },
  {
   "cell_type": "markdown",
   "metadata": {},
   "source": [
    "# Compute all-pairs distance matrix of MNIST images\n"
   ]
  },
  {
   "cell_type": "code",
   "execution_count": null,
   "metadata": {},
   "outputs": [],
   "source": [
    "# Define distance function of two float32 vector of size len\n",
    "function dist(x, y, len)\n",
    "    \n",
    "    acc = zero(Float32)\n",
    "    @simd for i in 1:len\n",
    "        residue = x[i] - y[i]\n",
    "        acc += residue * residue\n",
    "    end\n",
    "    \n",
    "    return acc\n",
    "end"
   ]
  },
  {
   "cell_type": "code",
   "execution_count": null,
   "metadata": {},
   "outputs": [],
   "source": [
    "\"\"\"\n",
    "    compute all_pair_distance matrix of ndigit's MNIST digits images   \n",
    "    all_pairs_dist(ndigits)\n",
    "\n",
    "\"\"\"\n",
    "function all_pairs_dist(ndigit, len)\n",
    "    \n",
    "    distMat = Matrix{Float32}(undef, ndigit, ndigit)\n",
    "\n",
    "    for i in 1:ndigit\n",
    "        for j in i:ndigit\n",
    "            distMat[i, j] = dist(digits[:,i], digits[:,j], len)\n",
    "            distMat[j, i] = distMat[i, j]\n",
    "        end\n",
    "    end\n",
    "    \n",
    "    return distMat\n",
    "end"
   ]
  },
  {
   "cell_type": "markdown",
   "metadata": {},
   "source": [
    "# k-means clustering of N MNIST images using distM distance matrix\n"
   ]
  },
  {
   "cell_type": "markdown",
   "metadata": {},
   "source": [
    "## Clusters Initialization functions"
   ]
  },
  {
   "cell_type": "code",
   "execution_count": null,
   "metadata": {},
   "outputs": [],
   "source": [
    "\"\"\"\n",
    "    Random initial clusters allocation\n",
    "\n",
    "\"\"\"\n",
    "rand_cluster(n_cluster, n_obj) = Vector{Int8}([rand(1:n_cluster) \n",
    "                                              for i in 1:n_obj])"
   ]
  },
  {
   "cell_type": "code",
   "execution_count": null,
   "metadata": {},
   "outputs": [],
   "source": [
    "rand_cluster(10, 50);"
   ]
  },
  {
   "cell_type": "code",
   "execution_count": null,
   "metadata": {},
   "outputs": [],
   "source": []
  },
  {
   "cell_type": "code",
   "execution_count": null,
   "metadata": {},
   "outputs": [],
   "source": [
    "\"\"\"\n",
    "    Even initial clusters allocation\n",
    "\n",
    "\"\"\"\n",
    "function even_cluster(n_cluster, n_obj)\n",
    "    cluster = Vector{Int8}(undef, n_obj)\n",
    "    n_per_cluster = n_obj ÷ n_cluster # integer division\n",
    "    for i in 1:n_cluster\n",
    "        start = (i-1) * n_per_cluster + 1\n",
    "        fin = start + n_per_cluster - 1\n",
    "        for j in start:fin\n",
    "            cluster[j] = i\n",
    "        end\n",
    "    end\n",
    "    # adjust the last cluster\n",
    "    start = n_cluster * n_per_cluster+1\n",
    "    if n_obj ≥ start\n",
    "        for i in start:n_obj\n",
    "            cluster[i] = i-start+1\n",
    "        end\n",
    "    end\n",
    "    return cluster\n",
    "end"
   ]
  },
  {
   "cell_type": "code",
   "execution_count": null,
   "metadata": {},
   "outputs": [],
   "source": [
    "even_cluster(5, 22)"
   ]
  },
  {
   "cell_type": "code",
   "execution_count": null,
   "metadata": {},
   "outputs": [],
   "source": [
    "\"\"\"\n",
    "    Initial clusters allocation using given labels\n",
    "\n",
    "\"\"\"\n",
    "function label_cluster(n_cluster, n_obj)\n",
    "    \n",
    "    cluster = Vector{Int8}(undef, n_obj)\n",
    "    \n",
    "    for obj in 1:n_obj\n",
    "        cluster[obj] =labels[obj]+1\n",
    "    end\n",
    "    \n",
    "    return cluster\n",
    "end"
   ]
  },
  {
   "cell_type": "markdown",
   "metadata": {},
   "source": [
    "## Clusters Initialization functions test"
   ]
  },
  {
   "cell_type": "code",
   "execution_count": null,
   "metadata": {},
   "outputs": [],
   "source": []
  },
  {
   "cell_type": "markdown",
   "metadata": {},
   "source": [
    "# K-means functions"
   ]
  },
  {
   "cell_type": "code",
   "execution_count": null,
   "metadata": {},
   "outputs": [],
   "source": [
    "\"\"\"\n",
    "    K-means clustering\n",
    "    k-means!(niter, n_cluster, n_obj, cluster, dist)\n",
    "        n_cluster is number of clusters\n",
    "        n_obj is the number of objects to be clustered\n",
    "        cluster is of Vector{Int8}(n_obj)\n",
    "        dist is a Matrix{Float32}(n_obj, n_obj) : \n",
    "            distance function between any two objects\n",
    "\n",
    "\"\"\"\n",
    "function  k_means!(niter, n_cluster, n_obj, cluster, dist)\n",
    "    \n",
    "    mean_vec = Vector{Float32}(undef, n_cluster)\n",
    "    cluster_new = Vector{Int8}(undef, n_obj) \n",
    "\n",
    "    for n in 1:niter\n",
    "        \n",
    "       # for each object find the closest cluster \n",
    "       for obj in 1:n_obj     \n",
    "            for i in 1:n_cluster\n",
    "                v = findall(==(i), cluster)\n",
    "                le = length(v)\n",
    "                mean_vec[i] = 10000f0 # typemax(Float32)  \n",
    "                if le > 0 # make i-cluster is not empty\n",
    "                    mean_vec[i] = mean([dist[obj,v[j]] for j in 1:le])\n",
    "                end  \n",
    "            end\n",
    "\n",
    "            # set obj's new cluster index\n",
    "            cluster_new[obj] = findmin(mean_vec)[2] \n",
    "        end\n",
    "        \n",
    "        # Update cluster\n",
    "        if  cluster == cluster_new return n\n",
    "        end\n",
    "        \n",
    "        for obj in 1:n_obj\n",
    "            cluster[obj] = cluster_new[obj]\n",
    "        end       \n",
    "    end\n",
    "    return 0\n",
    "end"
   ]
  },
  {
   "cell_type": "code",
   "execution_count": null,
   "metadata": {},
   "outputs": [],
   "source": []
  },
  {
   "cell_type": "markdown",
   "metadata": {},
   "source": [
    "# Simple K means clustering tests"
   ]
  },
  {
   "cell_type": "markdown",
   "metadata": {},
   "source": [
    "## Simple test 1"
   ]
  },
  {
   "cell_type": "code",
   "execution_count": null,
   "metadata": {},
   "outputs": [],
   "source": [
    "N = 8\n",
    "ncluster = 4\n",
    "distM = Matrix{Float32}(fill(100f0, 8, 8));"
   ]
  },
  {
   "cell_type": "code",
   "execution_count": null,
   "metadata": {},
   "outputs": [],
   "source": [
    "for i in 1:N\n",
    "    distM[i,i] = 0\n",
    "end\n",
    "\n",
    "for i in 1:4\n",
    "    for j in 1:4\n",
    "        if i != j distM[i,j] = 1 end\n",
    "    end\n",
    "end\n",
    "\n",
    "for i in 5:7\n",
    "    for j in 5:7\n",
    "        if i != j distM[i,j] = 1 end\n",
    "    end\n",
    "end\n"
   ]
  },
  {
   "cell_type": "code",
   "execution_count": null,
   "metadata": {},
   "outputs": [],
   "source": [
    "cluster = [1,2,1,3,2,3,4,4];"
   ]
  },
  {
   "cell_type": "code",
   "execution_count": null,
   "metadata": {},
   "outputs": [],
   "source": [
    "k_means!(10, ncluster, N, cluster, distM)"
   ]
  },
  {
   "cell_type": "code",
   "execution_count": null,
   "metadata": {},
   "outputs": [],
   "source": [
    "findall(==(1), cluster)"
   ]
  },
  {
   "cell_type": "code",
   "execution_count": null,
   "metadata": {},
   "outputs": [],
   "source": [
    "findall(==(2), cluster)"
   ]
  },
  {
   "cell_type": "code",
   "execution_count": null,
   "metadata": {},
   "outputs": [],
   "source": [
    "findall(==(3), cluster)"
   ]
  },
  {
   "cell_type": "code",
   "execution_count": null,
   "metadata": {},
   "outputs": [],
   "source": [
    "findall(==(4), cluster)"
   ]
  },
  {
   "cell_type": "markdown",
   "metadata": {},
   "source": [
    "## Simple test 2"
   ]
  },
  {
   "cell_type": "code",
   "execution_count": null,
   "metadata": {},
   "outputs": [],
   "source": [
    "N = 8\n",
    "ncluster = 3\n",
    "distM = distM = Matrix{Float32}(fill(100f0, N, N));"
   ]
  },
  {
   "cell_type": "code",
   "execution_count": null,
   "metadata": {},
   "outputs": [],
   "source": [
    "for i in 1:N\n",
    "    distM[i,i] = 0\n",
    "end\n",
    "\n",
    "for i in 1:4\n",
    "    for j in 1:4\n",
    "        if i != j distM[i,j] = 1 end\n",
    "    end\n",
    "end\n",
    "\n",
    "for i in 5:7\n",
    "    for j in 5:7\n",
    "        if i != j distM[i,j] = 1 end\n",
    "    end\n",
    "end\n"
   ]
  },
  {
   "cell_type": "code",
   "execution_count": null,
   "metadata": {},
   "outputs": [],
   "source": [
    "# cluster = [2,2,3,1,1,2,3,1];\n",
    "cluster = Vector{Int8}([rand(1:ncluster) \n",
    "                    for i in 1:N])"
   ]
  },
  {
   "cell_type": "code",
   "execution_count": null,
   "metadata": {},
   "outputs": [],
   "source": [
    "k_means!(10, ncluster, N, cluster, distM)"
   ]
  },
  {
   "cell_type": "code",
   "execution_count": null,
   "metadata": {},
   "outputs": [],
   "source": [
    "findall(==(1), cluster)"
   ]
  },
  {
   "cell_type": "code",
   "execution_count": null,
   "metadata": {},
   "outputs": [],
   "source": [
    "findall(==(2), cluster)"
   ]
  },
  {
   "cell_type": "code",
   "execution_count": null,
   "metadata": {},
   "outputs": [],
   "source": [
    "findall(==(3), cluster)"
   ]
  },
  {
   "cell_type": "markdown",
   "metadata": {},
   "source": [
    "# K means clustering tests using MNIST Dataset"
   ]
  },
  {
   "cell_type": "code",
   "execution_count": null,
   "metadata": {},
   "outputs": [],
   "source": [
    "using Statistics"
   ]
  },
  {
   "cell_type": "code",
   "execution_count": null,
   "metadata": {},
   "outputs": [],
   "source": [
    "len = 28 * 28\n",
    "N = 200\n",
    "ncluster = 10"
   ]
  },
  {
   "cell_type": "code",
   "execution_count": null,
   "metadata": {},
   "outputs": [],
   "source": [
    "@time \"$N digits time:\" distM = all_pairs_dist(N, len);"
   ]
  },
  {
   "cell_type": "code",
   "execution_count": null,
   "metadata": {},
   "outputs": [],
   "source": [
    "sum([distM[i,j] for i in 1:N for j in i:N])"
   ]
  },
  {
   "cell_type": "code",
   "execution_count": null,
   "metadata": {},
   "outputs": [],
   "source": [
    "𝛍 = Vector{Float32}(undef, ncluster);"
   ]
  },
  {
   "cell_type": "code",
   "execution_count": null,
   "metadata": {},
   "outputs": [],
   "source": [
    "cluster = rand_cluster(ncluster, N);\n",
    "# cluster = label_cluster(ncluster, N);\n",
    "#cluster = even_cluster(ncluster, N);"
   ]
  },
  {
   "cell_type": "code",
   "execution_count": null,
   "metadata": {},
   "outputs": [],
   "source": [
    "for i in 1:ncluster\n",
    "    print(length(findall(==(i), cluster)))\n",
    "    print(\" \")\n",
    "end"
   ]
  },
  {
   "cell_type": "code",
   "execution_count": null,
   "metadata": {},
   "outputs": [],
   "source": [
    "for i in 1:ncluster\n",
    "    v = findall(==(i), cluster)\n",
    "    le = length(v)\n",
    "    if le > 0\n",
    "        𝛍[i] = mean([distM[v[j],v[k]] for j in 1:le for k in j:le])\n",
    "    else  \n",
    "        𝛍[i] = 0\n",
    "    end\n",
    "end"
   ]
  },
  {
   "cell_type": "code",
   "execution_count": null,
   "metadata": {},
   "outputs": [],
   "source": [
    "sum(𝛍), mean(𝛍)"
   ]
  },
  {
   "cell_type": "code",
   "execution_count": null,
   "metadata": {},
   "outputs": [],
   "source": [
    "@time k_means!(100, ncluster, N, cluster, distM)"
   ]
  },
  {
   "cell_type": "code",
   "execution_count": null,
   "metadata": {},
   "outputs": [],
   "source": [
    "for i in 1:ncluster\n",
    "    print(length(findall(==(i), cluster)))\n",
    "    print(\" \")\n",
    "end"
   ]
  },
  {
   "cell_type": "code",
   "execution_count": null,
   "metadata": {},
   "outputs": [],
   "source": [
    "for i in 1:ncluster\n",
    "    v = findall(==(i), cluster)\n",
    "    le = length(v)\n",
    "    if le > 0\n",
    "        𝛍[i] = mean([distM[v[j],v[k]] for j in 1:le for k in j:le])\n",
    "    else  \n",
    "        𝛍[i] = 0\n",
    "    end\n",
    "end"
   ]
  },
  {
   "cell_type": "code",
   "execution_count": null,
   "metadata": {},
   "outputs": [],
   "source": [
    "sum(𝛍), mean(𝛍)"
   ]
  },
  {
   "cell_type": "code",
   "execution_count": null,
   "metadata": {
    "scrolled": true
   },
   "outputs": [],
   "source": [
    "@time k_means!(10, ncluster, N, cluster, distM)"
   ]
  },
  {
   "cell_type": "code",
   "execution_count": null,
   "metadata": {},
   "outputs": [],
   "source": [
    "for i in 1:ncluster\n",
    "    println(length(findall(==(i), cluster)))\n",
    "end"
   ]
  },
  {
   "cell_type": "code",
   "execution_count": null,
   "metadata": {},
   "outputs": [],
   "source": [
    "s = 0\n",
    "for i in 1:ncluster\n",
    "    s += length(findall(==(i), cluster))\n",
    "end\n",
    "s"
   ]
  },
  {
   "cell_type": "code",
   "execution_count": null,
   "metadata": {},
   "outputs": [],
   "source": [
    "for i in 1:ncluster\n",
    "    v = findall(==(i), cluster)\n",
    "    le = length(v)\n",
    "    if le > 0\n",
    "        𝛍[i] = mean([distM[v[j],v[k]] for j in 1:le for k in j:le])\n",
    "    else  \n",
    "        𝛍[i] = 0\n",
    "    end\n",
    "end"
   ]
  },
  {
   "cell_type": "code",
   "execution_count": null,
   "metadata": {},
   "outputs": [],
   "source": [
    "sum(𝛍), mean(𝛍)"
   ]
  },
  {
   "cell_type": "code",
   "execution_count": null,
   "metadata": {},
   "outputs": [],
   "source": [
    "@time k_means!(100, ncluster, N, cluster, distM)"
   ]
  },
  {
   "cell_type": "code",
   "execution_count": null,
   "metadata": {},
   "outputs": [],
   "source": [
    "for i in 1:ncluster\n",
    "    println(length(findall(==(i), cluster)))\n",
    "end"
   ]
  },
  {
   "cell_type": "code",
   "execution_count": null,
   "metadata": {},
   "outputs": [],
   "source": [
    "for i in 1:ncluster\n",
    "    v = findall(==(i), cluster)\n",
    "    le = length(v)\n",
    "    if le > 0\n",
    "        𝛍[i] = mean([distM[v[j],v[k]] for j in 1:le for k in j:le])\n",
    "    else  \n",
    "        𝛍[i] = 0\n",
    "    end\n",
    "end"
   ]
  },
  {
   "cell_type": "code",
   "execution_count": null,
   "metadata": {},
   "outputs": [],
   "source": [
    "sum(𝛍), mean(𝛍)"
   ]
  },
  {
   "cell_type": "code",
   "execution_count": null,
   "metadata": {},
   "outputs": [],
   "source": [
    "@time k_means!(100, ncluster, N, cluster, distM)"
   ]
  },
  {
   "cell_type": "code",
   "execution_count": null,
   "metadata": {},
   "outputs": [],
   "source": [
    "for i in 1:ncluster\n",
    "    println(length(findall(==(i), cluster)))\n",
    "end"
   ]
  },
  {
   "cell_type": "markdown",
   "metadata": {},
   "source": [
    "# Parallel computation of all-pairs distance matrix"
   ]
  },
  {
   "cell_type": "code",
   "execution_count": null,
   "metadata": {},
   "outputs": [],
   "source": [
    "len = 28 * 28\n",
    "N = 3000\n",
    "@time \"$N digits time:\" distM = all_pairs_dist(N, len);"
   ]
  },
  {
   "cell_type": "code",
   "execution_count": null,
   "metadata": {},
   "outputs": [],
   "source": [
    "using Base.Threads"
   ]
  },
  {
   "cell_type": "code",
   "execution_count": null,
   "metadata": {},
   "outputs": [],
   "source": [
    "function all_pairs_dist_threads(ndigit, len)\n",
    "    \n",
    "    distMat = Matrix{Float32}(undef, ndigit, ndigit)\n",
    "\n",
    "    @threads for i in 1:ndigit\n",
    "        for j in i:ndigit\n",
    "            distMat[i, j] = dist(digits[:,i], digits[:,j], len)\n",
    "            distMat[j, i] = distMat[i, j]\n",
    "        end\n",
    "    end\n",
    "    \n",
    "    return distMat\n",
    "end"
   ]
  },
  {
   "cell_type": "code",
   "execution_count": null,
   "metadata": {},
   "outputs": [],
   "source": [
    "len = 28 * 28\n",
    "N = 3000\n",
    "@time \"$N digits time:\" distM2 = all_pairs_dist_threads(N, len);"
   ]
  },
  {
   "cell_type": "code",
   "execution_count": null,
   "metadata": {},
   "outputs": [],
   "source": [
    "distM == distM2"
   ]
  },
  {
   "cell_type": "code",
   "execution_count": null,
   "metadata": {},
   "outputs": [],
   "source": []
  },
  {
   "cell_type": "markdown",
   "metadata": {},
   "source": [
    "## Computation of all-pairs distance matrix is very computation intensive !!\n",
    "\n",
    "The computational complexity is O(N² X len)."
   ]
  },
  {
   "cell_type": "code",
   "execution_count": null,
   "metadata": {},
   "outputs": [],
   "source": [
    "# This distM requires about 19GB memory space and takes more than 136 mins \n",
    "# to compute\n",
    "N = 70_000\n",
    "len = 28*28\n",
    "@time \"$N digits time:\" distM = all_pairs_dist(N, len);"
   ]
  }
 ],
 "metadata": {
  "kernelspec": {
   "display_name": "Julia 6 Threads 1.9.0",
   "language": "julia",
   "name": "julia-6-threads-1.9"
  },
  "language_info": {
   "file_extension": ".jl",
   "mimetype": "application/julia",
   "name": "julia",
   "version": "1.9.0"
  }
 },
 "nbformat": 4,
 "nbformat_minor": 4
}
