{
 "cells": [
  {
   "attachments": {},
   "cell_type": "markdown",
   "metadata": {},
   "source": [
    "\n",
    "CSE 628 Term Project Report\\\n",
    "GPU and Multithreaded Comparision of Mean Face using img_align_celeba Dataset\\\n",
    "Zack Owens\\\n",
    "7/19/2023\n"
   ]
  },
  {
   "cell_type": "code",
   "execution_count": null,
   "metadata": {},
   "outputs": [],
   "source": [
    "cd(\"..\\\\img_align_celeba\")\n",
    "pwd()"
   ]
  },
  {
   "cell_type": "code",
   "execution_count": null,
   "metadata": {},
   "outputs": [],
   "source": [
    "using Base.Threads\n",
    "num_threads = Threads.nthreads()"
   ]
  },
  {
   "cell_type": "code",
   "execution_count": null,
   "metadata": {},
   "outputs": [],
   "source": [
    "# read in the CSV\n",
    "using CSV\n",
    "using DataFrames\n",
    "\n",
    "\n",
    "df = CSV.read(\"./list_attr_celeba_2.csv\",DataFrame)"
   ]
  },
  {
   "cell_type": "code",
   "execution_count": null,
   "metadata": {},
   "outputs": [],
   "source": [
    "# split list into men list (hint use lpad)\n",
    "males = filter(row->row.Male==1,df)\n",
    "males.id"
   ]
  },
  {
   "cell_type": "code",
   "execution_count": null,
   "metadata": {},
   "outputs": [],
   "source": [
    "# split list into women list (hint use lpad)\n",
    "females = filter(row->row.Male==0,df)\n",
    "females.id"
   ]
  },
  {
   "attachments": {},
   "cell_type": "markdown",
   "metadata": {},
   "source": [
    "## 1.2\n",
    "\n",
    "Display the last 3 faces of men and the last 3 faces of women."
   ]
  },
  {
   "cell_type": "code",
   "execution_count": null,
   "metadata": {},
   "outputs": [],
   "source": [
    "#show last 3 mens and womens faces\n",
    "using Images, FileIO, Colors\n",
    "\n",
    "last_3_males = males.id[length(males.id)-2:length(males.id)]\n",
    "last_3_females = females.id[length(females.id)-2:length(females.id)]\n",
    "\n",
    "@time begin\n",
    "    vector_N = Vector{Matrix{RGB{N0f8}}}([])\n",
    "    for (i, f) in enumerate(last_3_males)\n",
    "            push!(vector_N, load(f))\n",
    "    end\n",
    "end\n",
    "\n",
    "\n",
    "@time begin\n",
    "    vector_N_2 = Vector{Matrix{RGB{N0f8}}}([])\n",
    "    for (i, f) in enumerate(last_3_females)\n",
    "            push!(vector_N_2, load(f))\n",
    "    end\n",
    "end\n",
    "\n",
    "\n",
    "mosaicview([vector_N ; vector_N_2]; \n",
    "fillvalue=0.5, npad=10, ncol=2)"
   ]
  },
  {
   "cell_type": "code",
   "execution_count": null,
   "metadata": {},
   "outputs": [],
   "source": [
    "using Hwloc\n",
    "using Base.Threads\n",
    "topology()"
   ]
  },
  {
   "cell_type": "code",
   "execution_count": null,
   "metadata": {},
   "outputs": [],
   "source": [
    "print(Sys.total_memory() / 2^20 /1000, \" GB of RAM\") "
   ]
  },
  {
   "cell_type": "code",
   "execution_count": null,
   "metadata": {},
   "outputs": [],
   "source": [
    "using Base.Threads\n",
    "\n",
    "function mean_RGB(args...)\n",
    "    \n",
    "    c = RGB{Float64}(0,0,0)    \n",
    "    w = 1.0 / length(args)\n",
    "    for arg in args\n",
    "       c += w * arg\n",
    "    end\n",
    "    \n",
    "    return RGB{N0f8}(c)\n",
    "end\n"
   ]
  },
  {
   "cell_type": "code",
   "execution_count": null,
   "metadata": {},
   "outputs": [],
   "source": [
    "# read in the images for men at once\n",
    "cd(\"..\\\\img_align_celeba\")\n",
    "pwd()\n",
    "\n",
    "\n",
    "@time begin\n",
    "    vector_N = Vector{Matrix{RGB{N0f8}}}([])\n",
    "    for (i, f) in enumerate(males.id)\n",
    "            push!(vector_N, load(f))\n",
    "    end\n",
    "end\n",
    "\n",
    "\n",
    "\n",
    "\n"
   ]
  },
  {
   "cell_type": "code",
   "execution_count": null,
   "metadata": {},
   "outputs": [],
   "source": [
    "\n",
    "function calculate_batch_mean(images::Vector{Matrix{RGB{N0f8}}})    \n",
    "    return mean_RGB.(images)\n",
    "end\n",
    "\n",
    "function batch_images(images::Vector{Matrix{RGB{N0f8}}}, batch_size::Int)\n",
    "    num_images = length(images)\n",
    "    num_batches = div(num_images, batch_size)\n",
    "    \n",
    "    batches = [images[(i - 1) * batch_size + 1:min(i * batch_size, num_images)] for i in 1:num_batches]\n",
    "    return batches\n",
    "end\n",
    "function calculate_mean_parallel(images::Vector{Matrix{RGB{N0f8}}}, batch_size::Int)\n",
    "    batches = batch_images(images, batch_size)\n",
    "    num_batches = length(batches)\n",
    "    \n",
    "    mean_images = Vector{Matrix{RGB{N0f8}}}(undef, num_batches)\n",
    "    \n",
    "    @threads for i in 1:num_batches\n",
    "        mean_images[i] = mean_RGB.(batches)\n",
    "    end\n",
    "    \n",
    "    # Combine the mean images from different batches to get the final mean image\n",
    "    mean_image = calculate_batch_mean(mean_images)\n",
    "    \n",
    "    return mean_image\n",
    "end"
   ]
  },
  {
   "cell_type": "code",
   "execution_count": null,
   "metadata": {},
   "outputs": [],
   "source": [
    "\n",
    "#working\n",
    "#batch_images(vector_N[1:10],2)\n",
    "\n",
    "\n",
    "#calculate_mean_parallel(vector_N[1:10],2)\n",
    "#calculate_batch_mean(vector_N[1:10])\n",
    "\n",
    "mean_RGB.(batch_images(vector_N[1:10],2)[1])"
   ]
  },
  {
   "cell_type": "code",
   "execution_count": null,
   "metadata": {},
   "outputs": [],
   "source": [
    "#@time vector_mean = mean_RGB.(vector_N[1:100]...)"
   ]
  },
  {
   "cell_type": "code",
   "execution_count": null,
   "metadata": {},
   "outputs": [],
   "source": [
    "#@time vector_mean = mean_RGB.(vector_N[1:500]...)"
   ]
  },
  {
   "cell_type": "code",
   "execution_count": null,
   "metadata": {},
   "outputs": [],
   "source": [
    "size(vector_N[1])\n",
    "vector_N[1][1]\n"
   ]
  },
  {
   "cell_type": "code",
   "execution_count": null,
   "metadata": {},
   "outputs": [],
   "source": [
    "#@time vector_mean = mean_RGB_image(vector_N[1:100])"
   ]
  },
  {
   "cell_type": "markdown",
   "metadata": {},
   "source": [
    "# read in the images for women at once\n",
    "@time begin\n",
    "    vector_N_2 = Vector{Matrix{RGB{N0f8}}}([])\n",
    "    for (i, f) in enumerate(females.id)\n",
    "            push!(vector_N_2, load(f))\n",
    "    end\n",
    "end\n"
   ]
  }
 ],
 "metadata": {
  "kernelspec": {
   "display_name": "Julia 1.9.0",
   "language": "julia",
   "name": "julia-1.9"
  },
  "language_info": {
   "file_extension": ".jl",
   "mimetype": "application/julia",
   "name": "julia",
   "version": "1.9.0"
  },
  "orig_nbformat": 4
 },
 "nbformat": 4,
 "nbformat_minor": 2
}
