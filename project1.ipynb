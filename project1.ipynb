{
 "cells": [
  {
   "attachments": {},
   "cell_type": "markdown",
   "metadata": {},
   "source": [
    "Project 1 \n",
    "Zack Owens\n",
    "DATE SUBMITTED FIX THIS _________________________"
   ]
  },
  {
   "attachments": {},
   "cell_type": "markdown",
   "metadata": {},
   "source": [
    "# 1.1"
   ]
  },
  {
   "cell_type": "code",
   "execution_count": 4,
   "metadata": {},
   "outputs": [
    {
     "data": {
      "text/plain": [
       "1.0f-45"
      ]
     },
     "metadata": {},
     "output_type": "display_data"
    }
   ],
   "source": [
    "eps32 = eps(0f0)"
   ]
  },
  {
   "cell_type": "code",
   "execution_count": 5,
   "metadata": {},
   "outputs": [
    {
     "data": {
      "text/plain": [
       "5.0e-324"
      ]
     },
     "metadata": {},
     "output_type": "display_data"
    }
   ],
   "source": [
    "eps64 = eps(0.0)"
   ]
  },
  {
   "attachments": {},
   "cell_type": "markdown",
   "metadata": {},
   "source": [
    "Meanings of these values:\n",
    "The method esp() according to the julia documentation is the distance between 1.0 and the next largest floating-point value of Float64. [Source](https://docs.julialang.org/en/v1/manual/integers-and-floating-point-numbers/) "
   ]
  },
  {
   "cell_type": "code",
   "execution_count": 11,
   "metadata": {},
   "outputs": [
    {
     "data": {
      "text/plain": [
       "(Float32, Inf32)"
      ]
     },
     "metadata": {},
     "output_type": "display_data"
    }
   ],
   "source": [
    "typeof(0f0)"
   ]
  },
  {
   "cell_type": "code",
   "execution_count": 7,
   "metadata": {},
   "outputs": [
    {
     "data": {
      "text/plain": [
       "Float64"
      ]
     },
     "metadata": {},
     "output_type": "display_data"
    }
   ],
   "source": [
    "typeof(0.0)"
   ]
  },
  {
   "attachments": {},
   "cell_type": "markdown",
   "metadata": {},
   "source": [
    "The reason that 0f0 has a larger value is because the values is of type float32. This esp value the smaller the value the more precise value that can be stored in the type. \n",
    "The reason that 0.0 is a smaller values is due to its type being a float64 which has more bytes to store the float values. This gives teh float64 more percision than a float32 allowing smaller values to be stored in smaller increments."
   ]
  },
  {
   "attachments": {},
   "cell_type": "markdown",
   "metadata": {},
   "source": [
    "# 1.2"
   ]
  },
  {
   "cell_type": "code",
   "execution_count": 16,
   "metadata": {},
   "outputs": [
    {
     "data": {
      "text/plain": [
       "2000000000-element Vector{Float32}:\n",
       " 1.0f-45\n",
       " 1.0f-45\n",
       " 1.0f-45\n",
       " 1.0f-45\n",
       " 1.0f-45\n",
       " 1.0f-45\n",
       " 1.0f-45\n",
       " 1.0f-45\n",
       " 1.0f-45\n",
       " 1.0f-45\n",
       " ⋮\n",
       " 1.0f-45\n",
       " 1.0f-45\n",
       " 1.0f-45\n",
       " 1.0f-45\n",
       " 1.0f-45\n",
       " 1.0f-45\n",
       " 1.0f-45\n",
       " 1.0f-45\n",
       " 1.0f-45"
      ]
     },
     "metadata": {},
     "output_type": "display_data"
    }
   ],
   "source": [
    "v = fill(eps32,2_000_000_000)"
   ]
  },
  {
   "cell_type": "code",
   "execution_count": null,
   "metadata": {},
   "outputs": [],
   "source": [
    "function sum_values_does_not_work(v)\n",
    "    sum = 0.0\n",
    "    for i in v\n",
    "        sum += i\n",
    "    end\n",
    "    return sum\n",
    "end"
   ]
  },
  {
   "cell_type": "code",
   "execution_count": 22,
   "metadata": {},
   "outputs": [
    {
     "data": {
      "text/plain": [
       "sum_values (generic function with 1 method)"
      ]
     },
     "metadata": {},
     "output_type": "display_data"
    }
   ],
   "source": [
    "function sum_values(v)\n",
    "    sum = 0.0\n",
    "    for i in v\n",
    "        sum += i\n",
    "    end\n",
    "    return sum\n",
    "end"
   ]
  },
  {
   "cell_type": "code",
   "execution_count": 23,
   "metadata": {},
   "outputs": [
    {
     "name": "stdout",
     "output_type": "stream",
     "text": [
      "  2.419582 seconds (7.53 k allocations: 510.795 KiB, 0.65% compilation time)\n"
     ]
    },
    {
     "data": {
      "text/plain": [
       "2.802596928649634e-36"
      ]
     },
     "metadata": {},
     "output_type": "display_data"
    }
   ],
   "source": [
    "@time sum_values(v)"
   ]
  },
  {
   "cell_type": "code",
   "execution_count": 28,
   "metadata": {},
   "outputs": [
    {
     "name": "stdout",
     "output_type": "stream",
     "text": [
      "  2.612031 seconds (4 allocations: 64 bytes)\n"
     ]
    },
    {
     "data": {
      "text/plain": [
       "2.3509887f-38"
      ]
     },
     "metadata": {},
     "output_type": "display_data"
    }
   ],
   "source": [
    "@time foldr(+,v)"
   ]
  },
  {
   "cell_type": "code",
   "execution_count": 27,
   "metadata": {},
   "outputs": [
    {
     "name": "stdout",
     "output_type": "stream",
     "text": [
      "  2.552371 seconds (33.84 k allocations: 2.340 MiB, 1.89% compilation time)\n"
     ]
    },
    {
     "data": {
      "text/plain": [
       "2.802596928649634e-36"
      ]
     },
     "metadata": {},
     "output_type": "display_data"
    }
   ],
   "source": [
    "@time foldr(+,v,init=0.0)"
   ]
  },
  {
   "cell_type": "code",
   "execution_count": 20,
   "metadata": {},
   "outputs": [
    {
     "name": "stdout",
     "output_type": "stream",
     "text": [
      "  0.633802 seconds (108.92 k allocations: 7.286 MiB, 9.50% compilation time)\n"
     ]
    },
    {
     "data": {
      "text/plain": [
       "2.802597f-36"
      ]
     },
     "metadata": {},
     "output_type": "display_data"
    }
   ],
   "source": [
    "@time reduce(+,v)"
   ]
  },
  {
   "cell_type": "code",
   "execution_count": 21,
   "metadata": {},
   "outputs": [
    {
     "name": "stdout",
     "output_type": "stream",
     "text": [
      "  0.584358 seconds (33.30 k allocations: 2.195 MiB, 5.93% compilation time)\n"
     ]
    },
    {
     "data": {
      "text/plain": [
       "2.802597f-36"
      ]
     },
     "metadata": {},
     "output_type": "display_data"
    }
   ],
   "source": [
    "@time sum(v)"
   ]
  },
  {
   "attachments": {},
   "cell_type": "markdown",
   "metadata": {},
   "source": [
    "The values above can be summarized by looking at the speeds and number of allocations for each function. The sum function performed the best with a correct solution. This function only took 0.584358 seconds with only 2.195 Megabytes of memory allocation. The next fastest function was the reduce function which took  0.633802 seconds with only 7.286 Megabytes of allocation. This method also created the correct answer. The foldr method was more than 4 times slower than the reduce and sum functions and performed the worst. This method took 2.552371 with 2.340 Megabytes of allocations. This method also did not create the correct answer unless the init paramters was specified. The for loop function performed the second worst out of all the fuctions and only returned the correct answer when sum was intitialized at value 0.0. This function completed in 2.419582 seconds with less allocations than reduce and sum."
   ]
  },
  {
   "attachments": {},
   "cell_type": "markdown",
   "metadata": {},
   "source": [
    "The for loop and foldr did not create the correct answers unless the inital values specifed was a float32 instead julia assuming the answer is a float16 (a 0 or 0f0)."
   ]
  },
  {
   "attachments": {},
   "cell_type": "markdown",
   "metadata": {},
   "source": [
    "# 2.1"
   ]
  },
  {
   "cell_type": "code",
   "execution_count": 4,
   "metadata": {},
   "outputs": [
    {
     "data": {
      "text/plain": [
       "fib_2 (generic function with 1 method)"
      ]
     },
     "metadata": {},
     "output_type": "display_data"
    }
   ],
   "source": [
    "fib_1(n) = first([1 1;1 0]^(n-1)*[1,0])\n",
    "fib_2(n) = last( [1 1;1 0]^(n-1)*[1,1])"
   ]
  },
  {
   "attachments": {},
   "cell_type": "markdown",
   "metadata": {},
   "source": [
    "EXPLAIN HOW IT WORKS"
   ]
  },
  {
   "attachments": {},
   "cell_type": "markdown",
   "metadata": {},
   "source": [
    "# 2.2"
   ]
  },
  {
   "cell_type": "code",
   "execution_count": 5,
   "metadata": {},
   "outputs": [
    {
     "data": {
      "text/plain": [
       "fib_rec (generic function with 1 method)"
      ]
     },
     "metadata": {},
     "output_type": "display_data"
    }
   ],
   "source": [
    "function fib_rec(n)\n",
    "    if(n==0 || n==1)\n",
    "        return 1\n",
    "    else\n",
    "        return fib_rec(n-1) + fib_rec(n-2)\n",
    "    end\n",
    "end"
   ]
  },
  {
   "attachments": {},
   "cell_type": "markdown",
   "metadata": {},
   "source": [
    "# 2.3"
   ]
  },
  {
   "cell_type": "code",
   "execution_count": 9,
   "metadata": {},
   "outputs": [
    {
     "name": "stdout",
     "output_type": "stream",
     "text": [
      "  0.000006 seconds (9 allocations: 832 bytes)\n"
     ]
    },
    {
     "data": {
      "text/plain": [
       "9227465"
      ]
     },
     "metadata": {},
     "output_type": "display_data"
    }
   ],
   "source": [
    "@time fib_1(35)"
   ]
  },
  {
   "cell_type": "code",
   "execution_count": 10,
   "metadata": {},
   "outputs": [
    {
     "name": "stdout",
     "output_type": "stream",
     "text": [
      "  0.000009 seconds (9 allocations: 832 bytes)\n"
     ]
    },
    {
     "data": {
      "text/plain": [
       "9227465"
      ]
     },
     "metadata": {},
     "output_type": "display_data"
    }
   ],
   "source": [
    "@time fib_2(35)"
   ]
  },
  {
   "cell_type": "code",
   "execution_count": 12,
   "metadata": {},
   "outputs": [
    {
     "name": "stdout",
     "output_type": "stream",
     "text": [
      "  0.737004 seconds\n"
     ]
    },
    {
     "data": {
      "text/plain": [
       "165580141"
      ]
     },
     "metadata": {},
     "output_type": "display_data"
    }
   ],
   "source": [
    "@time fib_rec(40)"
   ]
  },
  {
   "attachments": {},
   "cell_type": "markdown",
   "metadata": {},
   "source": [
    "COMPARE TIMES"
   ]
  },
  {
   "attachments": {},
   "cell_type": "markdown",
   "metadata": {},
   "source": [
    "# 3.1"
   ]
  },
  {
   "cell_type": "code",
   "execution_count": 5,
   "metadata": {},
   "outputs": [
    {
     "data": {
      "text/plain": [
       "sinx (generic function with 2 methods)"
      ]
     },
     "metadata": {},
     "output_type": "display_data"
    }
   ],
   "source": [
    "function sinx(x, n = 5; degree = true)\n",
    "    if degree\n",
    "        xRad = deg2rad(x % 360)\n",
    "    else\n",
    "        xRad = x\n",
    "    end\n",
    "    value = xRad\n",
    "    numer = xRad^3.0\n",
    "    denom = 6.0\n",
    "    sign = -1.0\n",
    "    for i in 1:n\n",
    "        value += sign*numer/denom\n",
    "        numer *= xRad^2.0\n",
    "        denom *= (2.0 * i + 2.0) * (2.0 * i +3.0)\n",
    "        sign *= -1.0\n",
    "    end\n",
    "    return value\n",
    "end"
   ]
  },
  {
   "cell_type": "code",
   "execution_count": 153,
   "metadata": {},
   "outputs": [
    {
     "name": "stdout",
     "output_type": "stream",
     "text": [
      "N is within exceptable range"
     ]
    }
   ],
   "source": [
    "sum = 0.0\n",
    "for i in 0:1:90\n",
    "    sum += abs(sinx(i,6) - sind(i))\n",
    "end\n",
    "valueToBeat =  0.1e-7\n",
    "if sum < valueToBeat\n",
    "    print(\"N is within exceptable range\")\n",
    "end\n"
   ]
  },
  {
   "attachments": {},
   "cell_type": "markdown",
   "metadata": {},
   "source": [
    "The sinx function will convert x to radians if the degrees paramter is true. The value n represents the number of terms that is used in the taylor seires to generate the output value. The larger the n value the smaller the difference between actual sin value and the calculated value. \n",
    "\n",
    "The second code block sums the absolute differences between the sinx function and the sind function each of these differences are then added to the sum. If the sum is less than the value to beat which was specfifically 0.1e7 than the program block will print out \"N is within exceptable range\". The smallest accepted value is n=6."
   ]
  },
  {
   "attachments": {},
   "cell_type": "markdown",
   "metadata": {},
   "source": [
    "# 3.2"
   ]
  },
  {
   "cell_type": "code",
   "execution_count": 162,
   "metadata": {},
   "outputs": [
    {
     "name": "stdout",
     "output_type": "stream",
     "text": [
      "\u001b[33mdegrees      value        \u001b[39m\n",
      "0           0.0         \n",
      "10          0.17364817766693033\n",
      "20          0.34202014332566877\n",
      "30          0.5         \n",
      "40          0.6427876096865427\n",
      "50          0.7660444431190767\n",
      "60          0.8660254037859597\n",
      "70          0.9396926208012458\n",
      "80          0.984807753125684\n",
      "90          1.0000000006627803\n"
     ]
    }
   ],
   "source": [
    "\n",
    "values = [sinx(x,6) for x in 0:10:90]\n",
    "pdegrees = rpad(\"degrees\",12)\n",
    "pvalue = rpad(\"value\",12)\n",
    "printstyled(pdegrees,\" \", pvalue, \" \", color=:yellow)\n",
    "println()\n",
    "j = 1\n",
    "for i in 0:10:90\n",
    "    pdegree = rpad(i,12)\n",
    "    pvalue = rpad(values[j],12)\n",
    "    println(pdegree,pvalue)\n",
    "    j +=1\n",
    "end\n"
   ]
  },
  {
   "cell_type": "code",
   "execution_count": 17,
   "metadata": {},
   "outputs": [
    {
     "data": {
      "text/plain": [
       "timeSins (generic function with 1 method)"
      ]
     },
     "metadata": {},
     "output_type": "display_data"
    }
   ],
   "source": [
    "function runSinx(inc)\n",
    "    for k in inc\n",
    "        sinx(k,10)\n",
    "    end\n",
    "end \n",
    "\n",
    "function runSind(inc)\n",
    "    for k in inc\n",
    "        sind(k)\n",
    "    end\n",
    "end\n",
    "\n",
    "function timeSins(inc)\n",
    "    pinc = rpad(\"increment\",12)\n",
    "    psinx = rpad(\"sinx time\",12)\n",
    "    psind = rpad(\"sind time\",12)\n",
    "    printstyled(pinc,\" \", psinx, \" \", psind, \"\\n\",color=:yellow)\n",
    "\n",
    "    for i in inc\n",
    "        #println(i)\n",
    "        sinxTime = @elapsed runSinx(1.0:i:90.0)\n",
    "        sindTime = @elapsed runSind(1.0:i:90.0)\n",
    "        println(rpad(\"0:$i:90\",12),rpad(sinxTime,12),rpad(sindTime,13))\n",
    "    end\n",
    "    #print(sinxTime,sindTime)\n",
    "    #return sinxTime,sindTime\n",
    "end"
   ]
  },
  {
   "cell_type": "code",
   "execution_count": 18,
   "metadata": {},
   "outputs": [
    {
     "name": "stdout",
     "output_type": "stream",
     "text": [
      "\u001b[33mincrement    sinx time    sind time   \u001b[39m\n",
      "0:0.1:90    6.35e-5     1.79e-5      \n",
      "0:0.01:90   0.0005987   0.0001792    \n",
      "0:0.001:90  0.0066951   0.0015582    \n",
      "0:0.0001:90 0.0593895   0.0164536    \n"
     ]
    },
    {
     "name": "stdout",
     "output_type": "stream",
     "text": [
      "0:1.0e-5:90 0.5756526   0.169668     \n"
     ]
    },
    {
     "name": "stdout",
     "output_type": "stream",
     "text": [
      "0:1.0e-6:90 5.7955757   1.8052115    \n"
     ]
    }
   ],
   "source": [
    "inc = [0.1, 0.01, 0.001, 0.000_1, 0.000_01, 0.000_001]\n",
    "#print(inc)\n",
    "timeSins(inc)\n"
   ]
  },
  {
   "attachments": {},
   "cell_type": "markdown",
   "metadata": {},
   "source": [
    "Overall sind fucntion is always faster than the sinx function. Usually the sinx function takes about 3.5 time longer to calculate the increment than the sind function. For increment 0.1 the sind function was faster by a factor of 3.5474860335195526. For increment 0.01 sind was faster by a factor of 3.3409598214285716. For 0.0001 the sind function was faster by a factor of 3.6095140273253272. For increment 1.0e-5 the sind function was faster by a factor of 3.392817738171016. For increment 1.0e-6 the sind function was faster by a factor of 3.2104690780000014. By looking at the trend of the elapsed times we can see that on average the function sind is much faster and as the increment get larger the gap between the two functions shrinks by a very small margin the smaller the increments become."
   ]
  },
  {
   "cell_type": "code",
   "execution_count": 23,
   "metadata": {},
   "outputs": [
    {
     "data": {
      "text/plain": [
       "3.2104690780000014"
      ]
     },
     "metadata": {},
     "output_type": "display_data"
    }
   ],
   "source": [
    "speedup = 5.7955757 / 1.8052115  \n"
   ]
  }
 ],
 "metadata": {
  "kernelspec": {
   "display_name": "Julia 1.9.0",
   "language": "julia",
   "name": "julia-1.9"
  },
  "language_info": {
   "file_extension": ".jl",
   "mimetype": "application/julia",
   "name": "julia",
   "version": "1.9.0"
  },
  "orig_nbformat": 4
 },
 "nbformat": 4,
 "nbformat_minor": 2
}
