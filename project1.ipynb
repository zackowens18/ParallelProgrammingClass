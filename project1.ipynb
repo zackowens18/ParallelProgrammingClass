{
 "cells": [
  {
   "attachments": {},
   "cell_type": "markdown",
   "metadata": {},
   "source": [
    "Project 1 \n",
    "Zack Owens\n",
    "DATE SUBMITTED FIX THIS _________________________"
   ]
  },
  {
   "attachments": {},
   "cell_type": "markdown",
   "metadata": {},
   "source": [
    "# 1.1"
   ]
  },
  {
   "cell_type": "code",
   "execution_count": 4,
   "metadata": {},
   "outputs": [
    {
     "data": {
      "text/plain": [
       "1.0f-45"
      ]
     },
     "metadata": {},
     "output_type": "display_data"
    }
   ],
   "source": [
    "eps32 = eps(0f0)"
   ]
  },
  {
   "cell_type": "code",
   "execution_count": 5,
   "metadata": {},
   "outputs": [
    {
     "data": {
      "text/plain": [
       "5.0e-324"
      ]
     },
     "metadata": {},
     "output_type": "display_data"
    }
   ],
   "source": [
    "eps64 = eps(0.0)"
   ]
  },
  {
   "attachments": {},
   "cell_type": "markdown",
   "metadata": {},
   "source": [
    "Meanings of these values:\n",
    "The method esp() according to the julia documentation is the distance between 1.0 and the next largest floating-point value of Float64. [Source](https://docs.julialang.org/en/v1/manual/integers-and-floating-point-numbers/) "
   ]
  },
  {
   "cell_type": "code",
   "execution_count": 11,
   "metadata": {},
   "outputs": [
    {
     "data": {
      "text/plain": [
       "(Float32, Inf32)"
      ]
     },
     "metadata": {},
     "output_type": "display_data"
    }
   ],
   "source": [
    "typeof(0f0)"
   ]
  },
  {
   "cell_type": "code",
   "execution_count": 7,
   "metadata": {},
   "outputs": [
    {
     "data": {
      "text/plain": [
       "Float64"
      ]
     },
     "metadata": {},
     "output_type": "display_data"
    }
   ],
   "source": [
    "typeof(0.0)"
   ]
  },
  {
   "attachments": {},
   "cell_type": "markdown",
   "metadata": {},
   "source": [
    "The reason that 0f0 has a larger value is because the values is of type float32. This esp value the smaller the value the more precise value that can be stored in the type. \n",
    "The reason that 0.0 is a smaller values is due to its type being a float64 which has more bytes to store the float values. This gives teh float64 more percision than a float32 allowing smaller values to be stored in smaller increments."
   ]
  },
  {
   "attachments": {},
   "cell_type": "markdown",
   "metadata": {},
   "source": [
    "# 1.2"
   ]
  },
  {
   "cell_type": "code",
   "execution_count": 16,
   "metadata": {},
   "outputs": [
    {
     "data": {
      "text/plain": [
       "2000000000-element Vector{Float32}:\n",
       " 1.0f-45\n",
       " 1.0f-45\n",
       " 1.0f-45\n",
       " 1.0f-45\n",
       " 1.0f-45\n",
       " 1.0f-45\n",
       " 1.0f-45\n",
       " 1.0f-45\n",
       " 1.0f-45\n",
       " 1.0f-45\n",
       " ⋮\n",
       " 1.0f-45\n",
       " 1.0f-45\n",
       " 1.0f-45\n",
       " 1.0f-45\n",
       " 1.0f-45\n",
       " 1.0f-45\n",
       " 1.0f-45\n",
       " 1.0f-45\n",
       " 1.0f-45"
      ]
     },
     "metadata": {},
     "output_type": "display_data"
    }
   ],
   "source": [
    "v = fill(eps32,2_000_000_000)"
   ]
  },
  {
   "cell_type": "code",
   "execution_count": null,
   "metadata": {},
   "outputs": [],
   "source": [
    "function sum_values_does_not_work(v)\n",
    "    sum = 0.0\n",
    "    for i in v\n",
    "        sum += i\n",
    "    end\n",
    "    return sum\n",
    "end"
   ]
  },
  {
   "cell_type": "code",
   "execution_count": 22,
   "metadata": {},
   "outputs": [
    {
     "data": {
      "text/plain": [
       "sum_values (generic function with 1 method)"
      ]
     },
     "metadata": {},
     "output_type": "display_data"
    }
   ],
   "source": [
    "function sum_values(v)\n",
    "    sum = 0.0\n",
    "    for i in v\n",
    "        sum += i\n",
    "    end\n",
    "    return sum\n",
    "end"
   ]
  },
  {
   "cell_type": "code",
   "execution_count": 23,
   "metadata": {},
   "outputs": [
    {
     "name": "stdout",
     "output_type": "stream",
     "text": [
      "  2.419582 seconds (7.53 k allocations: 510.795 KiB, 0.65% compilation time)\n"
     ]
    },
    {
     "data": {
      "text/plain": [
       "2.802596928649634e-36"
      ]
     },
     "metadata": {},
     "output_type": "display_data"
    }
   ],
   "source": [
    "@time sum_values(v)"
   ]
  },
  {
   "cell_type": "code",
   "execution_count": 28,
   "metadata": {},
   "outputs": [
    {
     "name": "stdout",
     "output_type": "stream",
     "text": [
      "  2.612031 seconds (4 allocations: 64 bytes)\n"
     ]
    },
    {
     "data": {
      "text/plain": [
       "2.3509887f-38"
      ]
     },
     "metadata": {},
     "output_type": "display_data"
    }
   ],
   "source": [
    "@time foldr(+,v)"
   ]
  },
  {
   "cell_type": "code",
   "execution_count": 27,
   "metadata": {},
   "outputs": [
    {
     "name": "stdout",
     "output_type": "stream",
     "text": [
      "  2.552371 seconds (33.84 k allocations: 2.340 MiB, 1.89% compilation time)\n"
     ]
    },
    {
     "data": {
      "text/plain": [
       "2.802596928649634e-36"
      ]
     },
     "metadata": {},
     "output_type": "display_data"
    }
   ],
   "source": [
    "@time foldr(+,v,init=0.0)"
   ]
  },
  {
   "cell_type": "code",
   "execution_count": 20,
   "metadata": {},
   "outputs": [
    {
     "name": "stdout",
     "output_type": "stream",
     "text": [
      "  0.633802 seconds (108.92 k allocations: 7.286 MiB, 9.50% compilation time)\n"
     ]
    },
    {
     "data": {
      "text/plain": [
       "2.802597f-36"
      ]
     },
     "metadata": {},
     "output_type": "display_data"
    }
   ],
   "source": [
    "@time reduce(+,v)"
   ]
  },
  {
   "cell_type": "code",
   "execution_count": 21,
   "metadata": {},
   "outputs": [
    {
     "name": "stdout",
     "output_type": "stream",
     "text": [
      "  0.584358 seconds (33.30 k allocations: 2.195 MiB, 5.93% compilation time)\n"
     ]
    },
    {
     "data": {
      "text/plain": [
       "2.802597f-36"
      ]
     },
     "metadata": {},
     "output_type": "display_data"
    }
   ],
   "source": [
    "@time sum(v)"
   ]
  },
  {
   "attachments": {},
   "cell_type": "markdown",
   "metadata": {},
   "source": [
    "The values above can be summarized by looking at the speeds and number of allocations for each function. The sum function performed the best with a correct solution. This function only took 0.584358 seconds with only 2.195 Megabytes of memory allocation. The next fastest function was the reduce function which took  0.633802 seconds with only 7.286 Megabytes of allocation. This method also created the correct answer. The foldr method was more than 4 times slower than the reduce and sum functions and performed the worst. This method took 2.552371 with 2.340 Megabytes of allocations. This method also did not create the correct answer unless the init paramters was specified. The for loop function performed the second worst out of all the fuctions and only returned the correct answer when sum was intitialized at value 0.0. This function completed in 2.419582 seconds with less allocations than reduce and sum."
   ]
  },
  {
   "attachments": {},
   "cell_type": "markdown",
   "metadata": {},
   "source": [
    "The for loop and foldr did not create the correct answers unless the inital values specifed was a float32 instead julia assuming the answer is a float16 (a 0 or 0f0)."
   ]
  }
 ],
 "metadata": {
  "kernelspec": {
   "display_name": "Julia 1.9.0",
   "language": "julia",
   "name": "julia-1.9"
  },
  "language_info": {
   "file_extension": ".jl",
   "mimetype": "application/julia",
   "name": "julia",
   "version": "1.9.0"
  },
  "orig_nbformat": 4
 },
 "nbformat": 4,
 "nbformat_minor": 2
}
