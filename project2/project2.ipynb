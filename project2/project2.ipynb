{
 "cells": [
  {
   "attachments": {},
   "cell_type": "markdown",
   "metadata": {},
   "source": [
    "Zack Owens\n",
    "Project 2 \n",
    "TO DO DATE ----------------------------"
   ]
  },
  {
   "attachments": {},
   "cell_type": "markdown",
   "metadata": {},
   "source": [
    "# 1\n",
    "\n",
    "## 1.1\n",
    "\n",
    "Create list of names of images that men. Then create a list of names of images that are women."
   ]
  },
  {
   "cell_type": "code",
   "execution_count": 5,
   "metadata": {},
   "outputs": [
    {
     "data": {
      "text/plain": [
       "\"c:\\\\Users\\\\ZackO\\\\Desktop\\\\ParallelPrograming\\\\ParallelProgrammingClass\\\\img_align_celeba\""
      ]
     },
     "metadata": {},
     "output_type": "display_data"
    }
   ],
   "source": [
    "cd(\"..\\\\img_align_celeba\")\n",
    "pwd()"
   ]
  },
  {
   "cell_type": "code",
   "execution_count": null,
   "metadata": {},
   "outputs": [],
   "source": [
    "# read in the CSV"
   ]
  },
  {
   "cell_type": "code",
   "execution_count": null,
   "metadata": {},
   "outputs": [],
   "source": [
    "# split list into men list"
   ]
  },
  {
   "cell_type": "code",
   "execution_count": null,
   "metadata": {},
   "outputs": [],
   "source": [
    "# split list into women list"
   ]
  },
  {
   "attachments": {},
   "cell_type": "markdown",
   "metadata": {},
   "source": [
    "## 1.2\n",
    "\n",
    "Display the last 3 faces of men and the last 3 faces of women."
   ]
  },
  {
   "cell_type": "code",
   "execution_count": null,
   "metadata": {},
   "outputs": [],
   "source": [
    "#show last 3 mens and womens faces"
   ]
  },
  {
   "attachments": {},
   "cell_type": "markdown",
   "metadata": {},
   "source": [
    "# 2\n",
    "\n",
    "Compute the means face for men and women seperately. \n",
    "\n",
    "## 2.1 (5 points) Use the Hwloc.jl package to display the configuration of the computer you use for the project. Displayed info should include: number of CPU physical and virtual cores, RAM size, and cache info.\n",
    "\n"
   ]
  },
  {
   "cell_type": "code",
   "execution_count": 13,
   "metadata": {},
   "outputs": [
    {
     "name": "stdout",
     "output_type": "stream",
     "text": [
      "Machine (2.99 GB)\n",
      "    Package L#0 P#-1 (2.99 GB)\n",
      "        NUMANode (2.99 GB)\n",
      "        L3 (8.0 MB)\n",
      "            L2 (256.0 kB) + L1 (32.0 kB) + Core L#0 P#-1 \n",
      "                PU L#0 P#0 \n",
      "                PU L#1 P#1 \n",
      "            L2 (256.0 kB) + L1 (32.0 kB) + Core L#1 P#-1 \n",
      "                PU L#2 P#2 \n",
      "                PU L#3 P#3 \n",
      "            L2 (256.0 kB) + L1 (32.0 kB) + Core L#2 P#-1 \n",
      "                PU L#4 P#4 \n",
      "                PU L#5 P#5 \n",
      "            L2 (256.0 kB) + L1 (32.0 kB) + Core L#3 P#-1 \n",
      "                PU L#6 P#6 \n",
      "                PU L#7 P#7 "
     ]
    }
   ],
   "source": [
    "using Hwloc\n",
    "\n",
    "topology()"
   ]
  },
  {
   "attachments": {},
   "cell_type": "markdown",
   "metadata": {},
   "source": [
    "## 2.2 (65 points) Compute mean face of female celebA faces and male celebA faces, respectively. To do this assignment, follow these steps:\n",
    "1. Get the vectors of male_faces and female_faces as described in Problem 1.\n",
    "2. To best use the available resources of the compute you use, consider:\n",
    "- to compute color or gray mean face,\n",
    "- to decide the number, N, of celebA faces to be included for the mean face\n",
    " calculation (the large the N the better for your project merit).\n",
    "3. Document the data structures used, how the face files are read, and how the\n",
    "mean faces are computed in your project notebook.\n",
    "4. Measure the runtimes of files read and men faces computation.\n",
    "5. Display mean faces."
   ]
  }
 ],
 "metadata": {
  "kernelspec": {
   "display_name": "Julia 1.9.0",
   "language": "julia",
   "name": "julia-1.9"
  },
  "language_info": {
   "file_extension": ".jl",
   "mimetype": "application/julia",
   "name": "julia",
   "version": "1.9.0"
  },
  "orig_nbformat": 4
 },
 "nbformat": 4,
 "nbformat_minor": 2
}
