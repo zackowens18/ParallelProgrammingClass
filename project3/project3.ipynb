{
 "cells": [
  {
   "attachments": {},
   "cell_type": "markdown",
   "metadata": {},
   "source": [
    "Project 1 \n",
    "\n",
    "Zack Owens\n",
    "\n",
    "6/9/2023"
   ]
  },
  {
   "cell_type": "code",
   "execution_count": 13,
   "metadata": {},
   "outputs": [
    {
     "data": {
      "text/plain": [
       "1"
      ]
     },
     "metadata": {},
     "output_type": "display_data"
    }
   ],
   "source": [
    "ENV[\"JULIA_NUM_THREADS\"] = 8\n",
    "Threads.nthreads()"
   ]
  },
  {
   "cell_type": "code",
   "execution_count": null,
   "metadata": {},
   "outputs": [
    {
     "data": {
      "text/plain": [
       "sinx (generic function with 2 methods)"
      ]
     },
     "metadata": {},
     "output_type": "display_data"
    }
   ],
   "source": [
    "function sinx_seq(x, n = 5; degree = true)\n",
    "    if degree\n",
    "        xRad = deg2rad(x % 360)\n",
    "    else\n",
    "        xRad = x\n",
    "    end\n",
    "    value = xRad\n",
    "    numer = xRad^3.0\n",
    "    denom = 6.0\n",
    "    sign = -1.0\n",
    "    for i in 1:n\n",
    "        value += sign*numer/denom\n",
    "        numer *= xRad^2.0\n",
    "        denom *= (2.0 * i + 2.0) * (2.0 * i +3.0)\n",
    "        sign *= -1.0\n",
    "    end\n",
    "    return value\n",
    "end"
   ]
  },
  {
   "cell_type": "code",
   "execution_count": null,
   "metadata": {},
   "outputs": [],
   "source": [
    "function sinx_seq_simd(x, n = 5; degree = true)\n",
    "    if degree\n",
    "        xRad = deg2rad(x % 360)\n",
    "    else\n",
    "        xRad = x\n",
    "    end\n",
    "    value = xRad\n",
    "    numer = xRad^3.0\n",
    "    denom = 6.0\n",
    "    sign = -1.0\n",
    "    @simd for i in 1:n\n",
    "        value += sign*numer/denom\n",
    "        numer *= xRad^2.0\n",
    "        denom *= (2.0 * i + 2.0) * (2.0 * i +3.0)\n",
    "        sign *= -1.0\n",
    "    end\n",
    "    return value\n",
    "end"
   ]
  },
  {
   "cell_type": "code",
   "execution_count": null,
   "metadata": {},
   "outputs": [],
   "source": [
    "function sinx_threads(x, n = 5; degree = true)\n",
    "    if degree\n",
    "        xRad = deg2rad(x % 360)\n",
    "    else\n",
    "        xRad = x\n",
    "    end\n",
    "    value = xRad\n",
    "    numer = xRad^3.0\n",
    "    denom = 6.0\n",
    "    sign = -1.0\n",
    "    @threads for i in 1:n\n",
    "        value += sign*numer/denom\n",
    "        numer *= xRad^2.0\n",
    "        denom *= (2.0 * i + 2.0) * (2.0 * i +3.0)\n",
    "        sign *= -1.0\n",
    "    end\n",
    "    return value\n",
    "end"
   ]
  },
  {
   "cell_type": "code",
   "execution_count": null,
   "metadata": {},
   "outputs": [],
   "source": [
    "function sinx_threads_simd(x, n = 5; degree = true)\n",
    "    if degree\n",
    "        xRad = deg2rad(x % 360)\n",
    "    else\n",
    "        xRad = x\n",
    "    end\n",
    "    value = xRad\n",
    "    numer = xRad^3.0\n",
    "    denom = 6.0\n",
    "    sign = -1.0\n",
    "    @threads @simd for i in 1:n\n",
    "        value += sign*numer/denom\n",
    "        numer *= xRad^2.0\n",
    "        denom *= (2.0 * i + 2.0) * (2.0 * i +3.0)\n",
    "        sign *= -1.0\n",
    "    end\n",
    "    return value\n",
    "end"
   ]
  },
  {
   "cell_type": "code",
   "execution_count": 153,
   "metadata": {},
   "outputs": [
    {
     "name": "stdout",
     "output_type": "stream",
     "text": [
      "N is within exceptable range"
     ]
    }
   ],
   "source": [
    "\n",
    "@time for i in 0:0.000_01:90\n",
    "    \n",
    "end\n",
    "\n"
   ]
  }
 ],
 "metadata": {
  "kernelspec": {
   "display_name": "Julia 1.9.0",
   "language": "julia",
   "name": "julia-1.9"
  },
  "language_info": {
   "file_extension": ".jl",
   "mimetype": "application/julia",
   "name": "julia",
   "version": "1.9.0"
  },
  "orig_nbformat": 4
 },
 "nbformat": 4,
 "nbformat_minor": 2
}
